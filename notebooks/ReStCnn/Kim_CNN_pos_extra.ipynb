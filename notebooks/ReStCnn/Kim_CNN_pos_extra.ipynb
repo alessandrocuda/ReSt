{
 "cells": [
  {
   "cell_type": "code",
   "execution_count": 1,
   "metadata": {
    "colab": {
     "base_uri": "https://localhost:8080/"
    },
    "id": "mcx-h8sODpMJ",
    "outputId": "8d4cc3e5-e8ee-4279-c57d-7dde09bc7d6d"
   },
   "outputs": [
    {
     "name": "stdout",
     "output_type": "stream",
     "text": [
      "Cloning into 'ReSt'...\n",
      "remote: Enumerating objects: 172, done.\u001b[K\n",
      "remote: Counting objects: 100% (172/172), done.\u001b[K\n",
      "remote: Compressing objects: 100% (118/118), done.\u001b[K\n",
      "remote: Total 259 (delta 76), reused 131 (delta 46), pack-reused 87\u001b[K\n",
      "Receiving objects: 100% (259/259), 79.71 MiB | 25.81 MiB/s, done.\n",
      "Resolving deltas: 100% (84/84), done.\n",
      "Checking out files: 100% (91/91), done.\n",
      "--2021-04-10 15:02:58--  http://www.italianlp.it/twitter128.bin\n",
      "Resolving www.italianlp.it (www.italianlp.it)... 146.48.92.46, 2a00:1620:c0:5c::8\n",
      "Connecting to www.italianlp.it (www.italianlp.it)|146.48.92.46|:80... connected.\n",
      "HTTP request sent, awaiting response... 200 OK\n",
      "Length: 613808129 (585M) [application/octet-stream]\n",
      "Saving to: ‘twitter128.bin’\n",
      "\n",
      "twitter128.bin      100%[===================>] 585.37M  15.7MB/s    in 45s     \n",
      "\n",
      "2021-04-10 15:03:43 (13.1 MB/s) - ‘twitter128.bin’ saved [613808129/613808129]\n",
      "\n"
     ]
    }
   ],
   "source": [
    "#!pip install fasttext\n",
    "!rm -rf ReST/\n",
    "!git clone https://github.com/alessandrocuda/ReSt\n",
    "!wget http://www.italianlp.it/twitter128.bin\n",
    "!mv /content/twitter128.bin /content/ReSt/results/model/word2vec"
   ]
  },
  {
   "cell_type": "code",
   "execution_count": 2,
   "metadata": {
    "id": "foTfySiPDfOl"
   },
   "outputs": [
    {
     "name": "stdout",
     "output_type": "stream",
     "text": [
      "The autoreload extension is already loaded. To reload it, use:\n",
      "  %reload_ext autoreload\n"
     ]
    }
   ],
   "source": [
    "import tensorflow as tf\n",
    "#import tensorflow_addons as tfa\n",
    "\n",
    "from tensorflow.keras import backend as K\n",
    "\n",
    "#from tensorflow.keras.engine import Layer, InputSpec, InputLayer\n",
    "\n",
    "from tensorflow.keras.models import Model, Sequential\n",
    "\n",
    "from tensorflow.keras.layers import Dropout, Embedding, concatenate\n",
    "from tensorflow.keras.layers import Conv1D, MaxPool1D, Conv2D, MaxPool2D, ZeroPadding1D, GlobalMaxPool1D, GlobalAveragePooling1D\n",
    "from tensorflow.keras.layers import Dense, Input, Flatten, BatchNormalization, Activation\n",
    "from tensorflow.keras.layers import Concatenate, Dot, Concatenate, Multiply, RepeatVector\n",
    "from tensorflow.keras.layers import Bidirectional, TimeDistributed\n",
    "from tensorflow.keras.layers import SimpleRNN, LSTM, GRU, Lambda, Permute\n",
    "from tensorflow.keras.optimizers import Adam\n",
    "from tensorflow.keras.callbacks import ModelCheckpoint,EarlyStopping\n",
    "from tensorflow.keras.regularizers import l2\n",
    "from tensorflow.keras.preprocessing.sequence import pad_sequences\n",
    "from tensorflow.keras.models import load_model\n",
    "\n",
    "from sklearn.model_selection import train_test_split\n",
    "from sklearn.metrics import classification_report, f1_score\n",
    "\n",
    "from gensim.models import KeyedVectors\n",
    "from gensim.models import Word2Vec\n",
    "\n",
    "#import fasttext.util\n",
    "\n",
    "import pandas as pd\n",
    "import numpy as np\n",
    "import matplotlib.pyplot as plt\n",
    "\n",
    "from gensim.test.utils import datapath\n",
    "\n",
    "import sys\n",
    "#root_project = \"/content/ReSt/\"\n",
    "root_project = \"/Users/Alessandro/Dev/repos/ReSt/\"\n",
    "#root_project = \"/home/jupyter/ReSt/\"\n",
    "sys.path.append(root_project)\n",
    "from src.data.utils import load_csv_to_dict, set_unkmark_token, load_data, to_emb\n",
    "from src.data.word_embedding import get_index_key_association, get_int_seq, build_keras_embedding_matrix, get_data_to_emb, get_index_key_pos_association, get_one_hot_pos\n",
    "#load metrics\n",
    "from src.utils.metrics import f1_macro\n",
    "#load callbacks\n",
    "from src.utils.callbacks import ReturnBestEarlyStopping, FCallback\n",
    "\n",
    "from src.utils.utils import save_data_p, load_data_p, plotF1_macro, plotLoss, plotHistory\n",
    "%load_ext autoreload\n",
    "%autoreload 2"
   ]
  },
  {
   "cell_type": "code",
   "execution_count": 3,
   "metadata": {
    "colab": {
     "base_uri": "https://localhost:8080/"
    },
    "id": "3vVGZwnHDfOo",
    "outputId": "4273c445-f1db-45e3-a395-330756a16b96"
   },
   "outputs": [
    {
     "name": "stdout",
     "output_type": "stream",
     "text": [
      "2.5.0\n"
     ]
    }
   ],
   "source": [
    "print(tf.__version__)"
   ]
  },
  {
   "cell_type": "markdown",
   "metadata": {
    "id": "2cMyT07kLkcb"
   },
   "source": [
    "# Path"
   ]
  },
  {
   "cell_type": "code",
   "execution_count": 4,
   "metadata": {
    "id": "DThTDXDJLkcc"
   },
   "outputs": [],
   "source": [
    "#PATH\n",
    "dataset_dev_path           = root_project + \"dataset/haspeede2/preprocessed/dev/dev.csv\"\n",
    "dataset_test_tweets_path   = root_project + \"dataset/haspeede2/preprocessed/reference/reference_tweets.csv\"\n",
    "w2v_bin_path               = root_project + 'results/model/word2vec/twitter128.bin'"
   ]
  },
  {
   "cell_type": "code",
   "execution_count": 5,
   "metadata": {
    "id": "z9h4bvdkLkcf"
   },
   "outputs": [],
   "source": [
    "#load dataset dictionary\n",
    "dataset_dev = load_csv_to_dict(dataset_dev_path)\n",
    "dataset_test_tweets = load_csv_to_dict(dataset_test_tweets_path)"
   ]
  },
  {
   "cell_type": "code",
   "execution_count": 6,
   "metadata": {
    "colab": {
     "base_uri": "https://localhost:8080/"
    },
    "id": "JxneHO3bKCxF",
    "outputId": "75a5b65e-861e-4fc5-b33e-c5adad3635ce"
   },
   "outputs": [
    {
     "data": {
      "text/plain": [
       "dict_keys(['id', 'text', 'hs', 'stereotype', 'processed_text', 'text_length', 'hashtags', '%CAPS-LOCK words', 'esclamations', 'questions', 'tokens', 'lemma', 'pos', 'dep', 'word_polarity', 'sentence_positive', 'sentence_negative', 'sentence_neutral', 'stem', '%bad_words'])"
      ]
     },
     "execution_count": 6,
     "metadata": {},
     "output_type": "execute_result"
    }
   ],
   "source": [
    "dataset_dev.keys()"
   ]
  },
  {
   "cell_type": "markdown",
   "metadata": {
    "id": "yA9qmH2kLkcc"
   },
   "source": [
    "# Embedding"
   ]
  },
  {
   "cell_type": "code",
   "execution_count": 7,
   "metadata": {
    "colab": {
     "base_uri": "https://localhost:8080/"
    },
    "id": "WqsE1qU5Lkcd",
    "outputId": "8ceef8ff-de51-4856-d08c-fbf5e478b861"
   },
   "outputs": [
    {
     "name": "stdout",
     "output_type": "stream",
     "text": [
      "Vocab_size is 1170776\n",
      "Embedding_matrix with unk word loaded\n",
      "Shape (1170777, 128)\n"
     ]
    }
   ],
   "source": [
    "#load word2vec and embedding_matrix\n",
    "w2v = KeyedVectors.load_word2vec_format(datapath(w2v_bin_path), binary=True)\n",
    "index_to_key, key_to_index = get_index_key_association(w2v)\n",
    "embedding_matrix, vocab_size = build_keras_embedding_matrix(w2v, index_to_key)\n",
    "\n",
    "WORD_EMB_SIZE = 128\n",
    "VOCAB_SIZE = vocab_size"
   ]
  },
  {
   "cell_type": "code",
   "execution_count": 8,
   "metadata": {
    "id": "2QECYQdD7IJl"
   },
   "outputs": [],
   "source": [
    "# load pos embedding\n",
    "index_to_key_pos, key_to_index_pos = get_index_key_pos_association(X = dataset_dev[\"pos\"])\n",
    "index_to_onehot_pos = get_one_hot_pos(index_to_key_pos)"
   ]
  },
  {
   "cell_type": "code",
   "execution_count": 9,
   "metadata": {
    "colab": {
     "base_uri": "https://localhost:8080/"
    },
    "id": "wDWcxWTeNQZ1",
    "outputId": "bf15172e-b638-48b2-d363-b79b5fd5aca3"
   },
   "outputs": [
    {
     "data": {
      "text/plain": [
       "{0: [0, 0, 0, 0, 0, 0, 0, 0, 0, 0, 0, 0, 0, 0, 0, 0],\n",
       " 1: [1, 0, 0, 0, 0, 0, 0, 0, 0, 0, 0, 0, 0, 0, 0, 0],\n",
       " 2: [0, 1, 0, 0, 0, 0, 0, 0, 0, 0, 0, 0, 0, 0, 0, 0],\n",
       " 3: [0, 0, 1, 0, 0, 0, 0, 0, 0, 0, 0, 0, 0, 0, 0, 0],\n",
       " 4: [0, 0, 0, 1, 0, 0, 0, 0, 0, 0, 0, 0, 0, 0, 0, 0],\n",
       " 5: [0, 0, 0, 0, 1, 0, 0, 0, 0, 0, 0, 0, 0, 0, 0, 0],\n",
       " 6: [0, 0, 0, 0, 0, 1, 0, 0, 0, 0, 0, 0, 0, 0, 0, 0],\n",
       " 7: [0, 0, 0, 0, 0, 0, 1, 0, 0, 0, 0, 0, 0, 0, 0, 0],\n",
       " 8: [0, 0, 0, 0, 0, 0, 0, 1, 0, 0, 0, 0, 0, 0, 0, 0],\n",
       " 9: [0, 0, 0, 0, 0, 0, 0, 0, 1, 0, 0, 0, 0, 0, 0, 0],\n",
       " 10: [0, 0, 0, 0, 0, 0, 0, 0, 0, 1, 0, 0, 0, 0, 0, 0],\n",
       " 11: [0, 0, 0, 0, 0, 0, 0, 0, 0, 0, 1, 0, 0, 0, 0, 0],\n",
       " 12: [0, 0, 0, 0, 0, 0, 0, 0, 0, 0, 0, 1, 0, 0, 0, 0],\n",
       " 13: [0, 0, 0, 0, 0, 0, 0, 0, 0, 0, 0, 0, 1, 0, 0, 0],\n",
       " 14: [0, 0, 0, 0, 0, 0, 0, 0, 0, 0, 0, 0, 0, 1, 0, 0],\n",
       " 15: [0, 0, 0, 0, 0, 0, 0, 0, 0, 0, 0, 0, 0, 0, 1, 0],\n",
       " 16: [0, 0, 0, 0, 0, 0, 0, 0, 0, 0, 0, 0, 0, 0, 0, 1]}"
      ]
     },
     "execution_count": 9,
     "metadata": {},
     "output_type": "execute_result"
    }
   ],
   "source": [
    "index_to_onehot_pos"
   ]
  },
  {
   "cell_type": "code",
   "execution_count": 10,
   "metadata": {
    "colab": {
     "base_uri": "https://localhost:8080/"
    },
    "id": "o4byFZO-I7gT",
    "outputId": "449206ea-c442-4bff-b492-15aaed9f7c15"
   },
   "outputs": [
    {
     "data": {
      "text/plain": [
       "dict_keys(['id', 'text', 'hs', 'stereotype', 'processed_text', 'text_length', 'hashtags', '%CAPS-LOCK words', 'esclamations', 'questions', 'tokens', 'lemma', 'pos', 'dep', 'word_polarity', 'sentence_positive', 'sentence_negative', 'sentence_neutral', 'stem', '%bad_words'])"
      ]
     },
     "execution_count": 10,
     "metadata": {},
     "output_type": "execute_result"
    }
   ],
   "source": [
    "dataset_dev.keys()"
   ]
  },
  {
   "cell_type": "markdown",
   "metadata": {
    "id": "_I4VbMeODfOp"
   },
   "source": [
    "# DATA"
   ]
  },
  {
   "cell_type": "code",
   "execution_count": 11,
   "metadata": {
    "id": "uRkY4b27Lkcf"
   },
   "outputs": [],
   "source": [
    "#load dev/test\n",
    "MAX_TEXT_LEN = 65\n",
    "\n",
    "X, X_pos, X_extra_feature, y = load_data(dataset_dev, w2v, key_to_index, key_to_index_pos, embedding_matrix, MAX_TEXT_LEN)\n",
    "X_e = to_emb(X, embedding_matrix)\n",
    "X_pos_e = to_emb(X_pos, index_to_onehot_pos)\n",
    "\n",
    "X_test, X_test_pos, X_test_extra_feature, y_test = load_data(dataset_test_tweets, w2v, key_to_index, key_to_index_pos, embedding_matrix, MAX_TEXT_LEN)\n",
    "X_test_e = to_emb(X_test, embedding_matrix)\n",
    "X_test_pos_e = to_emb(X_test_pos, index_to_onehot_pos)"
   ]
  },
  {
   "cell_type": "markdown",
   "metadata": {
    "id": "nZLD5i2095pp"
   },
   "source": [
    "# Split"
   ]
  },
  {
   "cell_type": "code",
   "execution_count": 12,
   "metadata": {
    "id": "u3Y3BXjJDfOu"
   },
   "outputs": [],
   "source": [
    "X_train, X_val, X_pos_train, X_pos_val, X_extra_feature_train, X_extra_feature_val, y_train, y_val = train_test_split(X_e, X_pos_e, X_extra_feature, y, test_size=0.10, random_state=128)"
   ]
  },
  {
   "cell_type": "markdown",
   "metadata": {
    "id": "XrLamIrFLkci"
   },
   "source": [
    "# model: text + pos + extra features"
   ]
  },
  {
   "cell_type": "code",
   "execution_count": 13,
   "metadata": {
    "id": "HfQax4baLkcj"
   },
   "outputs": [],
   "source": [
    "def kim_cnn_pos(input_shape, filters = 256, filter_sizes = [2,4,6], dropout = 0.5, hn=128, lr=0.01, print_model=False):\n",
    "    import tensorflow as tf\n",
    "    from tensorflow.keras.models import Model\n",
    "    from tensorflow.keras.layers import Dropout\n",
    "    from tensorflow.keras.layers import Conv1D, GlobalMaxPool1D\n",
    "    from tensorflow.keras.layers import Dense, Input, Flatten, Activation\n",
    "    from tensorflow.keras.layers import Concatenate\n",
    "    from tensorflow.keras.regularizers import l2\n",
    "\n",
    "    \"\"\" HyperParameters \"\"\"\n",
    "\n",
    "    text_seq_input = Input(shape=input_shape, name=\"text\")\n",
    "    pos_seq_input = Input(shape=(65,16, ), name=\"pos\")\n",
    "    extra_feature = Input(shape=(8,), name=\"extra\")\n",
    "\n",
    "    convs = []\n",
    "    for filter_size in filter_sizes:\n",
    "        l_conv = Conv1D(filters=filters, kernel_size=filter_size)(text_seq_input)\n",
    "        l_relu = Activation(\"relu\")(l_conv)\n",
    "        l_pool = GlobalMaxPool1D()(l_relu)   \n",
    "        convs.append(l_pool)\n",
    "    \n",
    "    convs_pos = []\n",
    "    for filter_size in filter_sizes:\n",
    "        l_conv = Conv1D(filters=filters, kernel_size=filter_size)(pos_seq_input)\n",
    "        l_relu = Activation(\"relu\")(l_conv)\n",
    "        l_pool = GlobalMaxPool1D()(l_relu)   \n",
    "        convs_pos.append(l_pool)\n",
    "\n",
    "    l_merge     = Concatenate(axis=1)(convs)\n",
    "    l_flat      = Flatten()(l_merge)\n",
    "    l_merge_pos = Concatenate(axis=1)(convs_pos)\n",
    "    l_flat_pos  = Flatten()(l_merge_pos)\n",
    "\n",
    "    input_ff    = Concatenate(axis=1)([l_flat, l_flat_pos, extra_feature])\n",
    "    l_drop      = Dropout(dropout)(input_ff)\n",
    "    l_hidden    = Dense(hn, activation='relu')(l_drop)\n",
    "    l_drop      = Dropout(dropout)(l_hidden)\n",
    "    l_out_st    = Dense(1, activation='sigmoid', name=\"st\")(l_drop)  #dims output\n",
    "\n",
    "    model_cnn   = Model(inputs=[text_seq_input, pos_seq_input, extra_feature], outputs=l_out_st)\n",
    "    if print_model:\n",
    "        model_cnn.summary()\n",
    "        tf.keras.utils.plot_model(model_cnn, \"my_first_model.png\", show_shapes=True)\n",
    "    \n",
    "    model_cnn.compile(\n",
    "        loss= tf.keras.losses.BinaryCrossentropy(from_logits=True),\n",
    "        optimizer=tf.keras.optimizers.Adam(learning_rate=lr, amsgrad=False),\n",
    "        metrics= [f1_macro]\n",
    "    )\n",
    "\n",
    "    return model_cnn"
   ]
  },
  {
   "cell_type": "code",
   "execution_count": null,
   "metadata": {
    "id": "nfxuewsRLkcl"
   },
   "outputs": [],
   "source": [
    "#del model\n",
    "model = kim_cnn_pos((65,128, ), filters = 128, filter_sizes = [2,3,4], dropout = 0.5, hn=256, lr=0.001, print_model=True)"
   ]
  },
  {
   "cell_type": "code",
   "execution_count": null,
   "metadata": {
    "colab": {
     "base_uri": "https://localhost:8080/"
    },
    "id": "fZay3rNELkcm",
    "outputId": "03ac932c-a262-4ff1-c2c4-dda408ec203f"
   },
   "outputs": [
    {
     "name": "stdout",
     "output_type": "stream",
     "text": [
      "Epoch 1/200\n"
     ]
    }
   ],
   "source": [
    "input_train = {\"text\": X_train, \"pos\": X_pos_train, \"extra\": X_extra_feature_train}\n",
    "input_val = {\"text\": X_val, \"pos\": X_pos_val, \"extra\": X_extra_feature_val}\n",
    "input_test = {\"text\": X_test_e, \"pos\": X_test_pos_e, \"extra\": X_test_extra_feature}\n",
    "\n",
    "f1_callback = FCallback(validation = (input_test, y_test), verbose=True)                                   \n",
    "best_callback = ReturnBestEarlyStopping(monitor=\"val_loss\", min_delta=0, patience=100, verbose=1, mode=\"min\", restore_best_weights=True)\n",
    "\n",
    "history = model.fit(input_train, y_train, batch_size=64, epochs=200, validation_data=(input_val, y_val), callbacks=[f1_callback, best_callback], verbose = 1)"
   ]
  },
  {
   "cell_type": "code",
   "execution_count": null,
   "metadata": {
    "colab": {
     "base_uri": "https://localhost:8080/"
    },
    "id": "9zXBE_F-y25e",
    "outputId": "35aa88e4-2104-4076-d341-7a93b90f3f62"
   },
   "outputs": [
    {
     "name": "stdout",
     "output_type": "stream",
     "text": [
      "0.6928879310344827\n",
      "              precision    recall  f1-score   support\n",
      "\n",
      "           0       0.76      0.63      0.69       369\n",
      "           1       0.64      0.77      0.70       315\n",
      "\n",
      "    accuracy                           0.69       684\n",
      "   macro avg       0.70      0.70      0.69       684\n",
      "weighted avg       0.71      0.69      0.69       684\n",
      "\n"
     ]
    }
   ],
   "source": [
    "y_val_pred = np.where(model.predict(input_val) >0.5,1,0)\n",
    "print(f1_score(y_val, y_val_pred, average=\"macro\"))\n",
    "print(classification_report(y_val, y_val_pred))"
   ]
  },
  {
   "cell_type": "code",
   "execution_count": null,
   "metadata": {
    "colab": {
     "base_uri": "https://localhost:8080/"
    },
    "id": "NFKnxmfaQwpp",
    "outputId": "55fe9d2b-6998-4b5f-f5b5-887c0240ca21"
   },
   "outputs": [
    {
     "name": "stdout",
     "output_type": "stream",
     "text": [
      "(1263,)\n",
      "0.6675825573056794\n",
      "              precision    recall  f1-score   support\n",
      "\n",
      "           0       0.83      0.50      0.63       694\n",
      "           1       0.59      0.88      0.71       569\n",
      "\n",
      "    accuracy                           0.67      1263\n",
      "   macro avg       0.71      0.69      0.67      1263\n",
      "weighted avg       0.72      0.67      0.66      1263\n",
      "\n"
     ]
    }
   ],
   "source": [
    "y_test_pred = np.where(model.predict(input_test) > 0.5, 1, 0)\n",
    "print(y_test.shape)\n",
    "print(f1_score(y_test, y_test_pred, average=\"macro\"))\n",
    "print(classification_report(y_test, y_test_pred))"
   ]
  },
  {
   "cell_type": "markdown",
   "metadata": {
    "id": "-tCRl-ykzgoW"
   },
   "source": [
    "|        \t|        \t|              \t|    0   \t|        \t|        \t|    1   \t|        \t|        \t|          \t|\n",
    "|--------\t|--------\t|--------------\t|:------:\t|:------:\t|:------:\t|:------:\t|:------:\t|:------:\t|:--------:\t|\n",
    "|        \t|        \t|              \t|    P   \t|    R   \t|   F1   \t|    P   \t|    R   \t|   F1   \t| **Macro-F1** \t|\n",
    "| **TASK B** \t|  **News**  \t| Baseline_MFC \t|   0,65 \t|      1 \t| 0,7878 \t|      0 \t|      0 \t|      0 \t|   0,3939 \t|\n",
    "|        \t|        \t| Baseline_SVC \t| 0,7467 \t| 0,8707 \t| 0,8039 \t| 0,6528 \t| 0,4514 \t| 0,5337 \t|   0,6688 \t|\n",
    "|        \t| **Tweets** \t| Baseline_MFC \t| 0,5494 \t|      1 \t| 0,7092 \t|      0 \t|      0 \t|      0 \t|   0,3546 \t|\n",
    "|        \t|        \t| Baseline_SVC \t| 0,7869 \t| 0,6599 \t| 0,7178 \t| 0,6534 \t|  0,782 \t|  0,712 \t|   0,7149 \t|"
   ]
  },
  {
   "cell_type": "code",
   "execution_count": null,
   "metadata": {
    "colab": {
     "base_uri": "https://localhost:8080/",
     "height": 312
    },
    "id": "xswAsFr4DfOv",
    "outputId": "5692371b-23dd-423f-cc50-5a74bdfc0219"
   },
   "outputs": [
    {
     "name": "stdout",
     "output_type": "stream",
     "text": [
      "dict_keys(['loss', 'val_loss', 'val_f1'])\n"
     ]
    },
    {
     "data": {
      "image/png": "[encoded data removed]",
      "text/plain": [
       "<Figure size 432x288 with 1 Axes>"
      ]
     },
     "metadata": {
      "needs_background": "light",
      "tags": []
     },
     "output_type": "display_data"
    }
   ],
   "source": [
    "print(history.history.keys())\n",
    "# summarize history for accuracy\n",
    "\n",
    "# summarize history for loss\n",
    "plt.plot(history.history['loss'])\n",
    "plt.plot(history.history['val_loss'])\n",
    "plt.title('model loss')\n",
    "plt.ylabel('loss')\n",
    "plt.xlabel('epoch')\n",
    "plt.legend(['train', 'test'], loc='upper left')\n",
    "plt.show()"
   ]
  },
  {
   "cell_type": "markdown",
   "metadata": {
    "id": "5lRDgwlD47iH"
   },
   "source": [
    "# Result GridSearch"
   ]
  },
  {
   "cell_type": "code",
   "execution_count": 15,
   "metadata": {
    "id": "zTFvT32Q47iJ"
   },
   "outputs": [],
   "source": [
    "import pickle\n",
    "\n",
    "grid_result0 = pickle.load( open( root_project +\"script/grid_search/kim_cnn_pos/grid_result0.p\", \"rb\" ) )\n",
    "grid_result1 = pickle.load( open( root_project + \"script/grid_search/kim_cnn_pos/grid_result1.p\", \"rb\" ) )\n",
    "grid_result2 = pickle.load( open( root_project + \"script/grid_search/kim_cnn_pos/grid_result2.p\", \"rb\" ) )"
   ]
  },
  {
   "cell_type": "code",
   "execution_count": 17,
   "metadata": {
    "colab": {
     "base_uri": "https://localhost:8080/"
    },
    "id": "XSfmQs-K47iK",
    "outputId": "43701e24-ac0c-4a02-b3e8-ce821fcff9cc"
   },
   "outputs": [
    {
     "data": {
      "text/plain": [
       "{'hyper_parm': {'filters': 32,\n",
       "  'filter_sizes': [2, 3, 4],\n",
       "  'dropout': 0.1,\n",
       "  'hn': 64,\n",
       "  'lr': 0.1},\n",
       " 'mean': 0.3626727284027465,\n",
       " 'std': 0.004393792299606947,\n",
       " 'folds': {'fold_0': {'f1': 0.38665510234532713,\n",
       "   'val_f1': 0.36705179388202946},\n",
       "  'fold_1': {'f1': 0.3553483553483553, 'val_f1': 0.36490250696378834},\n",
       "  'fold_2': {'f1': 0.3627634387333001, 'val_f1': 0.3632097942814797},\n",
       "  'fold_3': {'f1': 0.3639769996671354, 'val_f1': 0.3639246295505823},\n",
       "  'fold_4': {'f1': 0.35854161298634374, 'val_f1': 0.35427491733585265}}}"
      ]
     },
     "execution_count": 17,
     "metadata": {},
     "output_type": "execute_result"
    }
   ],
   "source": [
    "grid_result0[0]"
   ]
  },
  {
   "cell_type": "code",
   "execution_count": 18,
   "metadata": {
    "id": "DVG_7CM-47iL"
   },
   "outputs": [],
   "source": [
    "grid_result_d = {\n",
    "    'hyper_parm' : [],\n",
    "    'mean': [],\n",
    "    'std': [],\n",
    "    'folds': []\n",
    "}\n",
    "for elem in grid_result0:\n",
    "    for k in grid_result_d:\n",
    "        grid_result_d[k].append(elem[k])\n",
    "for elem in grid_result1:\n",
    "    for k in grid_result_d:\n",
    "        grid_result_d[k].append(elem[k])\n",
    "for elem in grid_result2:\n",
    "    for k in grid_result_d:\n",
    "        grid_result_d[k].append(elem[k])"
   ]
  },
  {
   "cell_type": "code",
   "execution_count": 19,
   "metadata": {
    "id": "Pkt_EHxn47iL"
   },
   "outputs": [],
   "source": [
    "df_result = pd.DataFrame(grid_result_d)"
   ]
  },
  {
   "cell_type": "code",
   "execution_count": 20,
   "metadata": {
    "colab": {
     "base_uri": "https://localhost:8080/",
     "height": 669
    },
    "id": "U4orvo5v47iL",
    "outputId": "00440d60-8b89-4d6c-f4ba-1fb17acc86b2"
   },
   "outputs": [
    {
     "data": {
      "text/html": [
       "<div>\n",
       "<style scoped>\n",
       "    .dataframe tbody tr th:only-of-type {\n",
       "        vertical-align: middle;\n",
       "    }\n",
       "\n",
       "    .dataframe tbody tr th {\n",
       "        vertical-align: top;\n",
       "    }\n",
       "\n",
       "    .dataframe thead th {\n",
       "        text-align: right;\n",
       "    }\n",
       "</style>\n",
       "<table border=\"1\" class=\"dataframe\">\n",
       "  <thead>\n",
       "    <tr style=\"text-align: right;\">\n",
       "      <th></th>\n",
       "      <th>hyper_parm</th>\n",
       "      <th>mean</th>\n",
       "      <th>std</th>\n",
       "    </tr>\n",
       "  </thead>\n",
       "  <tbody>\n",
       "    <tr>\n",
       "      <th>200</th>\n",
       "      <td>{'filters': 256, 'filter_sizes': [2, 3, 4], 'dropout': 0.5, 'hn': 64, 'lr': 0.0001}</td>\n",
       "      <td>0.705642</td>\n",
       "      <td>0.009181</td>\n",
       "    </tr>\n",
       "    <tr>\n",
       "      <th>206</th>\n",
       "      <td>{'filters': 256, 'filter_sizes': [2, 3, 4], 'dropout': 0.5, 'hn': 512, 'lr': 0.0001}</td>\n",
       "      <td>0.705432</td>\n",
       "      <td>0.006158</td>\n",
       "    </tr>\n",
       "    <tr>\n",
       "      <th>118</th>\n",
       "      <td>{'filters': 128, 'filter_sizes': [2, 3, 4], 'dropout': 0.5, 'hn': 64, 'lr': 0.001}</td>\n",
       "      <td>0.703095</td>\n",
       "      <td>0.011536</td>\n",
       "    </tr>\n",
       "    <tr>\n",
       "      <th>202</th>\n",
       "      <td>{'filters': 256, 'filter_sizes': [2, 3, 4], 'dropout': 0.5, 'hn': 124, 'lr': 0.001}</td>\n",
       "      <td>0.702334</td>\n",
       "      <td>0.009400</td>\n",
       "    </tr>\n",
       "    <tr>\n",
       "      <th>203</th>\n",
       "      <td>{'filters': 256, 'filter_sizes': [2, 3, 4], 'dropout': 0.5, 'hn': 124, 'lr': 0.0001}</td>\n",
       "      <td>0.701581</td>\n",
       "      <td>0.007757</td>\n",
       "    </tr>\n",
       "    <tr>\n",
       "      <th>244</th>\n",
       "      <td>{'filters': 256, 'filter_sizes': [4, 5, 6], 'dropout': 0.1, 'hn': 64, 'lr': 0.001}</td>\n",
       "      <td>0.700844</td>\n",
       "      <td>0.012751</td>\n",
       "    </tr>\n",
       "    <tr>\n",
       "      <th>119</th>\n",
       "      <td>{'filters': 128, 'filter_sizes': [2, 3, 4], 'dropout': 0.5, 'hn': 64, 'lr': 0.0001}</td>\n",
       "      <td>0.700827</td>\n",
       "      <td>0.011337</td>\n",
       "    </tr>\n",
       "    <tr>\n",
       "      <th>199</th>\n",
       "      <td>{'filters': 256, 'filter_sizes': [2, 3, 4], 'dropout': 0.5, 'hn': 64, 'lr': 0.001}</td>\n",
       "      <td>0.700151</td>\n",
       "      <td>0.010281</td>\n",
       "    </tr>\n",
       "    <tr>\n",
       "      <th>122</th>\n",
       "      <td>{'filters': 128, 'filter_sizes': [2, 3, 4], 'dropout': 0.5, 'hn': 124, 'lr': 0.0001}</td>\n",
       "      <td>0.700008</td>\n",
       "      <td>0.014635</td>\n",
       "    </tr>\n",
       "    <tr>\n",
       "      <th>257</th>\n",
       "      <td>{'filters': 256, 'filter_sizes': [4, 5, 6], 'dropout': 0.5, 'hn': 124, 'lr': 0.0001}</td>\n",
       "      <td>0.699798</td>\n",
       "      <td>0.006238</td>\n",
       "    </tr>\n",
       "    <tr>\n",
       "      <th>226</th>\n",
       "      <td>{'filters': 256, 'filter_sizes': [3, 4, 5], 'dropout': 0.5, 'hn': 64, 'lr': 0.001}</td>\n",
       "      <td>0.699071</td>\n",
       "      <td>0.011505</td>\n",
       "    </tr>\n",
       "    <tr>\n",
       "      <th>145</th>\n",
       "      <td>{'filters': 128, 'filter_sizes': [3, 4, 5], 'dropout': 0.5, 'hn': 64, 'lr': 0.001}</td>\n",
       "      <td>0.698706</td>\n",
       "      <td>0.013809</td>\n",
       "    </tr>\n",
       "    <tr>\n",
       "      <th>190</th>\n",
       "      <td>{'filters': 256, 'filter_sizes': [2, 3, 4], 'dropout': 0.1, 'hn': 64, 'lr': 0.001}</td>\n",
       "      <td>0.698610</td>\n",
       "      <td>0.009651</td>\n",
       "    </tr>\n",
       "    <tr>\n",
       "      <th>229</th>\n",
       "      <td>{'filters': 256, 'filter_sizes': [3, 4, 5], 'dropout': 0.5, 'hn': 124, 'lr': 0.001}</td>\n",
       "      <td>0.698255</td>\n",
       "      <td>0.005896</td>\n",
       "    </tr>\n",
       "    <tr>\n",
       "      <th>227</th>\n",
       "      <td>{'filters': 256, 'filter_sizes': [3, 4, 5], 'dropout': 0.5, 'hn': 64, 'lr': 0.0001}</td>\n",
       "      <td>0.697821</td>\n",
       "      <td>0.011759</td>\n",
       "    </tr>\n",
       "    <tr>\n",
       "      <th>19</th>\n",
       "      <td>{'filters': 32, 'filter_sizes': [2, 3, 4], 'dropout': 0.5, 'hn': 124, 'lr': 0.0001}</td>\n",
       "      <td>0.696454</td>\n",
       "      <td>0.009100</td>\n",
       "    </tr>\n",
       "    <tr>\n",
       "      <th>205</th>\n",
       "      <td>{'filters': 256, 'filter_sizes': [2, 3, 4], 'dropout': 0.5, 'hn': 512, 'lr': 0.001}</td>\n",
       "      <td>0.696345</td>\n",
       "      <td>0.005937</td>\n",
       "    </tr>\n",
       "    <tr>\n",
       "      <th>220</th>\n",
       "      <td>{'filters': 256, 'filter_sizes': [3, 4, 5], 'dropout': 0.1, 'hn': 124, 'lr': 0.001}</td>\n",
       "      <td>0.696271</td>\n",
       "      <td>0.012575</td>\n",
       "    </tr>\n",
       "    <tr>\n",
       "      <th>256</th>\n",
       "      <td>{'filters': 256, 'filter_sizes': [4, 5, 6], 'dropout': 0.5, 'hn': 124, 'lr': 0.001}</td>\n",
       "      <td>0.696258</td>\n",
       "      <td>0.011978</td>\n",
       "    </tr>\n",
       "    <tr>\n",
       "      <th>230</th>\n",
       "      <td>{'filters': 256, 'filter_sizes': [3, 4, 5], 'dropout': 0.5, 'hn': 124, 'lr': 0.0001}</td>\n",
       "      <td>0.696204</td>\n",
       "      <td>0.008383</td>\n",
       "    </tr>\n",
       "  </tbody>\n",
       "</table>\n",
       "</div>"
      ],
      "text/plain": [
       "                                                                               hyper_parm  \\\n",
       "200   {'filters': 256, 'filter_sizes': [2, 3, 4], 'dropout': 0.5, 'hn': 64, 'lr': 0.0001}   \n",
       "206  {'filters': 256, 'filter_sizes': [2, 3, 4], 'dropout': 0.5, 'hn': 512, 'lr': 0.0001}   \n",
       "118    {'filters': 128, 'filter_sizes': [2, 3, 4], 'dropout': 0.5, 'hn': 64, 'lr': 0.001}   \n",
       "202   {'filters': 256, 'filter_sizes': [2, 3, 4], 'dropout': 0.5, 'hn': 124, 'lr': 0.001}   \n",
       "203  {'filters': 256, 'filter_sizes': [2, 3, 4], 'dropout': 0.5, 'hn': 124, 'lr': 0.0001}   \n",
       "244    {'filters': 256, 'filter_sizes': [4, 5, 6], 'dropout': 0.1, 'hn': 64, 'lr': 0.001}   \n",
       "119   {'filters': 128, 'filter_sizes': [2, 3, 4], 'dropout': 0.5, 'hn': 64, 'lr': 0.0001}   \n",
       "199    {'filters': 256, 'filter_sizes': [2, 3, 4], 'dropout': 0.5, 'hn': 64, 'lr': 0.001}   \n",
       "122  {'filters': 128, 'filter_sizes': [2, 3, 4], 'dropout': 0.5, 'hn': 124, 'lr': 0.0001}   \n",
       "257  {'filters': 256, 'filter_sizes': [4, 5, 6], 'dropout': 0.5, 'hn': 124, 'lr': 0.0001}   \n",
       "226    {'filters': 256, 'filter_sizes': [3, 4, 5], 'dropout': 0.5, 'hn': 64, 'lr': 0.001}   \n",
       "145    {'filters': 128, 'filter_sizes': [3, 4, 5], 'dropout': 0.5, 'hn': 64, 'lr': 0.001}   \n",
       "190    {'filters': 256, 'filter_sizes': [2, 3, 4], 'dropout': 0.1, 'hn': 64, 'lr': 0.001}   \n",
       "229   {'filters': 256, 'filter_sizes': [3, 4, 5], 'dropout': 0.5, 'hn': 124, 'lr': 0.001}   \n",
       "227   {'filters': 256, 'filter_sizes': [3, 4, 5], 'dropout': 0.5, 'hn': 64, 'lr': 0.0001}   \n",
       "19    {'filters': 32, 'filter_sizes': [2, 3, 4], 'dropout': 0.5, 'hn': 124, 'lr': 0.0001}   \n",
       "205   {'filters': 256, 'filter_sizes': [2, 3, 4], 'dropout': 0.5, 'hn': 512, 'lr': 0.001}   \n",
       "220   {'filters': 256, 'filter_sizes': [3, 4, 5], 'dropout': 0.1, 'hn': 124, 'lr': 0.001}   \n",
       "256   {'filters': 256, 'filter_sizes': [4, 5, 6], 'dropout': 0.5, 'hn': 124, 'lr': 0.001}   \n",
       "230  {'filters': 256, 'filter_sizes': [3, 4, 5], 'dropout': 0.5, 'hn': 124, 'lr': 0.0001}   \n",
       "\n",
       "         mean       std  \n",
       "200  0.705642  0.009181  \n",
       "206  0.705432  0.006158  \n",
       "118  0.703095  0.011536  \n",
       "202  0.702334  0.009400  \n",
       "203  0.701581  0.007757  \n",
       "244  0.700844  0.012751  \n",
       "119  0.700827  0.011337  \n",
       "199  0.700151  0.010281  \n",
       "122  0.700008  0.014635  \n",
       "257  0.699798  0.006238  \n",
       "226  0.699071  0.011505  \n",
       "145  0.698706  0.013809  \n",
       "190  0.698610  0.009651  \n",
       "229  0.698255  0.005896  \n",
       "227  0.697821  0.011759  \n",
       "19   0.696454  0.009100  \n",
       "205  0.696345  0.005937  \n",
       "220  0.696271  0.012575  \n",
       "256  0.696258  0.011978  \n",
       "230  0.696204  0.008383  "
      ]
     },
     "execution_count": 20,
     "metadata": {},
     "output_type": "execute_result"
    }
   ],
   "source": [
    "pd.set_option('display.max_colwidth', None)\n",
    "df_result.sort_values(by=['mean'], ascending=False)[0:20][[\"hyper_parm\",\"mean\", \"std\"]]"
   ]
  },
  {
   "cell_type": "code",
   "execution_count": 21,
   "metadata": {},
   "outputs": [
    {
     "data": {
      "text/html": [
       "<div>\n",
       "<style scoped>\n",
       "    .dataframe tbody tr th:only-of-type {\n",
       "        vertical-align: middle;\n",
       "    }\n",
       "\n",
       "    .dataframe tbody tr th {\n",
       "        vertical-align: top;\n",
       "    }\n",
       "\n",
       "    .dataframe thead th {\n",
       "        text-align: right;\n",
       "    }\n",
       "</style>\n",
       "<table border=\"1\" class=\"dataframe\">\n",
       "  <thead>\n",
       "    <tr style=\"text-align: right;\">\n",
       "      <th></th>\n",
       "      <th>hyper_parm</th>\n",
       "      <th>loss_mean</th>\n",
       "      <th>loss_std</th>\n",
       "      <th>f1_macro_mean</th>\n",
       "      <th>f1_macro_std</th>\n",
       "      <th>val_loss_mean</th>\n",
       "      <th>val_loss_std</th>\n",
       "      <th>val_f1_macro_mean</th>\n",
       "      <th>val_f1_macro_std</th>\n",
       "    </tr>\n",
       "  </thead>\n",
       "  <tbody>\n",
       "    <tr>\n",
       "      <th>3</th>\n",
       "      <td>{'filters': 128, 'filter_sizes': [2, 3, 4], 'dropout': 0.5, 'hn': 128, 'lr': 0.0001}</td>\n",
       "      <td>0.396472</td>\n",
       "      <td>0.015924</td>\n",
       "      <td>0.836715</td>\n",
       "      <td>0.008655</td>\n",
       "      <td>0.561911</td>\n",
       "      <td>0.008446</td>\n",
       "      <td>0.704720</td>\n",
       "      <td>0.011407</td>\n",
       "    </tr>\n",
       "    <tr>\n",
       "      <th>10</th>\n",
       "      <td>{'filters': 512, 'filter_sizes': [2, 3, 4], 'dropout': 0.5, 'hn': 512, 'lr': 0.001}</td>\n",
       "      <td>0.366962</td>\n",
       "      <td>0.067959</td>\n",
       "      <td>0.871601</td>\n",
       "      <td>0.042369</td>\n",
       "      <td>0.561648</td>\n",
       "      <td>0.017478</td>\n",
       "      <td>0.704681</td>\n",
       "      <td>0.010627</td>\n",
       "    </tr>\n",
       "    <tr>\n",
       "      <th>9</th>\n",
       "      <td>{'filters': 512, 'filter_sizes': [2, 3, 4], 'dropout': 0.5, 'hn': 128, 'lr': 0.0001}</td>\n",
       "      <td>0.346777</td>\n",
       "      <td>0.034851</td>\n",
       "      <td>0.873030</td>\n",
       "      <td>0.022325</td>\n",
       "      <td>0.560784</td>\n",
       "      <td>0.007240</td>\n",
       "      <td>0.703948</td>\n",
       "      <td>0.008851</td>\n",
       "    </tr>\n",
       "  </tbody>\n",
       "</table>\n",
       "</div>"
      ],
      "text/plain": [
       "                                                                              hyper_parm  \\\n",
       "3   {'filters': 128, 'filter_sizes': [2, 3, 4], 'dropout': 0.5, 'hn': 128, 'lr': 0.0001}   \n",
       "10   {'filters': 512, 'filter_sizes': [2, 3, 4], 'dropout': 0.5, 'hn': 512, 'lr': 0.001}   \n",
       "9   {'filters': 512, 'filter_sizes': [2, 3, 4], 'dropout': 0.5, 'hn': 128, 'lr': 0.0001}   \n",
       "\n",
       "    loss_mean  loss_std  f1_macro_mean  f1_macro_std  val_loss_mean  \\\n",
       "3    0.396472  0.015924       0.836715      0.008655       0.561911   \n",
       "10   0.366962  0.067959       0.871601      0.042369       0.561648   \n",
       "9    0.346777  0.034851       0.873030      0.022325       0.560784   \n",
       "\n",
       "    val_loss_std  val_f1_macro_mean  val_f1_macro_std  \n",
       "3       0.008446           0.704720          0.011407  \n",
       "10      0.017478           0.704681          0.010627  \n",
       "9       0.007240           0.703948          0.008851  "
      ]
     },
     "execution_count": 21,
     "metadata": {},
     "output_type": "execute_result"
    }
   ],
   "source": [
    "final_grid = pickle.load( open( root_project +\"script/grid_search/kim_cnn_pos/final_grid_result.p\", \"rb\" ) )\n",
    "df_result = pd.DataFrame(final_grid)\n",
    "df_result.sort_values(by=['val_f1_macro_mean'], ascending=False)[0:3][[\"hyper_parm\",\"loss_mean\",\"loss_std\",\"f1_macro_mean\", \"f1_macro_std\",\"val_loss_mean\",\"val_loss_std\",\"val_f1_macro_mean\",\"val_f1_macro_std\"]]"
   ]
  },
  {
   "cell_type": "markdown",
   "metadata": {},
   "source": [
    "# Retrain the final model and save"
   ]
  },
  {
   "cell_type": "code",
   "execution_count": null,
   "metadata": {
    "colab": {
     "base_uri": "https://localhost:8080/"
    },
    "id": "EXOrHxK147iM",
    "outputId": "a486b157-0426-40e0-e899-62fb349382d2"
   },
   "outputs": [],
   "source": [
    "input_train = {\"text\": X_train, \"pos\": X_pos_train, \"extra\": X_extra_feature_train}\n",
    "input_val = {\"text\": X_val, \"pos\": X_pos_val, \"extra\": X_extra_feature_val}\n",
    "input_test = {\"text\": X_test_e, \"pos\": X_test_pos_e, \"extra\": X_test_extra_feature}\n",
    "\n",
    "model = kim_cnn_pos((65,128, ), filters = 128, filter_sizes = [2,3,4], dropout = 0.5, hn=128, lr=0.0001, print_model=False)\n",
    "best_callback = ReturnBestEarlyStopping(monitor=\"val_f1_macro\", min_delta=0, patience=100, verbose=1, mode=\"max\", restore_best_weights=True)\n",
    "\n",
    "history = model.fit(input_train, y_train, batch_size=128, epochs=100, validation_data=(input_val, y_val), callbacks=[best_callback], verbose = 1)"
   ]
  },
  {
   "cell_type": "code",
   "execution_count": null,
   "metadata": {},
   "outputs": [],
   "source": [
    "y_train_pred = np.where(model.predict(X_train) > 0.5,1,0)\n",
    "print(f1_score(y_train, y_train_pred, average=\"macro\"))\n",
    "\n",
    "y_val_pred = np.where(model.predict(X_val) >0.5,1,0)\n",
    "print(f1_score(y_val, y_val_pred, average=\"macro\"))\n",
    "\n",
    "y_test_pred = np.where(model.predict(X_test_e) > 0.5,1,0)\n",
    "print(f1_score(y_test, y_test_pred, average=\"macro\"))"
   ]
  },
  {
   "cell_type": "code",
   "execution_count": null,
   "metadata": {},
   "outputs": [],
   "source": [
    "plotHistory(history.history)"
   ]
  },
  {
   "cell_type": "code",
   "execution_count": null,
   "metadata": {},
   "outputs": [],
   "source": [
    "model.save(root_project + 'results/model/kcnn/kcnn.h5')\n",
    "save_data_p(history.history, root_project + 'results/model/kcnn/kcnn_history.p')"
   ]
  },
  {
   "cell_type": "markdown",
   "metadata": {},
   "source": [
    "# Final model"
   ]
  },
  {
   "cell_type": "code",
   "execution_count": 17,
   "metadata": {},
   "outputs": [],
   "source": [
    "dependencies = {\n",
    "    'f1_macro': f1_macro\n",
    "}\n",
    "model = tf.keras.models.load_model(root_project + 'results/model/kcnn/kcnn.h5', custom_objects=dependencies)\n",
    "model.compile(loss= tf.keras.losses.BinaryCrossentropy(), metrics= [f1_macro])\n",
    "history = load_data_p(root_project + 'results/model/kcnn/kcnn_history.p')"
   ]
  },
  {
   "cell_type": "code",
   "execution_count": 18,
   "metadata": {
    "colab": {
     "base_uri": "https://localhost:8080/"
    },
    "id": "he4pPJW9PrhF",
    "outputId": "2951b31f-3a62-4d0b-827c-3019143f893a"
   },
   "outputs": [
    {
     "name": "stdout",
     "output_type": "stream",
     "text": [
      "193/193 [==============================] - 5s 22ms/step - loss: 0.3534 - f1_macro: 0.8617\n",
      "22/22 [==============================] - 1s 52ms/step - loss: 0.5370 - f1_macro: 0.7208\n",
      "40/40 [==============================] - 1s 25ms/step - loss: 0.5654 - f1_macro: 0.5862\n"
     ]
    },
    {
     "data": {
      "text/plain": [
       "[0.5653629899024963, 0.5861799120903015]"
      ]
     },
     "execution_count": 18,
     "metadata": {},
     "output_type": "execute_result"
    }
   ],
   "source": [
    "model.evaluate(X_train, y_train)\n",
    "model.evaluate(X_val, y_val)\n",
    "model.evaluate(X_test_e, y_test)"
   ]
  },
  {
   "cell_type": "code",
   "execution_count": 47,
   "metadata": {
    "colab": {
     "base_uri": "https://localhost:8080/"
    },
    "id": "kxbA-8GWQBLI",
    "outputId": "ec09613e-0870-4c5c-8cb1-61696fbb519e"
   },
   "outputs": [
    {
     "name": "stdout",
     "output_type": "stream",
     "text": [
      "0.9675634836832896\n",
      "              precision    recall  f1-score   support\n",
      "\n",
      "           0       0.99      0.95      0.97      3426\n",
      "           1       0.94      0.99      0.96      2729\n",
      "\n",
      "    accuracy                           0.97      6155\n",
      "   macro avg       0.97      0.97      0.97      6155\n",
      "weighted avg       0.97      0.97      0.97      6155\n",
      "\n"
     ]
    }
   ],
   "source": [
    "y_train_pred = np.where(model.predict(input_train) >0.5,1,0)\n",
    "print(f1_score(y_train, y_train_pred, average=\"macro\"))\n",
    "print(classification_report(y_train, y_train_pred))"
   ]
  },
  {
   "cell_type": "code",
   "execution_count": 48,
   "metadata": {
    "colab": {
     "base_uri": "https://localhost:8080/"
    },
    "id": "i_lYWwkzP1v4",
    "outputId": "dda071c5-6323-4050-81ad-c845dffff84e"
   },
   "outputs": [
    {
     "name": "stdout",
     "output_type": "stream",
     "text": [
      "0.7391952565376838\n",
      "              precision    recall  f1-score   support\n",
      "\n",
      "           0       0.78      0.73      0.75       369\n",
      "           1       0.70      0.75      0.73       315\n",
      "\n",
      "    accuracy                           0.74       684\n",
      "   macro avg       0.74      0.74      0.74       684\n",
      "weighted avg       0.74      0.74      0.74       684\n",
      "\n"
     ]
    }
   ],
   "source": [
    "y_val_pred = np.where(model.predict(input_val) >0.5,1,0)\n",
    "print(f1_score(y_val, y_val_pred, average=\"macro\"))\n",
    "print(classification_report(y_val, y_val_pred))"
   ]
  },
  {
   "cell_type": "code",
   "execution_count": 52,
   "metadata": {
    "colab": {
     "base_uri": "https://localhost:8080/"
    },
    "id": "xnjMkyLQP4LC",
    "outputId": "ada7e891-473d-47b2-a3f9-cc21d9dfadd7"
   },
   "outputs": [
    {
     "name": "stdout",
     "output_type": "stream",
     "text": [
      "0.7018473500220999\n",
      "              precision    recall  f1-score   support\n",
      "\n",
      "           0       0.81      0.60      0.69       694\n",
      "           1       0.63      0.82      0.71       569\n",
      "\n",
      "    accuracy                           0.70      1263\n",
      "   macro avg       0.72      0.71      0.70      1263\n",
      "weighted avg       0.73      0.70      0.70      1263\n",
      "\n"
     ]
    }
   ],
   "source": [
    "y_test_pred = np.where(model.predict(input_test) >0.5,1,0)\n",
    "print(f1_score(y_test, y_test_pred, average=\"macro\"))\n",
    "print(classification_report(y_test, y_test_pred))"
   ]
  },
  {
   "cell_type": "code",
   "execution_count": null,
   "metadata": {
    "colab": {
     "base_uri": "https://localhost:8080/",
     "height": 298
    },
    "id": "jWFNnRmYX40F",
    "outputId": "327a4441-a869-4c89-912c-ea61ff1ad039"
   },
   "outputs": [],
   "source": [
    "plotHistory(history)"
   ]
  },
  {
   "cell_type": "code",
   "execution_count": null,
   "metadata": {
    "colab": {
     "base_uri": "https://localhost:8080/",
     "height": 315
    },
    "id": "KyYkwLLPIAZg",
    "outputId": "f7da07aa-3fb7-4275-d2e8-8927de2ff821"
   },
   "outputs": [],
   "source": [
    "plotLoss(history)"
   ]
  },
  {
   "cell_type": "code",
   "execution_count": null,
   "metadata": {
    "colab": {
     "base_uri": "https://localhost:8080/",
     "height": 315
    },
    "id": "nU3V5hu5ICk6",
    "outputId": "880c7eee-fab0-4359-a885-6b1604712c10"
   },
   "outputs": [],
   "source": [
    "plotF1_macro(history)"
   ]
  },
  {
   "cell_type": "markdown",
   "metadata": {},
   "source": [
    "# ----------------------------------------------"
   ]
  },
  {
   "cell_type": "markdown",
   "metadata": {
    "id": "gpoHM_17nsGx"
   },
   "source": [
    "# ensemble predictions"
   ]
  },
  {
   "cell_type": "code",
   "execution_count": 14,
   "metadata": {
    "id": "Yusc82JxLlCI"
   },
   "outputs": [],
   "source": [
    "from sklearn.model_selection import KFold\n",
    "from sklearn.metrics import accuracy_score"
   ]
  },
  {
   "cell_type": "code",
   "execution_count": 29,
   "metadata": {
    "colab": {
     "base_uri": "https://localhost:8080/"
    },
    "id": "bNJ-dBNaStU_",
    "outputId": "d74f45b1-2a56-4c08-dcfa-5018884da402"
   },
   "outputs": [
    {
     "name": "stdout",
     "output_type": "stream",
     "text": [
      "fold_1\n",
      "0.6884699604842567\n",
      "fold_2\n",
      "0.6800970162902645\n",
      "fold_3\n",
      "0.6804990508898421\n",
      "fold_4\n",
      "0.6906347344301067\n",
      "fold_5\n",
      "0.6883460236886633\n"
     ]
    }
   ],
   "source": [
    "kf = KFold(n_splits=5, shuffle=True)\n",
    "\n",
    "models = []\n",
    "\n",
    "data = {\"text\": X_e, \"pos\": X_pos_e, \"extra\": X_extra_feature, \"target\": y}\n",
    "data_test = {\"text\": X_test_e, \"pos\": X_test_pos_e, \"extra\": X_test_extra_feature, \"target\": y_test}\n",
    "i=1\n",
    "for train_index_fold, val_index_fold in kf.split(data[\"text\"]):\n",
    "        name_fold = \"fold_{}\".format(i)\n",
    "        print(name_fold)\n",
    "        i+=1\n",
    "        \n",
    "        #DATA\n",
    "        X_train = {\"text\": data[\"text\"][train_index_fold], \"pos\": data[\"pos\"][train_index_fold], \"extra\": data[\"extra\"][train_index_fold]}\n",
    "        Y_train = data[\"target\"][train_index_fold]\n",
    "        X_val = {\"text\": data[\"text\"][val_index_fold], \"pos\": data[\"pos\"][val_index_fold], \"extra\": data[\"extra\"][val_index_fold]}\n",
    "        Y_val = data[\"target\"][val_index_fold]\n",
    "\n",
    "        #print(hyper_param)\n",
    "        input_shape = (X_train[\"text\"][0].shape[0], X_train[\"text\"][0].shape[1],)\n",
    "        model = kim_cnn_pos((65,128, ), filters = 256, filter_sizes = [2,3,4], dropout = 0.5, hn=64, lr=0.0001, print_model=False)\n",
    "        best_callback = ReturnBestEarlyStopping(monitor=\"val_loss\", patience=50, verbose=0, mode=\"min\", restore_best_weights=True)\n",
    "        history = model.fit(X_train, Y_train, batch_size=64, epochs=200, validation_data=(X_val, Y_val), callbacks=[best_callback], verbose = 0)\n",
    "        \n",
    "        models.append(model)\n",
    "        X_test = {\"text\": data_test[\"text\"], \"pos\": data_test[\"pos\"], \"extra\": data_test[\"extra\"]}\n",
    "        y_pred = np.where(model.predict(X_test) >0.5,1,0)\n",
    "\n",
    "        print(f1_score(data_test[\"target\"], y_pred, average=\"macro\"))"
   ]
  },
  {
   "cell_type": "code",
   "execution_count": 37,
   "metadata": {
    "id": "PDgupccPUMPY"
   },
   "outputs": [],
   "source": [
    "def ensemble_predictions(members, X):\n",
    "  # make predictions\n",
    "  results = []\n",
    "  yhats = [np.squeeze(np.where(models[0].predict(X) > 0.5, 1,0).reshape(1,-1)) for model in members]\n",
    "  # sum across ensemble members\n",
    "  yhats = np.array(yhats)\n",
    "  print(yhats[:,0])\n",
    "  print(yhats.shape)\n",
    "\n",
    "  for i in range(yhats.shape[1]):\n",
    "    counts = np.bincount(yhats[:,i])\n",
    "    results.append(np.argmax(counts))\n",
    "  # argmax across classes\n",
    "  return results"
   ]
  },
  {
   "cell_type": "code",
   "execution_count": 38,
   "metadata": {
    "colab": {
     "base_uri": "https://localhost:8080/"
    },
    "id": "kv5bzfLMbQaw",
    "outputId": "a8ceadce-ae04-4fbe-b982-49a2a9245179"
   },
   "outputs": [
    {
     "name": "stdout",
     "output_type": "stream",
     "text": [
      "[0 0 0 0 0]\n",
      "(5, 1263)\n",
      "              precision    recall  f1-score   support\n",
      "\n",
      "           0       0.81      0.57      0.67       694\n",
      "           1       0.61      0.83      0.71       569\n",
      "\n",
      "    accuracy                           0.69      1263\n",
      "   macro avg       0.71      0.70      0.69      1263\n",
      "weighted avg       0.72      0.69      0.69      1263\n",
      "\n"
     ]
    }
   ],
   "source": [
    "X_test = {\"text\": data_test[\"text\"], \"pos\": data_test[\"pos\"], \"extra\": data_test[\"extra\"]}\n",
    "y_pred = ensemble_predictions(models, X_test)\n",
    "print(classification_report(y_test,y_pred))\n"
   ]
  },
  {
   "cell_type": "code",
   "execution_count": null,
   "metadata": {
    "id": "sjZoaZNzggCy"
   },
   "outputs": [],
   "source": []
  }
 ],
 "metadata": {
  "accelerator": "GPU",
  "colab": {
   "name": "model_implementation.ipynb",
   "provenance": [],
   "toc_visible": true
  },
  "kernelspec": {
   "display_name": "Python 3",
   "language": "python",
   "name": "python3"
  },
  "language_info": {
   "codemirror_mode": {
    "name": "ipython",
    "version": 3
   },
   "file_extension": ".py",
   "mimetype": "text/x-python",
   "name": "python",
   "nbconvert_exporter": "python",
   "pygments_lexer": "ipython3",
   "version": "3.8.8"
  }
 },
 "nbformat": 4,
 "nbformat_minor": 4
}
