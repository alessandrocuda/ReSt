{
 "cells": [
  {
   "cell_type": "code",
   "execution_count": 1,
   "metadata": {
    "colab": {
     "base_uri": "https://localhost:8080/"
    },
    "id": "mcx-h8sODpMJ",
    "outputId": "8d4cc3e5-e8ee-4279-c57d-7dde09bc7d6d"
   },
   "outputs": [
    {
     "name": "stdout",
     "output_type": "stream",
     "text": [
      "Cloning into 'ReSt'...\n",
      "remote: Enumerating objects: 172, done.\u001b[K\n",
      "remote: Counting objects: 100% (172/172), done.\u001b[K\n",
      "remote: Compressing objects: 100% (118/118), done.\u001b[K\n",
      "remote: Total 259 (delta 76), reused 131 (delta 46), pack-reused 87\u001b[K\n",
      "Receiving objects: 100% (259/259), 79.71 MiB | 25.81 MiB/s, done.\n",
      "Resolving deltas: 100% (84/84), done.\n",
      "Checking out files: 100% (91/91), done.\n",
      "--2021-04-10 15:02:58--  http://www.italianlp.it/twitter128.bin\n",
      "Resolving www.italianlp.it (www.italianlp.it)... 146.48.92.46, 2a00:1620:c0:5c::8\n",
      "Connecting to www.italianlp.it (www.italianlp.it)|146.48.92.46|:80... connected.\n",
      "HTTP request sent, awaiting response... 200 OK\n",
      "Length: 613808129 (585M) [application/octet-stream]\n",
      "Saving to: ‘twitter128.bin’\n",
      "\n",
      "twitter128.bin      100%[===================>] 585.37M  15.7MB/s    in 45s     \n",
      "\n",
      "2021-04-10 15:03:43 (13.1 MB/s) - ‘twitter128.bin’ saved [613808129/613808129]\n",
      "\n"
     ]
    }
   ],
   "source": [
    "#!pip install fasttext\n",
    "!rm -rf ReST/\n",
    "!git clone https://github.com/alessandrocuda/ReSt\n",
    "!wget http://www.italianlp.it/twitter128.bin\n",
    "!mv /content/twitter128.bin /content/ReSt/results/model/word2vec"
   ]
  },
  {
   "cell_type": "code",
   "execution_count": 1,
   "metadata": {
    "id": "foTfySiPDfOl"
   },
   "outputs": [],
   "source": [
    "import tensorflow as tf\n",
    "#import tensorflow_addons as tfa\n",
    "\n",
    "from tensorflow.keras import backend as K\n",
    "\n",
    "#from tensorflow.keras.engine import Layer, InputSpec, InputLayer\n",
    "\n",
    "from tensorflow.keras.models import Model, Sequential\n",
    "\n",
    "from tensorflow.keras.layers import Dropout, Embedding, concatenate\n",
    "from tensorflow.keras.layers import Conv1D, MaxPool1D, Conv2D, MaxPool2D, ZeroPadding1D, GlobalMaxPool1D, GlobalAveragePooling1D\n",
    "from tensorflow.keras.layers import Dense, Input, Flatten, BatchNormalization, Activation\n",
    "from tensorflow.keras.layers import Concatenate, Dot, Concatenate, Multiply, RepeatVector\n",
    "from tensorflow.keras.layers import Bidirectional, TimeDistributed\n",
    "from tensorflow.keras.layers import SimpleRNN, LSTM, GRU, Lambda, Permute\n",
    "from tensorflow.keras.optimizers import Adam\n",
    "from tensorflow.keras.callbacks import ModelCheckpoint,EarlyStopping\n",
    "from tensorflow.keras.regularizers import l2\n",
    "from tensorflow.keras.preprocessing.sequence import pad_sequences\n",
    "from tensorflow.keras.models import load_model\n",
    "\n",
    "from sklearn.model_selection import train_test_split\n",
    "from sklearn.metrics import classification_report, f1_score\n",
    "\n",
    "from gensim.models import KeyedVectors\n",
    "from gensim.models import Word2Vec\n",
    "\n",
    "#import fasttext.util\n",
    "\n",
    "import pandas as pd\n",
    "import numpy as np\n",
    "import matplotlib.pyplot as plt\n",
    "\n",
    "from gensim.test.utils import datapath\n",
    "\n",
    "import sys\n",
    "#root_project = \"/content/ReSt/\"\n",
    "root_project = \"/Users/Alessandro/Dev/repos/ReSt/\"\n",
    "#root_project = \"/home/jupyter/ReSt/\"\n",
    "sys.path.append(root_project)\n",
    "from src.data.utils import load_csv_to_dict, set_unkmark_token, load_data, to_emb\n",
    "from src.data.word_embedding import get_index_key_association, get_int_seq, build_keras_embedding_matrix, get_data_to_emb, get_index_key_pos_association, get_one_hot_pos\n",
    "#load metrics\n",
    "from src.utils.metrics import f1_macro\n",
    "#load callbacks\n",
    "from src.utils.callbacks import ReturnBestEarlyStopping, FCallback\n",
    "\n",
    "from src.utils.utils import save_data_p, load_data_p, plotF1_macro, plotLoss, plotHistory\n",
    "%load_ext autoreload\n",
    "%autoreload 2"
   ]
  },
  {
   "cell_type": "code",
   "execution_count": 59,
   "metadata": {
    "colab": {
     "base_uri": "https://localhost:8080/"
    },
    "id": "3vVGZwnHDfOo",
    "outputId": "4273c445-f1db-45e3-a395-330756a16b96"
   },
   "outputs": [
    {
     "name": "stdout",
     "output_type": "stream",
     "text": [
      "2.4.1\n"
     ]
    }
   ],
   "source": [
    "print(tf.__version__)"
   ]
  },
  {
   "cell_type": "markdown",
   "metadata": {
    "id": "2cMyT07kLkcb"
   },
   "source": [
    "# Path"
   ]
  },
  {
   "cell_type": "code",
   "execution_count": 3,
   "metadata": {
    "id": "DThTDXDJLkcc"
   },
   "outputs": [],
   "source": [
    "#PATH\n",
    "dataset_dev_path           = root_project + \"dataset/haspeede2/preprocessed/dev/dev.csv\"\n",
    "dataset_test_tweets_path   = root_project + \"dataset/haspeede2/preprocessed/reference/reference_tweets.csv\"\n",
    "w2v_bin_path               = root_project + 'results/model/word2vec/twitter128.bin'"
   ]
  },
  {
   "cell_type": "code",
   "execution_count": 4,
   "metadata": {
    "id": "z9h4bvdkLkcf"
   },
   "outputs": [],
   "source": [
    "#load dataset dictionary\n",
    "dataset_dev = load_csv_to_dict(dataset_dev_path)\n",
    "dataset_test_tweets = load_csv_to_dict(dataset_test_tweets_path)"
   ]
  },
  {
   "cell_type": "code",
   "execution_count": 5,
   "metadata": {
    "colab": {
     "base_uri": "https://localhost:8080/"
    },
    "id": "JxneHO3bKCxF",
    "outputId": "75a5b65e-861e-4fc5-b33e-c5adad3635ce"
   },
   "outputs": [
    {
     "data": {
      "text/plain": [
       "dict_keys(['id', 'text', 'hs', 'stereotype', 'processed_text', 'text_length', 'hashtags', '%CAPS-LOCK words', 'esclamations', 'questions', 'tokens', 'lemma', 'pos', 'dep', 'word_polarity', 'sentence_positive', 'sentence_negative', 'sentence_neutral', 'stem', '%bad_words'])"
      ]
     },
     "execution_count": 5,
     "metadata": {
      "tags": []
     },
     "output_type": "execute_result"
    }
   ],
   "source": [
    "dataset_dev.keys()"
   ]
  },
  {
   "cell_type": "markdown",
   "metadata": {
    "id": "yA9qmH2kLkcc"
   },
   "source": [
    "# Embedding"
   ]
  },
  {
   "cell_type": "code",
   "execution_count": 5,
   "metadata": {
    "colab": {
     "base_uri": "https://localhost:8080/"
    },
    "id": "WqsE1qU5Lkcd",
    "outputId": "8ceef8ff-de51-4856-d08c-fbf5e478b861"
   },
   "outputs": [
    {
     "name": "stdout",
     "output_type": "stream",
     "text": [
      "Vocab_size is 1170776\n",
      "Embedding_matrix with unk word loaded\n",
      "Shape (1170777, 128)\n"
     ]
    }
   ],
   "source": [
    "#load word2vec and embedding_matrix\n",
    "w2v = KeyedVectors.load_word2vec_format(datapath(w2v_bin_path), binary=True)\n",
    "index_to_key, key_to_index = get_index_key_association(w2v)\n",
    "embedding_matrix, vocab_size = build_keras_embedding_matrix(w2v, index_to_key)\n",
    "\n",
    "WORD_EMB_SIZE = 128\n",
    "VOCAB_SIZE = vocab_size"
   ]
  },
  {
   "cell_type": "code",
   "execution_count": 6,
   "metadata": {
    "id": "2QECYQdD7IJl"
   },
   "outputs": [],
   "source": [
    "# load pos embedding\n",
    "index_to_key_pos, key_to_index_pos = get_index_key_pos_association(X = dataset_dev[\"pos\"])\n",
    "index_to_onehot_pos = get_one_hot_pos(index_to_key_pos)"
   ]
  },
  {
   "cell_type": "code",
   "execution_count": 8,
   "metadata": {
    "colab": {
     "base_uri": "https://localhost:8080/"
    },
    "id": "wDWcxWTeNQZ1",
    "outputId": "bf15172e-b638-48b2-d363-b79b5fd5aca3"
   },
   "outputs": [
    {
     "data": {
      "text/plain": [
       "{0: [0, 0, 0, 0, 0, 0, 0, 0, 0, 0, 0, 0, 0, 0, 0, 0],\n",
       " 1: [1, 0, 0, 0, 0, 0, 0, 0, 0, 0, 0, 0, 0, 0, 0, 0],\n",
       " 2: [0, 1, 0, 0, 0, 0, 0, 0, 0, 0, 0, 0, 0, 0, 0, 0],\n",
       " 3: [0, 0, 1, 0, 0, 0, 0, 0, 0, 0, 0, 0, 0, 0, 0, 0],\n",
       " 4: [0, 0, 0, 1, 0, 0, 0, 0, 0, 0, 0, 0, 0, 0, 0, 0],\n",
       " 5: [0, 0, 0, 0, 1, 0, 0, 0, 0, 0, 0, 0, 0, 0, 0, 0],\n",
       " 6: [0, 0, 0, 0, 0, 1, 0, 0, 0, 0, 0, 0, 0, 0, 0, 0],\n",
       " 7: [0, 0, 0, 0, 0, 0, 1, 0, 0, 0, 0, 0, 0, 0, 0, 0],\n",
       " 8: [0, 0, 0, 0, 0, 0, 0, 1, 0, 0, 0, 0, 0, 0, 0, 0],\n",
       " 9: [0, 0, 0, 0, 0, 0, 0, 0, 1, 0, 0, 0, 0, 0, 0, 0],\n",
       " 10: [0, 0, 0, 0, 0, 0, 0, 0, 0, 1, 0, 0, 0, 0, 0, 0],\n",
       " 11: [0, 0, 0, 0, 0, 0, 0, 0, 0, 0, 1, 0, 0, 0, 0, 0],\n",
       " 12: [0, 0, 0, 0, 0, 0, 0, 0, 0, 0, 0, 1, 0, 0, 0, 0],\n",
       " 13: [0, 0, 0, 0, 0, 0, 0, 0, 0, 0, 0, 0, 1, 0, 0, 0],\n",
       " 14: [0, 0, 0, 0, 0, 0, 0, 0, 0, 0, 0, 0, 0, 1, 0, 0],\n",
       " 15: [0, 0, 0, 0, 0, 0, 0, 0, 0, 0, 0, 0, 0, 0, 1, 0],\n",
       " 16: [0, 0, 0, 0, 0, 0, 0, 0, 0, 0, 0, 0, 0, 0, 0, 1]}"
      ]
     },
     "execution_count": 8,
     "metadata": {
      "tags": []
     },
     "output_type": "execute_result"
    }
   ],
   "source": [
    "index_to_onehot_pos"
   ]
  },
  {
   "cell_type": "code",
   "execution_count": 9,
   "metadata": {
    "colab": {
     "base_uri": "https://localhost:8080/"
    },
    "id": "o4byFZO-I7gT",
    "outputId": "449206ea-c442-4bff-b492-15aaed9f7c15"
   },
   "outputs": [
    {
     "data": {
      "text/plain": [
       "dict_keys(['id', 'text', 'hs', 'stereotype', 'processed_text', 'text_length', 'hashtags', '%CAPS-LOCK words', 'esclamations', 'questions', 'tokens', 'lemma', 'pos', 'dep', 'word_polarity', 'sentence_positive', 'sentence_negative', 'sentence_neutral', 'stem', '%bad_words'])"
      ]
     },
     "execution_count": 9,
     "metadata": {
      "tags": []
     },
     "output_type": "execute_result"
    }
   ],
   "source": [
    "dataset_dev.keys()"
   ]
  },
  {
   "cell_type": "markdown",
   "metadata": {
    "id": "_I4VbMeODfOp"
   },
   "source": [
    "# DATA"
   ]
  },
  {
   "cell_type": "code",
   "execution_count": 7,
   "metadata": {
    "id": "uRkY4b27Lkcf"
   },
   "outputs": [],
   "source": [
    "#load dev/test\n",
    "MAX_TEXT_LEN = 65\n",
    "\n",
    "X, X_pos, X_extra_feature, y = load_data(dataset_dev, w2v, key_to_index, key_to_index_pos, embedding_matrix, MAX_TEXT_LEN)\n",
    "X_e = to_emb(X, embedding_matrix)\n",
    "X_pos_e = to_emb(X_pos, index_to_onehot_pos)\n",
    "\n",
    "X_test, X_test_pos, X_test_extra_feature, y_test = load_data(dataset_test_tweets, w2v, key_to_index, key_to_index_pos, embedding_matrix, MAX_TEXT_LEN)\n",
    "X_test_e = to_emb(X_test, embedding_matrix)\n",
    "X_test_pos_e = to_emb(X_test_pos, index_to_onehot_pos)"
   ]
  },
  {
   "cell_type": "markdown",
   "metadata": {
    "id": "nZLD5i2095pp"
   },
   "source": [
    "# Split"
   ]
  },
  {
   "cell_type": "code",
   "execution_count": 8,
   "metadata": {
    "id": "u3Y3BXjJDfOu"
   },
   "outputs": [],
   "source": [
    "X_train, X_val, X_pos_train, X_pos_val, X_extra_feature_train, X_extra_feature_val, y_train, y_val = train_test_split(X_e, X_pos_e, X_extra_feature, y, test_size=0.10, random_state=128)"
   ]
  },
  {
   "cell_type": "markdown",
   "metadata": {
    "id": "PYKIBfnoMH_E"
   },
   "source": [
    "# Metrics"
   ]
  },
  {
   "cell_type": "code",
   "execution_count": 9,
   "metadata": {
    "id": "TTm6puSuMJ1A"
   },
   "outputs": [],
   "source": [
    "def f1_sklean_mapping_macro(y_true, y_pred):\n",
    "    return f1_score(y_true, y_pred, average=\"macro\")\n",
    "\n",
    "def f1_macro(y_true, y_pred):\n",
    "    return tf.py_function(f1_sklean_mapping_macro, (y_true, K.round(y_pred)), tf.double)"
   ]
  },
  {
   "cell_type": "markdown",
   "metadata": {
    "id": "T5SRBV3K99Mh"
   },
   "source": [
    "# callback"
   ]
  },
  {
   "cell_type": "code",
   "execution_count": 10,
   "metadata": {
    "id": "cQbbgMnVDfOu"
   },
   "outputs": [],
   "source": [
    "class FCallback(tf.keras.callbacks.Callback):\n",
    "  \n",
    "    def __init__(self, validation = (), verbose = 0):\n",
    "        self.validation = validation\n",
    "        self.verbose = verbose\n",
    "\n",
    "    def on_train_begin(self, logs={}):\n",
    "        self.f1 = []\n",
    "        self.val_f1 = []\n",
    "    def on_epoch_end(self, epoch, logs=None):\n",
    "        y_t =  self.validation[1]\n",
    "        y_p =  np.where(self.model.predict(self.validation[0]) > 0.5, 1, 0)\n",
    "        logs['val_f1'] =  f1_score(y_t, y_p, average='macro')\n",
    "        if self.verbose >0:\n",
    "            print(\"— val_f1: {}\".format(logs['val_f1']))\n",
    "\n",
    "class ReturnBestEarlyStopping(EarlyStopping):\n",
    "    def __init__(self, **kwargs):\n",
    "        super(ReturnBestEarlyStopping, self).__init__(**kwargs)\n",
    "\n",
    "    def on_train_end(self, logs=None):\n",
    "        if self.stopped_epoch > 0:\n",
    "            if self.verbose > 0:\n",
    "                print(f'\\nEpoch {self.stopped_epoch + 1}: early stopping')\n",
    "        elif self.restore_best_weights:\n",
    "            if self.verbose > 0:\n",
    "                print('Restoring model weights from the end of the best epoch.')\n",
    "            self.model.set_weights(self.best_weights)"
   ]
  },
  {
   "cell_type": "markdown",
   "metadata": {
    "id": "XrLamIrFLkci"
   },
   "source": [
    "# model: text + pos + extra features"
   ]
  },
  {
   "cell_type": "code",
   "execution_count": 11,
   "metadata": {
    "id": "HfQax4baLkcj"
   },
   "outputs": [],
   "source": [
    "def kim_cnn_pos(input_shape, filters = 256, filter_sizes = [2,4,6], dropout = 0.5, hn=128, lr=0.01, print_model=False):\n",
    "    import tensorflow as tf\n",
    "    from tensorflow.keras.models import Model\n",
    "    from tensorflow.keras.layers import Dropout\n",
    "    from tensorflow.keras.layers import Conv1D, GlobalMaxPool1D\n",
    "    from tensorflow.keras.layers import Dense, Input, Flatten, Activation\n",
    "    from tensorflow.keras.layers import Concatenate\n",
    "    from tensorflow.keras.regularizers import l2\n",
    "\n",
    "    \"\"\" HyperParameters \"\"\"\n",
    "\n",
    "    text_seq_input = Input(shape=input_shape, name=\"text\")\n",
    "    pos_seq_input = Input(shape=(65,16, ), name=\"pos\")\n",
    "    extra_feature = Input(shape=(8,), name=\"extra\")\n",
    "\n",
    "    convs = []\n",
    "    for filter_size in filter_sizes:\n",
    "        l_conv = Conv1D(filters=filters, kernel_size=filter_size)(text_seq_input)\n",
    "        l_relu = Activation(\"relu\")(l_conv)\n",
    "        l_pool = GlobalMaxPool1D()(l_relu)   \n",
    "        convs.append(l_pool)\n",
    "    \n",
    "    convs_pos = []\n",
    "    for filter_size in filter_sizes:\n",
    "        l_conv = Conv1D(filters=filters, kernel_size=filter_size)(pos_seq_input)\n",
    "        l_relu = Activation(\"relu\")(l_conv)\n",
    "        l_pool = GlobalMaxPool1D()(l_relu)   \n",
    "        convs_pos.append(l_pool)\n",
    "\n",
    "    l_merge     = Concatenate(axis=1)(convs)\n",
    "    l_flat      = Flatten()(l_merge)\n",
    "    l_merge_pos = Concatenate(axis=1)(convs_pos)\n",
    "    l_flat_pos  = Flatten()(l_merge_pos)\n",
    "\n",
    "    input_ff    = Concatenate(axis=1)([l_flat, l_flat_pos, extra_feature])\n",
    "    l_drop      = Dropout(dropout)(input_ff)\n",
    "    l_hidden    = Dense(hn, activation='relu')(l_drop)\n",
    "    l_drop      = Dropout(dropout)(l_hidden)\n",
    "    l_out_st    = Dense(1, activation='sigmoid', name=\"st\")(l_drop)  #dims output\n",
    "\n",
    "    model_cnn   = Model(inputs=[text_seq_input, pos_seq_input, extra_feature], outputs=l_out_st)\n",
    "    if print_model:\n",
    "        model_cnn.summary()\n",
    "        tf.keras.utils.plot_model(model_cnn, \"my_first_model.png\", show_shapes=True)\n",
    "    \n",
    "    model_cnn.compile(\n",
    "        loss= tf.keras.losses.BinaryCrossentropy(from_logits=True),\n",
    "        optimizer=tf.keras.optimizers.Adam(learning_rate=lr, amsgrad=False),\n",
    "        metrics= [f1_macro]\n",
    "    )\n",
    "\n",
    "    return model_cnn"
   ]
  },
  {
   "cell_type": "code",
   "execution_count": null,
   "metadata": {
    "id": "nfxuewsRLkcl"
   },
   "outputs": [],
   "source": [
    "#del model\n",
    "model = kim_cnn_pos((65,128, ), filters = 128, filter_sizes = [2,3,4], dropout = 0.5, hn=256, lr=0.001, print_model=True)"
   ]
  },
  {
   "cell_type": "code",
   "execution_count": null,
   "metadata": {
    "colab": {
     "base_uri": "https://localhost:8080/"
    },
    "id": "fZay3rNELkcm",
    "outputId": "03ac932c-a262-4ff1-c2c4-dda408ec203f"
   },
   "outputs": [
    {
     "name": "stdout",
     "output_type": "stream",
     "text": [
      "Epoch 1/200\n"
     ]
    }
   ],
   "source": [
    "input_train = {\"text\": X_train, \"pos\": X_pos_train, \"extra\": X_extra_feature_train}\n",
    "input_val = {\"text\": X_val, \"pos\": X_pos_val, \"extra\": X_extra_feature_val}\n",
    "input_test = {\"text\": X_test_e, \"pos\": X_test_pos_e, \"extra\": X_test_extra_feature}\n",
    "\n",
    "f1_callback = FCallback(validation = (input_test, y_test), verbose=True)                                   \n",
    "best_callback = ReturnBestEarlyStopping(monitor=\"val_loss\", min_delta=0, patience=100, verbose=1, mode=\"min\", restore_best_weights=True)\n",
    "\n",
    "history = model.fit(input_train, y_train, batch_size=64, epochs=200, validation_data=(input_val, y_val), callbacks=[f1_callback, best_callback], verbose = 1)"
   ]
  },
  {
   "cell_type": "code",
   "execution_count": null,
   "metadata": {
    "colab": {
     "base_uri": "https://localhost:8080/"
    },
    "id": "9zXBE_F-y25e",
    "outputId": "35aa88e4-2104-4076-d341-7a93b90f3f62"
   },
   "outputs": [
    {
     "name": "stdout",
     "output_type": "stream",
     "text": [
      "0.6928879310344827\n",
      "              precision    recall  f1-score   support\n",
      "\n",
      "           0       0.76      0.63      0.69       369\n",
      "           1       0.64      0.77      0.70       315\n",
      "\n",
      "    accuracy                           0.69       684\n",
      "   macro avg       0.70      0.70      0.69       684\n",
      "weighted avg       0.71      0.69      0.69       684\n",
      "\n"
     ]
    }
   ],
   "source": [
    "y_val_pred = np.where(model.predict(input_val) >0.5,1,0)\n",
    "print(f1_score(y_val, y_val_pred, average=\"macro\"))\n",
    "print(classification_report(y_val, y_val_pred))"
   ]
  },
  {
   "cell_type": "code",
   "execution_count": null,
   "metadata": {
    "colab": {
     "base_uri": "https://localhost:8080/"
    },
    "id": "NFKnxmfaQwpp",
    "outputId": "55fe9d2b-6998-4b5f-f5b5-887c0240ca21"
   },
   "outputs": [
    {
     "name": "stdout",
     "output_type": "stream",
     "text": [
      "(1263,)\n",
      "0.6675825573056794\n",
      "              precision    recall  f1-score   support\n",
      "\n",
      "           0       0.83      0.50      0.63       694\n",
      "           1       0.59      0.88      0.71       569\n",
      "\n",
      "    accuracy                           0.67      1263\n",
      "   macro avg       0.71      0.69      0.67      1263\n",
      "weighted avg       0.72      0.67      0.66      1263\n",
      "\n"
     ]
    }
   ],
   "source": [
    "y_test_pred = np.where(model.predict(input_test) > 0.5, 1, 0)\n",
    "print(y_test.shape)\n",
    "print(f1_score(y_test, y_test_pred, average=\"macro\"))\n",
    "print(classification_report(y_test, y_test_pred))"
   ]
  },
  {
   "cell_type": "markdown",
   "metadata": {
    "id": "-tCRl-ykzgoW"
   },
   "source": [
    "|        \t|        \t|              \t|    0   \t|        \t|        \t|    1   \t|        \t|        \t|          \t|\n",
    "|--------\t|--------\t|--------------\t|:------:\t|:------:\t|:------:\t|:------:\t|:------:\t|:------:\t|:--------:\t|\n",
    "|        \t|        \t|              \t|    P   \t|    R   \t|   F1   \t|    P   \t|    R   \t|   F1   \t| **Macro-F1** \t|\n",
    "| **TASK B** \t|  **News**  \t| Baseline_MFC \t|   0,65 \t|      1 \t| 0,7878 \t|      0 \t|      0 \t|      0 \t|   0,3939 \t|\n",
    "|        \t|        \t| Baseline_SVC \t| 0,7467 \t| 0,8707 \t| 0,8039 \t| 0,6528 \t| 0,4514 \t| 0,5337 \t|   0,6688 \t|\n",
    "|        \t| **Tweets** \t| Baseline_MFC \t| 0,5494 \t|      1 \t| 0,7092 \t|      0 \t|      0 \t|      0 \t|   0,3546 \t|\n",
    "|        \t|        \t| Baseline_SVC \t| 0,7869 \t| 0,6599 \t| 0,7178 \t| 0,6534 \t|  0,782 \t|  0,712 \t|   0,7149 \t|"
   ]
  },
  {
   "cell_type": "code",
   "execution_count": null,
   "metadata": {
    "colab": {
     "base_uri": "https://localhost:8080/",
     "height": 312
    },
    "id": "xswAsFr4DfOv",
    "outputId": "5692371b-23dd-423f-cc50-5a74bdfc0219"
   },
   "outputs": [
    {
     "name": "stdout",
     "output_type": "stream",
     "text": [
      "dict_keys(['loss', 'val_loss', 'val_f1'])\n"
     ]
    },
    {
     "data": {
      "image/png": "[encoded data removed]",
      "text/plain": [
       "<Figure size 432x288 with 1 Axes>"
      ]
     },
     "metadata": {
      "needs_background": "light",
      "tags": []
     },
     "output_type": "display_data"
    }
   ],
   "source": [
    "print(history.history.keys())\n",
    "# summarize history for accuracy\n",
    "\n",
    "# summarize history for loss\n",
    "plt.plot(history.history['loss'])\n",
    "plt.plot(history.history['val_loss'])\n",
    "plt.title('model loss')\n",
    "plt.ylabel('loss')\n",
    "plt.xlabel('epoch')\n",
    "plt.legend(['train', 'test'], loc='upper left')\n",
    "plt.show()"
   ]
  },
  {
   "cell_type": "markdown",
   "metadata": {
    "id": "5lRDgwlD47iH"
   },
   "source": [
    "# Result GridSearch"
   ]
  },
  {
   "cell_type": "code",
   "execution_count": 17,
   "metadata": {
    "id": "zTFvT32Q47iJ"
   },
   "outputs": [],
   "source": [
    "import pickle\n",
    "\n",
    "grid_result0 = pickle.load( open( root_project +\"script/grid_search/kim_cnn_pos/grid_result0.p\", \"rb\" ) )\n",
    "grid_result1 = pickle.load( open( root_project + \"script/grid_search/kim_cnn_pos/grid_result1.p\", \"rb\" ) )\n",
    "grid_result2 = pickle.load( open( root_project + \"script/grid_search/kim_cnn_pos/grid_result2.p\", \"rb\" ) )"
   ]
  },
  {
   "cell_type": "code",
   "execution_count": 18,
   "metadata": {
    "colab": {
     "base_uri": "https://localhost:8080/"
    },
    "id": "XSfmQs-K47iK",
    "outputId": "43701e24-ac0c-4a02-b3e8-ce821fcff9cc"
   },
   "outputs": [
    {
     "data": {
      "text/plain": [
       "{'folds': {'fold_0': {'f1': 0.38665510234532713,\n",
       "   'val_f1': 0.36705179388202946},\n",
       "  'fold_1': {'f1': 0.3553483553483553, 'val_f1': 0.36490250696378834},\n",
       "  'fold_2': {'f1': 0.3627634387333001, 'val_f1': 0.3632097942814797},\n",
       "  'fold_3': {'f1': 0.3639769996671354, 'val_f1': 0.3639246295505823},\n",
       "  'fold_4': {'f1': 0.35854161298634374, 'val_f1': 0.35427491733585265}},\n",
       " 'hyper_parm': {'dropout': 0.1,\n",
       "  'filter_sizes': [2, 3, 4],\n",
       "  'filters': 32,\n",
       "  'hn': 64,\n",
       "  'lr': 0.1},\n",
       " 'mean': 0.3626727284027465,\n",
       " 'std': 0.004393792299606947}"
      ]
     },
     "execution_count": 18,
     "metadata": {
      "tags": []
     },
     "output_type": "execute_result"
    }
   ],
   "source": [
    "grid_result0[0]"
   ]
  },
  {
   "cell_type": "code",
   "execution_count": 19,
   "metadata": {
    "id": "DVG_7CM-47iL"
   },
   "outputs": [],
   "source": [
    "grid_result_d = {\n",
    "    'hyper_parm' : [],\n",
    "    'mean': [],\n",
    "    'std': [],\n",
    "    'folds': []\n",
    "}\n",
    "for elem in grid_result0:\n",
    "    for k in grid_result_d:\n",
    "        grid_result_d[k].append(elem[k])\n",
    "for elem in grid_result1:\n",
    "    for k in grid_result_d:\n",
    "        grid_result_d[k].append(elem[k])\n",
    "for elem in grid_result2:\n",
    "    for k in grid_result_d:\n",
    "        grid_result_d[k].append(elem[k])"
   ]
  },
  {
   "cell_type": "code",
   "execution_count": 20,
   "metadata": {
    "id": "Pkt_EHxn47iL"
   },
   "outputs": [],
   "source": [
    "df_result = pd.DataFrame(grid_result_d)"
   ]
  },
  {
   "cell_type": "code",
   "execution_count": 21,
   "metadata": {
    "colab": {
     "base_uri": "https://localhost:8080/",
     "height": 669
    },
    "id": "U4orvo5v47iL",
    "outputId": "00440d60-8b89-4d6c-f4ba-1fb17acc86b2"
   },
   "outputs": [
    {
     "data": {
      "text/html": [
       "<div>\n",
       "<style scoped>\n",
       "    .dataframe tbody tr th:only-of-type {\n",
       "        vertical-align: middle;\n",
       "    }\n",
       "\n",
       "    .dataframe tbody tr th {\n",
       "        vertical-align: top;\n",
       "    }\n",
       "\n",
       "    .dataframe thead th {\n",
       "        text-align: right;\n",
       "    }\n",
       "</style>\n",
       "<table border=\"1\" class=\"dataframe\">\n",
       "  <thead>\n",
       "    <tr style=\"text-align: right;\">\n",
       "      <th></th>\n",
       "      <th>hyper_parm</th>\n",
       "      <th>mean</th>\n",
       "      <th>std</th>\n",
       "    </tr>\n",
       "  </thead>\n",
       "  <tbody>\n",
       "    <tr>\n",
       "      <th>200</th>\n",
       "      <td>{'filters': 256, 'filter_sizes': [2, 3, 4], 'dropout': 0.5, 'hn': 64, 'lr': 0.0001}</td>\n",
       "      <td>0.705642</td>\n",
       "      <td>0.009181</td>\n",
       "    </tr>\n",
       "    <tr>\n",
       "      <th>206</th>\n",
       "      <td>{'filters': 256, 'filter_sizes': [2, 3, 4], 'dropout': 0.5, 'hn': 512, 'lr': 0.0001}</td>\n",
       "      <td>0.705432</td>\n",
       "      <td>0.006158</td>\n",
       "    </tr>\n",
       "    <tr>\n",
       "      <th>118</th>\n",
       "      <td>{'filters': 128, 'filter_sizes': [2, 3, 4], 'dropout': 0.5, 'hn': 64, 'lr': 0.001}</td>\n",
       "      <td>0.703095</td>\n",
       "      <td>0.011536</td>\n",
       "    </tr>\n",
       "    <tr>\n",
       "      <th>202</th>\n",
       "      <td>{'filters': 256, 'filter_sizes': [2, 3, 4], 'dropout': 0.5, 'hn': 124, 'lr': 0.001}</td>\n",
       "      <td>0.702334</td>\n",
       "      <td>0.009400</td>\n",
       "    </tr>\n",
       "    <tr>\n",
       "      <th>203</th>\n",
       "      <td>{'filters': 256, 'filter_sizes': [2, 3, 4], 'dropout': 0.5, 'hn': 124, 'lr': 0.0001}</td>\n",
       "      <td>0.701581</td>\n",
       "      <td>0.007757</td>\n",
       "    </tr>\n",
       "    <tr>\n",
       "      <th>244</th>\n",
       "      <td>{'filters': 256, 'filter_sizes': [4, 5, 6], 'dropout': 0.1, 'hn': 64, 'lr': 0.001}</td>\n",
       "      <td>0.700844</td>\n",
       "      <td>0.012751</td>\n",
       "    </tr>\n",
       "    <tr>\n",
       "      <th>119</th>\n",
       "      <td>{'filters': 128, 'filter_sizes': [2, 3, 4], 'dropout': 0.5, 'hn': 64, 'lr': 0.0001}</td>\n",
       "      <td>0.700827</td>\n",
       "      <td>0.011337</td>\n",
       "    </tr>\n",
       "    <tr>\n",
       "      <th>199</th>\n",
       "      <td>{'filters': 256, 'filter_sizes': [2, 3, 4], 'dropout': 0.5, 'hn': 64, 'lr': 0.001}</td>\n",
       "      <td>0.700151</td>\n",
       "      <td>0.010281</td>\n",
       "    </tr>\n",
       "    <tr>\n",
       "      <th>122</th>\n",
       "      <td>{'filters': 128, 'filter_sizes': [2, 3, 4], 'dropout': 0.5, 'hn': 124, 'lr': 0.0001}</td>\n",
       "      <td>0.700008</td>\n",
       "      <td>0.014635</td>\n",
       "    </tr>\n",
       "    <tr>\n",
       "      <th>257</th>\n",
       "      <td>{'filters': 256, 'filter_sizes': [4, 5, 6], 'dropout': 0.5, 'hn': 124, 'lr': 0.0001}</td>\n",
       "      <td>0.699798</td>\n",
       "      <td>0.006238</td>\n",
       "    </tr>\n",
       "    <tr>\n",
       "      <th>226</th>\n",
       "      <td>{'filters': 256, 'filter_sizes': [3, 4, 5], 'dropout': 0.5, 'hn': 64, 'lr': 0.001}</td>\n",
       "      <td>0.699071</td>\n",
       "      <td>0.011505</td>\n",
       "    </tr>\n",
       "    <tr>\n",
       "      <th>145</th>\n",
       "      <td>{'filters': 128, 'filter_sizes': [3, 4, 5], 'dropout': 0.5, 'hn': 64, 'lr': 0.001}</td>\n",
       "      <td>0.698706</td>\n",
       "      <td>0.013809</td>\n",
       "    </tr>\n",
       "    <tr>\n",
       "      <th>190</th>\n",
       "      <td>{'filters': 256, 'filter_sizes': [2, 3, 4], 'dropout': 0.1, 'hn': 64, 'lr': 0.001}</td>\n",
       "      <td>0.698610</td>\n",
       "      <td>0.009651</td>\n",
       "    </tr>\n",
       "    <tr>\n",
       "      <th>229</th>\n",
       "      <td>{'filters': 256, 'filter_sizes': [3, 4, 5], 'dropout': 0.5, 'hn': 124, 'lr': 0.001}</td>\n",
       "      <td>0.698255</td>\n",
       "      <td>0.005896</td>\n",
       "    </tr>\n",
       "    <tr>\n",
       "      <th>227</th>\n",
       "      <td>{'filters': 256, 'filter_sizes': [3, 4, 5], 'dropout': 0.5, 'hn': 64, 'lr': 0.0001}</td>\n",
       "      <td>0.697821</td>\n",
       "      <td>0.011759</td>\n",
       "    </tr>\n",
       "    <tr>\n",
       "      <th>19</th>\n",
       "      <td>{'filters': 32, 'filter_sizes': [2, 3, 4], 'dropout': 0.5, 'hn': 124, 'lr': 0.0001}</td>\n",
       "      <td>0.696454</td>\n",
       "      <td>0.009100</td>\n",
       "    </tr>\n",
       "    <tr>\n",
       "      <th>205</th>\n",
       "      <td>{'filters': 256, 'filter_sizes': [2, 3, 4], 'dropout': 0.5, 'hn': 512, 'lr': 0.001}</td>\n",
       "      <td>0.696345</td>\n",
       "      <td>0.005937</td>\n",
       "    </tr>\n",
       "    <tr>\n",
       "      <th>220</th>\n",
       "      <td>{'filters': 256, 'filter_sizes': [3, 4, 5], 'dropout': 0.1, 'hn': 124, 'lr': 0.001}</td>\n",
       "      <td>0.696271</td>\n",
       "      <td>0.012575</td>\n",
       "    </tr>\n",
       "    <tr>\n",
       "      <th>256</th>\n",
       "      <td>{'filters': 256, 'filter_sizes': [4, 5, 6], 'dropout': 0.5, 'hn': 124, 'lr': 0.001}</td>\n",
       "      <td>0.696258</td>\n",
       "      <td>0.011978</td>\n",
       "    </tr>\n",
       "    <tr>\n",
       "      <th>230</th>\n",
       "      <td>{'filters': 256, 'filter_sizes': [3, 4, 5], 'dropout': 0.5, 'hn': 124, 'lr': 0.0001}</td>\n",
       "      <td>0.696204</td>\n",
       "      <td>0.008383</td>\n",
       "    </tr>\n",
       "  </tbody>\n",
       "</table>\n",
       "</div>"
      ],
      "text/plain": [
       "                                                                               hyper_parm  ...       std\n",
       "200   {'filters': 256, 'filter_sizes': [2, 3, 4], 'dropout': 0.5, 'hn': 64, 'lr': 0.0001}  ...  0.009181\n",
       "206  {'filters': 256, 'filter_sizes': [2, 3, 4], 'dropout': 0.5, 'hn': 512, 'lr': 0.0001}  ...  0.006158\n",
       "118    {'filters': 128, 'filter_sizes': [2, 3, 4], 'dropout': 0.5, 'hn': 64, 'lr': 0.001}  ...  0.011536\n",
       "202   {'filters': 256, 'filter_sizes': [2, 3, 4], 'dropout': 0.5, 'hn': 124, 'lr': 0.001}  ...  0.009400\n",
       "203  {'filters': 256, 'filter_sizes': [2, 3, 4], 'dropout': 0.5, 'hn': 124, 'lr': 0.0001}  ...  0.007757\n",
       "244    {'filters': 256, 'filter_sizes': [4, 5, 6], 'dropout': 0.1, 'hn': 64, 'lr': 0.001}  ...  0.012751\n",
       "119   {'filters': 128, 'filter_sizes': [2, 3, 4], 'dropout': 0.5, 'hn': 64, 'lr': 0.0001}  ...  0.011337\n",
       "199    {'filters': 256, 'filter_sizes': [2, 3, 4], 'dropout': 0.5, 'hn': 64, 'lr': 0.001}  ...  0.010281\n",
       "122  {'filters': 128, 'filter_sizes': [2, 3, 4], 'dropout': 0.5, 'hn': 124, 'lr': 0.0001}  ...  0.014635\n",
       "257  {'filters': 256, 'filter_sizes': [4, 5, 6], 'dropout': 0.5, 'hn': 124, 'lr': 0.0001}  ...  0.006238\n",
       "226    {'filters': 256, 'filter_sizes': [3, 4, 5], 'dropout': 0.5, 'hn': 64, 'lr': 0.001}  ...  0.011505\n",
       "145    {'filters': 128, 'filter_sizes': [3, 4, 5], 'dropout': 0.5, 'hn': 64, 'lr': 0.001}  ...  0.013809\n",
       "190    {'filters': 256, 'filter_sizes': [2, 3, 4], 'dropout': 0.1, 'hn': 64, 'lr': 0.001}  ...  0.009651\n",
       "229   {'filters': 256, 'filter_sizes': [3, 4, 5], 'dropout': 0.5, 'hn': 124, 'lr': 0.001}  ...  0.005896\n",
       "227   {'filters': 256, 'filter_sizes': [3, 4, 5], 'dropout': 0.5, 'hn': 64, 'lr': 0.0001}  ...  0.011759\n",
       "19    {'filters': 32, 'filter_sizes': [2, 3, 4], 'dropout': 0.5, 'hn': 124, 'lr': 0.0001}  ...  0.009100\n",
       "205   {'filters': 256, 'filter_sizes': [2, 3, 4], 'dropout': 0.5, 'hn': 512, 'lr': 0.001}  ...  0.005937\n",
       "220   {'filters': 256, 'filter_sizes': [3, 4, 5], 'dropout': 0.1, 'hn': 124, 'lr': 0.001}  ...  0.012575\n",
       "256   {'filters': 256, 'filter_sizes': [4, 5, 6], 'dropout': 0.5, 'hn': 124, 'lr': 0.001}  ...  0.011978\n",
       "230  {'filters': 256, 'filter_sizes': [3, 4, 5], 'dropout': 0.5, 'hn': 124, 'lr': 0.0001}  ...  0.008383\n",
       "\n",
       "[20 rows x 3 columns]"
      ]
     },
     "execution_count": 21,
     "metadata": {
      "tags": []
     },
     "output_type": "execute_result"
    }
   ],
   "source": [
    "pd.set_option('display.max_colwidth', None)\n",
    "df_result.sort_values(by=['mean'], ascending=False)[0:20][[\"hyper_parm\",\"mean\", \"std\"]]"
   ]
  },
  {
   "cell_type": "code",
   "execution_count": 46,
   "metadata": {
    "colab": {
     "base_uri": "https://localhost:8080/"
    },
    "id": "EXOrHxK147iM",
    "outputId": "a486b157-0426-40e0-e899-62fb349382d2"
   },
   "outputs": [
    {
     "name": "stdout",
     "output_type": "stream",
     "text": [
      "Epoch 1/100\n",
      "49/49 [==============================] - 2s 22ms/step - loss: 1.3028 - f1_macro: 0.5028 - val_loss: 0.6999 - val_f1_macro: 0.3635\n",
      "Epoch 2/100\n",
      "49/49 [==============================] - 1s 17ms/step - loss: 0.8072 - f1_macro: 0.5042 - val_loss: 0.6949 - val_f1_macro: 0.5205\n",
      "Epoch 3/100\n",
      "49/49 [==============================] - 1s 17ms/step - loss: 0.7307 - f1_macro: 0.4998 - val_loss: 0.6895 - val_f1_macro: 0.3775\n",
      "Epoch 4/100\n",
      "49/49 [==============================] - 1s 17ms/step - loss: 0.7119 - f1_macro: 0.5240 - val_loss: 0.6903 - val_f1_macro: 0.3600\n",
      "Epoch 5/100\n",
      "49/49 [==============================] - 1s 17ms/step - loss: 0.6987 - f1_macro: 0.4800 - val_loss: 0.6907 - val_f1_macro: 0.3605\n",
      "Epoch 6/100\n",
      "49/49 [==============================] - 1s 17ms/step - loss: 0.6977 - f1_macro: 0.4776 - val_loss: 0.6904 - val_f1_macro: 0.3605\n",
      "Epoch 7/100\n",
      "49/49 [==============================] - 1s 17ms/step - loss: 0.6906 - f1_macro: 0.4520 - val_loss: 0.6901 - val_f1_macro: 0.3516\n",
      "Epoch 8/100\n",
      "49/49 [==============================] - 1s 17ms/step - loss: 0.6946 - f1_macro: 0.4644 - val_loss: 0.6880 - val_f1_macro: 0.3576\n",
      "Epoch 9/100\n",
      "49/49 [==============================] - 1s 17ms/step - loss: 0.6907 - f1_macro: 0.4596 - val_loss: 0.6859 - val_f1_macro: 0.3630\n",
      "Epoch 10/100\n",
      "49/49 [==============================] - 1s 17ms/step - loss: 0.6908 - f1_macro: 0.4583 - val_loss: 0.6857 - val_f1_macro: 0.3576\n",
      "Epoch 11/100\n",
      "49/49 [==============================] - 1s 17ms/step - loss: 0.6898 - f1_macro: 0.4405 - val_loss: 0.6843 - val_f1_macro: 0.3635\n",
      "Epoch 12/100\n",
      "49/49 [==============================] - 1s 17ms/step - loss: 0.6891 - f1_macro: 0.4492 - val_loss: 0.6834 - val_f1_macro: 0.3630\n",
      "Epoch 13/100\n",
      "49/49 [==============================] - 1s 17ms/step - loss: 0.6883 - f1_macro: 0.4681 - val_loss: 0.6817 - val_f1_macro: 0.3865\n",
      "Epoch 14/100\n",
      "49/49 [==============================] - 1s 17ms/step - loss: 0.6804 - f1_macro: 0.4774 - val_loss: 0.6810 - val_f1_macro: 0.3606\n",
      "Epoch 15/100\n",
      "49/49 [==============================] - 1s 17ms/step - loss: 0.6783 - f1_macro: 0.4946 - val_loss: 0.6735 - val_f1_macro: 0.4406\n",
      "Epoch 16/100\n",
      "49/49 [==============================] - 1s 17ms/step - loss: 0.6764 - f1_macro: 0.5029 - val_loss: 0.6735 - val_f1_macro: 0.5370\n",
      "Epoch 17/100\n",
      "49/49 [==============================] - 1s 17ms/step - loss: 0.6808 - f1_macro: 0.5220 - val_loss: 0.6694 - val_f1_macro: 0.4901\n",
      "Epoch 18/100\n",
      "49/49 [==============================] - 1s 17ms/step - loss: 0.6767 - f1_macro: 0.5174 - val_loss: 0.6648 - val_f1_macro: 0.5874\n",
      "Epoch 19/100\n",
      "49/49 [==============================] - 1s 17ms/step - loss: 0.6757 - f1_macro: 0.5196 - val_loss: 0.6610 - val_f1_macro: 0.5772\n",
      "Epoch 20/100\n",
      "49/49 [==============================] - 1s 17ms/step - loss: 0.6622 - f1_macro: 0.5420 - val_loss: 0.6563 - val_f1_macro: 0.6204\n",
      "Epoch 21/100\n",
      "49/49 [==============================] - 1s 17ms/step - loss: 0.6617 - f1_macro: 0.5650 - val_loss: 0.6501 - val_f1_macro: 0.6106\n",
      "Epoch 22/100\n",
      "49/49 [==============================] - 1s 17ms/step - loss: 0.6562 - f1_macro: 0.5623 - val_loss: 0.6466 - val_f1_macro: 0.6552\n",
      "Epoch 23/100\n",
      "49/49 [==============================] - 1s 17ms/step - loss: 0.6524 - f1_macro: 0.5921 - val_loss: 0.6383 - val_f1_macro: 0.6306\n",
      "Epoch 24/100\n",
      "49/49 [==============================] - 1s 17ms/step - loss: 0.6525 - f1_macro: 0.5794 - val_loss: 0.6374 - val_f1_macro: 0.6653\n",
      "Epoch 25/100\n",
      "49/49 [==============================] - 1s 17ms/step - loss: 0.6411 - f1_macro: 0.6087 - val_loss: 0.6338 - val_f1_macro: 0.6587\n",
      "Epoch 26/100\n",
      "49/49 [==============================] - 1s 17ms/step - loss: 0.6469 - f1_macro: 0.5969 - val_loss: 0.6297 - val_f1_macro: 0.6662\n",
      "Epoch 27/100\n",
      "49/49 [==============================] - 1s 17ms/step - loss: 0.6414 - f1_macro: 0.6072 - val_loss: 0.6249 - val_f1_macro: 0.6705\n",
      "Epoch 28/100\n",
      "49/49 [==============================] - 1s 17ms/step - loss: 0.6332 - f1_macro: 0.6122 - val_loss: 0.6228 - val_f1_macro: 0.6774\n",
      "Epoch 29/100\n",
      "49/49 [==============================] - 1s 17ms/step - loss: 0.6345 - f1_macro: 0.6142 - val_loss: 0.6192 - val_f1_macro: 0.6787\n",
      "Epoch 30/100\n",
      "49/49 [==============================] - 1s 17ms/step - loss: 0.6313 - f1_macro: 0.6310 - val_loss: 0.6119 - val_f1_macro: 0.6712\n",
      "Epoch 31/100\n",
      "49/49 [==============================] - 1s 17ms/step - loss: 0.6145 - f1_macro: 0.6280 - val_loss: 0.6073 - val_f1_macro: 0.6907\n",
      "Epoch 32/100\n",
      "49/49 [==============================] - 1s 17ms/step - loss: 0.6134 - f1_macro: 0.6381 - val_loss: 0.6003 - val_f1_macro: 0.6931\n",
      "Epoch 33/100\n",
      "49/49 [==============================] - 1s 17ms/step - loss: 0.6103 - f1_macro: 0.6342 - val_loss: 0.5973 - val_f1_macro: 0.6865\n",
      "Epoch 34/100\n",
      "49/49 [==============================] - 1s 17ms/step - loss: 0.6068 - f1_macro: 0.6443 - val_loss: 0.5958 - val_f1_macro: 0.6976\n",
      "Epoch 35/100\n",
      "49/49 [==============================] - 1s 17ms/step - loss: 0.6007 - f1_macro: 0.6558 - val_loss: 0.5927 - val_f1_macro: 0.6882\n",
      "Epoch 36/100\n",
      "49/49 [==============================] - 1s 17ms/step - loss: 0.5918 - f1_macro: 0.6600 - val_loss: 0.5890 - val_f1_macro: 0.6921\n",
      "Epoch 37/100\n",
      "49/49 [==============================] - 1s 17ms/step - loss: 0.5914 - f1_macro: 0.6722 - val_loss: 0.5830 - val_f1_macro: 0.6960\n",
      "Epoch 38/100\n",
      "49/49 [==============================] - 1s 17ms/step - loss: 0.5868 - f1_macro: 0.6835 - val_loss: 0.5806 - val_f1_macro: 0.6896\n",
      "Epoch 39/100\n",
      "49/49 [==============================] - 1s 17ms/step - loss: 0.5864 - f1_macro: 0.6671 - val_loss: 0.5820 - val_f1_macro: 0.6764\n",
      "Epoch 40/100\n",
      "49/49 [==============================] - 1s 17ms/step - loss: 0.5854 - f1_macro: 0.6737 - val_loss: 0.5710 - val_f1_macro: 0.6948\n",
      "Epoch 41/100\n",
      "49/49 [==============================] - 1s 17ms/step - loss: 0.5758 - f1_macro: 0.6884 - val_loss: 0.5690 - val_f1_macro: 0.6987\n",
      "Epoch 42/100\n",
      "49/49 [==============================] - 1s 18ms/step - loss: 0.5649 - f1_macro: 0.6942 - val_loss: 0.5661 - val_f1_macro: 0.6938\n",
      "Epoch 43/100\n",
      "49/49 [==============================] - 1s 17ms/step - loss: 0.5700 - f1_macro: 0.6947 - val_loss: 0.5603 - val_f1_macro: 0.6976\n",
      "Epoch 44/100\n",
      "49/49 [==============================] - 1s 18ms/step - loss: 0.5595 - f1_macro: 0.6955 - val_loss: 0.5591 - val_f1_macro: 0.7002\n",
      "Epoch 45/100\n",
      "49/49 [==============================] - 1s 18ms/step - loss: 0.5547 - f1_macro: 0.7048 - val_loss: 0.5563 - val_f1_macro: 0.7000\n",
      "Epoch 46/100\n",
      "49/49 [==============================] - 1s 17ms/step - loss: 0.5574 - f1_macro: 0.6917 - val_loss: 0.5529 - val_f1_macro: 0.7052\n",
      "Epoch 47/100\n",
      "49/49 [==============================] - 1s 17ms/step - loss: 0.5481 - f1_macro: 0.7187 - val_loss: 0.5512 - val_f1_macro: 0.7093\n",
      "Epoch 48/100\n",
      "49/49 [==============================] - 1s 17ms/step - loss: 0.5345 - f1_macro: 0.7174 - val_loss: 0.5487 - val_f1_macro: 0.7039\n",
      "Epoch 49/100\n",
      "49/49 [==============================] - 1s 17ms/step - loss: 0.5335 - f1_macro: 0.7230 - val_loss: 0.5467 - val_f1_macro: 0.7053\n",
      "Epoch 50/100\n",
      "49/49 [==============================] - 1s 17ms/step - loss: 0.5203 - f1_macro: 0.7292 - val_loss: 0.5450 - val_f1_macro: 0.7028\n",
      "Epoch 51/100\n",
      "49/49 [==============================] - 1s 17ms/step - loss: 0.5193 - f1_macro: 0.7297 - val_loss: 0.5449 - val_f1_macro: 0.7013\n",
      "Epoch 52/100\n",
      "49/49 [==============================] - 1s 17ms/step - loss: 0.5088 - f1_macro: 0.7412 - val_loss: 0.5409 - val_f1_macro: 0.7172\n",
      "Epoch 53/100\n",
      "49/49 [==============================] - 1s 17ms/step - loss: 0.5113 - f1_macro: 0.7372 - val_loss: 0.5423 - val_f1_macro: 0.7089\n",
      "Epoch 54/100\n",
      "49/49 [==============================] - 1s 18ms/step - loss: 0.5056 - f1_macro: 0.7453 - val_loss: 0.5390 - val_f1_macro: 0.7068\n",
      "Epoch 55/100\n",
      "49/49 [==============================] - 1s 18ms/step - loss: 0.4965 - f1_macro: 0.7574 - val_loss: 0.5386 - val_f1_macro: 0.7119\n",
      "Epoch 56/100\n",
      "49/49 [==============================] - 1s 18ms/step - loss: 0.4791 - f1_macro: 0.7594 - val_loss: 0.5381 - val_f1_macro: 0.7173\n",
      "Epoch 57/100\n",
      "49/49 [==============================] - 1s 17ms/step - loss: 0.4781 - f1_macro: 0.7662 - val_loss: 0.5388 - val_f1_macro: 0.7092\n",
      "Epoch 58/100\n",
      "49/49 [==============================] - 1s 17ms/step - loss: 0.4697 - f1_macro: 0.7719 - val_loss: 0.5335 - val_f1_macro: 0.7160\n",
      "Epoch 59/100\n",
      "49/49 [==============================] - 1s 17ms/step - loss: 0.4862 - f1_macro: 0.7637 - val_loss: 0.5353 - val_f1_macro: 0.7132\n",
      "Epoch 60/100\n",
      "49/49 [==============================] - 1s 18ms/step - loss: 0.4584 - f1_macro: 0.7789 - val_loss: 0.5388 - val_f1_macro: 0.7106\n",
      "Epoch 61/100\n",
      "49/49 [==============================] - 1s 17ms/step - loss: 0.4534 - f1_macro: 0.7809 - val_loss: 0.5345 - val_f1_macro: 0.7186\n",
      "Epoch 62/100\n",
      "49/49 [==============================] - 1s 17ms/step - loss: 0.4495 - f1_macro: 0.7893 - val_loss: 0.5392 - val_f1_macro: 0.7260\n",
      "Epoch 63/100\n",
      "49/49 [==============================] - 1s 18ms/step - loss: 0.4423 - f1_macro: 0.7887 - val_loss: 0.5346 - val_f1_macro: 0.7120\n",
      "Epoch 64/100\n",
      "49/49 [==============================] - 1s 17ms/step - loss: 0.4349 - f1_macro: 0.7900 - val_loss: 0.5349 - val_f1_macro: 0.7172\n",
      "Epoch 65/100\n",
      "49/49 [==============================] - 1s 17ms/step - loss: 0.4254 - f1_macro: 0.8012 - val_loss: 0.5382 - val_f1_macro: 0.7139\n",
      "Epoch 66/100\n",
      "49/49 [==============================] - 1s 18ms/step - loss: 0.4070 - f1_macro: 0.8137 - val_loss: 0.5387 - val_f1_macro: 0.7144\n",
      "Epoch 67/100\n",
      "49/49 [==============================] - 1s 17ms/step - loss: 0.4181 - f1_macro: 0.7987 - val_loss: 0.5378 - val_f1_macro: 0.7211\n",
      "Epoch 68/100\n",
      "49/49 [==============================] - 1s 18ms/step - loss: 0.4050 - f1_macro: 0.8184 - val_loss: 0.5339 - val_f1_macro: 0.7350\n",
      "Epoch 69/100\n",
      "49/49 [==============================] - 1s 18ms/step - loss: 0.3976 - f1_macro: 0.8187 - val_loss: 0.5388 - val_f1_macro: 0.7186\n",
      "Epoch 70/100\n",
      "49/49 [==============================] - 1s 17ms/step - loss: 0.3911 - f1_macro: 0.8255 - val_loss: 0.5409 - val_f1_macro: 0.7238\n",
      "Epoch 71/100\n",
      "49/49 [==============================] - 1s 17ms/step - loss: 0.3911 - f1_macro: 0.8271 - val_loss: 0.5360 - val_f1_macro: 0.7340\n",
      "Epoch 72/100\n",
      "49/49 [==============================] - 1s 17ms/step - loss: 0.3848 - f1_macro: 0.8221 - val_loss: 0.5452 - val_f1_macro: 0.7078\n",
      "Epoch 73/100\n",
      "49/49 [==============================] - 1s 17ms/step - loss: 0.3762 - f1_macro: 0.8276 - val_loss: 0.5494 - val_f1_macro: 0.7233\n",
      "Epoch 74/100\n",
      "49/49 [==============================] - 1s 18ms/step - loss: 0.3670 - f1_macro: 0.8316 - val_loss: 0.5451 - val_f1_macro: 0.7224\n",
      "Epoch 75/100\n",
      "49/49 [==============================] - 1s 17ms/step - loss: 0.3597 - f1_macro: 0.8430 - val_loss: 0.5532 - val_f1_macro: 0.7110\n",
      "Epoch 76/100\n",
      "49/49 [==============================] - 1s 17ms/step - loss: 0.3541 - f1_macro: 0.8418 - val_loss: 0.5499 - val_f1_macro: 0.7280\n",
      "Epoch 77/100\n",
      "49/49 [==============================] - 1s 18ms/step - loss: 0.3408 - f1_macro: 0.8545 - val_loss: 0.5524 - val_f1_macro: 0.7312\n",
      "Epoch 78/100\n",
      "49/49 [==============================] - 1s 17ms/step - loss: 0.3452 - f1_macro: 0.8432 - val_loss: 0.5523 - val_f1_macro: 0.7294\n",
      "Epoch 79/100\n",
      "49/49 [==============================] - 1s 17ms/step - loss: 0.3288 - f1_macro: 0.8605 - val_loss: 0.5562 - val_f1_macro: 0.7310\n",
      "Epoch 80/100\n",
      "49/49 [==============================] - 1s 17ms/step - loss: 0.3225 - f1_macro: 0.8642 - val_loss: 0.5554 - val_f1_macro: 0.7248\n",
      "Epoch 81/100\n",
      "49/49 [==============================] - 1s 17ms/step - loss: 0.3158 - f1_macro: 0.8611 - val_loss: 0.5646 - val_f1_macro: 0.7322\n",
      "Epoch 82/100\n",
      "49/49 [==============================] - 1s 17ms/step - loss: 0.3016 - f1_macro: 0.8712 - val_loss: 0.5649 - val_f1_macro: 0.7285\n",
      "Epoch 83/100\n",
      "49/49 [==============================] - 1s 17ms/step - loss: 0.3114 - f1_macro: 0.8664 - val_loss: 0.5659 - val_f1_macro: 0.7365\n",
      "Epoch 84/100\n",
      "49/49 [==============================] - 1s 17ms/step - loss: 0.3012 - f1_macro: 0.8685 - val_loss: 0.5681 - val_f1_macro: 0.7314\n",
      "Epoch 85/100\n",
      "49/49 [==============================] - 1s 17ms/step - loss: 0.2908 - f1_macro: 0.8777 - val_loss: 0.5721 - val_f1_macro: 0.7234\n",
      "Epoch 86/100\n",
      "49/49 [==============================] - 1s 17ms/step - loss: 0.2864 - f1_macro: 0.8783 - val_loss: 0.5751 - val_f1_macro: 0.7323\n",
      "Epoch 87/100\n",
      "49/49 [==============================] - 1s 17ms/step - loss: 0.2824 - f1_macro: 0.8887 - val_loss: 0.5779 - val_f1_macro: 0.7427\n",
      "Epoch 88/100\n",
      "49/49 [==============================] - 1s 18ms/step - loss: 0.2789 - f1_macro: 0.8858 - val_loss: 0.5830 - val_f1_macro: 0.7295\n",
      "Epoch 89/100\n",
      "49/49 [==============================] - 1s 17ms/step - loss: 0.2588 - f1_macro: 0.8941 - val_loss: 0.5860 - val_f1_macro: 0.7301\n",
      "Epoch 90/100\n",
      "49/49 [==============================] - 1s 17ms/step - loss: 0.2605 - f1_macro: 0.8965 - val_loss: 0.5883 - val_f1_macro: 0.7230\n",
      "Epoch 91/100\n",
      "49/49 [==============================] - 1s 17ms/step - loss: 0.2472 - f1_macro: 0.9022 - val_loss: 0.5925 - val_f1_macro: 0.7262\n",
      "Epoch 92/100\n",
      "49/49 [==============================] - 1s 17ms/step - loss: 0.2264 - f1_macro: 0.9093 - val_loss: 0.5992 - val_f1_macro: 0.7220\n",
      "Epoch 93/100\n",
      "49/49 [==============================] - 1s 17ms/step - loss: 0.2391 - f1_macro: 0.9076 - val_loss: 0.5955 - val_f1_macro: 0.7285\n",
      "Epoch 94/100\n",
      "49/49 [==============================] - 1s 17ms/step - loss: 0.2321 - f1_macro: 0.9120 - val_loss: 0.6074 - val_f1_macro: 0.7331\n",
      "Epoch 95/100\n",
      "49/49 [==============================] - 1s 17ms/step - loss: 0.2229 - f1_macro: 0.9107 - val_loss: 0.6106 - val_f1_macro: 0.7305\n",
      "Epoch 96/100\n",
      "49/49 [==============================] - 1s 17ms/step - loss: 0.2247 - f1_macro: 0.9119 - val_loss: 0.6177 - val_f1_macro: 0.7270\n",
      "Epoch 97/100\n",
      "49/49 [==============================] - 1s 17ms/step - loss: 0.2056 - f1_macro: 0.9233 - val_loss: 0.6225 - val_f1_macro: 0.7238\n",
      "Epoch 98/100\n",
      "49/49 [==============================] - 1s 17ms/step - loss: 0.2169 - f1_macro: 0.9188 - val_loss: 0.6223 - val_f1_macro: 0.7152\n",
      "Epoch 99/100\n",
      "49/49 [==============================] - 1s 17ms/step - loss: 0.2059 - f1_macro: 0.9197 - val_loss: 0.6267 - val_f1_macro: 0.7285\n",
      "Epoch 100/100\n",
      "49/49 [==============================] - 1s 17ms/step - loss: 0.2065 - f1_macro: 0.9218 - val_loss: 0.6342 - val_f1_macro: 0.7216\n",
      "Restoring model weights from the end of the best epoch.\n"
     ]
    }
   ],
   "source": [
    "input_train = {\"text\": X_train, \"pos\": X_pos_train, \"extra\": X_extra_feature_train}\n",
    "input_val = {\"text\": X_val, \"pos\": X_pos_val, \"extra\": X_extra_feature_val}\n",
    "input_test = {\"text\": X_test_e, \"pos\": X_test_pos_e, \"extra\": X_test_extra_feature}\n",
    "\n",
    "model = kim_cnn_pos((65,128, ), filters = 256, filter_sizes = [2,3,4], dropout = 0.5, hn=64, lr=0.0001, print_model=False)\n",
    "best_callback = ReturnBestEarlyStopping(monitor=\"val_f1_macro\", min_delta=0, patience=100, verbose=1, mode=\"max\", restore_best_weights=True)\n",
    "\n",
    "history = model.fit(input_train, y_train, batch_size=128, epochs=100, validation_data=(input_val, y_val), callbacks=[best_callback], verbose = 1)"
   ]
  },
  {
   "cell_type": "code",
   "execution_count": 47,
   "metadata": {
    "colab": {
     "base_uri": "https://localhost:8080/"
    },
    "id": "kxbA-8GWQBLI",
    "outputId": "ec09613e-0870-4c5c-8cb1-61696fbb519e"
   },
   "outputs": [
    {
     "name": "stdout",
     "output_type": "stream",
     "text": [
      "0.9675634836832896\n",
      "              precision    recall  f1-score   support\n",
      "\n",
      "           0       0.99      0.95      0.97      3426\n",
      "           1       0.94      0.99      0.96      2729\n",
      "\n",
      "    accuracy                           0.97      6155\n",
      "   macro avg       0.97      0.97      0.97      6155\n",
      "weighted avg       0.97      0.97      0.97      6155\n",
      "\n"
     ]
    }
   ],
   "source": [
    "y_train_pred = np.where(model.predict(input_train) >0.5,1,0)\n",
    "print(f1_score(y_train, y_train_pred, average=\"macro\"))\n",
    "print(classification_report(y_train, y_train_pred))"
   ]
  },
  {
   "cell_type": "code",
   "execution_count": 48,
   "metadata": {
    "colab": {
     "base_uri": "https://localhost:8080/"
    },
    "id": "i_lYWwkzP1v4",
    "outputId": "dda071c5-6323-4050-81ad-c845dffff84e"
   },
   "outputs": [
    {
     "name": "stdout",
     "output_type": "stream",
     "text": [
      "0.7391952565376838\n",
      "              precision    recall  f1-score   support\n",
      "\n",
      "           0       0.78      0.73      0.75       369\n",
      "           1       0.70      0.75      0.73       315\n",
      "\n",
      "    accuracy                           0.74       684\n",
      "   macro avg       0.74      0.74      0.74       684\n",
      "weighted avg       0.74      0.74      0.74       684\n",
      "\n"
     ]
    }
   ],
   "source": [
    "y_val_pred = np.where(model.predict(input_val) >0.5,1,0)\n",
    "print(f1_score(y_val, y_val_pred, average=\"macro\"))\n",
    "print(classification_report(y_val, y_val_pred))"
   ]
  },
  {
   "cell_type": "code",
   "execution_count": 52,
   "metadata": {
    "colab": {
     "base_uri": "https://localhost:8080/"
    },
    "id": "xnjMkyLQP4LC",
    "outputId": "ada7e891-473d-47b2-a3f9-cc21d9dfadd7"
   },
   "outputs": [
    {
     "name": "stdout",
     "output_type": "stream",
     "text": [
      "0.7018473500220999\n",
      "              precision    recall  f1-score   support\n",
      "\n",
      "           0       0.81      0.60      0.69       694\n",
      "           1       0.63      0.82      0.71       569\n",
      "\n",
      "    accuracy                           0.70      1263\n",
      "   macro avg       0.72      0.71      0.70      1263\n",
      "weighted avg       0.73      0.70      0.70      1263\n",
      "\n"
     ]
    }
   ],
   "source": [
    "y_test_pred = np.where(model.predict(input_test) >0.5,1,0)\n",
    "print(f1_score(y_test, y_test_pred, average=\"macro\"))\n",
    "print(classification_report(y_test, y_test_pred))"
   ]
  },
  {
   "cell_type": "code",
   "execution_count": 55,
   "metadata": {
    "colab": {
     "base_uri": "https://localhost:8080/",
     "height": 295
    },
    "id": "G_wxJLckV3XQ",
    "outputId": "4a2cb5a6-caf5-4044-ab45-5e415fa08f35"
   },
   "outputs": [
    {
     "data": {
      "image/png": "[encoded data removed]",
      "text/plain": [
       "<Figure size 432x288 with 1 Axes>"
      ]
     },
     "metadata": {
      "needs_background": "light",
      "tags": []
     },
     "output_type": "display_data"
    }
   ],
   "source": [
    "# summarize history for loss\n",
    "plt.plot(history.history['loss'])\n",
    "plt.plot(history.history['val_loss'])\n",
    "plt.title('model loss')\n",
    "plt.ylabel('loss')\n",
    "plt.xlabel('epoch')\n",
    "plt.legend(['train', 'test'], loc='upper left')\n",
    "plt.show()"
   ]
  },
  {
   "cell_type": "code",
   "execution_count": 54,
   "metadata": {
    "colab": {
     "base_uri": "https://localhost:8080/",
     "height": 312
    },
    "id": "s8bfndT5Vwc1",
    "outputId": "3fc1d258-efea-4579-a2e4-12d14e3b17de"
   },
   "outputs": [
    {
     "name": "stdout",
     "output_type": "stream",
     "text": [
      "dict_keys(['loss', 'f1_macro', 'val_loss', 'val_f1_macro'])\n"
     ]
    },
    {
     "data": {
      "image/png": "[encoded data removed]",
      "text/plain": [
       "<Figure size 432x288 with 1 Axes>"
      ]
     },
     "metadata": {
      "needs_background": "light",
      "tags": []
     },
     "output_type": "display_data"
    }
   ],
   "source": [
    "print(history.history.keys())\n",
    "# summarize history for accuracy\n",
    "\n",
    "# summarize history for loss\n",
    "plt.plot(history.history['f1_macro'])\n",
    "plt.plot(history.history['val_f1_macro'])\n",
    "plt.title('model f1_macro')\n",
    "plt.ylabel('f1_macro')\n",
    "plt.xlabel('epoch')\n",
    "plt.legend(['train', 'val'], loc='upper left')\n",
    "plt.show()"
   ]
  },
  {
   "cell_type": "code",
   "execution_count": 51,
   "metadata": {
    "colab": {
     "base_uri": "https://localhost:8080/"
    },
    "id": "rDeHevTm47iM",
    "outputId": "6363ac94-eaa0-46f9-80c5-70be36fff6cc"
   },
   "outputs": [
    {
     "name": "stdout",
     "output_type": "stream",
     "text": [
      "193/193 [==============================] - 1s 6ms/step - loss: 0.1460 - f1_macro: 0.9667\n",
      "[0.1460050642490387, 0.9666727781295776]\n",
      "22/22 [==============================] - 0s 6ms/step - loss: 0.5779 - f1_macro: 0.7354\n",
      "[0.5779207348823547, 0.7354257106781006]\n",
      "40/40 [==============================] - 0s 6ms/step - loss: 0.6306 - f1_macro: 0.6012\n",
      "[0.6306256055831909, 0.6011881232261658]\n"
     ]
    }
   ],
   "source": [
    "print(model.evaluate(input_train, y_train))\n",
    "print(model.evaluate(input_val, y_val))\n",
    "print(model.evaluate(input_test, y_test))"
   ]
  },
  {
   "cell_type": "markdown",
   "metadata": {
    "id": "gpoHM_17nsGx"
   },
   "source": [
    "# ensemble predictions"
   ]
  },
  {
   "cell_type": "code",
   "execution_count": 14,
   "metadata": {
    "id": "Yusc82JxLlCI"
   },
   "outputs": [],
   "source": [
    "from sklearn.model_selection import KFold\n",
    "from sklearn.metrics import accuracy_score"
   ]
  },
  {
   "cell_type": "code",
   "execution_count": 29,
   "metadata": {
    "colab": {
     "base_uri": "https://localhost:8080/"
    },
    "id": "bNJ-dBNaStU_",
    "outputId": "d74f45b1-2a56-4c08-dcfa-5018884da402"
   },
   "outputs": [
    {
     "name": "stdout",
     "output_type": "stream",
     "text": [
      "fold_1\n",
      "0.6884699604842567\n",
      "fold_2\n",
      "0.6800970162902645\n",
      "fold_3\n",
      "0.6804990508898421\n",
      "fold_4\n",
      "0.6906347344301067\n",
      "fold_5\n",
      "0.6883460236886633\n"
     ]
    }
   ],
   "source": [
    "kf = KFold(n_splits=5, shuffle=True)\n",
    "\n",
    "models = []\n",
    "\n",
    "data = {\"text\": X_e, \"pos\": X_pos_e, \"extra\": X_extra_feature, \"target\": y}\n",
    "data_test = {\"text\": X_test_e, \"pos\": X_test_pos_e, \"extra\": X_test_extra_feature, \"target\": y_test}\n",
    "i=1\n",
    "for train_index_fold, val_index_fold in kf.split(data[\"text\"]):\n",
    "        name_fold = \"fold_{}\".format(i)\n",
    "        print(name_fold)\n",
    "        i+=1\n",
    "        \n",
    "        #DATA\n",
    "        X_train = {\"text\": data[\"text\"][train_index_fold], \"pos\": data[\"pos\"][train_index_fold], \"extra\": data[\"extra\"][train_index_fold]}\n",
    "        Y_train = data[\"target\"][train_index_fold]\n",
    "        X_val = {\"text\": data[\"text\"][val_index_fold], \"pos\": data[\"pos\"][val_index_fold], \"extra\": data[\"extra\"][val_index_fold]}\n",
    "        Y_val = data[\"target\"][val_index_fold]\n",
    "\n",
    "        #print(hyper_param)\n",
    "        input_shape = (X_train[\"text\"][0].shape[0], X_train[\"text\"][0].shape[1],)\n",
    "        model = kim_cnn_pos((65,128, ), filters = 256, filter_sizes = [2,3,4], dropout = 0.5, hn=64, lr=0.0001, print_model=False)\n",
    "        best_callback = ReturnBestEarlyStopping(monitor=\"val_loss\", patience=50, verbose=0, mode=\"min\", restore_best_weights=True)\n",
    "        history = model.fit(X_train, Y_train, batch_size=64, epochs=200, validation_data=(X_val, Y_val), callbacks=[best_callback], verbose = 0)\n",
    "        \n",
    "        models.append(model)\n",
    "        X_test = {\"text\": data_test[\"text\"], \"pos\": data_test[\"pos\"], \"extra\": data_test[\"extra\"]}\n",
    "        y_pred = np.where(model.predict(X_test) >0.5,1,0)\n",
    "\n",
    "        print(f1_score(data_test[\"target\"], y_pred, average=\"macro\"))"
   ]
  },
  {
   "cell_type": "code",
   "execution_count": 37,
   "metadata": {
    "id": "PDgupccPUMPY"
   },
   "outputs": [],
   "source": [
    "def ensemble_predictions(members, X):\n",
    "  # make predictions\n",
    "  results = []\n",
    "  yhats = [np.squeeze(np.where(models[0].predict(X) > 0.5, 1,0).reshape(1,-1)) for model in members]\n",
    "  # sum across ensemble members\n",
    "  yhats = np.array(yhats)\n",
    "  print(yhats[:,0])\n",
    "  print(yhats.shape)\n",
    "\n",
    "  for i in range(yhats.shape[1]):\n",
    "    counts = np.bincount(yhats[:,i])\n",
    "    results.append(np.argmax(counts))\n",
    "  # argmax across classes\n",
    "  return results"
   ]
  },
  {
   "cell_type": "code",
   "execution_count": 38,
   "metadata": {
    "colab": {
     "base_uri": "https://localhost:8080/"
    },
    "id": "kv5bzfLMbQaw",
    "outputId": "a8ceadce-ae04-4fbe-b982-49a2a9245179"
   },
   "outputs": [
    {
     "name": "stdout",
     "output_type": "stream",
     "text": [
      "[0 0 0 0 0]\n",
      "(5, 1263)\n",
      "              precision    recall  f1-score   support\n",
      "\n",
      "           0       0.81      0.57      0.67       694\n",
      "           1       0.61      0.83      0.71       569\n",
      "\n",
      "    accuracy                           0.69      1263\n",
      "   macro avg       0.71      0.70      0.69      1263\n",
      "weighted avg       0.72      0.69      0.69      1263\n",
      "\n"
     ]
    }
   ],
   "source": [
    "X_test = {\"text\": data_test[\"text\"], \"pos\": data_test[\"pos\"], \"extra\": data_test[\"extra\"]}\n",
    "y_pred = ensemble_predictions(models, X_test)\n",
    "print(classification_report(y_test,y_pred))\n"
   ]
  },
  {
   "cell_type": "code",
   "execution_count": null,
   "metadata": {
    "id": "sjZoaZNzggCy"
   },
   "outputs": [],
   "source": []
  }
 ],
 "metadata": {
  "accelerator": "GPU",
  "colab": {
   "name": "model_implementation.ipynb",
   "provenance": [],
   "toc_visible": true
  },
  "kernelspec": {
   "display_name": "Python 3",
   "language": "python",
   "name": "python3"
  },
  "language_info": {
   "codemirror_mode": {
    "name": "ipython",
    "version": 3
   },
   "file_extension": ".py",
   "mimetype": "text/x-python",
   "name": "python",
   "nbconvert_exporter": "python",
   "pygments_lexer": "ipython3",
   "version": "3.8.8"
  }
 },
 "nbformat": 4,
 "nbformat_minor": 4
}
