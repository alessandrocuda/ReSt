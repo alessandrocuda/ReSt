{
  "nbformat": 4,
  "nbformat_minor": 0,
  "metadata": {
    "kernelspec": {
      "display_name": "Python 3",
      "language": "python",
      "name": "python3"
    },
    "language_info": {
      "codemirror_mode": {
        "name": "ipython",
        "version": 3
      },
      "file_extension": ".py",
      "mimetype": "text/x-python",
      "name": "python",
      "nbconvert_exporter": "python",
      "pygments_lexer": "ipython3",
      "version": "3.7.8"
    },
    "colab": {
      "name": "model_implementation.ipynb",
      "provenance": []
    },
    "accelerator": "GPU"
  },
  "cells": [
    {
      "cell_type": "code",
      "metadata": {
        "colab": {
          "base_uri": "https://localhost:8080/"
        },
        "id": "mcx-h8sODpMJ",
        "outputId": "ac218673-11dc-4f0f-e977-7079c95e37c1"
      },
      "source": [
        "!rm -rf SaRaH/\n",
        "!git clone https://github.com/alessandrocuda/SaRaH"
      ],
      "execution_count": 1,
      "outputs": [
        {
          "output_type": "stream",
          "text": [
            "Cloning into 'SaRaH'...\n",
            "remote: Enumerating objects: 115, done.\u001b[K\n",
            "remote: Counting objects: 100% (115/115), done.\u001b[K\n",
            "remote: Compressing objects: 100% (93/93), done.\u001b[K\n",
            "remote: Total 327 (delta 52), reused 80 (delta 17), pack-reused 212\u001b[K\n",
            "Receiving objects: 100% (327/327), 103.90 MiB | 30.31 MiB/s, done.\n",
            "Resolving deltas: 100% (147/147), done.\n"
          ],
          "name": "stdout"
        }
      ]
    },
    {
      "cell_type": "code",
      "metadata": {
        "colab": {
          "base_uri": "https://localhost:8080/"
        },
        "id": "foTfySiPDfOl",
        "outputId": "c8b2a4bd-eb49-47dc-821c-99f2df3e715f"
      },
      "source": [
        "import tensorflow as tf\n",
        "import tensorflow_addons as tfa\n",
        "\n",
        "from tensorflow.keras import backend as K\n",
        "\n",
        "#from tensorflow.keras.engine import Layer, InputSpec, InputLayer\n",
        "\n",
        "from tensorflow.keras.models import Model, Sequential\n",
        "\n",
        "from tensorflow.keras.layers import Dropout, Embedding, concatenate\n",
        "from tensorflow.keras.layers import Conv1D, MaxPool1D, Conv2D, MaxPool2D, ZeroPadding1D, GlobalMaxPool1D\n",
        "from tensorflow.keras.layers import Dense, Input, Flatten, BatchNormalization, Activation\n",
        "from tensorflow.keras.layers import Concatenate, Dot, Concatenate, Multiply, RepeatVector\n",
        "from tensorflow.keras.optimizers import Adam\n",
        "from tensorflow.keras.callbacks import ModelCheckpoint,EarlyStopping\n",
        "from tensorflow.keras.regularizers import l2\n",
        "from tensorflow.keras.preprocessing.sequence import pad_sequences\n",
        "from tensorflow.keras.models import load_model\n",
        "\n",
        "from sklearn.model_selection import train_test_split\n",
        "from sklearn.metrics import classification_report, f1_score\n",
        "\n",
        "from gensim.models import KeyedVectors\n",
        "from gensim.models import Word2Vec\n",
        "\n",
        "import pandas as pd\n",
        "import numpy as np\n",
        "import matplotlib.pyplot as plt\n",
        "\n",
        "\n",
        "import sys\n",
        "root_project = \"/content/SaRaH/\"\n",
        "#root_project = \"/Users/Alessandro/Dev/repos/SaRaH/\"\n",
        "#root_project = \"/home/jupyter/SaRaH/\"\n",
        "sys.path.append(root_project)\n",
        "from src.data.utils import load_data, set_unkmark\n",
        "from src.features.word_embedding import get_index_key_association, get_int_seq, build_keras_embedding_matrix, get_data_to_emb\n",
        "\n",
        "%load_ext autoreload\n",
        "%autoreload 2"
      ],
      "execution_count": 17,
      "outputs": [
        {
          "output_type": "stream",
          "text": [
            "The autoreload extension is already loaded. To reload it, use:\n",
            "  %reload_ext autoreload\n"
          ],
          "name": "stdout"
        }
      ]
    },
    {
      "cell_type": "code",
      "metadata": {
        "colab": {
          "base_uri": "https://localhost:8080/"
        },
        "id": "3vVGZwnHDfOo",
        "outputId": "1666a154-9dee-455e-ea0a-2261373dae3e"
      },
      "source": [
        "print(tf.__version__)"
      ],
      "execution_count": 4,
      "outputs": [
        {
          "output_type": "stream",
          "text": [
            "2.4.1\n"
          ],
          "name": "stdout"
        }
      ]
    },
    {
      "cell_type": "markdown",
      "metadata": {
        "id": "_I4VbMeODfOp"
      },
      "source": [
        "# DATA"
      ]
    },
    {
      "cell_type": "code",
      "metadata": {
        "id": "Ru6ViUjTDfOp"
      },
      "source": [
        "dataset_dev_path   = root_project + \"dataset/haspeede2/preprocessed/dev/dev.csv\"\n",
        "dataset_test_tweets_path   = root_project + \"dataset/haspeede2/preprocessed/reference/reference_tweets.csv\"\n",
        "w2v_path       = root_project + \"results/model/word2vec/word2vec.wordvectors\"\n",
        "w2v = KeyedVectors.load(w2v_path)\n",
        "\n",
        "#load dev\n",
        "df_dev = pd.read_csv(dataset_dev_path, sep=',')\n",
        "dataset_dev_dict = load_data(df_dev, True)\n",
        "set_unkmark(dataset_dev_dict[\"tokens\"], w2v)\n",
        "#index_to_key, key_to_index = get_index_key_association(w2v)\n",
        "#dataset[\"int_tokens\"] = get_int_seq(dataset[\"tokens\"], index_to_key)  # for embedding layer\n",
        "X_dev = get_data_to_emb(dataset_dev_dict[\"tokens\"], w2v, 40, True)\n",
        "X_dev_extra = np.array(dataset_dev_dict[\"extra_features\"])\n",
        "y_dev = np.array(dataset_dev_dict[\"target\"])\n",
        "\n",
        "#test tweet\n",
        "df_test_tweet = pd.read_csv(dataset_test_tweets_path, sep=',')\n",
        "dataset_test_tweet_dict = load_data(df_test_tweet, True)\n",
        "set_unkmark(dataset_test_tweet_dict[\"tokens\"], w2v)\n",
        "X_test = get_data_to_emb(dataset_test_tweet_dict[\"tokens\"], w2v, 40, True)\n",
        "X_test_extra = np.array(dataset_test_tweet_dict[\"extra_features\"])\n",
        "y_test = np.array(dataset_test_tweet_dict[\"target\"])"
      ],
      "execution_count": 7,
      "outputs": []
    },
    {
      "cell_type": "code",
      "metadata": {
        "colab": {
          "base_uri": "https://localhost:8080/"
        },
        "id": "RUXOihCQbH-7",
        "outputId": "bb735407-c599-490b-8e1d-7cb309369cd9"
      },
      "source": [
        "print(dataset_dev_dict[\"tokens\"][0])\n",
        "print(X_dev[0].shape)"
      ],
      "execution_count": 6,
      "outputs": [
        {
          "output_type": "stream",
          "text": [
            "['terrorismo', 'mettere', 'stato', 'soggezione', 'persone', 'renderle', 'innocue', 'mentre', 'qualcuno']\n",
            "(40, 128)\n"
          ],
          "name": "stdout"
        }
      ]
    },
    {
      "cell_type": "markdown",
      "metadata": {
        "id": "jVYgKSu8DfOq"
      },
      "source": [
        "## word len distribution"
      ]
    },
    {
      "cell_type": "code",
      "metadata": {
        "colab": {
          "base_uri": "https://localhost:8080/"
        },
        "id": "nJ84dKSbDfOq",
        "outputId": "a3dc37a3-f6bd-4c35-bb45-e4e20d13d676"
      },
      "source": [
        "max_sequence_length = 0\n",
        "for doc in dataset[\"tokens\"]:\n",
        "    if len(doc)>max_sequence_length:\n",
        "        max_sequence_length = len(doc)\n",
        "print(\"max sequence length %s\" % max_sequence_length)\n",
        "\n",
        "x = [len(doc) for doc in dataset[\"tokens\"]]\n",
        "\n",
        "tot_sentece_with = 0\n",
        "more_then = 30\n",
        "for len_sentece in x:\n",
        "    if len_sentece >= more_then:\n",
        "        tot_sentece_with += 1\n",
        "print(\"total sentence with length more then {}: {}\".format(more_then,tot_sentece_with))"
      ],
      "execution_count": 6,
      "outputs": [
        {
          "output_type": "stream",
          "text": [
            "max sequence length 74\n",
            "total sentence with length more then 30: 328\n"
          ],
          "name": "stdout"
        }
      ]
    },
    {
      "cell_type": "code",
      "metadata": {
        "colab": {
          "base_uri": "https://localhost:8080/",
          "height": 441
        },
        "id": "cw_hqNdYDfOr",
        "outputId": "7a64f2c0-b53a-4761-9cff-041831664c1d"
      },
      "source": [
        "fig, axs = plt.subplots(1, 1, sharey=True, tight_layout=True)\n",
        "axs.hist(x, bins=20)"
      ],
      "execution_count": 7,
      "outputs": [
        {
          "output_type": "execute_result",
          "data": {
            "text/plain": [
              "(array([1.290e+02, 1.204e+03, 1.581e+03, 1.472e+03, 7.620e+02, 4.830e+02,\n",
              "        6.050e+02, 3.230e+02, 1.130e+02, 9.200e+01, 3.400e+01, 1.200e+01,\n",
              "        1.200e+01, 8.000e+00, 4.000e+00, 0.000e+00, 1.000e+00, 0.000e+00,\n",
              "        1.000e+00, 1.000e+00]),\n",
              " array([ 1.  ,  4.65,  8.3 , 11.95, 15.6 , 19.25, 22.9 , 26.55, 30.2 ,\n",
              "        33.85, 37.5 , 41.15, 44.8 , 48.45, 52.1 , 55.75, 59.4 , 63.05,\n",
              "        66.7 , 70.35, 74.  ]),\n",
              " <a list of 20 Patch objects>)"
            ]
          },
          "metadata": {
            "tags": []
          },
          "execution_count": 7
        },
        {
          "output_type": "display_data",
          "data": {
            "image/png": "[encoded data removed]",
            "text/plain": [
              "<Figure size 432x288 with 1 Axes>"
            ]
          },
          "metadata": {
            "tags": [],
            "needs_background": "light"
          }
        }
      ]
    },
    {
      "cell_type": "code",
      "metadata": {
        "colab": {
          "base_uri": "https://localhost:8080/"
        },
        "id": "CKOs5x4uDfOr",
        "outputId": "c353d7a7-710d-4188-930a-9880d1ef7539"
      },
      "source": [
        "MAX_TEXT_LEN = 40\n",
        "dataset[\"int_tokens\"] = pad_sequences(dataset[\"int_tokens\"], maxlen=MAX_TEXT_LEN, padding='post', truncating='post')\n",
        "print(dataset[\"tokens\"][0])\n",
        "print(dataset[\"int_tokens\"][0])"
      ],
      "execution_count": 294,
      "outputs": [
        {
          "output_type": "stream",
          "text": [
            "['terrorismo', 'mettere', 'stato', 'soggezione', 'persone', 'renderle', 'innocue', 'mentre', 'qualcuno']\n",
            "[15439  9152 14862 14314 10863 12287  7594  9074 11911     0     0     0\n",
            "     0     0     0     0     0     0     0     0     0     0     0     0\n",
            "     0     0     0     0     0     0     0     0     0     0     0     0\n",
            "     0     0     0     0]\n"
          ],
          "name": "stdout"
        }
      ]
    },
    {
      "cell_type": "markdown",
      "metadata": {
        "id": "cS44mBtlDfOs"
      },
      "source": [
        "# build embedding_matrix "
      ]
    },
    {
      "cell_type": "code",
      "metadata": {
        "colab": {
          "base_uri": "https://localhost:8080/"
        },
        "id": "MM8Oypt9DfOs",
        "outputId": "e1d0dc0a-731e-4b02-ad55-8330d7e2ad70"
      },
      "source": [
        "embedding_matrix, vocab_size = build_keras_embedding_matrix(w2v, key_to_index)"
      ],
      "execution_count": 269,
      "outputs": [
        {
          "output_type": "stream",
          "text": [
            "Vocab_size is 16848\n",
            "Embedding_matrix loaded\n",
            "Shape (16849, 128)\n"
          ],
          "name": "stdout"
        }
      ]
    },
    {
      "cell_type": "code",
      "metadata": {
        "id": "-4t-wXEXDfOt"
      },
      "source": [
        "WORD_EMB_SIZE = 128"
      ],
      "execution_count": 270,
      "outputs": []
    },
    {
      "cell_type": "code",
      "metadata": {
        "colab": {
          "base_uri": "https://localhost:8080/"
        },
        "id": "uX-5sKLzDfOt",
        "outputId": "c92f66a4-3992-4601-9f54-c600e2905f70"
      },
      "source": [
        "# test embedding\n",
        "print(key_to_index[0])\n",
        "print(key_to_index[100])\n",
        "print(index_to_key[key_to_index[0]])\n",
        "print(index_to_key[key_to_index[100]])\n",
        "emb1 = w2v[key_to_index[100]]\n",
        "\n",
        "inp = Input((2,))\n",
        "out = Embedding(vocab_size, 128, input_length=2, weights=[embedding_matrix], trainable=False)(inp)\n",
        "model = Model(inp, out)\n",
        "emb2 = model.predict(np.array([0,100]).reshape((1, 2)))\n",
        "np.array_equal(emb1,emb2[0][1])"
      ],
      "execution_count": 271,
      "outputs": [
        {
          "output_type": "stream",
          "text": [
            "<UNK>\n",
            "abusivamente\n",
            "0\n",
            "100\n"
          ],
          "name": "stdout"
        },
        {
          "output_type": "execute_result",
          "data": {
            "text/plain": [
              "True"
            ]
          },
          "metadata": {
            "tags": []
          },
          "execution_count": 271
        }
      ]
    },
    {
      "cell_type": "markdown",
      "metadata": {
        "id": "nZLD5i2095pp"
      },
      "source": [
        "# split"
      ]
    },
    {
      "cell_type": "code",
      "metadata": {
        "id": "u3Y3BXjJDfOu"
      },
      "source": [
        "X_train, X_val, X_train_extra, X_val_extra, y_train, y_val = train_test_split(X_dev, X_dev_extra , y_dev, test_size=0.15, random_state=42)"
      ],
      "execution_count": 25,
      "outputs": []
    },
    {
      "cell_type": "markdown",
      "metadata": {
        "id": "T5SRBV3K99Mh"
      },
      "source": [
        "# callback"
      ]
    },
    {
      "cell_type": "code",
      "metadata": {
        "id": "cQbbgMnVDfOu"
      },
      "source": [
        "import tensorflow as tf\n",
        "from tensorflow.keras import backend as K\n",
        "from sklearn.metrics import roc_auc_score, f1_score\n",
        "\n",
        "class ROCCallback(tf.keras.callbacks.Callback):\n",
        "  \n",
        "    def __init__(self, validation = (), verbose = 0):\n",
        "        self.validation = validation\n",
        "        self.verbose = verbose\n",
        "\n",
        "    def on_train_begin(self, logs={}):\n",
        "        self.f1 = []\n",
        "        self.val_f1 = []\n",
        "    def on_epoch_end(self, epoch, logs=None):\n",
        "        y_t =  self.validation[1]\n",
        "        y_p =  np.where(self.model.predict(self.validation[0]) > 0.5, 1, 0)\n",
        "        logs['val_f1'] =  f1_score (y_t, y_p, average='macro')\n",
        "        if self.verbose >0:\n",
        "          print(\"— val_f1: {}\".format(logs['val_f1']))\n",
        "\n",
        "class ReturnBestEarlyStopping(EarlyStopping):\n",
        "    def __init__(self, **kwargs):\n",
        "        super(ReturnBestEarlyStopping, self).__init__(**kwargs)\n",
        "\n",
        "    def on_train_end(self, logs=None):\n",
        "        if self.stopped_epoch > 0:\n",
        "            if self.verbose > 0:\n",
        "                print(f'\\nEpoch {self.stopped_epoch + 1}: early stopping')\n",
        "        elif self.restore_best_weights:\n",
        "            if self.verbose > 0:\n",
        "                print('Restoring model weights from the end of the best epoch.')\n",
        "            self.model.set_weights(self.best_weights)\n",
        "\n",
        "input_val   = {\"text\": X_val, \"extra\": X_val2}\n",
        "f1_callback = ROCCallback(validation = (input_val, y_val), verbose=True)                                   \n",
        "best_callback = ReturnBestEarlyStopping(monitor=\"val_f1\",\n",
        "                                        min_delta=0,\n",
        "                                        patience=200,\n",
        "                                        verbose=1,\n",
        "                                        mode=\"max\",\n",
        "                                        baseline=0.72,\n",
        "                                        restore_best_weights=True)"
      ],
      "execution_count": 64,
      "outputs": []
    },
    {
      "cell_type": "markdown",
      "metadata": {
        "id": "8_O2PADdMr8m"
      },
      "source": [
        "# model 1"
      ]
    },
    {
      "cell_type": "code",
      "metadata": {
        "id": "1XYR51KuDfOv"
      },
      "source": [
        "def build_model(print_model=False):\n",
        "  \"\"\" HyperParameters \"\"\"\n",
        "  FILTERS = 256\n",
        "  pooling_units = 10\n",
        "  output_dims = 1\n",
        "  hidden_dims= 1\n",
        "\n",
        "  text_seq_input = Input(shape=(40,128,), name=\"text\")\n",
        "  #text_embedding = Embedding(vocab_size, WORD_EMB_SIZE, input_length=MAX_TEXT_LEN,\n",
        "  #                            weights=[embedding_matrix], trainable=False)(text_seq_input)\n",
        "  extra_feature = Input(shape=(5,), name = \"extra\")\n",
        "\n",
        "  #text_embedding = Embedding(vocab_size, WORD_EMB_SIZE, input_length=MAX_TEXT_LEN,\n",
        "  #                            weights=[embedding_matrix], trainable=False)(text_seq_input)\n",
        "  #text_dropout = Dropout(0.25)(text_embedding)\n",
        "\n",
        "  filter_sizes = [2,3,4]\n",
        "  convs = []\n",
        "  for filter_size in filter_sizes:\n",
        "      l_conv = Conv1D(filters=FILTERS, kernel_size=filter_size, activation='relu')(text_seq_input)\n",
        "      POOL_SIZE = l_conv.get_shape()[-2] // pooling_units\n",
        "      l_pool = MaxPool1D(pool_size=POOL_SIZE, strides =3, padding='valid')(l_conv)   #Dynamic pooling\n",
        "      #l_conv = Conv1D(filters=64, kernel_size=filter_size, activation='relu')(l_pool)\n",
        "      #POOL_SIZE = l_conv.get_shape()[-2] // pooling_units\n",
        "      #l_pool = MaxPool1D(pool_size=POOL_SIZE, strides =1, padding='valid')(l_conv)   #Dynamic pooling\n",
        "      convs.append(l_pool)\n",
        "\n",
        "  l_merge = Concatenate(axis=1)(convs)\n",
        "  l_cov1= Conv1D(110, 5, activation='relu')(l_merge)\n",
        "  # since the text is too long we are maxooling over 100\n",
        "  # and not GlobalMaxPool1D\n",
        "  l_pool1 = MaxPool1D(10)(l_cov1)\n",
        "  l_flat = Flatten()(l_pool1)\n",
        "  l_flat = Concatenate(axis=1)([l_flat, extra_feature])\n",
        "  l_hidden = Dense(128, activation='relu', kernel_regularizer=tf.keras.regularizers.l2(0.007))(l_flat)\n",
        "  l_hidden = Dense(64, activation='relu',  kernel_regularizer=tf.keras.regularizers.l2(0.007))(l_hidden)\n",
        "  l_out = Dense(1, activation='sigmoid')(l_hidden)  #dims output\n",
        "  model_cnn = Model(inputs=[text_seq_input, extra_feature], outputs=l_out)\n",
        "  if print_model:\n",
        "    model_cnn.summary()\n",
        "    tf.keras.utils.plot_model(model_cnn, \"my_first_model.png\", show_shapes=True)\n",
        "  return model_cnn\n"
      ],
      "execution_count": 9,
      "outputs": []
    },
    {
      "cell_type": "markdown",
      "metadata": {
        "id": "AlsEdaszMt-U"
      },
      "source": [
        "# model 2"
      ]
    },
    {
      "cell_type": "code",
      "metadata": {
        "id": "9pBEgvL1MwBz"
      },
      "source": [
        "\"\"\" HyperParameters \"\"\"\n",
        "FILTERS = 256\n",
        "pooling_units = 10\n",
        "output_dims = 1\n",
        "hidden_dims= 1\n",
        "\n",
        "text_seq_input = Input(shape=(40,128,), name=\"text\")\n",
        "extra_feature = Input(shape=(5,), name = \"extra\")\n",
        "\n",
        "#text_embedding = Embedding(vocab_size, WORD_EMB_SIZE, input_length=MAX_TEXT_LEN,\n",
        "#                            weights=[embedding_matrix], trainable=False)(text_seq_input)\n",
        "#text_dropout = Dropout(0.25)(text_embedding)\n",
        "\n",
        "filter_sizes = [1,2,3]\n",
        "convs = []\n",
        "for filter_size in filter_sizes:\n",
        "    l_conv = Conv1D(filters=FILTERS, kernel_size=filter_size, activation='relu')(text_seq_input)\n",
        "    POOL_SIZE = l_conv.get_shape()[-2] // pooling_units\n",
        "    l_pool = MaxPool1D(pool_size=POOL_SIZE, strides =3, padding='valid')(l_conv)   #Dynamic pooling\n",
        "    l_conv = Conv1D(filters=64, kernel_size=filter_size, activation='relu')(l_pool)\n",
        "    POOL_SIZE = l_conv.get_shape()[-2] // pooling_units\n",
        "    l_pool = MaxPool1D(pool_size=POOL_SIZE, strides =1, padding='valid')(l_conv)   #Dynamic pooling\n",
        "    convs.append(l_pool)\n",
        "\n",
        "l_merge = Concatenate(axis=1)(convs)\n",
        "l_global_pool = GlobalMaxPool1D()(l_merge)\n",
        "l_cov1= Conv1D(32, 10, activation='relu', kernel_regularizer=tf.keras.regularizers.l2(0.015))(l_merge)\n",
        "# since the text is too long we are maxooling over 100\n",
        "# and not GlobalMaxPool1D\n",
        "l_pool1 = MaxPool1D(3)(l_cov1)\n",
        "l_flat = Flatten()(l_pool1)\n",
        "l_flat = Concatenate(axis=1)([l_flat,l_global_pool, extra_feature])\n",
        "l_hidden = Dense(512, activation='relu', kernel_regularizer=tf.keras.regularizers.l2(0.015))(l_flat)\n",
        "l_hidden = Dense(256, activation='relu',  kernel_regularizer=tf.keras.regularizers.l2(0.015))(l_hidden)\n",
        "l_hidden = Dense(128, activation='relu',  kernel_regularizer=tf.keras.regularizers.l2(0.015))(l_hidden)\n",
        "l_out = Dense(1, activation='sigmoid')(l_hidden)  #dims output\n",
        "model_cnn = Model(inputs=[text_seq_input, extra_feature], outputs=l_out)\n",
        "model_cnn.summary()\n",
        "tf.keras.utils.plot_model(model_cnn, \"my_first_model.png\", show_shapes=True)\n"
      ],
      "execution_count": null,
      "outputs": []
    },
    {
      "cell_type": "markdown",
      "metadata": {
        "id": "B-RtVYAHM6ii"
      },
      "source": [
        "# train"
      ]
    },
    {
      "cell_type": "code",
      "metadata": {
        "colab": {
          "base_uri": "https://localhost:8080/"
        },
        "id": "oAeKX-jSI7v7",
        "outputId": "19ebe502-2887-40c0-dc1e-b5bf1fc6de41"
      },
      "source": [
        "model_cnn = build_model(True)"
      ],
      "execution_count": 26,
      "outputs": [
        {
          "output_type": "stream",
          "text": [
            "Model: \"model_1\"\n",
            "__________________________________________________________________________________________________\n",
            "Layer (type)                    Output Shape         Param #     Connected to                     \n",
            "==================================================================================================\n",
            "text (InputLayer)               [(None, 40, 128)]    0                                            \n",
            "__________________________________________________________________________________________________\n",
            "conv1d_4 (Conv1D)               (None, 39, 256)      65792       text[0][0]                       \n",
            "__________________________________________________________________________________________________\n",
            "conv1d_5 (Conv1D)               (None, 38, 256)      98560       text[0][0]                       \n",
            "__________________________________________________________________________________________________\n",
            "conv1d_6 (Conv1D)               (None, 37, 256)      131328      text[0][0]                       \n",
            "__________________________________________________________________________________________________\n",
            "max_pooling1d_4 (MaxPooling1D)  (None, 13, 256)      0           conv1d_4[0][0]                   \n",
            "__________________________________________________________________________________________________\n",
            "max_pooling1d_5 (MaxPooling1D)  (None, 12, 256)      0           conv1d_5[0][0]                   \n",
            "__________________________________________________________________________________________________\n",
            "max_pooling1d_6 (MaxPooling1D)  (None, 12, 256)      0           conv1d_6[0][0]                   \n",
            "__________________________________________________________________________________________________\n",
            "concatenate_2 (Concatenate)     (None, 37, 256)      0           max_pooling1d_4[0][0]            \n",
            "                                                                 max_pooling1d_5[0][0]            \n",
            "                                                                 max_pooling1d_6[0][0]            \n",
            "__________________________________________________________________________________________________\n",
            "conv1d_7 (Conv1D)               (None, 33, 110)      140910      concatenate_2[0][0]              \n",
            "__________________________________________________________________________________________________\n",
            "max_pooling1d_7 (MaxPooling1D)  (None, 3, 110)       0           conv1d_7[0][0]                   \n",
            "__________________________________________________________________________________________________\n",
            "flatten_1 (Flatten)             (None, 330)          0           max_pooling1d_7[0][0]            \n",
            "__________________________________________________________________________________________________\n",
            "extra (InputLayer)              [(None, 5)]          0                                            \n",
            "__________________________________________________________________________________________________\n",
            "concatenate_3 (Concatenate)     (None, 335)          0           flatten_1[0][0]                  \n",
            "                                                                 extra[0][0]                      \n",
            "__________________________________________________________________________________________________\n",
            "dense_3 (Dense)                 (None, 128)          43008       concatenate_3[0][0]              \n",
            "__________________________________________________________________________________________________\n",
            "dense_4 (Dense)                 (None, 64)           8256        dense_3[0][0]                    \n",
            "__________________________________________________________________________________________________\n",
            "dense_5 (Dense)                 (None, 1)            65          dense_4[0][0]                    \n",
            "==================================================================================================\n",
            "Total params: 487,919\n",
            "Trainable params: 487,919\n",
            "Non-trainable params: 0\n",
            "__________________________________________________________________________________________________\n"
          ],
          "name": "stdout"
        }
      ]
    },
    {
      "cell_type": "code",
      "metadata": {
        "id": "mognZ4ph34PB"
      },
      "source": [
        "def binary_macro_f1(y_true, y_pred):\n",
        "    tp = K.sum(y_true * K.round(y_pred))\n",
        "    tn = K.sum((K.round(y_pred) - 1) * (y_true - 1))\n",
        "    fp = K.sum(y_true * (1. - K.round(y_pred)))\n",
        "    fn = K.sum((1. - y_true) * K.round(y_pred))\n",
        "\n",
        "    precision_1 = tp / (tp +fp + K.epsilon())\n",
        "    recall_1 = tp / (tp +fn + K.epsilon())\n",
        "    f1_val_1 = 2*(precision_1*recall_1)/(precision_1+recall_1+K.epsilon())\n",
        "    \n",
        "    precision_0 = tn / (tn +fn + K.epsilon())\n",
        "    recall_0 = tn / (tn +fp + K.epsilon())\n",
        "    f1_val_0 = 2*(precision_0*recall_0)/(precision_0+recall_0+K.epsilon())\n",
        "    macro_f1 = (f1_val_0 + f1_val_1) / 2\n",
        "\n",
        "    return macro_f1\n",
        "\n",
        "def f1_sklean_mapping_macro(y_true, y_pred):\n",
        "    return f1_score(y_true, y_pred, average=\"macro\")\n",
        "\n",
        "def f1_macro(y_true, y_pred):\n",
        "    return tf.py_function(f1_sklean_mapping_macro, (y_true, K.round(y_pred)), tf.double)\n"
      ],
      "execution_count": 18,
      "outputs": []
    },
    {
      "cell_type": "code",
      "metadata": {
        "colab": {
          "base_uri": "https://localhost:8080/"
        },
        "id": "J2L2BLXXIv0Z",
        "outputId": "eb995e20-c27a-478e-e912-93de70783aab"
      },
      "source": [
        "model_cnn.compile(\n",
        "    loss=tf.keras.losses.BinaryCrossentropy(),\n",
        "    #optimizer=tf.keras.optimizers.Adam(learning_rate=0.007, amsgrad=True),\n",
        "    optimizer = tf.keras.optimizers.SGD(learning_rate=0.01, momentum=0.1, nesterov=True),\n",
        "    metrics=[f1_macro]\n",
        ")\n",
        "mc = ModelCheckpoint('best_model.h5', monitor='val_f1_macro', mode='max', save_best_only=True, verbose=1)\n",
        "es = EarlyStopping(monitor=\"val_f1_macro\", min_delta=0, patience=200, verbose=1, mode=\"max\", restore_best_weights=False)\n",
        "\n",
        "input_train = {\"text\": X_train, \"extra\": X_train_extra}\n",
        "input_val   = {\"text\": X_val, \"extra\": X_val_extra}\n",
        "history = model_cnn.fit(input_train, y_train, batch_size=128, epochs=200, validation_data=(input_val, y_val), callbacks=[es, mc], verbose = 0)\n",
        "model_cnn = load_model('best_model.h5', custom_objects={'f1_macro': f1_macro})"
      ],
      "execution_count": 27,
      "outputs": [
        {
          "output_type": "stream",
          "text": [
            "\n",
            "Epoch 00001: val_f1_macro improved from -inf to 0.34178, saving model to best_model.h5\n",
            "\n",
            "Epoch 00002: val_f1_macro improved from 0.34178 to 0.47838, saving model to best_model.h5\n",
            "\n",
            "Epoch 00003: val_f1_macro improved from 0.47838 to 0.49650, saving model to best_model.h5\n",
            "\n",
            "Epoch 00004: val_f1_macro improved from 0.49650 to 0.49975, saving model to best_model.h5\n",
            "\n",
            "Epoch 00005: val_f1_macro did not improve from 0.49975\n",
            "\n",
            "Epoch 00006: val_f1_macro did not improve from 0.49975\n",
            "\n",
            "Epoch 00007: val_f1_macro improved from 0.49975 to 0.50520, saving model to best_model.h5\n",
            "\n",
            "Epoch 00008: val_f1_macro did not improve from 0.50520\n",
            "\n",
            "Epoch 00009: val_f1_macro improved from 0.50520 to 0.52602, saving model to best_model.h5\n",
            "\n",
            "Epoch 00010: val_f1_macro did not improve from 0.52602\n",
            "\n",
            "Epoch 00011: val_f1_macro improved from 0.52602 to 0.61683, saving model to best_model.h5\n",
            "\n",
            "Epoch 00012: val_f1_macro did not improve from 0.61683\n",
            "\n",
            "Epoch 00013: val_f1_macro did not improve from 0.61683\n",
            "\n",
            "Epoch 00014: val_f1_macro did not improve from 0.61683\n",
            "\n",
            "Epoch 00015: val_f1_macro did not improve from 0.61683\n",
            "\n",
            "Epoch 00016: val_f1_macro did not improve from 0.61683\n",
            "\n",
            "Epoch 00017: val_f1_macro did not improve from 0.61683\n",
            "\n",
            "Epoch 00018: val_f1_macro did not improve from 0.61683\n",
            "\n",
            "Epoch 00019: val_f1_macro did not improve from 0.61683\n",
            "\n",
            "Epoch 00020: val_f1_macro did not improve from 0.61683\n",
            "\n",
            "Epoch 00021: val_f1_macro did not improve from 0.61683\n",
            "\n",
            "Epoch 00022: val_f1_macro did not improve from 0.61683\n",
            "\n",
            "Epoch 00023: val_f1_macro did not improve from 0.61683\n",
            "\n",
            "Epoch 00024: val_f1_macro improved from 0.61683 to 0.63420, saving model to best_model.h5\n",
            "\n",
            "Epoch 00025: val_f1_macro did not improve from 0.63420\n",
            "\n",
            "Epoch 00026: val_f1_macro did not improve from 0.63420\n",
            "\n",
            "Epoch 00027: val_f1_macro improved from 0.63420 to 0.64760, saving model to best_model.h5\n",
            "\n",
            "Epoch 00028: val_f1_macro did not improve from 0.64760\n",
            "\n",
            "Epoch 00029: val_f1_macro did not improve from 0.64760\n",
            "\n",
            "Epoch 00030: val_f1_macro did not improve from 0.64760\n",
            "\n",
            "Epoch 00031: val_f1_macro did not improve from 0.64760\n",
            "\n",
            "Epoch 00032: val_f1_macro did not improve from 0.64760\n",
            "\n",
            "Epoch 00033: val_f1_macro did not improve from 0.64760\n",
            "\n",
            "Epoch 00034: val_f1_macro improved from 0.64760 to 0.66740, saving model to best_model.h5\n",
            "\n",
            "Epoch 00035: val_f1_macro did not improve from 0.66740\n",
            "\n",
            "Epoch 00036: val_f1_macro did not improve from 0.66740\n",
            "\n",
            "Epoch 00037: val_f1_macro did not improve from 0.66740\n",
            "\n",
            "Epoch 00038: val_f1_macro did not improve from 0.66740\n",
            "\n",
            "Epoch 00039: val_f1_macro did not improve from 0.66740\n",
            "\n",
            "Epoch 00040: val_f1_macro did not improve from 0.66740\n",
            "\n",
            "Epoch 00041: val_f1_macro did not improve from 0.66740\n",
            "\n",
            "Epoch 00042: val_f1_macro did not improve from 0.66740\n",
            "\n",
            "Epoch 00043: val_f1_macro did not improve from 0.66740\n",
            "\n",
            "Epoch 00044: val_f1_macro did not improve from 0.66740\n",
            "\n",
            "Epoch 00045: val_f1_macro did not improve from 0.66740\n",
            "\n",
            "Epoch 00046: val_f1_macro did not improve from 0.66740\n",
            "\n",
            "Epoch 00047: val_f1_macro did not improve from 0.66740\n",
            "\n",
            "Epoch 00048: val_f1_macro did not improve from 0.66740\n",
            "\n",
            "Epoch 00049: val_f1_macro did not improve from 0.66740\n",
            "\n",
            "Epoch 00050: val_f1_macro did not improve from 0.66740\n",
            "\n",
            "Epoch 00051: val_f1_macro did not improve from 0.66740\n",
            "\n",
            "Epoch 00052: val_f1_macro did not improve from 0.66740\n",
            "\n",
            "Epoch 00053: val_f1_macro improved from 0.66740 to 0.67338, saving model to best_model.h5\n",
            "\n",
            "Epoch 00054: val_f1_macro did not improve from 0.67338\n",
            "\n",
            "Epoch 00055: val_f1_macro did not improve from 0.67338\n",
            "\n",
            "Epoch 00056: val_f1_macro did not improve from 0.67338\n",
            "\n",
            "Epoch 00057: val_f1_macro did not improve from 0.67338\n",
            "\n",
            "Epoch 00058: val_f1_macro improved from 0.67338 to 0.71110, saving model to best_model.h5\n",
            "\n",
            "Epoch 00059: val_f1_macro did not improve from 0.71110\n",
            "\n",
            "Epoch 00060: val_f1_macro did not improve from 0.71110\n",
            "\n",
            "Epoch 00061: val_f1_macro did not improve from 0.71110\n",
            "\n",
            "Epoch 00062: val_f1_macro did not improve from 0.71110\n",
            "\n",
            "Epoch 00063: val_f1_macro did not improve from 0.71110\n",
            "\n",
            "Epoch 00064: val_f1_macro did not improve from 0.71110\n",
            "\n",
            "Epoch 00065: val_f1_macro did not improve from 0.71110\n",
            "\n",
            "Epoch 00066: val_f1_macro did not improve from 0.71110\n",
            "\n",
            "Epoch 00067: val_f1_macro did not improve from 0.71110\n",
            "\n",
            "Epoch 00068: val_f1_macro did not improve from 0.71110\n",
            "\n",
            "Epoch 00069: val_f1_macro did not improve from 0.71110\n",
            "\n",
            "Epoch 00070: val_f1_macro did not improve from 0.71110\n",
            "\n",
            "Epoch 00071: val_f1_macro did not improve from 0.71110\n",
            "\n",
            "Epoch 00072: val_f1_macro did not improve from 0.71110\n",
            "\n",
            "Epoch 00073: val_f1_macro did not improve from 0.71110\n",
            "\n",
            "Epoch 00074: val_f1_macro did not improve from 0.71110\n",
            "\n",
            "Epoch 00075: val_f1_macro did not improve from 0.71110\n",
            "\n",
            "Epoch 00076: val_f1_macro did not improve from 0.71110\n",
            "\n",
            "Epoch 00077: val_f1_macro did not improve from 0.71110\n",
            "\n",
            "Epoch 00078: val_f1_macro did not improve from 0.71110\n",
            "\n",
            "Epoch 00079: val_f1_macro did not improve from 0.71110\n",
            "\n",
            "Epoch 00080: val_f1_macro did not improve from 0.71110\n",
            "\n",
            "Epoch 00081: val_f1_macro did not improve from 0.71110\n",
            "\n",
            "Epoch 00082: val_f1_macro did not improve from 0.71110\n",
            "\n",
            "Epoch 00083: val_f1_macro did not improve from 0.71110\n",
            "\n",
            "Epoch 00084: val_f1_macro did not improve from 0.71110\n",
            "\n",
            "Epoch 00085: val_f1_macro did not improve from 0.71110\n",
            "\n",
            "Epoch 00086: val_f1_macro improved from 0.71110 to 0.71402, saving model to best_model.h5\n",
            "\n",
            "Epoch 00087: val_f1_macro did not improve from 0.71402\n",
            "\n",
            "Epoch 00088: val_f1_macro did not improve from 0.71402\n",
            "\n",
            "Epoch 00089: val_f1_macro did not improve from 0.71402\n",
            "\n",
            "Epoch 00090: val_f1_macro did not improve from 0.71402\n",
            "\n",
            "Epoch 00091: val_f1_macro did not improve from 0.71402\n",
            "\n",
            "Epoch 00092: val_f1_macro did not improve from 0.71402\n",
            "\n",
            "Epoch 00093: val_f1_macro did not improve from 0.71402\n",
            "\n",
            "Epoch 00094: val_f1_macro improved from 0.71402 to 0.72022, saving model to best_model.h5\n",
            "\n",
            "Epoch 00095: val_f1_macro did not improve from 0.72022\n",
            "\n",
            "Epoch 00096: val_f1_macro did not improve from 0.72022\n",
            "\n",
            "Epoch 00097: val_f1_macro did not improve from 0.72022\n",
            "\n",
            "Epoch 00098: val_f1_macro did not improve from 0.72022\n",
            "\n",
            "Epoch 00099: val_f1_macro did not improve from 0.72022\n",
            "\n",
            "Epoch 00100: val_f1_macro did not improve from 0.72022\n",
            "\n",
            "Epoch 00101: val_f1_macro improved from 0.72022 to 0.72801, saving model to best_model.h5\n",
            "\n",
            "Epoch 00102: val_f1_macro did not improve from 0.72801\n",
            "\n",
            "Epoch 00103: val_f1_macro did not improve from 0.72801\n",
            "\n",
            "Epoch 00104: val_f1_macro did not improve from 0.72801\n",
            "\n",
            "Epoch 00105: val_f1_macro did not improve from 0.72801\n",
            "\n",
            "Epoch 00106: val_f1_macro did not improve from 0.72801\n",
            "\n",
            "Epoch 00107: val_f1_macro did not improve from 0.72801\n",
            "\n",
            "Epoch 00108: val_f1_macro did not improve from 0.72801\n",
            "\n",
            "Epoch 00109: val_f1_macro did not improve from 0.72801\n",
            "\n",
            "Epoch 00110: val_f1_macro did not improve from 0.72801\n",
            "\n",
            "Epoch 00111: val_f1_macro improved from 0.72801 to 0.73451, saving model to best_model.h5\n",
            "\n",
            "Epoch 00112: val_f1_macro did not improve from 0.73451\n",
            "\n",
            "Epoch 00113: val_f1_macro did not improve from 0.73451\n",
            "\n",
            "Epoch 00114: val_f1_macro did not improve from 0.73451\n",
            "\n",
            "Epoch 00115: val_f1_macro did not improve from 0.73451\n",
            "\n",
            "Epoch 00116: val_f1_macro did not improve from 0.73451\n",
            "\n",
            "Epoch 00117: val_f1_macro did not improve from 0.73451\n",
            "\n",
            "Epoch 00118: val_f1_macro did not improve from 0.73451\n",
            "\n",
            "Epoch 00119: val_f1_macro did not improve from 0.73451\n",
            "\n",
            "Epoch 00120: val_f1_macro did not improve from 0.73451\n",
            "\n",
            "Epoch 00121: val_f1_macro did not improve from 0.73451\n",
            "\n",
            "Epoch 00122: val_f1_macro did not improve from 0.73451\n",
            "\n",
            "Epoch 00123: val_f1_macro did not improve from 0.73451\n",
            "\n",
            "Epoch 00124: val_f1_macro did not improve from 0.73451\n",
            "\n",
            "Epoch 00125: val_f1_macro did not improve from 0.73451\n",
            "\n",
            "Epoch 00126: val_f1_macro did not improve from 0.73451\n",
            "\n",
            "Epoch 00127: val_f1_macro did not improve from 0.73451\n",
            "\n",
            "Epoch 00128: val_f1_macro did not improve from 0.73451\n",
            "\n",
            "Epoch 00129: val_f1_macro did not improve from 0.73451\n",
            "\n",
            "Epoch 00130: val_f1_macro did not improve from 0.73451\n",
            "\n",
            "Epoch 00131: val_f1_macro did not improve from 0.73451\n",
            "\n",
            "Epoch 00132: val_f1_macro did not improve from 0.73451\n",
            "\n",
            "Epoch 00133: val_f1_macro did not improve from 0.73451\n",
            "\n",
            "Epoch 00134: val_f1_macro did not improve from 0.73451\n",
            "\n",
            "Epoch 00135: val_f1_macro did not improve from 0.73451\n",
            "\n",
            "Epoch 00136: val_f1_macro did not improve from 0.73451\n",
            "\n",
            "Epoch 00137: val_f1_macro did not improve from 0.73451\n",
            "\n",
            "Epoch 00138: val_f1_macro did not improve from 0.73451\n",
            "\n",
            "Epoch 00139: val_f1_macro did not improve from 0.73451\n",
            "\n",
            "Epoch 00140: val_f1_macro did not improve from 0.73451\n",
            "\n",
            "Epoch 00141: val_f1_macro did not improve from 0.73451\n",
            "\n",
            "Epoch 00142: val_f1_macro did not improve from 0.73451\n",
            "\n",
            "Epoch 00143: val_f1_macro did not improve from 0.73451\n",
            "\n",
            "Epoch 00144: val_f1_macro did not improve from 0.73451\n",
            "\n",
            "Epoch 00145: val_f1_macro did not improve from 0.73451\n",
            "\n",
            "Epoch 00146: val_f1_macro did not improve from 0.73451\n",
            "\n",
            "Epoch 00147: val_f1_macro did not improve from 0.73451\n",
            "\n",
            "Epoch 00148: val_f1_macro did not improve from 0.73451\n",
            "\n",
            "Epoch 00149: val_f1_macro did not improve from 0.73451\n",
            "\n",
            "Epoch 00150: val_f1_macro did not improve from 0.73451\n",
            "\n",
            "Epoch 00151: val_f1_macro did not improve from 0.73451\n",
            "\n",
            "Epoch 00152: val_f1_macro did not improve from 0.73451\n",
            "\n",
            "Epoch 00153: val_f1_macro did not improve from 0.73451\n",
            "\n",
            "Epoch 00154: val_f1_macro did not improve from 0.73451\n",
            "\n",
            "Epoch 00155: val_f1_macro did not improve from 0.73451\n",
            "\n",
            "Epoch 00156: val_f1_macro did not improve from 0.73451\n",
            "\n",
            "Epoch 00157: val_f1_macro did not improve from 0.73451\n",
            "\n",
            "Epoch 00158: val_f1_macro did not improve from 0.73451\n",
            "\n",
            "Epoch 00159: val_f1_macro did not improve from 0.73451\n",
            "\n",
            "Epoch 00160: val_f1_macro did not improve from 0.73451\n",
            "\n",
            "Epoch 00161: val_f1_macro did not improve from 0.73451\n",
            "\n",
            "Epoch 00162: val_f1_macro did not improve from 0.73451\n",
            "\n",
            "Epoch 00163: val_f1_macro did not improve from 0.73451\n",
            "\n",
            "Epoch 00164: val_f1_macro did not improve from 0.73451\n",
            "\n",
            "Epoch 00165: val_f1_macro did not improve from 0.73451\n",
            "\n",
            "Epoch 00166: val_f1_macro did not improve from 0.73451\n",
            "\n",
            "Epoch 00167: val_f1_macro did not improve from 0.73451\n",
            "\n",
            "Epoch 00168: val_f1_macro did not improve from 0.73451\n",
            "\n",
            "Epoch 00169: val_f1_macro did not improve from 0.73451\n",
            "\n",
            "Epoch 00170: val_f1_macro did not improve from 0.73451\n",
            "\n",
            "Epoch 00171: val_f1_macro did not improve from 0.73451\n",
            "\n",
            "Epoch 00172: val_f1_macro did not improve from 0.73451\n",
            "\n",
            "Epoch 00173: val_f1_macro did not improve from 0.73451\n",
            "\n",
            "Epoch 00174: val_f1_macro did not improve from 0.73451\n",
            "\n",
            "Epoch 00175: val_f1_macro did not improve from 0.73451\n",
            "\n",
            "Epoch 00176: val_f1_macro did not improve from 0.73451\n",
            "\n",
            "Epoch 00177: val_f1_macro did not improve from 0.73451\n",
            "\n",
            "Epoch 00178: val_f1_macro did not improve from 0.73451\n",
            "\n",
            "Epoch 00179: val_f1_macro did not improve from 0.73451\n",
            "\n",
            "Epoch 00180: val_f1_macro did not improve from 0.73451\n",
            "\n",
            "Epoch 00181: val_f1_macro did not improve from 0.73451\n",
            "\n",
            "Epoch 00182: val_f1_macro did not improve from 0.73451\n",
            "\n",
            "Epoch 00183: val_f1_macro did not improve from 0.73451\n",
            "\n",
            "Epoch 00184: val_f1_macro did not improve from 0.73451\n",
            "\n",
            "Epoch 00185: val_f1_macro did not improve from 0.73451\n",
            "\n",
            "Epoch 00186: val_f1_macro did not improve from 0.73451\n",
            "\n",
            "Epoch 00187: val_f1_macro did not improve from 0.73451\n",
            "\n",
            "Epoch 00188: val_f1_macro did not improve from 0.73451\n",
            "\n",
            "Epoch 00189: val_f1_macro did not improve from 0.73451\n",
            "\n",
            "Epoch 00190: val_f1_macro did not improve from 0.73451\n",
            "\n",
            "Epoch 00191: val_f1_macro did not improve from 0.73451\n",
            "\n",
            "Epoch 00192: val_f1_macro did not improve from 0.73451\n",
            "\n",
            "Epoch 00193: val_f1_macro did not improve from 0.73451\n",
            "\n",
            "Epoch 00194: val_f1_macro improved from 0.73451 to 0.73503, saving model to best_model.h5\n",
            "\n",
            "Epoch 00195: val_f1_macro did not improve from 0.73503\n",
            "\n",
            "Epoch 00196: val_f1_macro did not improve from 0.73503\n",
            "\n",
            "Epoch 00197: val_f1_macro did not improve from 0.73503\n",
            "\n",
            "Epoch 00198: val_f1_macro did not improve from 0.73503\n",
            "\n",
            "Epoch 00199: val_f1_macro did not improve from 0.73503\n",
            "\n",
            "Epoch 00200: val_f1_macro did not improve from 0.73503\n"
          ],
          "name": "stdout"
        }
      ]
    },
    {
      "cell_type": "code",
      "metadata": {
        "colab": {
          "base_uri": "https://localhost:8080/"
        },
        "id": "9zXBE_F-y25e",
        "outputId": "15f42d2f-4ea1-4927-bb1d-508f0af933eb"
      },
      "source": [
        "y_val_pred = np.where(model_cnn.predict(input_val) >0.5,1,0)\n",
        "print(f1_score(y_val, y_val_pred, average=\"macro\"))\n",
        "print(classification_report(y_val, y_val_pred))"
      ],
      "execution_count": 28,
      "outputs": [
        {
          "output_type": "stream",
          "text": [
            "0.7059025866813429\n",
            "              precision    recall  f1-score   support\n",
            "\n",
            "           0       0.74      0.72      0.73       559\n",
            "           1       0.67      0.69      0.68       467\n",
            "\n",
            "    accuracy                           0.71      1026\n",
            "   macro avg       0.71      0.71      0.71      1026\n",
            "weighted avg       0.71      0.71      0.71      1026\n",
            "\n"
          ],
          "name": "stdout"
        }
      ]
    },
    {
      "cell_type": "code",
      "metadata": {
        "colab": {
          "base_uri": "https://localhost:8080/"
        },
        "id": "NFKnxmfaQwpp",
        "outputId": "43177fe6-8501-4f39-db79-5bab7412c0e2"
      },
      "source": [
        "input_test   = {\"text\": X_test, \"extra\": X_test_extra}\n",
        "y_test_pred = np.where(model_cnn.predict(input_test) > 0.5, 1, 0)\n",
        "print(f1_score(y_test, y_test_pred,average=\"macro\"))\n",
        "print(classification_report(y_test, y_test_pred))"
      ],
      "execution_count": 29,
      "outputs": [
        {
          "output_type": "stream",
          "text": [
            "0.6902324844289265\n",
            "              precision    recall  f1-score   support\n",
            "\n",
            "           0       0.81      0.58      0.67       694\n",
            "           1       0.62      0.83      0.71       569\n",
            "\n",
            "    accuracy                           0.69      1263\n",
            "   macro avg       0.71      0.70      0.69      1263\n",
            "weighted avg       0.72      0.69      0.69      1263\n",
            "\n"
          ],
          "name": "stdout"
        }
      ]
    },
    {
      "cell_type": "markdown",
      "metadata": {
        "id": "-tCRl-ykzgoW"
      },
      "source": [
        "|        \t|        \t|              \t|    0   \t|        \t|        \t|    1   \t|        \t|        \t|          \t|\n",
        "|--------\t|--------\t|--------------\t|:------:\t|:------:\t|:------:\t|:------:\t|:------:\t|:------:\t|:--------:\t|\n",
        "|        \t|        \t|              \t|    P   \t|    R   \t|   F1   \t|    P   \t|    R   \t|   F1   \t| **Macro-F1** \t|\n",
        "| **TASK B** \t|  **News**  \t| Baseline_MFC \t|   0,65 \t|      1 \t| 0,7878 \t|      0 \t|      0 \t|      0 \t|   0,3939 \t|\n",
        "|        \t|        \t| Baseline_SVC \t| 0,7467 \t| 0,8707 \t| 0,8039 \t| 0,6528 \t| 0,4514 \t| 0,5337 \t|   0,6688 \t|\n",
        "|        \t| **Tweets** \t| Baseline_MFC \t| 0,5494 \t|      1 \t| 0,7092 \t|      0 \t|      0 \t|      0 \t|   0,3546 \t|\n",
        "|        \t|        \t| Baseline_SVC \t| 0,7869 \t| 0,6599 \t| 0,7178 \t| 0,6534 \t|  0,782 \t|  0,712 \t|   0,7149 \t|"
      ]
    },
    {
      "cell_type": "code",
      "metadata": {
        "colab": {
          "base_uri": "https://localhost:8080/",
          "height": 591
        },
        "id": "xswAsFr4DfOv",
        "outputId": "911f60e2-8694-423b-9d66-aef70534ca24"
      },
      "source": [
        "print(history.history.keys())\n",
        "# summarize history for accuracy\n",
        "plt.plot(history.history['accuracy'])\n",
        "plt.plot(history.history['val_f1'])\n",
        "plt.title('model accuracy')\n",
        "plt.ylabel('accuracy')\n",
        "plt.xlabel('epoch')\n",
        "plt.legend(['train', 'test'], loc='upper left')\n",
        "plt.show()\n",
        "# summarize history for loss\n",
        "plt.plot(history.history['loss'])\n",
        "plt.plot(history.history['val_loss'])\n",
        "plt.title('model loss')\n",
        "plt.ylabel('loss')\n",
        "plt.xlabel('epoch')\n",
        "plt.legend(['train', 'test'], loc='upper left')\n",
        "plt.show()"
      ],
      "execution_count": 230,
      "outputs": [
        {
          "output_type": "stream",
          "text": [
            "dict_keys(['loss', 'accuracy', 'val_loss', 'val_accuracy', 'val_f1'])\n"
          ],
          "name": "stdout"
        },
        {
          "output_type": "display_data",
          "data": {
            "image/png": "[encoded data removed]",
            "text/plain": [
              "<Figure size 432x288 with 1 Axes>"
            ]
          },
          "metadata": {
            "tags": [],
            "needs_background": "light"
          }
        },
        {
          "output_type": "display_data",
          "data": {
            "image/png": "[encoded data removed]",
            "text/plain": [
              "<Figure size 432x288 with 1 Axes>"
            ]
          },
          "metadata": {
            "tags": [],
            "needs_background": "light"
          }
        }
      ]
    },
    {
      "cell_type": "code",
      "metadata": {
        "id": "Yusc82JxLlCI"
      },
      "source": [
        "from sklearn.model_selection import StratifiedKFold\n",
        "from sklearn.metrics import accuracy_score"
      ],
      "execution_count": 278,
      "outputs": []
    },
    {
      "cell_type": "code",
      "metadata": {
        "colab": {
          "base_uri": "https://localhost:8080/"
        },
        "id": "bNJ-dBNaStU_",
        "outputId": "b753c966-a7fd-44e8-8d0d-ff54b87f1b46"
      },
      "source": [
        "cv_kfold = StratifiedKFold(n_splits=5, shuffle=True)\n",
        "\n",
        "models = []\n",
        "X = X_train\n",
        "X_extra = X_train2\n",
        "y = y_train\n",
        "test   = {\"text\": X_val, \"extra\": X_val2}\n",
        "\n",
        "y_test = y_val\n",
        "\n",
        "for train_index, test_index in cv_kfold.split(X, y):\n",
        "  model = build_model()\n",
        "  model.compile(\n",
        "      loss=tf.keras.losses.BinaryCrossentropy(),\n",
        "      #optimizer=tf.keras.optimizers.Adam(learning_rate=0.007, amsgrad=True),\n",
        "      optimizer = tf.keras.optimizers.SGD(learning_rate=0.007, momentum=0.4, nesterov=True),\n",
        "      metrics=[\"accuracy\"]\n",
        "  )\n",
        "  input_train = {\"text\": X[train_index], \"extra\": X_extra[train_index]}\n",
        "  input_val   = {\"text\": X[test_index], \"extra\": X_extra[test_index]}\n",
        "  y_train = y[train_index]\n",
        "  y_val = y[test_index]\n",
        "  f1_callback1 = ROCCallback(validation = (input_val, y_val), verbose = 0)                                   \n",
        "  best_callback1 = ReturnBestEarlyStopping(monitor=\"val_f1\",\n",
        "                                          min_delta=0,\n",
        "                                          patience=200,\n",
        "                                          verbose=0,\n",
        "                                          mode=\"max\",\n",
        "                                          #baseline=0.72,\n",
        "                                          restore_best_weights=True)\n",
        "  model.fit(input_train, y_train, batch_size=128, epochs=200, validation_data=(input_val, y_val), callbacks=[f1_callback1, best_callback1], verbose=0)\n",
        "  y_test_pred = np.where(model.predict(test) >0.5,1,0)\n",
        "  print(f1_score(y_test,y_test_pred,average=\"macro\"))\n",
        "  models.append(model)\n"
      ],
      "execution_count": 322,
      "outputs": [
        {
          "output_type": "stream",
          "text": [
            "0.7020388105758069\n",
            "0.7397104473272389\n",
            "0.7321598940789346\n",
            "0.7251979246114018\n",
            "0.7258058638290028\n"
          ],
          "name": "stdout"
        }
      ]
    },
    {
      "cell_type": "code",
      "metadata": {
        "id": "PDgupccPUMPY"
      },
      "source": [
        "def ensemble_predictions(members, testX):\n",
        "  # make predictions\n",
        "  results = []\n",
        "  yhats = [np.squeeze(np.where(models[0].predict(test) > 0.5, 1,0).reshape(1,-1)) for model in members]\n",
        "  # sum across ensemble members\n",
        "  yhats = np.array(yhats)\n",
        "  print(yhats.shape)\n",
        "\n",
        "  for i in range(yhats.shape[1]):\n",
        "    counts = np.bincount(yhats[:,i])\n",
        "    results.append(np.argmax(counts))\n",
        "  # argmax across classes\n",
        "  return results"
      ],
      "execution_count": 396,
      "outputs": []
    },
    {
      "cell_type": "code",
      "metadata": {
        "colab": {
          "base_uri": "https://localhost:8080/"
        },
        "id": "kv5bzfLMbQaw",
        "outputId": "e3754d39-2c1d-4887-b552-237df1bea241"
      },
      "source": [
        "y_pred = ensemble_predictions(models, test)\n",
        "print(classification_report(y_test,y_pred))\n"
      ],
      "execution_count": 398,
      "outputs": [
        {
          "output_type": "stream",
          "text": [
            "(5, 684)\n",
            "              precision    recall  f1-score   support\n",
            "\n",
            "           0       0.73      0.71      0.72       370\n",
            "           1       0.67      0.70      0.68       314\n",
            "\n",
            "    accuracy                           0.70       684\n",
            "   macro avg       0.70      0.70      0.70       684\n",
            "weighted avg       0.70      0.70      0.70       684\n",
            "\n"
          ],
          "name": "stdout"
        }
      ]
    },
    {
      "cell_type": "code",
      "metadata": {
        "id": "sjZoaZNzggCy"
      },
      "source": [
        ""
      ],
      "execution_count": null,
      "outputs": []
    }
  ]
}