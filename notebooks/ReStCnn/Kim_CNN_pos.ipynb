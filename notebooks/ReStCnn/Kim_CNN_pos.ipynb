{
  "nbformat": 4,
  "nbformat_minor": 0,
  "metadata": {
    "accelerator": "GPU",
    "colab": {
      "name": "model_implementation.ipynb",
      "provenance": [],
      "toc_visible": true
    },
    "kernelspec": {
      "display_name": "Python 3",
      "language": "python",
      "name": "python3"
    },
    "language_info": {
      "codemirror_mode": {
        "name": "ipython",
        "version": 3
      },
      "file_extension": ".py",
      "mimetype": "text/x-python",
      "name": "python",
      "nbconvert_exporter": "python",
      "pygments_lexer": "ipython3",
      "version": "3.7.8"
    }
  },
  "cells": [
    {
      "cell_type": "code",
      "metadata": {
        "colab": {
          "base_uri": "https://localhost:8080/"
        },
        "id": "mcx-h8sODpMJ",
        "outputId": "a45f0a5f-8870-4ce1-de04-7da000c7b01a"
      },
      "source": [
        "#!pip install fasttext\n",
        "!rm -rf ReST/\n",
        "!git clone https://github.com/alessandrocuda/ReSt\n",
        "!wget http://www.italianlp.it/twitter128.bin\n",
        "!mv /content/twitter128.bin /content/ReSt/results/model/word2vec"
      ],
      "execution_count": 1,
      "outputs": [
        {
          "output_type": "stream",
          "text": [
            "Cloning into 'ReSt'...\n",
            "remote: Enumerating objects: 120, done.\u001b[K\n",
            "remote: Counting objects: 100% (120/120), done.\u001b[K\n",
            "remote: Compressing objects: 100% (88/88), done.\u001b[K\n",
            "remote: Total 207 (delta 44), reused 89 (delta 28), pack-reused 87\u001b[K\n",
            "Receiving objects: 100% (207/207), 79.64 MiB | 28.26 MiB/s, done.\n",
            "Resolving deltas: 100% (52/52), done.\n",
            "Checking out files: 100% (81/81), done.\n",
            "--2021-04-08 15:52:51--  http://www.italianlp.it/twitter128.bin\n",
            "Resolving www.italianlp.it (www.italianlp.it)... 146.48.92.46, 2a00:1620:c0:5c::8\n",
            "Connecting to www.italianlp.it (www.italianlp.it)|146.48.92.46|:80... connected.\n",
            "HTTP request sent, awaiting response... 200 OK\n",
            "Length: 613808129 (585M) [application/octet-stream]\n",
            "Saving to: ‘twitter128.bin’\n",
            "\n",
            "twitter128.bin      100%[===================>] 585.37M  10.5MB/s    in 46s     \n",
            "\n",
            "2021-04-08 15:53:38 (12.6 MB/s) - ‘twitter128.bin’ saved [613808129/613808129]\n",
            "\n"
          ],
          "name": "stdout"
        }
      ]
    },
    {
      "cell_type": "code",
      "metadata": {
        "id": "foTfySiPDfOl"
      },
      "source": [
        "import tensorflow as tf\n",
        "#import tensorflow_addons as tfa\n",
        "\n",
        "from tensorflow.keras import backend as K\n",
        "\n",
        "#from tensorflow.keras.engine import Layer, InputSpec, InputLayer\n",
        "\n",
        "from tensorflow.keras.models import Model, Sequential\n",
        "\n",
        "from tensorflow.keras.layers import Dropout, Embedding, concatenate\n",
        "from tensorflow.keras.layers import Conv1D, MaxPool1D, Conv2D, MaxPool2D, ZeroPadding1D, GlobalMaxPool1D, GlobalAveragePooling1D\n",
        "from tensorflow.keras.layers import Dense, Input, Flatten, BatchNormalization, Activation\n",
        "from tensorflow.keras.layers import Concatenate, Dot, Concatenate, Multiply, RepeatVector\n",
        "from tensorflow.keras.layers import Bidirectional, TimeDistributed\n",
        "from tensorflow.keras.layers import SimpleRNN, LSTM, GRU, Lambda, Permute\n",
        "from tensorflow.keras.optimizers import Adam\n",
        "from tensorflow.keras.callbacks import ModelCheckpoint,EarlyStopping\n",
        "from tensorflow.keras.regularizers import l2\n",
        "from tensorflow.keras.preprocessing.sequence import pad_sequences\n",
        "from tensorflow.keras.models import load_model\n",
        "\n",
        "from sklearn.model_selection import train_test_split\n",
        "from sklearn.metrics import classification_report, f1_score\n",
        "\n",
        "from gensim.models import KeyedVectors\n",
        "from gensim.models import Word2Vec\n",
        "\n",
        "#import fasttext.util\n",
        "\n",
        "import pandas as pd\n",
        "import numpy as np\n",
        "import matplotlib.pyplot as plt\n",
        "\n",
        "from gensim.test.utils import datapath\n",
        "\n",
        "import sys\n",
        "root_project = \"/content/ReSt/\"\n",
        "#root_project = \"/Users/Alessandro/Dev/repos/ReSt/\"\n",
        "#root_project = \"/home/jupyter/SaRaH/\"\n",
        "sys.path.append(root_project)\n",
        "from src.data.utils import load_csv_to_dict, set_unkmark_token\n",
        "from src.data.word_embedding import get_index_key_association, get_int_seq, build_keras_embedding_matrix, get_data_to_emb\n",
        "\n",
        "%load_ext autoreload\n",
        "%autoreload 2"
      ],
      "execution_count": 2,
      "outputs": []
    },
    {
      "cell_type": "code",
      "metadata": {
        "colab": {
          "base_uri": "https://localhost:8080/"
        },
        "id": "3vVGZwnHDfOo",
        "outputId": "ac17b019-f783-4246-e636-2a0bdd151b59"
      },
      "source": [
        "print(tf.__version__)"
      ],
      "execution_count": 3,
      "outputs": [
        {
          "output_type": "stream",
          "text": [
            "2.4.1\n"
          ],
          "name": "stdout"
        }
      ]
    },
    {
      "cell_type": "markdown",
      "metadata": {
        "id": "2cMyT07kLkcb"
      },
      "source": [
        "# Path"
      ]
    },
    {
      "cell_type": "code",
      "metadata": {
        "id": "DThTDXDJLkcc"
      },
      "source": [
        "#PATH\n",
        "dataset_dev_path           = root_project + \"dataset/haspeede2/preprocessed/dev/dev.csv\"\n",
        "dataset_test_tweets_path   = root_project + \"dataset/haspeede2/preprocessed/reference/reference_tweets.csv\"\n",
        "w2v_bin_path               = root_project + 'results/model/word2vec/twitter128.bin'"
      ],
      "execution_count": 5,
      "outputs": []
    },
    {
      "cell_type": "code",
      "metadata": {
        "id": "z9h4bvdkLkcf"
      },
      "source": [
        "#load dataset dictionary\n",
        "dataset_dev = load_csv_to_dict(dataset_dev_path)\n",
        "dataset_test_tweets = load_csv_to_dict(dataset_test_tweets_path)"
      ],
      "execution_count": 6,
      "outputs": []
    },
    {
      "cell_type": "code",
      "metadata": {
        "id": "JxneHO3bKCxF",
        "outputId": "18e10332-c4c4-4d65-f9e5-72c59fcc72b1",
        "colab": {
          "base_uri": "https://localhost:8080/"
        }
      },
      "source": [
        "dataset_dev.keys()"
      ],
      "execution_count": 7,
      "outputs": [
        {
          "output_type": "execute_result",
          "data": {
            "text/plain": [
              "dict_keys(['id', 'text', 'hs', 'stereotype', 'processed_text', 'text_length', 'hashtags', '%CAPS-LOCK words', 'esclamations', 'questions', 'tokens', 'lemma', 'pos', 'dep', 'word_polarity', 'sentence_positive', 'sentence_negative', 'sentence_neutral', 'stem', '%bad_words'])"
            ]
          },
          "metadata": {
            "tags": []
          },
          "execution_count": 7
        }
      ]
    },
    {
      "cell_type": "markdown",
      "metadata": {
        "id": "yA9qmH2kLkcc"
      },
      "source": [
        "# Embedding"
      ]
    },
    {
      "cell_type": "code",
      "metadata": {
        "colab": {
          "base_uri": "https://localhost:8080/"
        },
        "id": "WqsE1qU5Lkcd",
        "outputId": "90408f84-ac4e-4a9b-eb84-103936936483"
      },
      "source": [
        "#load word2vec and embedding_matrix\n",
        "w2v = KeyedVectors.load_word2vec_format(datapath(w2v_bin_path), binary=True)\n",
        "index_to_key, key_to_index = get_index_key_association(w2v)\n",
        "embedding_matrix, vocab_size = build_keras_embedding_matrix(w2v, index_to_key)\n",
        "\n",
        "WORD_EMB_SIZE = 128\n",
        "VOCAB_SIZE = vocab_size"
      ],
      "execution_count": 8,
      "outputs": [
        {
          "output_type": "stream",
          "text": [
            "Vocab_size is 1170776\n",
            "Embedding_matrix with unk word loaded\n",
            "Shape (1170777, 128)\n"
          ],
          "name": "stdout"
        }
      ]
    },
    {
      "cell_type": "code",
      "metadata": {
        "id": "2QECYQdD7IJl"
      },
      "source": [
        "def get_index_key_pos_association(X):\n",
        "    key_to_index = {\"<UNK>\": 0}\n",
        "    index_to_key = {0: \"<UNK>\"}\n",
        "    unique_pos = set([pos for words in X for pos in words])\n",
        "\n",
        "    for idx, word in enumerate(sorted(unique_pos)):\n",
        "        key_to_index[word]  = idx+1 # which row in `weights` corresponds to which word?\n",
        "        index_to_key[idx+1] = word # which row in `weights` corresponds to which word?\n",
        "    return index_to_key, key_to_index\n",
        "\n",
        "def get_one_hot_pos(index_to_key_pos):\n",
        "  index_to_onehot_pos = {}\n",
        "  for idx in index_to_key_pos.keys():\n",
        "    ohe = [0 for _ in range(len(index_to_key_pos.keys()))]\n",
        "    ohe[idx] = 1\n",
        "    index_to_onehot_pos[idx]  = ohe # which row in `weights` corresponds to which word?\n",
        "  return index_to_onehot_pos\n",
        "\n",
        "index_to_key_pos, key_to_index_pos = get_index_key_pos_association(X = dataset_dev[\"pos\"])\n",
        "index_to_onehot_pos = get_one_hot_pos(index_to_key_pos)"
      ],
      "execution_count": 14,
      "outputs": []
    },
    {
      "cell_type": "code",
      "metadata": {
        "id": "o4byFZO-I7gT",
        "outputId": "074a7221-c37c-443b-89d4-7324923c3040",
        "colab": {
          "base_uri": "https://localhost:8080/"
        }
      },
      "source": [
        "dataset_dev.keys()"
      ],
      "execution_count": 11,
      "outputs": [
        {
          "output_type": "execute_result",
          "data": {
            "text/plain": [
              "dict_keys(['id', 'text', 'hs', 'stereotype', 'processed_text', 'text_length', 'hashtags', '%CAPS-LOCK words', 'esclamations', 'questions', 'tokens', 'lemma', 'pos', 'dep', 'word_polarity', 'sentence_positive', 'sentence_negative', 'sentence_neutral', 'stem', '%bad_words'])"
            ]
          },
          "metadata": {
            "tags": []
          },
          "execution_count": 11
        }
      ]
    },
    {
      "cell_type": "markdown",
      "metadata": {
        "id": "_I4VbMeODfOp"
      },
      "source": [
        "# DATA"
      ]
    },
    {
      "cell_type": "code",
      "metadata": {
        "id": "yxbKY2NxLkcf"
      },
      "source": [
        "def load_data(dataset_dict, w2v, key_to_index, embedding_matrix, max_text_len):\n",
        "    senteces = dataset_dict[\"tokens\"]\n",
        "    X = dataset_dict[\"tokens\"]\n",
        "    X = set_unkmark_token(X, w2v.vocab)\n",
        "    X = get_int_seq(X, key_to_index)\n",
        "    X = pad_sequences(X, maxlen=MAX_TEXT_LEN, padding='post', truncating='post')\n",
        "    X = np.array(X)\n",
        "    \n",
        "    X_pos = dataset_dict[\"pos\"]\n",
        "    X_pos = set_unkmark_token(X_pos, key_to_index_pos)\n",
        "    X_pos = get_int_seq(X_pos, key_to_index_pos)\n",
        "    X_pos = pad_sequences(X_pos, maxlen=MAX_TEXT_LEN, padding='post', truncating='post')\n",
        "    X_pos = np.array(X_pos)\n",
        "\n",
        "    extra_feature = np.array([dataset_dict[\"hashtags\"], dataset_dict[\"%CAPS-LOCK words\"], dataset_dict[\"esclamations\"], dataset_dict[\"questions\"], dataset_dict[\"sentence_positive\"], dataset_dict[\"sentence_negative\"], dataset_dict[\"sentence_neutral\"], dataset_dict[\"%bad_words\"]]).T\n",
        "\n",
        "    y = np.array(dataset_dict[\"stereotype\"])\n",
        "    return X, X_pos, extra_feature, y\n",
        "\n",
        "def to_emb(X, embedding):\n",
        "    return np.array([ [ embedding[index_word] for index_word in sentence] for sentence in X])"
      ],
      "execution_count": 15,
      "outputs": []
    },
    {
      "cell_type": "code",
      "metadata": {
        "id": "uRkY4b27Lkcf"
      },
      "source": [
        "#load dev/test\n",
        "MAX_TEXT_LEN = 65\n",
        "\n",
        "X, X_pos, X_extra_feature, y = load_data(dataset_dev, w2v, key_to_index, embedding_matrix, MAX_TEXT_LEN)\n",
        "X_e = to_emb(X, embedding_matrix)\n",
        "X_pos_e = to_emb(X_pos, index_to_onehot_pos)\n",
        "\n",
        "X_test, X_test_pos, X_test_extra_feature, y_test = load_data(dataset_test_tweets, w2v, key_to_index, embedding_matrix, MAX_TEXT_LEN)\n",
        "X_test_e = to_emb(X_test, embedding_matrix)\n",
        "X_test_pos_e = to_emb(X_test_pos, index_to_onehot_pos)"
      ],
      "execution_count": 17,
      "outputs": []
    },
    {
      "cell_type": "markdown",
      "metadata": {
        "id": "nZLD5i2095pp"
      },
      "source": [
        "# Split"
      ]
    },
    {
      "cell_type": "code",
      "metadata": {
        "id": "u3Y3BXjJDfOu"
      },
      "source": [
        "X_train, X_val, X_pos_train, X_pos_val, X_extra_feature_train, X_extra_feature_val, y_train, y_val = train_test_split(X_e, X_pos_e, X_extra_feature, y, test_size=0.10, random_state=128)"
      ],
      "execution_count": 18,
      "outputs": []
    },
    {
      "cell_type": "markdown",
      "metadata": {
        "id": "PYKIBfnoMH_E"
      },
      "source": [
        "# Metrics"
      ]
    },
    {
      "cell_type": "code",
      "metadata": {
        "id": "TTm6puSuMJ1A"
      },
      "source": [
        "def f1_sklean_mapping_macro(y_true, y_pred):\n",
        "    return f1_score(y_true, y_pred, average=\"macro\")\n",
        "\n",
        "def f1_macro(y_true, y_pred):\n",
        "    return tf.py_function(f1_sklean_mapping_macro, (y_true, K.round(y_pred)), tf.double)"
      ],
      "execution_count": 19,
      "outputs": []
    },
    {
      "cell_type": "markdown",
      "metadata": {
        "id": "T5SRBV3K99Mh"
      },
      "source": [
        "# callback"
      ]
    },
    {
      "cell_type": "code",
      "metadata": {
        "id": "cQbbgMnVDfOu"
      },
      "source": [
        "class FCallback(tf.keras.callbacks.Callback):\n",
        "  \n",
        "    def __init__(self, validation = (), verbose = 0):\n",
        "        self.validation = validation\n",
        "        self.verbose = verbose\n",
        "\n",
        "    def on_train_begin(self, logs={}):\n",
        "        self.f1 = []\n",
        "        self.val_f1 = []\n",
        "    def on_epoch_end(self, epoch, logs=None):\n",
        "        y_t =  self.validation[1]\n",
        "        y_p =  np.where(self.model.predict(self.validation[0]) > 0.5, 1, 0)\n",
        "        logs['val_f1'] =  f1_score(y_t, y_p, average='macro')\n",
        "        if self.verbose >0:\n",
        "            print(\"— val_f1: {}\".format(logs['val_f1']))\n",
        "\n",
        "class ReturnBestEarlyStopping(EarlyStopping):\n",
        "    def __init__(self, **kwargs):\n",
        "        super(ReturnBestEarlyStopping, self).__init__(**kwargs)\n",
        "\n",
        "    def on_train_end(self, logs=None):\n",
        "        if self.stopped_epoch > 0:\n",
        "            if self.verbose > 0:\n",
        "                print(f'\\nEpoch {self.stopped_epoch + 1}: early stopping')\n",
        "        elif self.restore_best_weights:\n",
        "            if self.verbose > 0:\n",
        "                print('Restoring model weights from the end of the best epoch.')\n",
        "            self.model.set_weights(self.best_weights)"
      ],
      "execution_count": 20,
      "outputs": []
    },
    {
      "cell_type": "markdown",
      "metadata": {
        "id": "XrLamIrFLkci"
      },
      "source": [
        "# KIM-CNN"
      ]
    },
    {
      "cell_type": "code",
      "metadata": {
        "id": "HfQax4baLkcj"
      },
      "source": [
        "def kim_cnn_pos(input_shape, filters = 256, filter_sizes = [2,4,6], dropout = 0.5, hn=128, lr=0.01, print_model=False):\n",
        "    import tensorflow as tf\n",
        "    from tensorflow.keras.models import Model\n",
        "    from tensorflow.keras.layers import Dropout\n",
        "    from tensorflow.keras.layers import Conv1D, GlobalMaxPool1D\n",
        "    from tensorflow.keras.layers import Dense, Input, Flatten, Activation\n",
        "    from tensorflow.keras.layers import Concatenate\n",
        "    from tensorflow.keras.regularizers import l2\n",
        "\n",
        "    \"\"\" HyperParameters \"\"\"\n",
        "\n",
        "    text_seq_input = Input(shape=input_shape, name=\"text\")\n",
        "    pos_seq_input = Input(shape=(65,17, ), name=\"pos\")\n",
        "    extra_feature = Input(shape=(8,), name=\"extra\")\n",
        "\n",
        "    convs = []\n",
        "    for filter_size in filter_sizes:\n",
        "        l_conv = Conv1D(filters=filters, kernel_size=filter_size)(text_seq_input)\n",
        "        l_relu = Activation(\"relu\")(l_conv)\n",
        "        l_pool = GlobalMaxPool1D()(l_relu)   \n",
        "        convs.append(l_pool)\n",
        "    \n",
        "    convs_pos = []\n",
        "    for filter_size in filter_sizes:\n",
        "        l_conv = Conv1D(filters=filters, kernel_size=filter_size)(pos_seq_input)\n",
        "        l_relu = Activation(\"relu\")(l_conv)\n",
        "        l_pool = GlobalMaxPool1D()(l_relu)   \n",
        "        convs_pos.append(l_pool)\n",
        "\n",
        "    l_merge     = Concatenate(axis=1)(convs)\n",
        "    l_flat      = Flatten()(l_merge)\n",
        "    l_merge_pos = Concatenate(axis=1)(convs_pos)\n",
        "    l_flat_pos  = Flatten()(l_merge_pos)\n",
        "\n",
        "    input_ff    = Concatenate(axis=1)([l_flat, l_flat_pos, extra_feature])\n",
        "    l_drop      = Dropout(dropout)(input_ff)\n",
        "    l_hidden    = Dense(hn, activation='relu')(l_drop)\n",
        "    l_drop      = Dropout(dropout)(l_hidden)\n",
        "    l_out_st    = Dense(1, activation='sigmoid', name=\"st\")(l_drop)  #dims output\n",
        "\n",
        "    model_cnn   = Model(inputs=[text_seq_input, pos_seq_input, extra_feature], outputs=l_out_st)\n",
        "    if print_model:\n",
        "        model_cnn.summary()\n",
        "        tf.keras.utils.plot_model(model_cnn, \"my_first_model.png\", show_shapes=True)\n",
        "    \n",
        "    model_cnn.compile(\n",
        "        loss= tf.keras.losses.BinaryCrossentropy(from_logits=True),\n",
        "        optimizer=tf.keras.optimizers.Adam(learning_rate=lr, amsgrad=False),\n",
        "    )\n",
        "\n",
        "    return model_cnn"
      ],
      "execution_count": 33,
      "outputs": []
    },
    {
      "cell_type": "code",
      "metadata": {
        "colab": {
          "base_uri": "https://localhost:8080/",
          "height": 181
        },
        "id": "nfxuewsRLkcl",
        "outputId": "df5cabc0-3dd8-41a9-c2ba-892136bba4c4"
      },
      "source": [
        "#del model\n",
        "model = kim_cnn_pos((65,128, ), filters = 128, filter_sizes = [2,3,4], dropout = 0.5, hn=256, lr=0.001, print_model=True)"
      ],
      "execution_count": 1,
      "outputs": [
        {
          "output_type": "error",
          "ename": "NameError",
          "evalue": "ignored",
          "traceback": [
            "\u001b[0;31m---------------------------------------------------------------------------\u001b[0m",
            "\u001b[0;31mNameError\u001b[0m                                 Traceback (most recent call last)",
            "\u001b[0;32m<ipython-input-1-3d3339a2327b>\u001b[0m in \u001b[0;36m<module>\u001b[0;34m()\u001b[0m\n\u001b[1;32m      1\u001b[0m \u001b[0;31m#del model\u001b[0m\u001b[0;34m\u001b[0m\u001b[0;34m\u001b[0m\u001b[0;34m\u001b[0m\u001b[0m\n\u001b[0;32m----> 2\u001b[0;31m \u001b[0mmodel\u001b[0m \u001b[0;34m=\u001b[0m \u001b[0mkim_cnn_pos\u001b[0m\u001b[0;34m(\u001b[0m\u001b[0;34m(\u001b[0m\u001b[0;36m65\u001b[0m\u001b[0;34m,\u001b[0m\u001b[0;36m128\u001b[0m\u001b[0;34m,\u001b[0m \u001b[0;34m)\u001b[0m\u001b[0;34m,\u001b[0m \u001b[0mfilters\u001b[0m \u001b[0;34m=\u001b[0m \u001b[0;36m128\u001b[0m\u001b[0;34m,\u001b[0m \u001b[0mfilter_sizes\u001b[0m \u001b[0;34m=\u001b[0m \u001b[0;34m[\u001b[0m\u001b[0;36m2\u001b[0m\u001b[0;34m,\u001b[0m\u001b[0;36m3\u001b[0m\u001b[0;34m,\u001b[0m\u001b[0;36m4\u001b[0m\u001b[0;34m]\u001b[0m\u001b[0;34m,\u001b[0m \u001b[0mdropout\u001b[0m \u001b[0;34m=\u001b[0m \u001b[0;36m0.5\u001b[0m\u001b[0;34m,\u001b[0m \u001b[0mhn\u001b[0m\u001b[0;34m=\u001b[0m\u001b[0;36m256\u001b[0m\u001b[0;34m,\u001b[0m \u001b[0mlr\u001b[0m\u001b[0;34m=\u001b[0m\u001b[0;36m0.001\u001b[0m\u001b[0;34m,\u001b[0m \u001b[0mprint_model\u001b[0m\u001b[0;34m=\u001b[0m\u001b[0;32mTrue\u001b[0m\u001b[0;34m)\u001b[0m\u001b[0;34m\u001b[0m\u001b[0;34m\u001b[0m\u001b[0m\n\u001b[0m",
            "\u001b[0;31mNameError\u001b[0m: name 'kim_cnn_pos' is not defined"
          ]
        }
      ]
    },
    {
      "cell_type": "code",
      "metadata": {
        "id": "fZay3rNELkcm",
        "outputId": "03ac932c-a262-4ff1-c2c4-dda408ec203f",
        "colab": {
          "base_uri": "https://localhost:8080/"
        }
      },
      "source": [
        "input_train = {\"text\": X_train, \"pos\": X_pos_train, \"extra\": X_extra_feature_train}\n",
        "input_val = {\"text\": X_val, \"pos\": X_pos_val, \"extra\": X_extra_feature_val}\n",
        "input_test = {\"text\": X_test_e, \"pos\": X_test_pos_e, \"extra\": X_test_extra_feature}\n",
        "\n",
        "f1_callback = FCallback(validation = (input_test, y_test), verbose=True)                                   \n",
        "best_callback = ReturnBestEarlyStopping(monitor=\"val_loss\", min_delta=0, patience=100, verbose=1, mode=\"min\", restore_best_weights=True)\n",
        "\n",
        "history = model.fit(input_train, y_train, batch_size=64, epochs=200, validation_data=(input_val, y_val), callbacks=[f1_callback, best_callback], verbose = 1)"
      ],
      "execution_count": null,
      "outputs": [
        {
          "output_type": "stream",
          "text": [
            "Epoch 1/200\n"
          ],
          "name": "stdout"
        }
      ]
    },
    {
      "cell_type": "code",
      "metadata": {
        "colab": {
          "base_uri": "https://localhost:8080/"
        },
        "id": "9zXBE_F-y25e",
        "outputId": "35aa88e4-2104-4076-d341-7a93b90f3f62"
      },
      "source": [
        "y_val_pred = np.where(model.predict(input_val) >0.5,1,0)\n",
        "print(f1_score(y_val, y_val_pred, average=\"macro\"))\n",
        "print(classification_report(y_val, y_val_pred))"
      ],
      "execution_count": 49,
      "outputs": [
        {
          "output_type": "stream",
          "text": [
            "0.6928879310344827\n",
            "              precision    recall  f1-score   support\n",
            "\n",
            "           0       0.76      0.63      0.69       369\n",
            "           1       0.64      0.77      0.70       315\n",
            "\n",
            "    accuracy                           0.69       684\n",
            "   macro avg       0.70      0.70      0.69       684\n",
            "weighted avg       0.71      0.69      0.69       684\n",
            "\n"
          ],
          "name": "stdout"
        }
      ]
    },
    {
      "cell_type": "code",
      "metadata": {
        "colab": {
          "base_uri": "https://localhost:8080/"
        },
        "id": "NFKnxmfaQwpp",
        "outputId": "55fe9d2b-6998-4b5f-f5b5-887c0240ca21"
      },
      "source": [
        "y_test_pred = np.where(model.predict(input_test) > 0.5, 1, 0)\n",
        "print(y_test.shape)\n",
        "print(f1_score(y_test, y_test_pred, average=\"macro\"))\n",
        "print(classification_report(y_test, y_test_pred))"
      ],
      "execution_count": 50,
      "outputs": [
        {
          "output_type": "stream",
          "text": [
            "(1263,)\n",
            "0.6675825573056794\n",
            "              precision    recall  f1-score   support\n",
            "\n",
            "           0       0.83      0.50      0.63       694\n",
            "           1       0.59      0.88      0.71       569\n",
            "\n",
            "    accuracy                           0.67      1263\n",
            "   macro avg       0.71      0.69      0.67      1263\n",
            "weighted avg       0.72      0.67      0.66      1263\n",
            "\n"
          ],
          "name": "stdout"
        }
      ]
    },
    {
      "cell_type": "markdown",
      "metadata": {
        "id": "-tCRl-ykzgoW"
      },
      "source": [
        "|        \t|        \t|              \t|    0   \t|        \t|        \t|    1   \t|        \t|        \t|          \t|\n",
        "|--------\t|--------\t|--------------\t|:------:\t|:------:\t|:------:\t|:------:\t|:------:\t|:------:\t|:--------:\t|\n",
        "|        \t|        \t|              \t|    P   \t|    R   \t|   F1   \t|    P   \t|    R   \t|   F1   \t| **Macro-F1** \t|\n",
        "| **TASK B** \t|  **News**  \t| Baseline_MFC \t|   0,65 \t|      1 \t| 0,7878 \t|      0 \t|      0 \t|      0 \t|   0,3939 \t|\n",
        "|        \t|        \t| Baseline_SVC \t| 0,7467 \t| 0,8707 \t| 0,8039 \t| 0,6528 \t| 0,4514 \t| 0,5337 \t|   0,6688 \t|\n",
        "|        \t| **Tweets** \t| Baseline_MFC \t| 0,5494 \t|      1 \t| 0,7092 \t|      0 \t|      0 \t|      0 \t|   0,3546 \t|\n",
        "|        \t|        \t| Baseline_SVC \t| 0,7869 \t| 0,6599 \t| 0,7178 \t| 0,6534 \t|  0,782 \t|  0,712 \t|   0,7149 \t|"
      ]
    },
    {
      "cell_type": "code",
      "metadata": {
        "colab": {
          "base_uri": "https://localhost:8080/",
          "height": 312
        },
        "id": "xswAsFr4DfOv",
        "outputId": "5692371b-23dd-423f-cc50-5a74bdfc0219"
      },
      "source": [
        "print(history.history.keys())\n",
        "# summarize history for accuracy\n",
        "\n",
        "# summarize history for loss\n",
        "plt.plot(history.history['loss'])\n",
        "plt.plot(history.history['val_loss'])\n",
        "plt.title('model loss')\n",
        "plt.ylabel('loss')\n",
        "plt.xlabel('epoch')\n",
        "plt.legend(['train', 'test'], loc='upper left')\n",
        "plt.show()"
      ],
      "execution_count": 38,
      "outputs": [
        {
          "output_type": "stream",
          "text": [
            "dict_keys(['loss', 'val_loss', 'val_f1'])\n"
          ],
          "name": "stdout"
        },
        {
          "output_type": "display_data",
          "data": {
            "image/png": "[encoded data removed]",
            "text/plain": [
              "<Figure size 432x288 with 1 Axes>"
            ]
          },
          "metadata": {
            "tags": [],
            "needs_background": "light"
          }
        }
      ]
    },
    {
      "cell_type": "markdown",
      "metadata": {
        "id": "5lRDgwlD47iH"
      },
      "source": [
        "# Result GridSearch"
      ]
    },
    {
      "cell_type": "code",
      "metadata": {
        "id": "zTFvT32Q47iJ"
      },
      "source": [
        "import pickle\n",
        "\n",
        "grid_result0 = pickle.load( open( \"../../script/result_kim_cnn_0.p\", \"rb\" ) )\n",
        "grid_result1 = pickle.load( open( \"../../script/result_kim_cnn_1.p\", \"rb\" ) )\n",
        "grid_result2 = pickle.load( open( \"../../script/result_kim_cnn_2.p\", \"rb\" ) )"
      ],
      "execution_count": null,
      "outputs": []
    },
    {
      "cell_type": "code",
      "metadata": {
        "id": "XSfmQs-K47iK",
        "outputId": "b630cfa8-c83a-403f-c9a3-732d6b562d9c"
      },
      "source": [
        "grid_result0[0]"
      ],
      "execution_count": null,
      "outputs": [
        {
          "output_type": "execute_result",
          "data": {
            "text/plain": [
              "{'hyper_parm': {'filters': 32,\n",
              "  'filter_sizes': [2, 3, 4],\n",
              "  'dropout': 0.1,\n",
              "  'hn': 64,\n",
              "  'lr': 0.1},\n",
              " 'mean': 0.3568288921589145,\n",
              " 'std': 0.005373049976030892,\n",
              " 'folds': {'fold_0': {'f1': 0.35859186796911474,\n",
              "   'val_f1': 0.34888148500713945},\n",
              "  'fold_1': {'f1': 0.3553483553483553, 'val_f1': 0.36490250696378834},\n",
              "  'fold_2': {'f1': 0.355181347150259, 'val_f1': 0.35985025737014503},\n",
              "  'fold_3': {'f1': 0.356348590638738, 'val_f1': 0.35623529411764704},\n",
              "  'fold_4': {'f1': 0.35854161298634374, 'val_f1': 0.35427491733585265}}}"
            ]
          },
          "metadata": {
            "tags": []
          },
          "execution_count": 6
        }
      ]
    },
    {
      "cell_type": "code",
      "metadata": {
        "id": "DVG_7CM-47iL"
      },
      "source": [
        "grid_result_d = {\n",
        "    'hyper_parm' : [],\n",
        "    'mean': [],\n",
        "    'std': [],\n",
        "    'folds': []\n",
        "}\n",
        "for elem in grid_result0:\n",
        "    for k in grid_result_d:\n",
        "        grid_result_d[k].append(elem[k])\n",
        "for elem in grid_result1:\n",
        "    for k in grid_result_d:\n",
        "        grid_result_d[k].append(elem[k])\n",
        "for elem in grid_result2:\n",
        "    for k in grid_result_d:\n",
        "        grid_result_d[k].append(elem[k])"
      ],
      "execution_count": null,
      "outputs": []
    },
    {
      "cell_type": "code",
      "metadata": {
        "id": "Pkt_EHxn47iL"
      },
      "source": [
        "df_result = pd.DataFrame(grid_result_d)"
      ],
      "execution_count": null,
      "outputs": []
    },
    {
      "cell_type": "code",
      "metadata": {
        "id": "U4orvo5v47iL",
        "outputId": "4804746f-aaa5-483d-f79a-9a5efb400998"
      },
      "source": [
        "pd.set_option('display.max_colwidth', None)\n",
        "df_result.sort_values(by=['mean'], ascending=False)[0:20][[\"hyper_parm\",\"mean\", \"std\"]]"
      ],
      "execution_count": null,
      "outputs": [
        {
          "output_type": "execute_result",
          "data": {
            "text/html": [
              "<div>\n",
              "<style scoped>\n",
              "    .dataframe tbody tr th:only-of-type {\n",
              "        vertical-align: middle;\n",
              "    }\n",
              "\n",
              "    .dataframe tbody tr th {\n",
              "        vertical-align: top;\n",
              "    }\n",
              "\n",
              "    .dataframe thead th {\n",
              "        text-align: right;\n",
              "    }\n",
              "</style>\n",
              "<table border=\"1\" class=\"dataframe\">\n",
              "  <thead>\n",
              "    <tr style=\"text-align: right;\">\n",
              "      <th></th>\n",
              "      <th>hyper_parm</th>\n",
              "      <th>mean</th>\n",
              "      <th>std</th>\n",
              "    </tr>\n",
              "  </thead>\n",
              "  <tbody>\n",
              "    <tr>\n",
              "      <th>231</th>\n",
              "      <td>{'filters': 256, 'filter_sizes': [2, 3, 4], 'dropout': 0.5, 'hn': 64, 'lr': 0.0001}</td>\n",
              "      <td>0.705910</td>\n",
              "      <td>0.004856</td>\n",
              "    </tr>\n",
              "    <tr>\n",
              "      <th>218</th>\n",
              "      <td>{'filters': 256, 'filter_sizes': [2, 3, 4], 'dropout': 0.1, 'hn': 64, 'lr': 0.001}</td>\n",
              "      <td>0.703817</td>\n",
              "      <td>0.011898</td>\n",
              "    </tr>\n",
              "    <tr>\n",
              "      <th>234</th>\n",
              "      <td>{'filters': 256, 'filter_sizes': [2, 3, 4], 'dropout': 0.5, 'hn': 124, 'lr': 0.001}</td>\n",
              "      <td>0.703300</td>\n",
              "      <td>0.005910</td>\n",
              "    </tr>\n",
              "    <tr>\n",
              "      <th>254</th>\n",
              "      <td>{'filters': 256, 'filter_sizes': [3, 4, 5], 'dropout': 0.1, 'hn': 64, 'lr': 0.001}</td>\n",
              "      <td>0.698973</td>\n",
              "      <td>0.009021</td>\n",
              "    </tr>\n",
              "    <tr>\n",
              "      <th>127</th>\n",
              "      <td>{'filters': 128, 'filter_sizes': [2, 3, 4], 'dropout': 0.5, 'hn': 124, 'lr': 0.0001}</td>\n",
              "      <td>0.698614</td>\n",
              "      <td>0.010202</td>\n",
              "    </tr>\n",
              "    <tr>\n",
              "      <th>274</th>\n",
              "      <td>{'filters': 256, 'filter_sizes': [3, 4, 5], 'dropout': 0.5, 'hn': 512, 'lr': 0.001}</td>\n",
              "      <td>0.698546</td>\n",
              "      <td>0.007799</td>\n",
              "    </tr>\n",
              "    <tr>\n",
              "      <th>271</th>\n",
              "      <td>{'filters': 256, 'filter_sizes': [3, 4, 5], 'dropout': 0.5, 'hn': 124, 'lr': 0.0001}</td>\n",
              "      <td>0.698533</td>\n",
              "      <td>0.012795</td>\n",
              "    </tr>\n",
              "    <tr>\n",
              "      <th>14</th>\n",
              "      <td>{'filters': 32, 'filter_sizes': [2, 3, 4], 'dropout': 0.5, 'hn': 64, 'lr': 0.001}</td>\n",
              "      <td>0.698085</td>\n",
              "      <td>0.015261</td>\n",
              "    </tr>\n",
              "    <tr>\n",
              "      <th>230</th>\n",
              "      <td>{'filters': 256, 'filter_sizes': [2, 3, 4], 'dropout': 0.5, 'hn': 64, 'lr': 0.001}</td>\n",
              "      <td>0.697862</td>\n",
              "      <td>0.013440</td>\n",
              "    </tr>\n",
              "    <tr>\n",
              "      <th>126</th>\n",
              "      <td>{'filters': 128, 'filter_sizes': [2, 3, 4], 'dropout': 0.5, 'hn': 124, 'lr': 0.001}</td>\n",
              "      <td>0.697779</td>\n",
              "      <td>0.010987</td>\n",
              "    </tr>\n",
              "    <tr>\n",
              "      <th>306</th>\n",
              "      <td>{'filters': 256, 'filter_sizes': [4, 5, 6], 'dropout': 0.5, 'hn': 124, 'lr': 0.001}</td>\n",
              "      <td>0.697731</td>\n",
              "      <td>0.013169</td>\n",
              "    </tr>\n",
              "    <tr>\n",
              "      <th>235</th>\n",
              "      <td>{'filters': 256, 'filter_sizes': [2, 3, 4], 'dropout': 0.5, 'hn': 124, 'lr': 0.0001}</td>\n",
              "      <td>0.697710</td>\n",
              "      <td>0.008633</td>\n",
              "    </tr>\n",
              "    <tr>\n",
              "      <th>162</th>\n",
              "      <td>{'filters': 128, 'filter_sizes': [3, 4, 5], 'dropout': 0.5, 'hn': 124, 'lr': 0.001}</td>\n",
              "      <td>0.697369</td>\n",
              "      <td>0.007379</td>\n",
              "    </tr>\n",
              "    <tr>\n",
              "      <th>159</th>\n",
              "      <td>{'filters': 128, 'filter_sizes': [3, 4, 5], 'dropout': 0.5, 'hn': 64, 'lr': 0.0001}</td>\n",
              "      <td>0.696833</td>\n",
              "      <td>0.007689</td>\n",
              "    </tr>\n",
              "    <tr>\n",
              "      <th>303</th>\n",
              "      <td>{'filters': 256, 'filter_sizes': [4, 5, 6], 'dropout': 0.5, 'hn': 64, 'lr': 0.0001}</td>\n",
              "      <td>0.696753</td>\n",
              "      <td>0.011056</td>\n",
              "    </tr>\n",
              "    <tr>\n",
              "      <th>267</th>\n",
              "      <td>{'filters': 256, 'filter_sizes': [3, 4, 5], 'dropout': 0.5, 'hn': 64, 'lr': 0.0001}</td>\n",
              "      <td>0.696207</td>\n",
              "      <td>0.011159</td>\n",
              "    </tr>\n",
              "    <tr>\n",
              "      <th>302</th>\n",
              "      <td>{'filters': 256, 'filter_sizes': [4, 5, 6], 'dropout': 0.5, 'hn': 64, 'lr': 0.001}</td>\n",
              "      <td>0.696047</td>\n",
              "      <td>0.005561</td>\n",
              "    </tr>\n",
              "    <tr>\n",
              "      <th>222</th>\n",
              "      <td>{'filters': 256, 'filter_sizes': [2, 3, 4], 'dropout': 0.1, 'hn': 124, 'lr': 0.001}</td>\n",
              "      <td>0.695855</td>\n",
              "      <td>0.005695</td>\n",
              "    </tr>\n",
              "    <tr>\n",
              "      <th>122</th>\n",
              "      <td>{'filters': 128, 'filter_sizes': [2, 3, 4], 'dropout': 0.5, 'hn': 64, 'lr': 0.001}</td>\n",
              "      <td>0.695842</td>\n",
              "      <td>0.016075</td>\n",
              "    </tr>\n",
              "    <tr>\n",
              "      <th>258</th>\n",
              "      <td>{'filters': 256, 'filter_sizes': [3, 4, 5], 'dropout': 0.1, 'hn': 124, 'lr': 0.001}</td>\n",
              "      <td>0.695091</td>\n",
              "      <td>0.004477</td>\n",
              "    </tr>\n",
              "  </tbody>\n",
              "</table>\n",
              "</div>"
            ],
            "text/plain": [
              "                                                                               hyper_parm      mean       std\n",
              "231   {'filters': 256, 'filter_sizes': [2, 3, 4], 'dropout': 0.5, 'hn': 64, 'lr': 0.0001}  0.705910  0.004856\n",
              "218    {'filters': 256, 'filter_sizes': [2, 3, 4], 'dropout': 0.1, 'hn': 64, 'lr': 0.001}  0.703817  0.011898\n",
              "234   {'filters': 256, 'filter_sizes': [2, 3, 4], 'dropout': 0.5, 'hn': 124, 'lr': 0.001}  0.703300  0.005910\n",
              "254    {'filters': 256, 'filter_sizes': [3, 4, 5], 'dropout': 0.1, 'hn': 64, 'lr': 0.001}  0.698973  0.009021\n",
              "127  {'filters': 128, 'filter_sizes': [2, 3, 4], 'dropout': 0.5, 'hn': 124, 'lr': 0.0001}  0.698614  0.010202\n",
              "274   {'filters': 256, 'filter_sizes': [3, 4, 5], 'dropout': 0.5, 'hn': 512, 'lr': 0.001}  0.698546  0.007799\n",
              "271  {'filters': 256, 'filter_sizes': [3, 4, 5], 'dropout': 0.5, 'hn': 124, 'lr': 0.0001}  0.698533  0.012795\n",
              "14      {'filters': 32, 'filter_sizes': [2, 3, 4], 'dropout': 0.5, 'hn': 64, 'lr': 0.001}  0.698085  0.015261\n",
              "230    {'filters': 256, 'filter_sizes': [2, 3, 4], 'dropout': 0.5, 'hn': 64, 'lr': 0.001}  0.697862  0.013440\n",
              "126   {'filters': 128, 'filter_sizes': [2, 3, 4], 'dropout': 0.5, 'hn': 124, 'lr': 0.001}  0.697779  0.010987\n",
              "306   {'filters': 256, 'filter_sizes': [4, 5, 6], 'dropout': 0.5, 'hn': 124, 'lr': 0.001}  0.697731  0.013169\n",
              "235  {'filters': 256, 'filter_sizes': [2, 3, 4], 'dropout': 0.5, 'hn': 124, 'lr': 0.0001}  0.697710  0.008633\n",
              "162   {'filters': 128, 'filter_sizes': [3, 4, 5], 'dropout': 0.5, 'hn': 124, 'lr': 0.001}  0.697369  0.007379\n",
              "159   {'filters': 128, 'filter_sizes': [3, 4, 5], 'dropout': 0.5, 'hn': 64, 'lr': 0.0001}  0.696833  0.007689\n",
              "303   {'filters': 256, 'filter_sizes': [4, 5, 6], 'dropout': 0.5, 'hn': 64, 'lr': 0.0001}  0.696753  0.011056\n",
              "267   {'filters': 256, 'filter_sizes': [3, 4, 5], 'dropout': 0.5, 'hn': 64, 'lr': 0.0001}  0.696207  0.011159\n",
              "302    {'filters': 256, 'filter_sizes': [4, 5, 6], 'dropout': 0.5, 'hn': 64, 'lr': 0.001}  0.696047  0.005561\n",
              "222   {'filters': 256, 'filter_sizes': [2, 3, 4], 'dropout': 0.1, 'hn': 124, 'lr': 0.001}  0.695855  0.005695\n",
              "122    {'filters': 128, 'filter_sizes': [2, 3, 4], 'dropout': 0.5, 'hn': 64, 'lr': 0.001}  0.695842  0.016075\n",
              "258   {'filters': 256, 'filter_sizes': [3, 4, 5], 'dropout': 0.1, 'hn': 124, 'lr': 0.001}  0.695091  0.004477"
            ]
          },
          "metadata": {
            "tags": []
          },
          "execution_count": 21
        }
      ]
    },
    {
      "cell_type": "code",
      "metadata": {
        "id": "EXOrHxK147iM"
      },
      "source": [
        "model = kim_cnn((65,128, ), filters = 256, filter_sizes = [2,3,4], dropout = 0.5, hn=64, lr=0.0001, print_model=False)\n",
        "best_callback = ReturnBestEarlyStopping(monitor=\"val_loss\", min_delta=0, patience=100, verbose=1, mode=\"min\", restore_best_weights=True)\n",
        "\n",
        "history = model.fit(X_train, y_train, batch_size=128, epochs=200, validation_data=(X_val, y_val), callbacks=[best_callback], verbose = 1)"
      ],
      "execution_count": null,
      "outputs": []
    },
    {
      "cell_type": "code",
      "metadata": {
        "id": "rDeHevTm47iM"
      },
      "source": [
        "print(model.evaluate(X_train, y_train))\n",
        "print(model.evaluate(X_val, y_val))\n",
        "print(model.evaluate(X_test, y_test))\n",
        "plot_history(history)"
      ],
      "execution_count": null,
      "outputs": []
    },
    {
      "cell_type": "markdown",
      "metadata": {
        "id": "gpoHM_17nsGx"
      },
      "source": [
        "# ensemble predictions"
      ]
    },
    {
      "cell_type": "code",
      "metadata": {
        "id": "Yusc82JxLlCI"
      },
      "source": [
        "from sklearn.model_selection import StratifiedKFold\n",
        "from sklearn.metrics import accuracy_score"
      ],
      "execution_count": null,
      "outputs": []
    },
    {
      "cell_type": "code",
      "metadata": {
        "colab": {
          "base_uri": "https://localhost:8080/"
        },
        "id": "bNJ-dBNaStU_",
        "outputId": "b753c966-a7fd-44e8-8d0d-ff54b87f1b46"
      },
      "source": [
        "cv_kfold = StratifiedKFold(n_splits=5, shuffle=True)\n",
        "\n",
        "models = []\n",
        "X = X_train\n",
        "X_extra = X_train2\n",
        "y = y_train\n",
        "test   = {\"text\": X_val, \"extra\": X_val2}\n",
        "\n",
        "y_test = y_val\n",
        "\n",
        "for train_index, test_index in cv_kfold.split(X, y):\n",
        "  model = build_model()\n",
        "  model.compile(\n",
        "      loss=tf.keras.losses.BinaryCrossentropy(),\n",
        "      #optimizer=tf.keras.optimizers.Adam(learning_rate=0.007, amsgrad=True),\n",
        "      optimizer = tf.keras.optimizers.SGD(learning_rate=0.007, momentum=0.4, nesterov=True),\n",
        "      metrics=[\"accuracy\"]\n",
        "  )\n",
        "  input_train = {\"text\": X[train_index], \"extra\": X_extra[train_index]}\n",
        "  input_val   = {\"text\": X[test_index], \"extra\": X_extra[test_index]}\n",
        "  y_train = y[train_index]\n",
        "  y_val = y[test_index]\n",
        "  f1_callback1 = ROCCallback(validation = (input_val, y_val), verbose = 0)                                   \n",
        "  best_callback1 = ReturnBestEarlyStopping(monitor=\"val_f1\",\n",
        "                                          min_delta=0,\n",
        "                                          patience=200,\n",
        "                                          verbose=0,\n",
        "                                          mode=\"max\",\n",
        "                                          #baseline=0.72,\n",
        "                                          restore_best_weights=True)\n",
        "  model.fit(input_train, y_train, batch_size=128, epochs=200, validation_data=(input_val, y_val), callbacks=[f1_callback1, best_callback1], verbose=0)\n",
        "  y_test_pred = np.where(model.predict(test) >0.5,1,0)\n",
        "  print(f1_score(y_test,y_test_pred,average=\"macro\"))\n",
        "  models.append(model)\n"
      ],
      "execution_count": null,
      "outputs": [
        {
          "output_type": "stream",
          "text": [
            "0.7020388105758069\n",
            "0.7397104473272389\n",
            "0.7321598940789346\n",
            "0.7251979246114018\n",
            "0.7258058638290028\n"
          ],
          "name": "stdout"
        }
      ]
    },
    {
      "cell_type": "code",
      "metadata": {
        "id": "PDgupccPUMPY"
      },
      "source": [
        "def ensemble_predictions(members, testX):\n",
        "  # make predictions\n",
        "  results = []\n",
        "  yhats = [np.squeeze(np.where(models[0].predict(test) > 0.5, 1,0).reshape(1,-1)) for model in members]\n",
        "  # sum across ensemble members\n",
        "  yhats = np.array(yhats)\n",
        "  print(yhats.shape)\n",
        "\n",
        "  for i in range(yhats.shape[1]):\n",
        "    counts = np.bincount(yhats[:,i])\n",
        "    results.append(np.argmax(counts))\n",
        "  # argmax across classes\n",
        "  return results"
      ],
      "execution_count": null,
      "outputs": []
    },
    {
      "cell_type": "code",
      "metadata": {
        "colab": {
          "base_uri": "https://localhost:8080/"
        },
        "id": "kv5bzfLMbQaw",
        "outputId": "e3754d39-2c1d-4887-b552-237df1bea241"
      },
      "source": [
        "y_pred = ensemble_predictions(models, test)\n",
        "print(classification_report(y_test,y_pred))\n"
      ],
      "execution_count": null,
      "outputs": [
        {
          "output_type": "stream",
          "text": [
            "(5, 684)\n",
            "              precision    recall  f1-score   support\n",
            "\n",
            "           0       0.73      0.71      0.72       370\n",
            "           1       0.67      0.70      0.68       314\n",
            "\n",
            "    accuracy                           0.70       684\n",
            "   macro avg       0.70      0.70      0.70       684\n",
            "weighted avg       0.70      0.70      0.70       684\n",
            "\n"
          ],
          "name": "stdout"
        }
      ]
    },
    {
      "cell_type": "code",
      "metadata": {
        "id": "sjZoaZNzggCy"
      },
      "source": [
        ""
      ],
      "execution_count": null,
      "outputs": []
    }
  ]
}