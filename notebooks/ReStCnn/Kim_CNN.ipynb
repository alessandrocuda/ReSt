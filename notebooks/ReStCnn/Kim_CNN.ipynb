{
 "cells": [
  {
   "cell_type": "code",
   "execution_count": 1,
   "metadata": {
    "colab": {
     "base_uri": "https://localhost:8080/"
    },
    "id": "mcx-h8sODpMJ",
    "outputId": "4a4d2832-e081-44b1-e2ab-d0f47d3bdb36"
   },
   "outputs": [
    {
     "name": "stdout",
     "output_type": "stream",
     "text": [
      "Cloning into 'ReSt'...\n",
      "remote: Enumerating objects: 47, done.\u001b[K\n",
      "remote: Counting objects: 100% (47/47), done.\u001b[K\n",
      "remote: Compressing objects: 100% (42/42), done.\u001b[K\n",
      "remote: Total 134 (delta 4), reused 29 (delta 2), pack-reused 87\u001b[K\n",
      "Receiving objects: 100% (134/134), 79.56 MiB | 29.07 MiB/s, done.\n",
      "Resolving deltas: 100% (12/12), done.\n",
      "Checking out files: 100% (69/69), done.\n",
      "--2021-03-12 13:04:17--  http://www.italianlp.it/twitter128.bin\n",
      "Resolving www.italianlp.it (www.italianlp.it)... 146.48.92.46, 2a00:1620:c0:5c::8\n",
      "Connecting to www.italianlp.it (www.italianlp.it)|146.48.92.46|:80... connected.\n",
      "HTTP request sent, awaiting response... 200 OK\n",
      "Length: 613808129 (585M) [application/octet-stream]\n",
      "Saving to: ‘twitter128.bin’\n",
      "\n",
      "twitter128.bin      100%[===================>] 585.37M  27.1MB/s    in 25s     \n",
      "\n",
      "2021-03-12 13:04:43 (23.5 MB/s) - ‘twitter128.bin’ saved [613808129/613808129]\n",
      "\n"
     ]
    }
   ],
   "source": [
    "#!pip install fasttext\n",
    "!rm -rf ReST/\n",
    "!git clone https://github.com/alessandrocuda/ReSt\n",
    "!wget http://www.italianlp.it/twitter128.bin"
   ]
  },
  {
   "cell_type": "code",
   "execution_count": 2,
   "metadata": {
    "id": "foTfySiPDfOl"
   },
   "outputs": [],
   "source": [
    "import tensorflow as tf\n",
    "#import tensorflow_addons as tfa\n",
    "\n",
    "from tensorflow.keras import backend as K\n",
    "\n",
    "#from tensorflow.keras.engine import Layer, InputSpec, InputLayer\n",
    "\n",
    "from tensorflow.keras.models import Model, Sequential\n",
    "\n",
    "from tensorflow.keras.layers import Dropout, Embedding, concatenate\n",
    "from tensorflow.keras.layers import Conv1D, MaxPool1D, Conv2D, MaxPool2D, ZeroPadding1D, GlobalMaxPool1D, GlobalAveragePooling1D\n",
    "from tensorflow.keras.layers import Dense, Input, Flatten, BatchNormalization, Activation\n",
    "from tensorflow.keras.layers import Concatenate, Dot, Concatenate, Multiply, RepeatVector\n",
    "from tensorflow.keras.layers import Bidirectional, TimeDistributed\n",
    "from tensorflow.keras.layers import SimpleRNN, LSTM, GRU, Lambda, Permute\n",
    "from tensorflow.keras.optimizers import Adam\n",
    "from tensorflow.keras.callbacks import ModelCheckpoint,EarlyStopping\n",
    "from tensorflow.keras.regularizers import l2\n",
    "from tensorflow.keras.preprocessing.sequence import pad_sequences\n",
    "from tensorflow.keras.models import load_model\n",
    "\n",
    "from sklearn.model_selection import train_test_split\n",
    "from sklearn.metrics import classification_report, f1_score\n",
    "\n",
    "from gensim.models import KeyedVectors\n",
    "from gensim.models import Word2Vec\n",
    "\n",
    "#import fasttext.util\n",
    "\n",
    "import pandas as pd\n",
    "import numpy as np\n",
    "import matplotlib.pyplot as plt\n",
    "\n",
    "from gensim.test.utils import datapath\n",
    "\n",
    "import sys\n",
    "root_project = \"/content/ReSt/\"\n",
    "#root_project = \"/Users/Alessandro/Dev/repos/ReSt/\"\n",
    "#root_project = \"/home/jupyter/SaRaH/\"\n",
    "sys.path.append(root_project)\n",
    "from src.data.utils import load_csv_to_dict, set_unkmark_token\n",
    "from src.data.word_embedding import get_index_key_association, get_int_seq, build_keras_embedding_matrix, get_data_to_emb\n",
    "\n",
    "%load_ext autoreload\n",
    "%autoreload 2"
   ]
  },
  {
   "cell_type": "code",
   "execution_count": 3,
   "metadata": {
    "colab": {
     "base_uri": "https://localhost:8080/"
    },
    "id": "3vVGZwnHDfOo",
    "outputId": "6e1a836b-0d0d-4604-d314-8c2ff65fca66"
   },
   "outputs": [
    {
     "name": "stdout",
     "output_type": "stream",
     "text": [
      "2.4.1\n"
     ]
    }
   ],
   "source": [
    "print(tf.__version__)"
   ]
  },
  {
   "cell_type": "markdown",
   "metadata": {
    "id": "2cMyT07kLkcb"
   },
   "source": [
    "# Path"
   ]
  },
  {
   "cell_type": "code",
   "execution_count": 4,
   "metadata": {
    "id": "DThTDXDJLkcc"
   },
   "outputs": [],
   "source": [
    "#PATH\n",
    "dataset_dev_path           = root_project + \"dataset/haspeede2/preprocessed/dev/dev.csv\"\n",
    "dataset_test_tweets_path   = root_project + \"dataset/haspeede2/preprocessed/reference/reference_tweets.csv\"\n",
    "w2v_bin_path               = \"/content/twitter128.bin\"\n",
    "#w2v_bin_path               = root_project + 'results/model/word2vec/twitter128.bin'"
   ]
  },
  {
   "cell_type": "markdown",
   "metadata": {
    "id": "yA9qmH2kLkcc"
   },
   "source": [
    "# Embedding"
   ]
  },
  {
   "cell_type": "code",
   "execution_count": 5,
   "metadata": {
    "colab": {
     "base_uri": "https://localhost:8080/"
    },
    "id": "WqsE1qU5Lkcd",
    "outputId": "c3ea32a1-a63d-4b4d-e096-18506257b929"
   },
   "outputs": [
    {
     "name": "stdout",
     "output_type": "stream",
     "text": [
      "Vocab_size is 1170776\n",
      "Embedding_matrix with unk word loaded\n",
      "Shape (1170777, 128)\n"
     ]
    }
   ],
   "source": [
    "#load word2vec and embedding_matrix\n",
    "w2v = KeyedVectors.load_word2vec_format(datapath(w2v_bin_path), binary=True)\n",
    "index_to_key, key_to_index = get_index_key_association(w2v)\n",
    "embedding_matrix, vocab_size = build_keras_embedding_matrix(w2v, index_to_key)\n",
    "\n",
    "WORD_EMB_SIZE = 128\n",
    "VOCAB_SIZE = vocab_size"
   ]
  },
  {
   "cell_type": "markdown",
   "metadata": {
    "id": "_I4VbMeODfOp"
   },
   "source": [
    "# DATA"
   ]
  },
  {
   "cell_type": "code",
   "execution_count": 6,
   "metadata": {
    "id": "z9h4bvdkLkcf"
   },
   "outputs": [],
   "source": [
    "#load dataset dictionary\n",
    "dataset_dev = load_csv_to_dict(dataset_dev_path)\n",
    "dataset_test_tweets = load_csv_to_dict(dataset_test_tweets_path)"
   ]
  },
  {
   "cell_type": "code",
   "execution_count": 7,
   "metadata": {
    "id": "yxbKY2NxLkcf"
   },
   "outputs": [],
   "source": [
    "def load_data(dataset_dict, w2v, key_to_index, embedding_matrix, max_text_len):\n",
    "    #TODO: deve ritornare anche tutto il resto, extra, lemma, stem, ...\n",
    "    senteces = dataset_dict[\"tokens\"]\n",
    "    X = dataset_dict[\"tokens\"]\n",
    "    X = set_unkmark_token(X, w2v)\n",
    "    X = get_int_seq(X, key_to_index)\n",
    "    X = pad_sequences(X, maxlen=MAX_TEXT_LEN, padding='post', truncating='post')\n",
    "    X = np.array(X)\n",
    "    y = np.array(dataset_dict[\"stereotype\"])\n",
    "    return X, y\n",
    "\n",
    "def to_emb(X):\n",
    "    return np.array([ [ embedding_matrix[index_word] for index_word in sentence] for sentence in X])"
   ]
  },
  {
   "cell_type": "code",
   "execution_count": 16,
   "metadata": {
    "id": "uRkY4b27Lkcf"
   },
   "outputs": [],
   "source": [
    "#load dev/test\n",
    "MAX_TEXT_LEN = 65\n",
    "\n",
    "X, y = load_data(dataset_dev, w2v, key_to_index,embedding_matrix, MAX_TEXT_LEN)\n",
    "X_e = to_emb(X)\n",
    "X_test, y_test = load_data(dataset_test_tweets, w2v, key_to_index, embedding_matrix, MAX_TEXT_LEN)\n",
    "X_test_e = to_emb(X_test)"
   ]
  },
  {
   "cell_type": "markdown",
   "metadata": {
    "id": "nZLD5i2095pp"
   },
   "source": [
    "# Split"
   ]
  },
  {
   "cell_type": "code",
   "execution_count": 17,
   "metadata": {
    "id": "u3Y3BXjJDfOu"
   },
   "outputs": [],
   "source": [
    "X_train, X_val, y_train, y_val = train_test_split(X_e, y, test_size=0.10, random_state=128)"
   ]
  },
  {
   "cell_type": "markdown",
   "metadata": {
    "id": "PYKIBfnoMH_E"
   },
   "source": [
    "# Metrics"
   ]
  },
  {
   "cell_type": "code",
   "execution_count": 10,
   "metadata": {
    "id": "TTm6puSuMJ1A"
   },
   "outputs": [],
   "source": [
    "def f1_sklean_mapping_macro(y_true, y_pred):\n",
    "    return f1_score(y_true, y_pred, average=\"macro\")\n",
    "\n",
    "def f1_macro(y_true, y_pred):\n",
    "    return tf.py_function(f1_sklean_mapping_macro, (y_true, K.round(y_pred)), tf.double)"
   ]
  },
  {
   "cell_type": "markdown",
   "metadata": {
    "id": "T5SRBV3K99Mh"
   },
   "source": [
    "# callback"
   ]
  },
  {
   "cell_type": "code",
   "execution_count": 11,
   "metadata": {
    "id": "cQbbgMnVDfOu"
   },
   "outputs": [],
   "source": [
    "class FCallback(tf.keras.callbacks.Callback):\n",
    "  \n",
    "    def __init__(self, validation = (), verbose = 0):\n",
    "        self.validation = validation\n",
    "        self.verbose = verbose\n",
    "\n",
    "    def on_train_begin(self, logs={}):\n",
    "        self.f1 = []\n",
    "        self.val_f1 = []\n",
    "    def on_epoch_end(self, epoch, logs=None):\n",
    "        y_t =  self.validation[1]\n",
    "        y_p =  np.where(self.model.predict(self.validation[0]) > 0.5, 1, 0)\n",
    "        logs['val_f1'] =  f1_score(y_t, y_p, average='macro')\n",
    "        if self.verbose >0:\n",
    "            print(\"— val_f1: {}\".format(logs['val_f1']))\n",
    "\n",
    "class ReturnBestEarlyStopping(EarlyStopping):\n",
    "    def __init__(self, **kwargs):\n",
    "        super(ReturnBestEarlyStopping, self).__init__(**kwargs)\n",
    "\n",
    "    def on_train_end(self, logs=None):\n",
    "        if self.stopped_epoch > 0:\n",
    "            if self.verbose > 0:\n",
    "                print(f'\\nEpoch {self.stopped_epoch + 1}: early stopping')\n",
    "        elif self.restore_best_weights:\n",
    "            if self.verbose > 0:\n",
    "                print('Restoring model weights from the end of the best epoch.')\n",
    "            self.model.set_weights(self.best_weights)"
   ]
  },
  {
   "cell_type": "markdown",
   "metadata": {
    "id": "XrLamIrFLkci"
   },
   "source": [
    "# KIM-CNN"
   ]
  },
  {
   "cell_type": "code",
   "execution_count": 26,
   "metadata": {
    "id": "HfQax4baLkcj"
   },
   "outputs": [],
   "source": [
    "def kim_cnn(print_model=False):\n",
    "    \"\"\" HyperParameters \"\"\"\n",
    "    FILTERS = 256\n",
    "    output_dims = 1\n",
    "    hidden_dims= 1\n",
    "\n",
    "    text_seq_input = Input(shape=(MAX_TEXT_LEN, WORD_EMB_SIZE,), name=\"text\")\n",
    "    #text_embedding = Embedding(VOCAB_SIZE, WORD_EMB_SIZE, input_length=MAX_TEXT_LEN,\n",
    "    #                           weights=[embedding_matrix], trainable=False)(text_seq_input)\n",
    "\n",
    "    filter_sizes = [2,4,6]\n",
    "    convs = []\n",
    "    for filter_size in filter_sizes:\n",
    "        l_conv = Conv1D(filters=FILTERS, kernel_size=filter_size)(text_seq_input)\n",
    "        l_bn   = BatchNormalization()(l_conv)\n",
    "        l_relu = Activation(\"relu\")(l_bn)\n",
    "        l_pool = GlobalMaxPool1D()(l_relu)   \n",
    "        convs.append(l_pool)\n",
    "\n",
    "    l_merge = Concatenate(axis=1)(convs)\n",
    "    # since the text is too long we are maxooling over 100\n",
    "    # and not GlobalMaxPool1D\n",
    "    l_flat = Flatten()(l_merge)\n",
    "    l_hidden = Dense(256, activation='relu')(l_flat)\n",
    "    l = Dropout(0.5)(l_hidden)\n",
    "    l_hidden = Dense(128, activation='relu')(l)\n",
    "    l = Dropout(0.5)(l_hidden)\n",
    "    l_out_st = Dense(1, activation='sigmoid', name=\"st\")(l)  #dims output\n",
    "\n",
    "    model_cnn = Model(inputs=text_seq_input, outputs=l_out_st)\n",
    "    if print_model:\n",
    "        model_cnn.summary()\n",
    "        tf.keras.utils.plot_model(model_cnn, \"my_first_model.png\", show_shapes=True)\n",
    "    return model_cnn"
   ]
  },
  {
   "cell_type": "code",
   "execution_count": 27,
   "metadata": {
    "colab": {
     "base_uri": "https://localhost:8080/"
    },
    "id": "nfxuewsRLkcl",
    "outputId": "051146e9-7048-41cd-ed37-0527d21a7d09"
   },
   "outputs": [
    {
     "name": "stdout",
     "output_type": "stream",
     "text": [
      "Model: \"model_4\"\n",
      "__________________________________________________________________________________________________\n",
      "Layer (type)                    Output Shape         Param #     Connected to                     \n",
      "==================================================================================================\n",
      "text (InputLayer)               [(None, 65, 128)]    0                                            \n",
      "__________________________________________________________________________________________________\n",
      "conv1d_12 (Conv1D)              (None, 64, 256)      65792       text[0][0]                       \n",
      "__________________________________________________________________________________________________\n",
      "conv1d_13 (Conv1D)              (None, 62, 256)      131328      text[0][0]                       \n",
      "__________________________________________________________________________________________________\n",
      "conv1d_14 (Conv1D)              (None, 60, 256)      196864      text[0][0]                       \n",
      "__________________________________________________________________________________________________\n",
      "batch_normalization (BatchNorma (None, 64, 256)      1024        conv1d_12[0][0]                  \n",
      "__________________________________________________________________________________________________\n",
      "batch_normalization_1 (BatchNor (None, 62, 256)      1024        conv1d_13[0][0]                  \n",
      "__________________________________________________________________________________________________\n",
      "batch_normalization_2 (BatchNor (None, 60, 256)      1024        conv1d_14[0][0]                  \n",
      "__________________________________________________________________________________________________\n",
      "activation_12 (Activation)      (None, 64, 256)      0           batch_normalization[0][0]        \n",
      "__________________________________________________________________________________________________\n",
      "activation_13 (Activation)      (None, 62, 256)      0           batch_normalization_1[0][0]      \n",
      "__________________________________________________________________________________________________\n",
      "activation_14 (Activation)      (None, 60, 256)      0           batch_normalization_2[0][0]      \n",
      "__________________________________________________________________________________________________\n",
      "global_max_pooling1d_12 (Global (None, 256)          0           activation_12[0][0]              \n",
      "__________________________________________________________________________________________________\n",
      "global_max_pooling1d_13 (Global (None, 256)          0           activation_13[0][0]              \n",
      "__________________________________________________________________________________________________\n",
      "global_max_pooling1d_14 (Global (None, 256)          0           activation_14[0][0]              \n",
      "__________________________________________________________________________________________________\n",
      "concatenate_4 (Concatenate)     (None, 768)          0           global_max_pooling1d_12[0][0]    \n",
      "                                                                 global_max_pooling1d_13[0][0]    \n",
      "                                                                 global_max_pooling1d_14[0][0]    \n",
      "__________________________________________________________________________________________________\n",
      "flatten_4 (Flatten)             (None, 768)          0           concatenate_4[0][0]              \n",
      "__________________________________________________________________________________________________\n",
      "dense_8 (Dense)                 (None, 256)          196864      flatten_4[0][0]                  \n",
      "__________________________________________________________________________________________________\n",
      "dropout_20 (Dropout)            (None, 256)          0           dense_8[0][0]                    \n",
      "__________________________________________________________________________________________________\n",
      "dense_9 (Dense)                 (None, 128)          32896       dropout_20[0][0]                 \n",
      "__________________________________________________________________________________________________\n",
      "dropout_21 (Dropout)            (None, 128)          0           dense_9[0][0]                    \n",
      "__________________________________________________________________________________________________\n",
      "st (Dense)                      (None, 1)            129         dropout_21[0][0]                 \n",
      "==================================================================================================\n",
      "Total params: 626,945\n",
      "Trainable params: 625,409\n",
      "Non-trainable params: 1,536\n",
      "__________________________________________________________________________________________________\n"
     ]
    }
   ],
   "source": [
    "#del model\n",
    "model = kim_cnn(True)"
   ]
  },
  {
   "cell_type": "code",
   "execution_count": null,
   "metadata": {
    "id": "fZay3rNELkcm"
   },
   "outputs": [],
   "source": [
    "model.compile(\n",
    "    loss= tf.keras.losses.BinaryCrossentropy(from_logits=True),\n",
    "    optimizer=tf.keras.optimizers.Adam(learning_rate=0.001, amsgrad=False),\n",
    "    #optimizer = tf.keras.optimizers.SGD(learning_rate=0.07, momentum=0, nesterov=False),\n",
    "    metrics=[f1_macro]\n",
    ")\n",
    "#mc = ModelCheckpoint('best_model.h5', monitor='val_f1_macro', mode='max', save_best_only=True, verbose=1)\n",
    "#es = EarlyStopping(monitor=\"val_f1_macro\", min_delta=0, patience=200, verbose=1, mode=\"max\", restore_best_weights=False)\n",
    "f1_callback = FCallback(validation = (X_test_e, y_test), verbose=True)                                   \n",
    "best_callback = ReturnBestEarlyStopping(monitor=\"val_f1_macro\", min_delta=0, patience=100, verbose=1, mode=\"max\", restore_best_weights=True)\n",
    "\n",
    "history = model.fit(X_train, y_train, batch_size=128, epochs=200, validation_data=(X_val, y_val), callbacks=[f1_callback, best_callback], verbose = 1)\n",
    "#model_cnn = load_model('best_model.h5', custom_objects={'f1_macro': f1_macro})"
   ]
  },
  {
   "cell_type": "code",
   "execution_count": 32,
   "metadata": {
    "colab": {
     "base_uri": "https://localhost:8080/"
    },
    "id": "9zXBE_F-y25e",
    "outputId": "60156d03-46a1-4805-beaa-d22a67b4073a"
   },
   "outputs": [
    {
     "name": "stdout",
     "output_type": "stream",
     "text": [
      "0.7202573793132983\n",
      "              precision    recall  f1-score   support\n",
      "\n",
      "           0       0.76      0.71      0.73       369\n",
      "           1       0.68      0.74      0.71       315\n",
      "\n",
      "    accuracy                           0.72       684\n",
      "   macro avg       0.72      0.72      0.72       684\n",
      "weighted avg       0.72      0.72      0.72       684\n",
      "\n"
     ]
    }
   ],
   "source": [
    "y_val_pred = np.where(model.predict(X_val) >0.5,1,0)\n",
    "print(f1_score(y_val, y_val_pred, average=\"macro\"))\n",
    "print(classification_report(y_val, y_val_pred))"
   ]
  },
  {
   "cell_type": "code",
   "execution_count": 34,
   "metadata": {
    "colab": {
     "base_uri": "https://localhost:8080/"
    },
    "id": "NFKnxmfaQwpp",
    "outputId": "593587d4-ea18-40c9-8836-36732dad3313"
   },
   "outputs": [
    {
     "name": "stdout",
     "output_type": "stream",
     "text": [
      "(1263,)\n",
      "0.6855554991148212\n",
      "              precision    recall  f1-score   support\n",
      "\n",
      "           0       0.75      0.64      0.69       694\n",
      "           1       0.63      0.74      0.68       569\n",
      "\n",
      "    accuracy                           0.69      1263\n",
      "   macro avg       0.69      0.69      0.69      1263\n",
      "weighted avg       0.70      0.69      0.69      1263\n",
      "\n"
     ]
    }
   ],
   "source": [
    "y_test_pred = np.where(model.predict(X_test_e) > 0.5, 1, 0)\n",
    "print(y_test.shape)\n",
    "print(f1_score(y_test, y_test_pred, average=\"macro\"))\n",
    "print(classification_report(y_test, y_test_pred))"
   ]
  },
  {
   "cell_type": "markdown",
   "metadata": {
    "id": "-tCRl-ykzgoW"
   },
   "source": [
    "|        \t|        \t|              \t|    0   \t|        \t|        \t|    1   \t|        \t|        \t|          \t|\n",
    "|--------\t|--------\t|--------------\t|:------:\t|:------:\t|:------:\t|:------:\t|:------:\t|:------:\t|:--------:\t|\n",
    "|        \t|        \t|              \t|    P   \t|    R   \t|   F1   \t|    P   \t|    R   \t|   F1   \t| **Macro-F1** \t|\n",
    "| **TASK B** \t|  **News**  \t| Baseline_MFC \t|   0,65 \t|      1 \t| 0,7878 \t|      0 \t|      0 \t|      0 \t|   0,3939 \t|\n",
    "|        \t|        \t| Baseline_SVC \t| 0,7467 \t| 0,8707 \t| 0,8039 \t| 0,6528 \t| 0,4514 \t| 0,5337 \t|   0,6688 \t|\n",
    "|        \t| **Tweets** \t| Baseline_MFC \t| 0,5494 \t|      1 \t| 0,7092 \t|      0 \t|      0 \t|      0 \t|   0,3546 \t|\n",
    "|        \t|        \t| Baseline_SVC \t| 0,7869 \t| 0,6599 \t| 0,7178 \t| 0,6534 \t|  0,782 \t|  0,712 \t|   0,7149 \t|"
   ]
  },
  {
   "cell_type": "code",
   "execution_count": 29,
   "metadata": {
    "colab": {
     "base_uri": "https://localhost:8080/",
     "height": 313
    },
    "id": "xswAsFr4DfOv",
    "outputId": "2992ab55-0eb5-430d-a773-ed1415a8d4a0"
   },
   "outputs": [
    {
     "name": "stdout",
     "output_type": "stream",
     "text": [
      "dict_keys(['loss', 'f1_macro', 'val_loss', 'val_f1_macro', 'val_f1'])\n"
     ]
    },
    {
     "data": {
      "image/png": "[encoded data removed]",
      "text/plain": [
       "<Figure size 432x288 with 1 Axes>"
      ]
     },
     "metadata": {
      "needs_background": "light",
      "tags": []
     },
     "output_type": "display_data"
    }
   ],
   "source": [
    "print(history.history.keys())\n",
    "# summarize history for accuracy\n",
    "\n",
    "# summarize history for loss\n",
    "plt.plot(history.history['loss'])\n",
    "plt.plot(history.history['val_loss'])\n",
    "plt.title('model loss')\n",
    "plt.ylabel('loss')\n",
    "plt.xlabel('epoch')\n",
    "plt.legend(['train', 'test'], loc='upper left')\n",
    "plt.show()"
   ]
  },
  {
   "cell_type": "markdown",
   "metadata": {
    "id": "gpoHM_17nsGx"
   },
   "source": [
    "# ensemble predictions"
   ]
  },
  {
   "cell_type": "code",
   "execution_count": null,
   "metadata": {
    "id": "Yusc82JxLlCI"
   },
   "outputs": [],
   "source": [
    "from sklearn.model_selection import StratifiedKFold\n",
    "from sklearn.metrics import accuracy_score"
   ]
  },
  {
   "cell_type": "code",
   "execution_count": null,
   "metadata": {
    "colab": {
     "base_uri": "https://localhost:8080/"
    },
    "id": "bNJ-dBNaStU_",
    "outputId": "b753c966-a7fd-44e8-8d0d-ff54b87f1b46"
   },
   "outputs": [
    {
     "name": "stdout",
     "output_type": "stream",
     "text": [
      "0.7020388105758069\n",
      "0.7397104473272389\n",
      "0.7321598940789346\n",
      "0.7251979246114018\n",
      "0.7258058638290028\n"
     ]
    }
   ],
   "source": [
    "cv_kfold = StratifiedKFold(n_splits=5, shuffle=True)\n",
    "\n",
    "models = []\n",
    "X = X_train\n",
    "X_extra = X_train2\n",
    "y = y_train\n",
    "test   = {\"text\": X_val, \"extra\": X_val2}\n",
    "\n",
    "y_test = y_val\n",
    "\n",
    "for train_index, test_index in cv_kfold.split(X, y):\n",
    "  model = build_model()\n",
    "  model.compile(\n",
    "      loss=tf.keras.losses.BinaryCrossentropy(),\n",
    "      #optimizer=tf.keras.optimizers.Adam(learning_rate=0.007, amsgrad=True),\n",
    "      optimizer = tf.keras.optimizers.SGD(learning_rate=0.007, momentum=0.4, nesterov=True),\n",
    "      metrics=[\"accuracy\"]\n",
    "  )\n",
    "  input_train = {\"text\": X[train_index], \"extra\": X_extra[train_index]}\n",
    "  input_val   = {\"text\": X[test_index], \"extra\": X_extra[test_index]}\n",
    "  y_train = y[train_index]\n",
    "  y_val = y[test_index]\n",
    "  f1_callback1 = ROCCallback(validation = (input_val, y_val), verbose = 0)                                   \n",
    "  best_callback1 = ReturnBestEarlyStopping(monitor=\"val_f1\",\n",
    "                                          min_delta=0,\n",
    "                                          patience=200,\n",
    "                                          verbose=0,\n",
    "                                          mode=\"max\",\n",
    "                                          #baseline=0.72,\n",
    "                                          restore_best_weights=True)\n",
    "  model.fit(input_train, y_train, batch_size=128, epochs=200, validation_data=(input_val, y_val), callbacks=[f1_callback1, best_callback1], verbose=0)\n",
    "  y_test_pred = np.where(model.predict(test) >0.5,1,0)\n",
    "  print(f1_score(y_test,y_test_pred,average=\"macro\"))\n",
    "  models.append(model)\n"
   ]
  },
  {
   "cell_type": "code",
   "execution_count": null,
   "metadata": {
    "id": "PDgupccPUMPY"
   },
   "outputs": [],
   "source": [
    "def ensemble_predictions(members, testX):\n",
    "  # make predictions\n",
    "  results = []\n",
    "  yhats = [np.squeeze(np.where(models[0].predict(test) > 0.5, 1,0).reshape(1,-1)) for model in members]\n",
    "  # sum across ensemble members\n",
    "  yhats = np.array(yhats)\n",
    "  print(yhats.shape)\n",
    "\n",
    "  for i in range(yhats.shape[1]):\n",
    "    counts = np.bincount(yhats[:,i])\n",
    "    results.append(np.argmax(counts))\n",
    "  # argmax across classes\n",
    "  return results"
   ]
  },
  {
   "cell_type": "code",
   "execution_count": null,
   "metadata": {
    "colab": {
     "base_uri": "https://localhost:8080/"
    },
    "id": "kv5bzfLMbQaw",
    "outputId": "e3754d39-2c1d-4887-b552-237df1bea241"
   },
   "outputs": [
    {
     "name": "stdout",
     "output_type": "stream",
     "text": [
      "(5, 684)\n",
      "              precision    recall  f1-score   support\n",
      "\n",
      "           0       0.73      0.71      0.72       370\n",
      "           1       0.67      0.70      0.68       314\n",
      "\n",
      "    accuracy                           0.70       684\n",
      "   macro avg       0.70      0.70      0.70       684\n",
      "weighted avg       0.70      0.70      0.70       684\n",
      "\n"
     ]
    }
   ],
   "source": [
    "y_pred = ensemble_predictions(models, test)\n",
    "print(classification_report(y_test,y_pred))\n"
   ]
  },
  {
   "cell_type": "code",
   "execution_count": null,
   "metadata": {
    "id": "sjZoaZNzggCy"
   },
   "outputs": [],
   "source": []
  }
 ],
 "metadata": {
  "accelerator": "GPU",
  "colab": {
   "name": "model_implementation.ipynb",
   "provenance": [],
   "toc_visible": true
  },
  "kernelspec": {
   "display_name": "Python 3",
   "language": "python",
   "name": "python3"
  },
  "language_info": {
   "codemirror_mode": {
    "name": "ipython",
    "version": 3
   },
   "file_extension": ".py",
   "mimetype": "text/x-python",
   "name": "python",
   "nbconvert_exporter": "python",
   "pygments_lexer": "ipython3",
   "version": "3.7.8"
  }
 },
 "nbformat": 4,
 "nbformat_minor": 4
}
