{
 "cells": [
  {
   "cell_type": "code",
   "execution_count": 3,
   "metadata": {
    "colab": {
     "base_uri": "https://localhost:8080/"
    },
    "id": "mcx-h8sODpMJ",
    "outputId": "0c0c49a4-70ee-4301-a188-98d4745f9b1b"
   },
   "outputs": [
    {
     "name": "stdout",
     "output_type": "stream",
     "text": [
      "rm: cannot remove 'twitter128.bin': No such file or directory\n",
      "fatal: destination path 'ReSt' already exists and is not an empty directory.\n",
      "--2021-06-18 19:46:59--  http://www.italianlp.it/twitter128.bin\n",
      "Resolving www.italianlp.it (www.italianlp.it)... 146.48.92.46, 2a00:1620:c0:5c::8\n",
      "Connecting to www.italianlp.it (www.italianlp.it)|146.48.92.46|:80... connected.\n",
      "HTTP request sent, awaiting response... 200 OK\n",
      "Length: 613808129 (585M) [application/octet-stream]\n",
      "Saving to: ‘twitter128.bin’\n",
      "\n",
      "twitter128.bin      100%[===================>] 585.37M  13.2MB/s    in 46s     \n",
      "\n",
      "2021-06-18 19:47:45 (12.8 MB/s) - ‘twitter128.bin’ saved [613808129/613808129]\n",
      "\n"
     ]
    }
   ],
   "source": [
    "#!pip install fasttext\n",
    "!rm -rf ReST/\n",
    "!rm twitter128.bin\n",
    "!git clone https://github.com/alessandrocuda/ReSt\n",
    "!wget http://www.italianlp.it/twitter128.bin\n",
    "!mv /content/twitter128.bin /content/ReSt/results/model/word2vec"
   ]
  },
  {
   "cell_type": "code",
   "execution_count": 2,
   "metadata": {
    "id": "foTfySiPDfOl"
   },
   "outputs": [],
   "source": [
    "import tensorflow as tf\n",
    "#import tensorflow_addons as tfa\n",
    "\n",
    "from tensorflow.keras import backend as K\n",
    "\n",
    "#from tensorflow.keras.engine import Layer, InputSpec, InputLayer\n",
    "\n",
    "from tensorflow.keras.models import Model, Sequential\n",
    "\n",
    "from tensorflow.keras.layers import Dropout, Embedding, concatenate\n",
    "from tensorflow.keras.layers import Conv1D, MaxPool1D, Conv2D, MaxPool2D, ZeroPadding1D, GlobalMaxPool1D, GlobalAveragePooling1D\n",
    "from tensorflow.keras.layers import Dense, Input, Flatten, BatchNormalization, Activation\n",
    "from tensorflow.keras.layers import Concatenate, Dot, Concatenate, Multiply, RepeatVector\n",
    "from tensorflow.keras.layers import Bidirectional, TimeDistributed\n",
    "from tensorflow.keras.layers import SimpleRNN, LSTM, GRU, Lambda, Permute\n",
    "from tensorflow.keras.optimizers import Adam\n",
    "from tensorflow.keras.callbacks import ModelCheckpoint,EarlyStopping\n",
    "from tensorflow.keras.regularizers import l2\n",
    "from tensorflow.keras.preprocessing.sequence import pad_sequences\n",
    "from tensorflow.keras.models import load_model\n",
    "\n",
    "from sklearn.model_selection import train_test_split\n",
    "from sklearn.metrics import classification_report, f1_score\n",
    "\n",
    "from gensim.models import KeyedVectors\n",
    "from gensim.models import Word2Vec\n",
    "\n",
    "#import fasttext.util\n",
    "\n",
    "import pandas as pd\n",
    "import numpy as np\n",
    "import matplotlib.pyplot as plt\n",
    "\n",
    "from gensim.test.utils import datapath\n",
    "\n",
    "import sys\n",
    "#root_project = \"/content/ReSt/\"\n",
    "root_project = \"/Users/Alessandro/Dev/repos/ReSt/\"\n",
    "#root_project = \"/home/jupyter/ReSt/\"\n",
    "sys.path.append(root_project)\n",
    "from src.data.utils import load_csv_to_dict, set_unkmark_token, load_data, to_emb\n",
    "from src.data.word_embedding import get_index_key_association, get_int_seq, build_keras_embedding_matrix, get_data_to_emb, get_index_key_pos_association, get_one_hot_pos\n",
    "\n",
    "%load_ext autoreload\n",
    "%autoreload 2"
   ]
  },
  {
   "cell_type": "code",
   "execution_count": 3,
   "metadata": {
    "colab": {
     "base_uri": "https://localhost:8080/"
    },
    "id": "3vVGZwnHDfOo",
    "outputId": "82a911bd-7280-4586-d10d-09f4fd9cec55"
   },
   "outputs": [
    {
     "name": "stdout",
     "output_type": "stream",
     "text": [
      "2.4.1\n"
     ]
    }
   ],
   "source": [
    "print(tf.__version__)"
   ]
  },
  {
   "cell_type": "markdown",
   "metadata": {
    "id": "2cMyT07kLkcb"
   },
   "source": [
    "# Path"
   ]
  },
  {
   "cell_type": "code",
   "execution_count": 4,
   "metadata": {
    "id": "DThTDXDJLkcc"
   },
   "outputs": [],
   "source": [
    "#PATH\n",
    "dataset_dev_path           = root_project + \"dataset/haspeede2/preprocessed/dev/dev.csv\"\n",
    "dataset_test_tweets_path   = root_project + \"dataset/haspeede2/preprocessed/reference/reference_tweets.csv\"\n",
    "#w2v_bin_path               = \"/content/twitter128.bin\"\n",
    "w2v_bin_path               = root_project + 'results/model/word2vec/twitter128.bin'"
   ]
  },
  {
   "cell_type": "markdown",
   "metadata": {
    "id": "yA9qmH2kLkcc"
   },
   "source": [
    "# Embedding"
   ]
  },
  {
   "cell_type": "code",
   "execution_count": 7,
   "metadata": {
    "colab": {
     "base_uri": "https://localhost:8080/"
    },
    "id": "WqsE1qU5Lkcd",
    "outputId": "aa6528fb-f80b-489f-88a1-e1c4cdf7149d"
   },
   "outputs": [
    {
     "name": "stdout",
     "output_type": "stream",
     "text": [
      "Vocab_size is 1170776\n",
      "Embedding_matrix with unk word loaded\n",
      "Shape (1170777, 128)\n"
     ]
    }
   ],
   "source": [
    "#load word2vec and embedding_matrix\n",
    "w2v = KeyedVectors.load_word2vec_format(datapath(w2v_bin_path), binary=True)\n",
    "index_to_key, key_to_index = get_index_key_association(w2v)\n",
    "embedding_matrix, vocab_size = build_keras_embedding_matrix(w2v, index_to_key)\n",
    "\n",
    "WORD_EMB_SIZE = 128\n",
    "VOCAB_SIZE = vocab_size"
   ]
  },
  {
   "cell_type": "markdown",
   "metadata": {
    "id": "_I4VbMeODfOp"
   },
   "source": [
    "# DATA"
   ]
  },
  {
   "cell_type": "code",
   "execution_count": 8,
   "metadata": {
    "id": "z9h4bvdkLkcf"
   },
   "outputs": [],
   "source": [
    "#load dataset dictionary\n",
    "dataset_dev = load_csv_to_dict(dataset_dev_path)\n",
    "dataset_test_tweets = load_csv_to_dict(dataset_test_tweets_path)"
   ]
  },
  {
   "cell_type": "code",
   "execution_count": 9,
   "metadata": {
    "id": "yxbKY2NxLkcf"
   },
   "outputs": [],
   "source": [
    "def load_data(dataset_dict, w2v, key_to_index, embedding_matrix, max_text_len):\n",
    "    #TODO: deve ritornare anche tutto il resto, extra, lemma, stem, ...\n",
    "    senteces = dataset_dict[\"tokens\"]\n",
    "    X = dataset_dict[\"tokens\"]\n",
    "    X = set_unkmark_token(X, w2v)\n",
    "    X = get_int_seq(X, key_to_index)\n",
    "    X = pad_sequences(X, maxlen=MAX_TEXT_LEN, padding='post', truncating='post')\n",
    "    X = np.array(X)\n",
    "    y = np.array(dataset_dict[\"stereotype\"])\n",
    "    return X, y\n",
    "\n",
    "def to_emb(X):\n",
    "    return np.array([ [ embedding_matrix[index_word] for index_word in sentence] for sentence in X])"
   ]
  },
  {
   "cell_type": "code",
   "execution_count": 10,
   "metadata": {
    "id": "uRkY4b27Lkcf"
   },
   "outputs": [],
   "source": [
    "#load dev/test\n",
    "MAX_TEXT_LEN = 65\n",
    "\n",
    "X, y = load_data(dataset_dev, w2v, key_to_index,embedding_matrix, MAX_TEXT_LEN)\n",
    "X_e = to_emb(X)\n",
    "X_test, y_test = load_data(dataset_test_tweets, w2v, key_to_index, embedding_matrix, MAX_TEXT_LEN)\n",
    "X_test_e = to_emb(X_test)"
   ]
  },
  {
   "cell_type": "markdown",
   "metadata": {
    "id": "nZLD5i2095pp"
   },
   "source": [
    "# Split"
   ]
  },
  {
   "cell_type": "code",
   "execution_count": 33,
   "metadata": {
    "id": "u3Y3BXjJDfOu"
   },
   "outputs": [],
   "source": [
    "X_train, X_val, y_train, y_val = train_test_split(X_e, y, test_size=0.10, random_state=128)"
   ]
  },
  {
   "cell_type": "markdown",
   "metadata": {
    "id": "PYKIBfnoMH_E"
   },
   "source": [
    "# Metrics"
   ]
  },
  {
   "cell_type": "code",
   "execution_count": 11,
   "metadata": {
    "id": "TTm6puSuMJ1A"
   },
   "outputs": [],
   "source": [
    "def f1_sklean_mapping_macro(y_true, y_pred):\n",
    "    return f1_score(y_true, y_pred, average=\"macro\")\n",
    "\n",
    "def f1_macro(y_true, y_pred):\n",
    "    return tf.py_function(f1_sklean_mapping_macro, (y_true, K.round(y_pred)), tf.double)"
   ]
  },
  {
   "cell_type": "markdown",
   "metadata": {
    "id": "T5SRBV3K99Mh"
   },
   "source": [
    "# callback"
   ]
  },
  {
   "cell_type": "code",
   "execution_count": 12,
   "metadata": {
    "id": "cQbbgMnVDfOu"
   },
   "outputs": [],
   "source": [
    "class FCallback(tf.keras.callbacks.Callback):\n",
    "  \n",
    "    def __init__(self, validation = (), verbose = 0):\n",
    "        self.validation = validation\n",
    "        self.verbose = verbose\n",
    "\n",
    "    def on_train_begin(self, logs={}):\n",
    "        self.f1 = []\n",
    "        self.val_f1 = []\n",
    "    def on_epoch_end(self, epoch, logs=None):\n",
    "        y_t =  self.validation[1]\n",
    "        y_p =  np.where(self.model.predict(self.validation[0]) > 0.5, 1, 0)\n",
    "        logs['val_f1'] =  f1_score(y_t, y_p, average='macro')\n",
    "        if self.verbose >0:\n",
    "            print(\"— val_f1: {}\".format(logs['val_f1']))\n",
    "\n",
    "class GapCallback(tf.keras.callbacks.Callback):\n",
    "  \n",
    "    def __init__(self, train = (), validation = (), verbose = 0):\n",
    "        self.train = train\n",
    "        self.validation = validation\n",
    "        self.verbose = verbose\n",
    "\n",
    "    def on_train_begin(self, logs={}):\n",
    "        self.gap = []\n",
    "        self.val_gap = []\n",
    "    def on_epoch_end(self, epoch, logs=None):\n",
    "        y_t =  self.validation[1]\n",
    "        y_p =  np.where(self.model.predict(self.validation[0]) > 0.5, 1, 0)\n",
    "        val_f1 = f1_score(y_t, y_p, average='macro')\n",
    "        y_t =  self.train[1]\n",
    "        y_p =  np.where(self.model.predict(self.train[0]) > 0.5, 1, 0)\n",
    "        f1 = f1_score(y_t, y_p, average='macro')\n",
    "        logs['val_gap_f1'] =  np.abs( f1 - val_f1)\n",
    "        if self.verbose >0:\n",
    "            print(\"— val_gap_f1: {}\".format(logs['val_gap_f1']))\n",
    "\n",
    "class ReturnBestEarlyStopping(EarlyStopping):\n",
    "    def __init__(self, **kwargs):\n",
    "        super(ReturnBestEarlyStopping, self).__init__(**kwargs)\n",
    "\n",
    "    def on_train_end(self, logs=None):\n",
    "        if self.stopped_epoch > 0:\n",
    "            if self.verbose > 0:\n",
    "                print(f'\\nEpoch {self.stopped_epoch + 1}: early stopping')\n",
    "        elif self.restore_best_weights:\n",
    "            if self.verbose > 0:\n",
    "                print('Restoring model weights from the end of the best epoch.')\n",
    "            self.model.set_weights(self.best_weights)"
   ]
  },
  {
   "cell_type": "markdown",
   "metadata": {
    "id": "XrLamIrFLkci"
   },
   "source": [
    "# KIM-CNN"
   ]
  },
  {
   "cell_type": "code",
   "execution_count": 13,
   "metadata": {
    "id": "HfQax4baLkcj"
   },
   "outputs": [],
   "source": [
    "def kim_cnn(input_shape, filters = 256, filter_sizes = [2,4,6], dropout = 0.5, hn=128, lr=0.01, print_model=False):\n",
    "    import tensorflow as tf\n",
    "    from tensorflow.keras.models import Model\n",
    "    from tensorflow.keras.layers import Dropout\n",
    "    from tensorflow.keras.layers import Conv1D, GlobalMaxPool1D\n",
    "    from tensorflow.keras.layers import Dense, Input, Flatten, Activation\n",
    "    from tensorflow.keras.layers import Concatenate\n",
    "    from tensorflow.keras.regularizers import l2\n",
    "\n",
    "    \"\"\" HyperParameters \"\"\"\n",
    "\n",
    "    text_seq_input = Input(shape=input_shape, name=\"text\")\n",
    "\n",
    "    convs = []\n",
    "    for filter_size in filter_sizes:\n",
    "        l_conv = Conv1D(filters=filters, kernel_size=filter_size)(text_seq_input)\n",
    "        l_relu = Activation(\"relu\")(l_conv)\n",
    "        l_pool = GlobalMaxPool1D()(l_relu)   \n",
    "        convs.append(l_pool)\n",
    "\n",
    "    l_merge     = Concatenate(axis=1)(convs)\n",
    "\n",
    "    l_flat      = Flatten()(l_merge)\n",
    "    l_drop      = Dropout(dropout)(l_flat)\n",
    "    l_hidden    = Dense(hn, activation='relu')(l_drop)\n",
    "    l_drop      = Dropout(dropout)(l_hidden)\n",
    "    l_out_st    = Dense(1, activation='sigmoid', name=\"st\")(l_drop)  #dims output\n",
    "\n",
    "    model_cnn   = Model(inputs=text_seq_input, outputs=l_out_st)\n",
    "    if print_model:\n",
    "        model_cnn.summary()\n",
    "        tf.keras.utils.plot_model(model_cnn, \"my_first_model.png\", show_shapes=True)\n",
    "    \n",
    "    model_cnn.compile(\n",
    "        loss= tf.keras.losses.BinaryCrossentropy(),#(from_logits=True),\n",
    "        optimizer=tf.keras.optimizers.Adam(learning_rate=lr, amsgrad=False),\n",
    "        metrics= [f1_macro]\n",
    "    )\n",
    "\n",
    "    return model_cnn"
   ]
  },
  {
   "cell_type": "code",
   "execution_count": 18,
   "metadata": {
    "id": "nfxuewsRLkcl"
   },
   "outputs": [],
   "source": [
    "#del model\n",
    "model = kim_cnn((65,128, ), filters = 256, filter_sizes = [2,4,6], dropout = 0.5, hn=128, lr=0.01, print_model=False)"
   ]
  },
  {
   "cell_type": "code",
   "execution_count": 19,
   "metadata": {
    "colab": {
     "base_uri": "https://localhost:8080/"
    },
    "id": "fZay3rNELkcm",
    "outputId": "999c1568-e5f7-4fae-f9fc-a7881a201b3a",
    "scrolled": true,
    "tags": []
   },
   "outputs": [
    {
     "name": "stdout",
     "output_type": "stream",
     "text": [
      "Epoch 1/200\n"
     ]
    },
    {
     "name": "stderr",
     "output_type": "stream",
     "text": [
      "/usr/local/lib/python3.7/dist-packages/tensorflow/python/keras/backend.py:5017: UserWarning: \"`binary_crossentropy` received `from_logits=True`, but the `output` argument was produced by a sigmoid or softmax activation and thus does not represent logits. Was this intended?\"\n",
      "  '\"`binary_crossentropy` received `from_logits=True`, but the `output`'\n"
     ]
    },
    {
     "name": "stdout",
     "output_type": "stream",
     "text": [
      "49/49 [==============================] - 31s 21ms/step - loss: 0.9738 - f1_macro: 0.4983 - val_loss: 0.6924 - val_f1_macro: 0.3516\n",
      "— val_f1: 0.35462442514052117\n",
      "Epoch 2/200\n",
      "49/49 [==============================] - 1s 15ms/step - loss: 0.6883 - f1_macro: 0.4674 - val_loss: 0.6801 - val_f1_macro: 0.3516\n",
      "— val_f1: 0.35462442514052117\n",
      "Epoch 3/200\n",
      "49/49 [==============================] - 1s 14ms/step - loss: 0.6748 - f1_macro: 0.4393 - val_loss: 0.6668 - val_f1_macro: 0.3576\n",
      "— val_f1: 0.36198913291826124\n",
      "Epoch 4/200\n",
      "49/49 [==============================] - 1s 14ms/step - loss: 0.6535 - f1_macro: 0.5401 - val_loss: 0.6402 - val_f1_macro: 0.4790\n",
      "— val_f1: 0.5359709752233117\n",
      "Epoch 5/200\n",
      "49/49 [==============================] - 1s 15ms/step - loss: 0.6467 - f1_macro: 0.5817 - val_loss: 0.6284 - val_f1_macro: 0.5724\n",
      "— val_f1: 0.6130058689042355\n",
      "Epoch 6/200\n",
      "49/49 [==============================] - 1s 14ms/step - loss: 0.6249 - f1_macro: 0.6165 - val_loss: 0.6165 - val_f1_macro: 0.6686\n",
      "— val_f1: 0.6076667522783709\n",
      "Epoch 7/200\n",
      "49/49 [==============================] - 1s 14ms/step - loss: 0.6124 - f1_macro: 0.6369 - val_loss: 0.6058 - val_f1_macro: 0.6552\n",
      "— val_f1: 0.5474685480157436\n",
      "Epoch 8/200\n",
      "49/49 [==============================] - 1s 15ms/step - loss: 0.5809 - f1_macro: 0.6834 - val_loss: 0.5664 - val_f1_macro: 0.6903\n",
      "— val_f1: 0.6152274187335536\n",
      "Epoch 9/200\n",
      "49/49 [==============================] - 1s 15ms/step - loss: 0.5616 - f1_macro: 0.6941 - val_loss: 0.5647 - val_f1_macro: 0.6888\n",
      "— val_f1: 0.693614455326139\n",
      "Epoch 10/200\n",
      "49/49 [==============================] - 1s 15ms/step - loss: 0.5215 - f1_macro: 0.7324 - val_loss: 0.5504 - val_f1_macro: 0.6843\n",
      "— val_f1: 0.6298954967542865\n",
      "Epoch 11/200\n",
      "49/49 [==============================] - 1s 14ms/step - loss: 0.4998 - f1_macro: 0.7456 - val_loss: 0.5518 - val_f1_macro: 0.7101\n",
      "— val_f1: 0.6831489425754497\n",
      "Epoch 12/200\n",
      "49/49 [==============================] - 1s 15ms/step - loss: 0.4695 - f1_macro: 0.7713 - val_loss: 0.5699 - val_f1_macro: 0.6796\n",
      "— val_f1: 0.5702294336712431\n",
      "Epoch 13/200\n",
      "49/49 [==============================] - 1s 15ms/step - loss: 0.4302 - f1_macro: 0.7887 - val_loss: 0.5646 - val_f1_macro: 0.6873\n",
      "— val_f1: 0.6537635609525791\n",
      "Epoch 14/200\n",
      "49/49 [==============================] - 1s 15ms/step - loss: 0.4008 - f1_macro: 0.8128 - val_loss: 0.5843 - val_f1_macro: 0.6907\n",
      "— val_f1: 0.6832363563402889\n",
      "Epoch 15/200\n",
      "49/49 [==============================] - 1s 15ms/step - loss: 0.3787 - f1_macro: 0.8323 - val_loss: 0.6076 - val_f1_macro: 0.6965\n",
      "— val_f1: 0.6558459088342828\n",
      "Epoch 16/200\n",
      "49/49 [==============================] - 1s 15ms/step - loss: 0.3557 - f1_macro: 0.8427 - val_loss: 0.6231 - val_f1_macro: 0.7138\n",
      "— val_f1: 0.6657825033485334\n",
      "Epoch 17/200\n",
      "49/49 [==============================] - 1s 15ms/step - loss: 0.3002 - f1_macro: 0.8683 - val_loss: 0.6209 - val_f1_macro: 0.6995\n",
      "— val_f1: 0.6233937193322998\n",
      "Epoch 18/200\n",
      "49/49 [==============================] - 1s 15ms/step - loss: 0.2699 - f1_macro: 0.8873 - val_loss: 0.6571 - val_f1_macro: 0.7119\n",
      "— val_f1: 0.6622994652406418\n",
      "Epoch 19/200\n",
      "49/49 [==============================] - 1s 15ms/step - loss: 0.2607 - f1_macro: 0.8904 - val_loss: 0.6536 - val_f1_macro: 0.6994\n",
      "— val_f1: 0.6650528988573847\n",
      "Epoch 20/200\n",
      "49/49 [==============================] - 1s 15ms/step - loss: 0.2374 - f1_macro: 0.9065 - val_loss: 0.7252 - val_f1_macro: 0.6968\n",
      "— val_f1: 0.626515845016097\n",
      "Epoch 21/200\n",
      "49/49 [==============================] - 1s 15ms/step - loss: 0.1996 - f1_macro: 0.9243 - val_loss: 0.7836 - val_f1_macro: 0.6958\n",
      "— val_f1: 0.6943754064559062\n",
      "Epoch 22/200\n",
      "49/49 [==============================] - 1s 15ms/step - loss: 0.1954 - f1_macro: 0.9262 - val_loss: 0.7739 - val_f1_macro: 0.7086\n",
      "— val_f1: 0.6784978030576623\n",
      "Epoch 23/200\n",
      "49/49 [==============================] - 1s 15ms/step - loss: 0.1874 - f1_macro: 0.9282 - val_loss: 0.7555 - val_f1_macro: 0.6988\n",
      "— val_f1: 0.6777505775264628\n",
      "Epoch 24/200\n",
      "49/49 [==============================] - 1s 15ms/step - loss: 0.1854 - f1_macro: 0.9280 - val_loss: 0.7911 - val_f1_macro: 0.6970\n",
      "— val_f1: 0.68729883634563\n",
      "Epoch 25/200\n",
      "49/49 [==============================] - 1s 14ms/step - loss: 0.1682 - f1_macro: 0.9332 - val_loss: 0.8139 - val_f1_macro: 0.6870\n",
      "— val_f1: 0.6556060329345874\n",
      "Epoch 26/200\n",
      "49/49 [==============================] - 1s 15ms/step - loss: 0.1449 - f1_macro: 0.9452 - val_loss: 0.8993 - val_f1_macro: 0.7042\n",
      "— val_f1: 0.6843626143436261\n",
      "Epoch 27/200\n",
      "49/49 [==============================] - 1s 15ms/step - loss: 0.1291 - f1_macro: 0.9510 - val_loss: 0.8185 - val_f1_macro: 0.7133\n",
      "— val_f1: 0.6847727386745597\n",
      "Epoch 28/200\n",
      "49/49 [==============================] - 1s 15ms/step - loss: 0.1666 - f1_macro: 0.9398 - val_loss: 0.8376 - val_f1_macro: 0.7195\n",
      "— val_f1: 0.676204312047896\n",
      "Epoch 29/200\n",
      "49/49 [==============================] - 1s 14ms/step - loss: 0.1323 - f1_macro: 0.9480 - val_loss: 0.9596 - val_f1_macro: 0.7012\n",
      "— val_f1: 0.6631401137980085\n",
      "Epoch 30/200\n",
      "49/49 [==============================] - 1s 15ms/step - loss: 0.1297 - f1_macro: 0.9565 - val_loss: 0.9031 - val_f1_macro: 0.7033\n",
      "— val_f1: 0.669040096291281\n",
      "Epoch 31/200\n",
      "49/49 [==============================] - 1s 14ms/step - loss: 0.1087 - f1_macro: 0.9605 - val_loss: 0.9498 - val_f1_macro: 0.6988\n",
      "— val_f1: 0.6697402570398641\n",
      "Epoch 32/200\n",
      "49/49 [==============================] - 1s 14ms/step - loss: 0.1126 - f1_macro: 0.9599 - val_loss: 1.0723 - val_f1_macro: 0.6972\n",
      "— val_f1: 0.683856405186156\n",
      "Epoch 33/200\n",
      "49/49 [==============================] - 1s 14ms/step - loss: 0.1401 - f1_macro: 0.9475 - val_loss: 1.2060 - val_f1_macro: 0.6591\n",
      "— val_f1: 0.6572211259244998\n",
      "Epoch 34/200\n",
      "49/49 [==============================] - 1s 15ms/step - loss: 0.1065 - f1_macro: 0.9653 - val_loss: 1.0038 - val_f1_macro: 0.6910\n",
      "— val_f1: 0.6870257645326607\n",
      "Epoch 35/200\n",
      "49/49 [==============================] - 1s 15ms/step - loss: 0.0880 - f1_macro: 0.9716 - val_loss: 1.0767 - val_f1_macro: 0.7020\n",
      "— val_f1: 0.6752488485736361\n",
      "Epoch 36/200\n",
      "49/49 [==============================] - 1s 15ms/step - loss: 0.0775 - f1_macro: 0.9735 - val_loss: 1.1148 - val_f1_macro: 0.7078\n",
      "— val_f1: 0.6776705591844336\n",
      "Epoch 37/200\n",
      "49/49 [==============================] - 1s 15ms/step - loss: 0.0819 - f1_macro: 0.9728 - val_loss: 1.0710 - val_f1_macro: 0.7042\n",
      "— val_f1: 0.6707176071700262\n",
      "Epoch 38/200\n",
      "49/49 [==============================] - 1s 15ms/step - loss: 0.0841 - f1_macro: 0.9720 - val_loss: 1.1627 - val_f1_macro: 0.6913\n",
      "— val_f1: 0.6839713958358027\n",
      "Epoch 39/200\n",
      "49/49 [==============================] - 1s 15ms/step - loss: 0.0738 - f1_macro: 0.9747 - val_loss: 1.1027 - val_f1_macro: 0.6867\n",
      "— val_f1: 0.6787774002599143\n",
      "Epoch 40/200\n",
      "49/49 [==============================] - 1s 14ms/step - loss: 0.0667 - f1_macro: 0.9748 - val_loss: 1.1965 - val_f1_macro: 0.7128\n",
      "— val_f1: 0.67062528837088\n",
      "Epoch 41/200\n",
      "49/49 [==============================] - 1s 15ms/step - loss: 0.0667 - f1_macro: 0.9745 - val_loss: 1.2559 - val_f1_macro: 0.6951\n",
      "— val_f1: 0.6564193711881128\n",
      "Epoch 42/200\n",
      "49/49 [==============================] - 1s 15ms/step - loss: 0.0911 - f1_macro: 0.9656 - val_loss: 1.0484 - val_f1_macro: 0.7229\n",
      "— val_f1: 0.6780973784652471\n",
      "Epoch 43/200\n",
      "49/49 [==============================] - 1s 15ms/step - loss: 0.0934 - f1_macro: 0.9639 - val_loss: 1.0040 - val_f1_macro: 0.7166\n",
      "— val_f1: 0.6767892177770195\n",
      "Epoch 44/200\n",
      "49/49 [==============================] - 1s 15ms/step - loss: 0.0844 - f1_macro: 0.9689 - val_loss: 1.0034 - val_f1_macro: 0.7094\n",
      "— val_f1: 0.6808792374541763\n",
      "Epoch 45/200\n",
      "49/49 [==============================] - 1s 14ms/step - loss: 0.0741 - f1_macro: 0.9750 - val_loss: 1.0987 - val_f1_macro: 0.7146\n",
      "— val_f1: 0.6819857384578196\n",
      "Epoch 46/200\n",
      "49/49 [==============================] - 1s 14ms/step - loss: 0.0907 - f1_macro: 0.9647 - val_loss: 1.2224 - val_f1_macro: 0.6923\n",
      "— val_f1: 0.6681002435585182\n",
      "Epoch 47/200\n",
      "49/49 [==============================] - 1s 15ms/step - loss: 0.1102 - f1_macro: 0.9596 - val_loss: 1.0450 - val_f1_macro: 0.6928\n",
      "— val_f1: 0.6688738765643223\n",
      "Epoch 48/200\n",
      "49/49 [==============================] - 1s 15ms/step - loss: 0.0754 - f1_macro: 0.9759 - val_loss: 1.1168 - val_f1_macro: 0.7038\n",
      "— val_f1: 0.6750662630643655\n",
      "Epoch 49/200\n",
      "49/49 [==============================] - 1s 14ms/step - loss: 0.0647 - f1_macro: 0.9787 - val_loss: 1.2705 - val_f1_macro: 0.6921\n",
      "— val_f1: 0.6806870458396512\n",
      "Epoch 50/200\n",
      "49/49 [==============================] - 1s 15ms/step - loss: 0.0624 - f1_macro: 0.9766 - val_loss: 1.1956 - val_f1_macro: 0.7012\n",
      "— val_f1: 0.6507958001553119\n",
      "Epoch 51/200\n",
      "49/49 [==============================] - 1s 15ms/step - loss: 0.0568 - f1_macro: 0.9808 - val_loss: 1.3843 - val_f1_macro: 0.6924\n",
      "— val_f1: 0.6764298541990076\n",
      "Epoch 52/200\n",
      "49/49 [==============================] - 1s 15ms/step - loss: 0.0463 - f1_macro: 0.9864 - val_loss: 1.2947 - val_f1_macro: 0.6933\n",
      "— val_f1: 0.6840569897023556\n",
      "Epoch 53/200\n",
      "49/49 [==============================] - 1s 15ms/step - loss: 0.0475 - f1_macro: 0.9826 - val_loss: 1.2089 - val_f1_macro: 0.6855\n",
      "— val_f1: 0.6895716292134831\n",
      "Epoch 54/200\n",
      "49/49 [==============================] - 1s 15ms/step - loss: 0.0435 - f1_macro: 0.9865 - val_loss: 1.3425 - val_f1_macro: 0.6911\n",
      "— val_f1: 0.6831266840951171\n",
      "Epoch 55/200\n",
      "49/49 [==============================] - 1s 14ms/step - loss: 0.0491 - f1_macro: 0.9847 - val_loss: 1.3330 - val_f1_macro: 0.7024\n",
      "— val_f1: 0.6610993983001587\n",
      "Epoch 56/200\n",
      "49/49 [==============================] - 1s 15ms/step - loss: 0.0483 - f1_macro: 0.9826 - val_loss: 1.3577 - val_f1_macro: 0.6832\n",
      "— val_f1: 0.6496599004817946\n",
      "Epoch 57/200\n",
      "49/49 [==============================] - 1s 15ms/step - loss: 0.0549 - f1_macro: 0.9810 - val_loss: 1.3604 - val_f1_macro: 0.6969\n",
      "— val_f1: 0.6667311684199416\n",
      "Epoch 58/200\n",
      "49/49 [==============================] - 1s 15ms/step - loss: 0.0378 - f1_macro: 0.9860 - val_loss: 1.5101 - val_f1_macro: 0.6931\n",
      "— val_f1: 0.6678829299518955\n",
      "Epoch 59/200\n",
      "49/49 [==============================] - 1s 15ms/step - loss: 0.0420 - f1_macro: 0.9856 - val_loss: 1.4854 - val_f1_macro: 0.7040\n",
      "— val_f1: 0.6799579509360684\n",
      "Epoch 60/200\n",
      "49/49 [==============================] - 1s 15ms/step - loss: 0.0464 - f1_macro: 0.9847 - val_loss: 1.4574 - val_f1_macro: 0.7007\n",
      "— val_f1: 0.679054496049917\n",
      "Epoch 61/200\n",
      "49/49 [==============================] - 1s 15ms/step - loss: 0.0508 - f1_macro: 0.9787 - val_loss: 1.3433 - val_f1_macro: 0.7135\n",
      "— val_f1: 0.6792955115854626\n",
      "Epoch 62/200\n",
      "49/49 [==============================] - 1s 14ms/step - loss: 0.0557 - f1_macro: 0.9803 - val_loss: 1.4485 - val_f1_macro: 0.6968\n",
      "— val_f1: 0.6657439368245717\n",
      "Epoch 63/200\n",
      "49/49 [==============================] - 1s 15ms/step - loss: 0.0434 - f1_macro: 0.9855 - val_loss: 1.4655 - val_f1_macro: 0.7089\n",
      "— val_f1: 0.654330300938786\n",
      "Epoch 64/200\n",
      "49/49 [==============================] - 1s 15ms/step - loss: 0.0468 - f1_macro: 0.9846 - val_loss: 1.4014 - val_f1_macro: 0.6999\n",
      "— val_f1: 0.6779760858097416\n",
      "Epoch 65/200\n",
      "49/49 [==============================] - 1s 15ms/step - loss: 0.0470 - f1_macro: 0.9853 - val_loss: 1.6994 - val_f1_macro: 0.6717\n",
      "— val_f1: 0.6727114545107316\n",
      "Epoch 66/200\n",
      "49/49 [==============================] - 1s 15ms/step - loss: 0.0509 - f1_macro: 0.9845 - val_loss: 1.3955 - val_f1_macro: 0.6942\n",
      "— val_f1: 0.6938460139987274\n",
      "Epoch 67/200\n",
      "49/49 [==============================] - 1s 15ms/step - loss: 0.0468 - f1_macro: 0.9832 - val_loss: 1.5211 - val_f1_macro: 0.6791\n",
      "— val_f1: 0.6714949415225657\n",
      "Epoch 68/200\n",
      "49/49 [==============================] - 1s 15ms/step - loss: 0.0419 - f1_macro: 0.9860 - val_loss: 1.5193 - val_f1_macro: 0.6851\n",
      "— val_f1: 0.691054154988873\n",
      "Epoch 69/200\n",
      "49/49 [==============================] - 1s 16ms/step - loss: 0.0392 - f1_macro: 0.9854 - val_loss: 1.4920 - val_f1_macro: 0.6921\n",
      "— val_f1: 0.6953843370951371\n",
      "Epoch 70/200\n",
      "49/49 [==============================] - 1s 15ms/step - loss: 0.0421 - f1_macro: 0.9854 - val_loss: 1.4652 - val_f1_macro: 0.6973\n",
      "— val_f1: 0.6642819349962208\n",
      "Epoch 71/200\n",
      "49/49 [==============================] - 1s 15ms/step - loss: 0.0404 - f1_macro: 0.9873 - val_loss: 1.5048 - val_f1_macro: 0.6983\n",
      "— val_f1: 0.6641094719105716\n",
      "Epoch 72/200\n",
      "49/49 [==============================] - 1s 15ms/step - loss: 0.0359 - f1_macro: 0.9867 - val_loss: 1.5145 - val_f1_macro: 0.6929\n",
      "— val_f1: 0.671540027137042\n",
      "Epoch 73/200\n",
      "49/49 [==============================] - 1s 15ms/step - loss: 0.0435 - f1_macro: 0.9842 - val_loss: 1.3866 - val_f1_macro: 0.6952\n",
      "— val_f1: 0.692725393903216\n",
      "Epoch 74/200\n",
      "49/49 [==============================] - 1s 15ms/step - loss: 0.0406 - f1_macro: 0.9860 - val_loss: 1.5687 - val_f1_macro: 0.6911\n",
      "— val_f1: 0.6708552393038434\n",
      "Epoch 75/200\n",
      "49/49 [==============================] - 1s 15ms/step - loss: 0.0413 - f1_macro: 0.9851 - val_loss: 1.6100 - val_f1_macro: 0.6944\n",
      "— val_f1: 0.6903602118856373\n",
      "Epoch 76/200\n",
      "49/49 [==============================] - 1s 14ms/step - loss: 0.0350 - f1_macro: 0.9873 - val_loss: 1.4369 - val_f1_macro: 0.7020\n",
      "— val_f1: 0.6721627843986999\n",
      "Epoch 77/200\n",
      "49/49 [==============================] - 1s 15ms/step - loss: 0.0430 - f1_macro: 0.9851 - val_loss: 1.5593 - val_f1_macro: 0.6902\n",
      "— val_f1: 0.6821504890470408\n",
      "Epoch 78/200\n",
      "49/49 [==============================] - 1s 15ms/step - loss: 0.0437 - f1_macro: 0.9841 - val_loss: 1.5867 - val_f1_macro: 0.6862\n",
      "— val_f1: 0.6810591787586315\n",
      "Epoch 79/200\n",
      "49/49 [==============================] - 1s 15ms/step - loss: 0.0350 - f1_macro: 0.9881 - val_loss: 1.9077 - val_f1_macro: 0.7045\n",
      "— val_f1: 0.7038627418810381\n",
      "Epoch 80/200\n",
      "49/49 [==============================] - 1s 15ms/step - loss: 0.0395 - f1_macro: 0.9864 - val_loss: 1.5005 - val_f1_macro: 0.7212\n",
      "— val_f1: 0.6889490905252789\n",
      "Epoch 81/200\n",
      "49/49 [==============================] - 1s 15ms/step - loss: 0.0325 - f1_macro: 0.9902 - val_loss: 1.6319 - val_f1_macro: 0.7099\n",
      "— val_f1: 0.6863433602947417\n",
      "Epoch 82/200\n",
      "49/49 [==============================] - 1s 15ms/step - loss: 0.0350 - f1_macro: 0.9865 - val_loss: 1.7181 - val_f1_macro: 0.7028\n",
      "— val_f1: 0.6824374782502374\n",
      "Epoch 83/200\n",
      "49/49 [==============================] - 1s 15ms/step - loss: 0.0499 - f1_macro: 0.9807 - val_loss: 1.4471 - val_f1_macro: 0.6888\n",
      "— val_f1: 0.6666289592760182\n",
      "Epoch 84/200\n",
      "49/49 [==============================] - 1s 15ms/step - loss: 0.0371 - f1_macro: 0.9879 - val_loss: 1.7253 - val_f1_macro: 0.6932\n",
      "— val_f1: 0.6859487318594872\n",
      "Epoch 85/200\n",
      "49/49 [==============================] - 1s 15ms/step - loss: 0.0432 - f1_macro: 0.9842 - val_loss: 1.5336 - val_f1_macro: 0.6925\n",
      "— val_f1: 0.6570794892551837\n",
      "Epoch 86/200\n",
      "49/49 [==============================] - 1s 15ms/step - loss: 0.0382 - f1_macro: 0.9878 - val_loss: 1.4847 - val_f1_macro: 0.6959\n",
      "— val_f1: 0.6720805446572813\n",
      "Epoch 87/200\n",
      "49/49 [==============================] - 1s 15ms/step - loss: 0.0343 - f1_macro: 0.9881 - val_loss: 1.6622 - val_f1_macro: 0.6960\n",
      "— val_f1: 0.680244125379679\n",
      "Epoch 88/200\n",
      "49/49 [==============================] - 1s 15ms/step - loss: 0.0362 - f1_macro: 0.9894 - val_loss: 1.5656 - val_f1_macro: 0.6874\n",
      "— val_f1: 0.6753710009879985\n",
      "Epoch 89/200\n",
      "49/49 [==============================] - 1s 15ms/step - loss: 0.0419 - f1_macro: 0.9857 - val_loss: 1.4739 - val_f1_macro: 0.6875\n",
      "— val_f1: 0.6722108934378584\n",
      "Epoch 90/200\n",
      "49/49 [==============================] - 1s 15ms/step - loss: 0.0401 - f1_macro: 0.9859 - val_loss: 1.5524 - val_f1_macro: 0.6898\n",
      "— val_f1: 0.6769010834670948\n",
      "Epoch 91/200\n",
      "49/49 [==============================] - 1s 15ms/step - loss: 0.0354 - f1_macro: 0.9851 - val_loss: 1.5308 - val_f1_macro: 0.7070\n",
      "— val_f1: 0.6729015448191963\n",
      "Epoch 92/200\n",
      "49/49 [==============================] - 1s 15ms/step - loss: 0.0401 - f1_macro: 0.9863 - val_loss: 1.6098 - val_f1_macro: 0.6989\n",
      "— val_f1: 0.6753514627772957\n",
      "Epoch 93/200\n",
      "49/49 [==============================] - 1s 16ms/step - loss: 0.0322 - f1_macro: 0.9889 - val_loss: 1.7074 - val_f1_macro: 0.6992\n",
      "— val_f1: 0.6971261048613902\n",
      "Epoch 94/200\n",
      "49/49 [==============================] - 1s 15ms/step - loss: 0.0419 - f1_macro: 0.9855 - val_loss: 1.5516 - val_f1_macro: 0.6723\n",
      "— val_f1: 0.691979101715711\n",
      "Epoch 95/200\n",
      "49/49 [==============================] - 1s 15ms/step - loss: 0.0300 - f1_macro: 0.9901 - val_loss: 1.6897 - val_f1_macro: 0.6932\n",
      "— val_f1: 0.6624024754950519\n",
      "Epoch 96/200\n",
      "49/49 [==============================] - 1s 15ms/step - loss: 0.0380 - f1_macro: 0.9865 - val_loss: 1.5442 - val_f1_macro: 0.6966\n",
      "— val_f1: 0.6801104390478769\n",
      "Epoch 97/200\n",
      "49/49 [==============================] - 1s 15ms/step - loss: 0.0314 - f1_macro: 0.9888 - val_loss: 1.5532 - val_f1_macro: 0.6883\n",
      "— val_f1: 0.6899718431882175\n",
      "Epoch 98/200\n",
      "49/49 [==============================] - 1s 15ms/step - loss: 0.0360 - f1_macro: 0.9868 - val_loss: 1.6525 - val_f1_macro: 0.6905\n",
      "— val_f1: 0.6756994472224576\n",
      "Epoch 99/200\n",
      "49/49 [==============================] - 1s 15ms/step - loss: 0.0375 - f1_macro: 0.9858 - val_loss: 1.4884 - val_f1_macro: 0.6982\n",
      "— val_f1: 0.7003019318730412\n",
      "Epoch 100/200\n",
      "49/49 [==============================] - 1s 15ms/step - loss: 0.0396 - f1_macro: 0.9858 - val_loss: 1.5894 - val_f1_macro: 0.6910\n",
      "— val_f1: 0.6856787330316741\n",
      "Epoch 101/200\n",
      "49/49 [==============================] - 1s 15ms/step - loss: 0.0415 - f1_macro: 0.9839 - val_loss: 1.6032 - val_f1_macro: 0.6981\n",
      "— val_f1: 0.6912096592191379\n",
      "Epoch 102/200\n",
      "49/49 [==============================] - 1s 15ms/step - loss: 0.0536 - f1_macro: 0.9803 - val_loss: 1.4943 - val_f1_macro: 0.6942\n",
      "— val_f1: 0.6878797838336904\n",
      "Epoch 103/200\n",
      "49/49 [==============================] - 1s 15ms/step - loss: 0.0400 - f1_macro: 0.9870 - val_loss: 1.5318 - val_f1_macro: 0.6721\n",
      "— val_f1: 0.6894407756076999\n",
      "Epoch 104/200\n",
      "49/49 [==============================] - 1s 15ms/step - loss: 0.0352 - f1_macro: 0.9882 - val_loss: 1.7012 - val_f1_macro: 0.6839\n",
      "— val_f1: 0.6338260762946956\n",
      "Epoch 105/200\n",
      "49/49 [==============================] - 1s 15ms/step - loss: 0.0369 - f1_macro: 0.9870 - val_loss: 1.5501 - val_f1_macro: 0.6859\n",
      "— val_f1: 0.6912019158433221\n",
      "Epoch 106/200\n",
      "49/49 [==============================] - 1s 15ms/step - loss: 0.0394 - f1_macro: 0.9878 - val_loss: 1.4905 - val_f1_macro: 0.6891\n",
      "— val_f1: 0.7055905210518678\n",
      "Epoch 107/200\n",
      "49/49 [==============================] - 1s 15ms/step - loss: 0.0350 - f1_macro: 0.9888 - val_loss: 1.5295 - val_f1_macro: 0.6967\n",
      "— val_f1: 0.7018473500221\n",
      "Epoch 108/200\n",
      "49/49 [==============================] - 1s 15ms/step - loss: 0.0286 - f1_macro: 0.9899 - val_loss: 1.5842 - val_f1_macro: 0.6844\n",
      "— val_f1: 0.6817084179643422\n",
      "Epoch 109/200\n",
      "49/49 [==============================] - 1s 15ms/step - loss: 0.0258 - f1_macro: 0.9903 - val_loss: 1.7959 - val_f1_macro: 0.6862\n",
      "— val_f1: 0.6909740869189883\n",
      "Epoch 110/200\n",
      "49/49 [==============================] - 1s 15ms/step - loss: 0.0220 - f1_macro: 0.9927 - val_loss: 1.9519 - val_f1_macro: 0.6880\n",
      "— val_f1: 0.6789799203592308\n",
      "Epoch 111/200\n",
      "49/49 [==============================] - 1s 15ms/step - loss: 0.0301 - f1_macro: 0.9897 - val_loss: 1.6554 - val_f1_macro: 0.7068\n",
      "— val_f1: 0.6765490125186424\n",
      "Epoch 112/200\n",
      "49/49 [==============================] - 1s 15ms/step - loss: 0.0392 - f1_macro: 0.9853 - val_loss: 1.5938 - val_f1_macro: 0.6973\n",
      "— val_f1: 0.6950170170372656\n",
      "Epoch 113/200\n",
      "49/49 [==============================] - 1s 15ms/step - loss: 0.0379 - f1_macro: 0.9871 - val_loss: 1.4798 - val_f1_macro: 0.6933\n",
      "— val_f1: 0.665485319342145\n",
      "Epoch 114/200\n",
      "49/49 [==============================] - 1s 15ms/step - loss: 0.0276 - f1_macro: 0.9891 - val_loss: 1.7728 - val_f1_macro: 0.6963\n",
      "— val_f1: 0.6789799203592308\n",
      "Epoch 115/200\n",
      "49/49 [==============================] - 1s 15ms/step - loss: 0.0375 - f1_macro: 0.9880 - val_loss: 1.5836 - val_f1_macro: 0.6834\n",
      "— val_f1: 0.6852936160176208\n",
      "Epoch 116/200\n",
      "49/49 [==============================] - 1s 15ms/step - loss: 0.0211 - f1_macro: 0.9917 - val_loss: 1.8414 - val_f1_macro: 0.7054\n",
      "— val_f1: 0.6848770787779093\n",
      "Epoch 117/200\n",
      "49/49 [==============================] - 1s 15ms/step - loss: 0.0247 - f1_macro: 0.9917 - val_loss: 1.9687 - val_f1_macro: 0.7101\n",
      "— val_f1: 0.6872141409290314\n",
      "Epoch 118/200\n",
      "49/49 [==============================] - 1s 15ms/step - loss: 0.0266 - f1_macro: 0.9905 - val_loss: 1.7650 - val_f1_macro: 0.7005\n",
      "— val_f1: 0.6902674071820797\n",
      "Epoch 119/200\n",
      "49/49 [==============================] - 1s 15ms/step - loss: 0.0218 - f1_macro: 0.9904 - val_loss: 1.9625 - val_f1_macro: 0.6842\n",
      "— val_f1: 0.6695813167241882\n",
      "Epoch 120/200\n",
      "49/49 [==============================] - 1s 15ms/step - loss: 0.0406 - f1_macro: 0.9852 - val_loss: 1.5686 - val_f1_macro: 0.6919\n",
      "— val_f1: 0.6681630528792968\n",
      "Epoch 121/200\n",
      "49/49 [==============================] - 1s 15ms/step - loss: 0.0342 - f1_macro: 0.9873 - val_loss: 1.9044 - val_f1_macro: 0.6897\n",
      "— val_f1: 0.6644256680182336\n",
      "Epoch 122/200\n",
      "49/49 [==============================] - 1s 15ms/step - loss: 0.0275 - f1_macro: 0.9895 - val_loss: 1.7716 - val_f1_macro: 0.6785\n",
      "— val_f1: 0.680583865561444\n",
      "Epoch 123/200\n",
      "49/49 [==============================] - 1s 15ms/step - loss: 0.0265 - f1_macro: 0.9917 - val_loss: 1.8660 - val_f1_macro: 0.6958\n",
      "— val_f1: 0.6665199788769582\n",
      "Epoch 124/200\n",
      "49/49 [==============================] - 1s 15ms/step - loss: 0.0301 - f1_macro: 0.9893 - val_loss: 1.8213 - val_f1_macro: 0.6967\n",
      "— val_f1: 0.685708098497239\n",
      "Epoch 125/200\n",
      "49/49 [==============================] - 1s 15ms/step - loss: 0.0494 - f1_macro: 0.9834 - val_loss: 1.5244 - val_f1_macro: 0.6858\n",
      "— val_f1: 0.6824510177044139\n",
      "Epoch 126/200\n",
      "49/49 [==============================] - 1s 15ms/step - loss: 0.0346 - f1_macro: 0.9859 - val_loss: 1.8127 - val_f1_macro: 0.6846\n",
      "— val_f1: 0.661625270356224\n",
      "Epoch 127/200\n",
      "49/49 [==============================] - 1s 15ms/step - loss: 0.0261 - f1_macro: 0.9893 - val_loss: 1.9965 - val_f1_macro: 0.6848\n",
      "— val_f1: 0.6800205689058345\n",
      "Epoch 128/200\n",
      "49/49 [==============================] - 1s 15ms/step - loss: 0.0337 - f1_macro: 0.9864 - val_loss: 1.5936 - val_f1_macro: 0.7185\n",
      "— val_f1: 0.6753777222048556\n",
      "Epoch 129/200\n",
      "49/49 [==============================] - 1s 15ms/step - loss: 0.0350 - f1_macro: 0.9884 - val_loss: 1.5764 - val_f1_macro: 0.7120\n",
      "— val_f1: 0.6744043038012888\n",
      "Epoch 130/200\n",
      "49/49 [==============================] - 1s 15ms/step - loss: 0.0248 - f1_macro: 0.9885 - val_loss: 1.6958 - val_f1_macro: 0.6997\n",
      "— val_f1: 0.6887237056728583\n",
      "Epoch 131/200\n",
      "49/49 [==============================] - 1s 15ms/step - loss: 0.0204 - f1_macro: 0.9932 - val_loss: 1.8862 - val_f1_macro: 0.7037\n",
      "— val_f1: 0.6744855567086917\n",
      "Epoch 132/200\n",
      "49/49 [==============================] - 1s 15ms/step - loss: 0.0287 - f1_macro: 0.9892 - val_loss: 2.1256 - val_f1_macro: 0.6790\n",
      "— val_f1: 0.6691196502407796\n",
      "Epoch 133/200\n",
      "49/49 [==============================] - 1s 16ms/step - loss: 0.0275 - f1_macro: 0.9893 - val_loss: 1.7985 - val_f1_macro: 0.7010\n",
      "— val_f1: 0.6809112468991614\n",
      "Epoch 134/200\n",
      "49/49 [==============================] - 1s 15ms/step - loss: 0.0280 - f1_macro: 0.9900 - val_loss: 1.6835 - val_f1_macro: 0.7145\n",
      "— val_f1: 0.6925310578491655\n",
      "Epoch 135/200\n",
      "49/49 [==============================] - 1s 15ms/step - loss: 0.0223 - f1_macro: 0.9916 - val_loss: 1.8146 - val_f1_macro: 0.6942\n",
      "— val_f1: 0.6903256756036458\n",
      "Epoch 136/200\n",
      "49/49 [==============================] - 1s 15ms/step - loss: 0.0220 - f1_macro: 0.9905 - val_loss: 1.9559 - val_f1_macro: 0.6881\n",
      "— val_f1: 0.6848328217166245\n",
      "Epoch 137/200\n",
      "49/49 [==============================] - 1s 15ms/step - loss: 0.0330 - f1_macro: 0.9890 - val_loss: 1.5773 - val_f1_macro: 0.6845\n",
      "— val_f1: 0.6721989568182958\n",
      "Epoch 138/200\n",
      "49/49 [==============================] - 1s 15ms/step - loss: 0.0197 - f1_macro: 0.9939 - val_loss: 1.9646 - val_f1_macro: 0.6882\n",
      "— val_f1: 0.6609477165370208\n",
      "Epoch 139/200\n",
      "49/49 [==============================] - 1s 15ms/step - loss: 0.0247 - f1_macro: 0.9918 - val_loss: 1.6791 - val_f1_macro: 0.6811\n",
      "— val_f1: 0.6851353090962753\n",
      "Epoch 140/200\n",
      "49/49 [==============================] - 1s 15ms/step - loss: 0.0275 - f1_macro: 0.9901 - val_loss: 1.8770 - val_f1_macro: 0.6985\n",
      "— val_f1: 0.669750789468391\n",
      "Epoch 141/200\n",
      "49/49 [==============================] - 1s 15ms/step - loss: 0.0233 - f1_macro: 0.9921 - val_loss: 1.8055 - val_f1_macro: 0.6986\n",
      "— val_f1: 0.6623859221107797\n",
      "Epoch 142/200\n",
      "49/49 [==============================] - 1s 16ms/step - loss: 0.0242 - f1_macro: 0.9915 - val_loss: 1.9305 - val_f1_macro: 0.7000\n",
      "— val_f1: 0.6480644632662809\n",
      "Restoring model weights from the end of the best epoch.\n",
      "\n",
      "Epoch 142: early stopping\n"
     ]
    }
   ],
   "source": [
    "model.compile(\n",
    "    loss= tf.keras.losses.BinaryCrossentropy(from_logits=True),\n",
    "    optimizer=tf.keras.optimizers.Adam(learning_rate=0.001, amsgrad=False),\n",
    "    #optimizer = tf.keras.optimizers.SGD(learning_rate=0.07, momentum=0, nesterov=False),\n",
    "    metrics=[f1_macro]\n",
    ")\n",
    "#mc = ModelCheckpoint('best_model.h5', monitor='val_f1_macro', mode='max', save_best_only=True, verbose=1)\n",
    "#es = EarlyStopping(monitor=\"val_f1_macro\", min_delta=0, patience=200, verbose=1, mode=\"max\", restore_best_weights=False)\n",
    "f1_callback = FCallback(validation = (X_test_e, y_test), verbose=True)                                   \n",
    "best_callback = ReturnBestEarlyStopping(monitor=\"val_f1_macro\", min_delta=0, patience=100, verbose=1, mode=\"max\", restore_best_weights=True)\n",
    "\n",
    "history = model.fit(X_train, y_train, batch_size=128, epochs=200, validation_data=(X_val, y_val), callbacks=[f1_callback, best_callback], verbose = 1)\n",
    "#model_cnn = load_model('best_model.h5', custom_objects={'f1_macro': f1_macro})"
   ]
  },
  {
   "cell_type": "code",
   "execution_count": 20,
   "metadata": {
    "colab": {
     "base_uri": "https://localhost:8080/"
    },
    "id": "9zXBE_F-y25e",
    "outputId": "780b08e9-3ef1-4b5a-8c14-84751742b6e6"
   },
   "outputs": [
    {
     "name": "stdout",
     "output_type": "stream",
     "text": [
      "0.714467371828218\n",
      "              precision    recall  f1-score   support\n",
      "\n",
      "           0       0.75      0.70      0.73       369\n",
      "           1       0.68      0.73      0.70       315\n",
      "\n",
      "    accuracy                           0.71       684\n",
      "   macro avg       0.71      0.72      0.71       684\n",
      "weighted avg       0.72      0.71      0.72       684\n",
      "\n"
     ]
    }
   ],
   "source": [
    "y_val_pred = np.where(model.predict(X_val) >0.5,1,0)\n",
    "print(f1_score(y_val, y_val_pred, average=\"macro\"))\n",
    "print(classification_report(y_val, y_val_pred))"
   ]
  },
  {
   "cell_type": "code",
   "execution_count": 21,
   "metadata": {
    "colab": {
     "base_uri": "https://localhost:8080/"
    },
    "id": "NFKnxmfaQwpp",
    "outputId": "d5563f52-cb32-4615-8c4d-d0aa810d6598"
   },
   "outputs": [
    {
     "name": "stdout",
     "output_type": "stream",
     "text": [
      "(1263,)\n",
      "0.6780973784652471\n",
      "              precision    recall  f1-score   support\n",
      "\n",
      "           0       0.78      0.58      0.67       694\n",
      "           1       0.61      0.79      0.69       569\n",
      "\n",
      "    accuracy                           0.68      1263\n",
      "   macro avg       0.69      0.69      0.68      1263\n",
      "weighted avg       0.70      0.68      0.68      1263\n",
      "\n"
     ]
    }
   ],
   "source": [
    "y_test_pred = np.where(model.predict(X_test_e) > 0.5, 1, 0)\n",
    "print(y_test.shape)\n",
    "print(f1_score(y_test, y_test_pred, average=\"macro\"))\n",
    "print(classification_report(y_test, y_test_pred))"
   ]
  },
  {
   "cell_type": "markdown",
   "metadata": {
    "id": "-tCRl-ykzgoW"
   },
   "source": [
    "|        \t|        \t|              \t|    0   \t|        \t|        \t|    1   \t|        \t|        \t|          \t|\n",
    "|--------\t|--------\t|--------------\t|:------:\t|:------:\t|:------:\t|:------:\t|:------:\t|:------:\t|:--------:\t|\n",
    "|        \t|        \t|              \t|    P   \t|    R   \t|   F1   \t|    P   \t|    R   \t|   F1   \t| **Macro-F1** \t|\n",
    "| **TASK B** \t|  **News**  \t| Baseline_MFC \t|   0,65 \t|      1 \t| 0,7878 \t|      0 \t|      0 \t|      0 \t|   0,3939 \t|\n",
    "|        \t|        \t| Baseline_SVC \t| 0,7467 \t| 0,8707 \t| 0,8039 \t| 0,6528 \t| 0,4514 \t| 0,5337 \t|   0,6688 \t|\n",
    "|        \t| **Tweets** \t| Baseline_MFC \t| 0,5494 \t|      1 \t| 0,7092 \t|      0 \t|      0 \t|      0 \t|   0,3546 \t|\n",
    "|        \t|        \t| Baseline_SVC \t| 0,7869 \t| 0,6599 \t| 0,7178 \t| 0,6534 \t|  0,782 \t|  0,712 \t|   0,7149 \t|"
   ]
  },
  {
   "cell_type": "code",
   "execution_count": 22,
   "metadata": {
    "colab": {
     "base_uri": "https://localhost:8080/",
     "height": 332
    },
    "id": "xswAsFr4DfOv",
    "outputId": "f4dc4680-5ff7-4194-b08b-276da6339cfb"
   },
   "outputs": [
    {
     "name": "stdout",
     "output_type": "stream",
     "text": [
      "dict_keys(['loss', 'f1_macro', 'val_loss', 'val_f1_macro', 'val_f1'])\n"
     ]
    },
    {
     "data": {
      "image/png": "[encoded data removed]",
      "text/plain": [
       "<Figure size 432x288 with 1 Axes>"
      ]
     },
     "metadata": {
      "needs_background": "light",
      "tags": []
     },
     "output_type": "display_data"
    }
   ],
   "source": [
    "print(history.history.keys())\n",
    "# summarize history for accuracy\n",
    "\n",
    "# summarize history for loss\n",
    "plt.plot(history.history['loss'])\n",
    "plt.plot(history.history['val_loss'])\n",
    "plt.title('model loss')\n",
    "plt.ylabel('loss')\n",
    "plt.xlabel('epoch')\n",
    "plt.legend(['train', 'test'], loc='upper left')\n",
    "plt.show()"
   ]
  },
  {
   "cell_type": "markdown",
   "metadata": {
    "id": "Fx4AYN_f5jhL"
   },
   "source": [
    "# Result GridSearch"
   ]
  },
  {
   "cell_type": "code",
   "execution_count": 6,
   "metadata": {
    "id": "YqZ9zzrY5jhL"
   },
   "outputs": [],
   "source": [
    "import pickle\n",
    "\n",
    "grid_result0 = pickle.load( open( \"../../script/grid_search/kim_cnn/result_kim_cnn_0.p\", \"rb\" ) )\n",
    "grid_result1 = pickle.load( open( \"../../script/grid_search/kim_cnn/result_kim_cnn_1.p\", \"rb\" ) )\n",
    "grid_result2 = pickle.load( open( \"../../script/grid_search/kim_cnn/result_kim_cnn_2.p\", \"rb\" ) )"
   ]
  },
  {
   "cell_type": "code",
   "execution_count": 7,
   "metadata": {
    "id": "cU74m6nb5jhM",
    "outputId": "af9ee7e1-bd9b-40d4-db08-594683610c7e"
   },
   "outputs": [
    {
     "data": {
      "text/plain": [
       "{'hyper_parm': {'filters': 32,\n",
       "  'filter_sizes': [2, 3, 4],\n",
       "  'dropout': 0.1,\n",
       "  'hn': 64,\n",
       "  'lr': 0.1},\n",
       " 'mean': 0.3568288921589145,\n",
       " 'std': 0.005373049976030892,\n",
       " 'folds': {'fold_0': {'f1': 0.35859186796911474,\n",
       "   'val_f1': 0.34888148500713945},\n",
       "  'fold_1': {'f1': 0.3553483553483553, 'val_f1': 0.36490250696378834},\n",
       "  'fold_2': {'f1': 0.355181347150259, 'val_f1': 0.35985025737014503},\n",
       "  'fold_3': {'f1': 0.356348590638738, 'val_f1': 0.35623529411764704},\n",
       "  'fold_4': {'f1': 0.35854161298634374, 'val_f1': 0.35427491733585265}}}"
      ]
     },
     "execution_count": 7,
     "metadata": {},
     "output_type": "execute_result"
    }
   ],
   "source": [
    "grid_result0[0]"
   ]
  },
  {
   "cell_type": "code",
   "execution_count": 8,
   "metadata": {
    "id": "A_tXGcnt5jhN"
   },
   "outputs": [],
   "source": [
    "grid_result_d = {\n",
    "    'hyper_parm' : [],\n",
    "    'mean': [],\n",
    "    'std': [],\n",
    "    'folds': []\n",
    "}\n",
    "for elem in grid_result0:\n",
    "    for k in grid_result_d:\n",
    "        grid_result_d[k].append(elem[k])\n",
    "for elem in grid_result1:\n",
    "    for k in grid_result_d:\n",
    "        grid_result_d[k].append(elem[k])\n",
    "for elem in grid_result2:\n",
    "    for k in grid_result_d:\n",
    "        grid_result_d[k].append(elem[k])"
   ]
  },
  {
   "cell_type": "code",
   "execution_count": 9,
   "metadata": {
    "id": "JtWCyU_d5jhO"
   },
   "outputs": [],
   "source": [
    "df_result = pd.DataFrame(grid_result_d)"
   ]
  },
  {
   "cell_type": "code",
   "execution_count": 10,
   "metadata": {
    "id": "MMzbc5DE5jhP",
    "outputId": "9d62aca9-79fa-4c71-8311-f3dcabd72ae6"
   },
   "outputs": [
    {
     "data": {
      "text/html": [
       "<div>\n",
       "<style scoped>\n",
       "    .dataframe tbody tr th:only-of-type {\n",
       "        vertical-align: middle;\n",
       "    }\n",
       "\n",
       "    .dataframe tbody tr th {\n",
       "        vertical-align: top;\n",
       "    }\n",
       "\n",
       "    .dataframe thead th {\n",
       "        text-align: right;\n",
       "    }\n",
       "</style>\n",
       "<table border=\"1\" class=\"dataframe\">\n",
       "  <thead>\n",
       "    <tr style=\"text-align: right;\">\n",
       "      <th></th>\n",
       "      <th>hyper_parm</th>\n",
       "      <th>mean</th>\n",
       "      <th>std</th>\n",
       "    </tr>\n",
       "  </thead>\n",
       "  <tbody>\n",
       "    <tr>\n",
       "      <th>231</th>\n",
       "      <td>{'filters': 256, 'filter_sizes': [2, 3, 4], 'dropout': 0.5, 'hn': 64, 'lr': 0.0001}</td>\n",
       "      <td>0.705910</td>\n",
       "      <td>0.004856</td>\n",
       "    </tr>\n",
       "    <tr>\n",
       "      <th>218</th>\n",
       "      <td>{'filters': 256, 'filter_sizes': [2, 3, 4], 'dropout': 0.1, 'hn': 64, 'lr': 0.001}</td>\n",
       "      <td>0.703817</td>\n",
       "      <td>0.011898</td>\n",
       "    </tr>\n",
       "    <tr>\n",
       "      <th>234</th>\n",
       "      <td>{'filters': 256, 'filter_sizes': [2, 3, 4], 'dropout': 0.5, 'hn': 124, 'lr': 0.001}</td>\n",
       "      <td>0.703300</td>\n",
       "      <td>0.005910</td>\n",
       "    </tr>\n",
       "    <tr>\n",
       "      <th>254</th>\n",
       "      <td>{'filters': 256, 'filter_sizes': [3, 4, 5], 'dropout': 0.1, 'hn': 64, 'lr': 0.001}</td>\n",
       "      <td>0.698973</td>\n",
       "      <td>0.009021</td>\n",
       "    </tr>\n",
       "    <tr>\n",
       "      <th>127</th>\n",
       "      <td>{'filters': 128, 'filter_sizes': [2, 3, 4], 'dropout': 0.5, 'hn': 124, 'lr': 0.0001}</td>\n",
       "      <td>0.698614</td>\n",
       "      <td>0.010202</td>\n",
       "    </tr>\n",
       "    <tr>\n",
       "      <th>274</th>\n",
       "      <td>{'filters': 256, 'filter_sizes': [3, 4, 5], 'dropout': 0.5, 'hn': 512, 'lr': 0.001}</td>\n",
       "      <td>0.698546</td>\n",
       "      <td>0.007799</td>\n",
       "    </tr>\n",
       "    <tr>\n",
       "      <th>271</th>\n",
       "      <td>{'filters': 256, 'filter_sizes': [3, 4, 5], 'dropout': 0.5, 'hn': 124, 'lr': 0.0001}</td>\n",
       "      <td>0.698533</td>\n",
       "      <td>0.012795</td>\n",
       "    </tr>\n",
       "    <tr>\n",
       "      <th>14</th>\n",
       "      <td>{'filters': 32, 'filter_sizes': [2, 3, 4], 'dropout': 0.5, 'hn': 64, 'lr': 0.001}</td>\n",
       "      <td>0.698085</td>\n",
       "      <td>0.015261</td>\n",
       "    </tr>\n",
       "    <tr>\n",
       "      <th>230</th>\n",
       "      <td>{'filters': 256, 'filter_sizes': [2, 3, 4], 'dropout': 0.5, 'hn': 64, 'lr': 0.001}</td>\n",
       "      <td>0.697862</td>\n",
       "      <td>0.013440</td>\n",
       "    </tr>\n",
       "    <tr>\n",
       "      <th>126</th>\n",
       "      <td>{'filters': 128, 'filter_sizes': [2, 3, 4], 'dropout': 0.5, 'hn': 124, 'lr': 0.001}</td>\n",
       "      <td>0.697779</td>\n",
       "      <td>0.010987</td>\n",
       "    </tr>\n",
       "    <tr>\n",
       "      <th>306</th>\n",
       "      <td>{'filters': 256, 'filter_sizes': [4, 5, 6], 'dropout': 0.5, 'hn': 124, 'lr': 0.001}</td>\n",
       "      <td>0.697731</td>\n",
       "      <td>0.013169</td>\n",
       "    </tr>\n",
       "    <tr>\n",
       "      <th>235</th>\n",
       "      <td>{'filters': 256, 'filter_sizes': [2, 3, 4], 'dropout': 0.5, 'hn': 124, 'lr': 0.0001}</td>\n",
       "      <td>0.697710</td>\n",
       "      <td>0.008633</td>\n",
       "    </tr>\n",
       "    <tr>\n",
       "      <th>162</th>\n",
       "      <td>{'filters': 128, 'filter_sizes': [3, 4, 5], 'dropout': 0.5, 'hn': 124, 'lr': 0.001}</td>\n",
       "      <td>0.697369</td>\n",
       "      <td>0.007379</td>\n",
       "    </tr>\n",
       "    <tr>\n",
       "      <th>159</th>\n",
       "      <td>{'filters': 128, 'filter_sizes': [3, 4, 5], 'dropout': 0.5, 'hn': 64, 'lr': 0.0001}</td>\n",
       "      <td>0.696833</td>\n",
       "      <td>0.007689</td>\n",
       "    </tr>\n",
       "    <tr>\n",
       "      <th>303</th>\n",
       "      <td>{'filters': 256, 'filter_sizes': [4, 5, 6], 'dropout': 0.5, 'hn': 64, 'lr': 0.0001}</td>\n",
       "      <td>0.696753</td>\n",
       "      <td>0.011056</td>\n",
       "    </tr>\n",
       "    <tr>\n",
       "      <th>267</th>\n",
       "      <td>{'filters': 256, 'filter_sizes': [3, 4, 5], 'dropout': 0.5, 'hn': 64, 'lr': 0.0001}</td>\n",
       "      <td>0.696207</td>\n",
       "      <td>0.011159</td>\n",
       "    </tr>\n",
       "    <tr>\n",
       "      <th>302</th>\n",
       "      <td>{'filters': 256, 'filter_sizes': [4, 5, 6], 'dropout': 0.5, 'hn': 64, 'lr': 0.001}</td>\n",
       "      <td>0.696047</td>\n",
       "      <td>0.005561</td>\n",
       "    </tr>\n",
       "    <tr>\n",
       "      <th>222</th>\n",
       "      <td>{'filters': 256, 'filter_sizes': [2, 3, 4], 'dropout': 0.1, 'hn': 124, 'lr': 0.001}</td>\n",
       "      <td>0.695855</td>\n",
       "      <td>0.005695</td>\n",
       "    </tr>\n",
       "    <tr>\n",
       "      <th>122</th>\n",
       "      <td>{'filters': 128, 'filter_sizes': [2, 3, 4], 'dropout': 0.5, 'hn': 64, 'lr': 0.001}</td>\n",
       "      <td>0.695842</td>\n",
       "      <td>0.016075</td>\n",
       "    </tr>\n",
       "    <tr>\n",
       "      <th>258</th>\n",
       "      <td>{'filters': 256, 'filter_sizes': [3, 4, 5], 'dropout': 0.1, 'hn': 124, 'lr': 0.001}</td>\n",
       "      <td>0.695091</td>\n",
       "      <td>0.004477</td>\n",
       "    </tr>\n",
       "  </tbody>\n",
       "</table>\n",
       "</div>"
      ],
      "text/plain": [
       "                                                                               hyper_parm  \\\n",
       "231   {'filters': 256, 'filter_sizes': [2, 3, 4], 'dropout': 0.5, 'hn': 64, 'lr': 0.0001}   \n",
       "218    {'filters': 256, 'filter_sizes': [2, 3, 4], 'dropout': 0.1, 'hn': 64, 'lr': 0.001}   \n",
       "234   {'filters': 256, 'filter_sizes': [2, 3, 4], 'dropout': 0.5, 'hn': 124, 'lr': 0.001}   \n",
       "254    {'filters': 256, 'filter_sizes': [3, 4, 5], 'dropout': 0.1, 'hn': 64, 'lr': 0.001}   \n",
       "127  {'filters': 128, 'filter_sizes': [2, 3, 4], 'dropout': 0.5, 'hn': 124, 'lr': 0.0001}   \n",
       "274   {'filters': 256, 'filter_sizes': [3, 4, 5], 'dropout': 0.5, 'hn': 512, 'lr': 0.001}   \n",
       "271  {'filters': 256, 'filter_sizes': [3, 4, 5], 'dropout': 0.5, 'hn': 124, 'lr': 0.0001}   \n",
       "14      {'filters': 32, 'filter_sizes': [2, 3, 4], 'dropout': 0.5, 'hn': 64, 'lr': 0.001}   \n",
       "230    {'filters': 256, 'filter_sizes': [2, 3, 4], 'dropout': 0.5, 'hn': 64, 'lr': 0.001}   \n",
       "126   {'filters': 128, 'filter_sizes': [2, 3, 4], 'dropout': 0.5, 'hn': 124, 'lr': 0.001}   \n",
       "306   {'filters': 256, 'filter_sizes': [4, 5, 6], 'dropout': 0.5, 'hn': 124, 'lr': 0.001}   \n",
       "235  {'filters': 256, 'filter_sizes': [2, 3, 4], 'dropout': 0.5, 'hn': 124, 'lr': 0.0001}   \n",
       "162   {'filters': 128, 'filter_sizes': [3, 4, 5], 'dropout': 0.5, 'hn': 124, 'lr': 0.001}   \n",
       "159   {'filters': 128, 'filter_sizes': [3, 4, 5], 'dropout': 0.5, 'hn': 64, 'lr': 0.0001}   \n",
       "303   {'filters': 256, 'filter_sizes': [4, 5, 6], 'dropout': 0.5, 'hn': 64, 'lr': 0.0001}   \n",
       "267   {'filters': 256, 'filter_sizes': [3, 4, 5], 'dropout': 0.5, 'hn': 64, 'lr': 0.0001}   \n",
       "302    {'filters': 256, 'filter_sizes': [4, 5, 6], 'dropout': 0.5, 'hn': 64, 'lr': 0.001}   \n",
       "222   {'filters': 256, 'filter_sizes': [2, 3, 4], 'dropout': 0.1, 'hn': 124, 'lr': 0.001}   \n",
       "122    {'filters': 128, 'filter_sizes': [2, 3, 4], 'dropout': 0.5, 'hn': 64, 'lr': 0.001}   \n",
       "258   {'filters': 256, 'filter_sizes': [3, 4, 5], 'dropout': 0.1, 'hn': 124, 'lr': 0.001}   \n",
       "\n",
       "         mean       std  \n",
       "231  0.705910  0.004856  \n",
       "218  0.703817  0.011898  \n",
       "234  0.703300  0.005910  \n",
       "254  0.698973  0.009021  \n",
       "127  0.698614  0.010202  \n",
       "274  0.698546  0.007799  \n",
       "271  0.698533  0.012795  \n",
       "14   0.698085  0.015261  \n",
       "230  0.697862  0.013440  \n",
       "126  0.697779  0.010987  \n",
       "306  0.697731  0.013169  \n",
       "235  0.697710  0.008633  \n",
       "162  0.697369  0.007379  \n",
       "159  0.696833  0.007689  \n",
       "303  0.696753  0.011056  \n",
       "267  0.696207  0.011159  \n",
       "302  0.696047  0.005561  \n",
       "222  0.695855  0.005695  \n",
       "122  0.695842  0.016075  \n",
       "258  0.695091  0.004477  "
      ]
     },
     "execution_count": 10,
     "metadata": {},
     "output_type": "execute_result"
    }
   ],
   "source": [
    "pd.set_option('display.max_colwidth', None)\n",
    "df_result.sort_values(by=['mean'], ascending=False)[0:20][[\"hyper_parm\",\"mean\", \"std\"]]"
   ]
  },
  {
   "cell_type": "code",
   "execution_count": 13,
   "metadata": {},
   "outputs": [],
   "source": [
    "grid_result_final = pickle.load( open( \"../../script/grid_search/kim_cnn/result_kim_cnn.p\", \"rb\" ) )"
   ]
  },
  {
   "cell_type": "code",
   "execution_count": 17,
   "metadata": {},
   "outputs": [
    {
     "data": {
      "text/plain": [
       "{'hyper_parm': {'filters': 256,\n",
       "  'filter_sizes': [2, 3, 4],\n",
       "  'dropout': 0.1,\n",
       "  'hn': 64,\n",
       "  'lr': 0.001},\n",
       " 'loss_mean': 0.37758823931217195,\n",
       " 'loss_std': 0.07894720316803756,\n",
       " 'f1_macro_mean': 0.8579907026812166,\n",
       " 'f1_macro_std': 0.04848333480805784,\n",
       " 'val_loss_mean': 0.5699705719947815,\n",
       " 'val_loss_std': 0.01121356498155134,\n",
       " 'val_f1_macro_mean': 0.6917073041699661,\n",
       " 'val_f1_macro_std': 0.020919188607695562,\n",
       " 'folds': {'loss': [0.40829095244407654,\n",
       "   0.37874940037727356,\n",
       "   0.24003072082996368,\n",
       "   0.37699511647224426,\n",
       "   0.48387500643730164],\n",
       "  'val_loss': [0.5652934312820435,\n",
       "   0.5511502623558044,\n",
       "   0.5840681791305542,\n",
       "   0.5724660158157349,\n",
       "   0.5768749713897705],\n",
       "  'f1_macro': [0.8452688141017266,\n",
       "   0.8704064690929334,\n",
       "   0.9411648044498737,\n",
       "   0.8398557347416034,\n",
       "   0.7932576910199463],\n",
       "  'val_f1_macro': [0.7074836963209056,\n",
       "   0.7111122993092789,\n",
       "   0.7057977302800902,\n",
       "   0.6584048535069548,\n",
       "   0.6757379414326008]}}"
      ]
     },
     "execution_count": 17,
     "metadata": {},
     "output_type": "execute_result"
    }
   ],
   "source": [
    "grid_result_final[0]"
   ]
  },
  {
   "cell_type": "code",
   "execution_count": 26,
   "metadata": {},
   "outputs": [],
   "source": [
    "df_result_final = pd.DataFrame(grid_result_final)\n",
    "df_result_final_sorted = df_result_final.sort_values(by=['val_f1_macro_mean'], ascending=False)[0:3][[\"hyper_parm\",\"loss_mean\",\"loss_std\",\"f1_macro_mean\", \"f1_macro_std\",\"val_loss_mean\",\"val_loss_std\",\"val_f1_macro_mean\",\"val_f1_macro_std\"]]"
   ]
  },
  {
   "cell_type": "code",
   "execution_count": 27,
   "metadata": {},
   "outputs": [
    {
     "data": {
      "text/html": [
       "<div>\n",
       "<style scoped>\n",
       "    .dataframe tbody tr th:only-of-type {\n",
       "        vertical-align: middle;\n",
       "    }\n",
       "\n",
       "    .dataframe tbody tr th {\n",
       "        vertical-align: top;\n",
       "    }\n",
       "\n",
       "    .dataframe thead th {\n",
       "        text-align: right;\n",
       "    }\n",
       "</style>\n",
       "<table border=\"1\" class=\"dataframe\">\n",
       "  <thead>\n",
       "    <tr style=\"text-align: right;\">\n",
       "      <th></th>\n",
       "      <th>hyper_parm</th>\n",
       "      <th>loss_mean</th>\n",
       "      <th>loss_std</th>\n",
       "      <th>f1_macro_mean</th>\n",
       "      <th>f1_macro_std</th>\n",
       "      <th>val_loss_mean</th>\n",
       "      <th>val_loss_std</th>\n",
       "      <th>val_f1_macro_mean</th>\n",
       "      <th>val_f1_macro_std</th>\n",
       "    </tr>\n",
       "  </thead>\n",
       "  <tbody>\n",
       "    <tr>\n",
       "      <th>5</th>\n",
       "      <td>{'filters': 256, 'filter_sizes': [2, 3, 4], 'dropout': 0.5, 'hn': 64, 'lr': 0.0001}</td>\n",
       "      <td>0.376552</td>\n",
       "      <td>0.035755</td>\n",
       "      <td>0.852610</td>\n",
       "      <td>0.018248</td>\n",
       "      <td>0.560757</td>\n",
       "      <td>0.011836</td>\n",
       "      <td>0.702131</td>\n",
       "      <td>0.009217</td>\n",
       "    </tr>\n",
       "    <tr>\n",
       "      <th>4</th>\n",
       "      <td>{'filters': 256, 'filter_sizes': [2, 3, 4], 'dropout': 0.5, 'hn': 64, 'lr': 0.001}</td>\n",
       "      <td>0.383705</td>\n",
       "      <td>0.068300</td>\n",
       "      <td>0.852852</td>\n",
       "      <td>0.037940</td>\n",
       "      <td>0.571303</td>\n",
       "      <td>0.013317</td>\n",
       "      <td>0.699694</td>\n",
       "      <td>0.009102</td>\n",
       "    </tr>\n",
       "    <tr>\n",
       "      <th>7</th>\n",
       "      <td>{'filters': 256, 'filter_sizes': [2, 3, 4], 'dropout': 0.5, 'hn': 124, 'lr': 0.0001}</td>\n",
       "      <td>0.380719</td>\n",
       "      <td>0.025508</td>\n",
       "      <td>0.849036</td>\n",
       "      <td>0.019435</td>\n",
       "      <td>0.562171</td>\n",
       "      <td>0.005032</td>\n",
       "      <td>0.696124</td>\n",
       "      <td>0.007857</td>\n",
       "    </tr>\n",
       "  </tbody>\n",
       "</table>\n",
       "</div>"
      ],
      "text/plain": [
       "                                                                             hyper_parm  \\\n",
       "5   {'filters': 256, 'filter_sizes': [2, 3, 4], 'dropout': 0.5, 'hn': 64, 'lr': 0.0001}   \n",
       "4    {'filters': 256, 'filter_sizes': [2, 3, 4], 'dropout': 0.5, 'hn': 64, 'lr': 0.001}   \n",
       "7  {'filters': 256, 'filter_sizes': [2, 3, 4], 'dropout': 0.5, 'hn': 124, 'lr': 0.0001}   \n",
       "\n",
       "   loss_mean  loss_std  f1_macro_mean  f1_macro_std  val_loss_mean  \\\n",
       "5   0.376552  0.035755       0.852610      0.018248       0.560757   \n",
       "4   0.383705  0.068300       0.852852      0.037940       0.571303   \n",
       "7   0.380719  0.025508       0.849036      0.019435       0.562171   \n",
       "\n",
       "   val_loss_std  val_f1_macro_mean  val_f1_macro_std  \n",
       "5      0.011836           0.702131          0.009217  \n",
       "4      0.013317           0.699694          0.009102  \n",
       "7      0.005032           0.696124          0.007857  "
      ]
     },
     "execution_count": 27,
     "metadata": {},
     "output_type": "execute_result"
    }
   ],
   "source": [
    "df_result_final_sorted"
   ]
  },
  {
   "cell_type": "code",
   "execution_count": 28,
   "metadata": {},
   "outputs": [
    {
     "name": "stdout",
     "output_type": "stream",
     "text": [
      "\\begin{tabular}{lrrrrrrrr}\n",
      "\\toprule\n",
      "                                                                          hyper\\_parm &  loss\\_mean &  loss\\_std &  f1\\_macro\\_mean &  f1\\_macro\\_std &  val\\_loss\\_mean &  val\\_loss\\_std &  val\\_f1\\_macro\\_mean &  val\\_f1\\_macro\\_std \\\\\n",
      "\\midrule\n",
      " \\{'filters': 256, 'filter\\_sizes': [2, 3, 4], 'dropout': 0.5, 'hn': 64, 'lr': 0.0001\\} &   0.376552 &  0.035755 &       0.852610 &      0.018248 &       0.560757 &      0.011836 &           0.702131 &          0.009217 \\\\\n",
      "  \\{'filters': 256, 'filter\\_sizes': [2, 3, 4], 'dropout': 0.5, 'hn': 64, 'lr': 0.001\\} &   0.383705 &  0.068300 &       0.852852 &      0.037940 &       0.571303 &      0.013317 &           0.699694 &          0.009102 \\\\\n",
      "\\{'filters': 256, 'filter\\_sizes': [2, 3, 4], 'dropout': 0.5, 'hn': 124, 'lr': 0.0001\\} &   0.380719 &  0.025508 &       0.849036 &      0.019435 &       0.562171 &      0.005032 &           0.696124 &          0.007857 \\\\\n",
      "\\bottomrule\n",
      "\\end{tabular}\n",
      "\n"
     ]
    }
   ],
   "source": [
    "print(df_result_final_sorted.to_latex(index=False))"
   ]
  },
  {
   "cell_type": "code",
   "execution_count": 16,
   "metadata": {
    "colab": {
     "base_uri": "https://localhost:8080/"
    },
    "id": "VUH78EKf5jhY",
    "outputId": "c7a9ef8f-1870-4b9d-b69a-709f1aa4989c",
    "scrolled": true,
    "tags": []
   },
   "outputs": [
    {
     "name": "stdout",
     "output_type": "stream",
     "text": [
      "Epoch 1/200\n",
      "49/49 - 1s - loss: 1.3231 - f1_macro: 0.4791 - val_loss: 0.7498 - val_f1_macro: 0.3324\n",
      "— val_f1: 0.32450613350017427\n",
      "Epoch 2/200\n",
      "49/49 - 1s - loss: 0.8053 - f1_macro: 0.5106 - val_loss: 0.6908 - val_f1_macro: 0.4708\n",
      "— val_f1: 0.430370071990002\n",
      "Epoch 3/200\n",
      "49/49 - 1s - loss: 0.7272 - f1_macro: 0.5296 - val_loss: 0.6885 - val_f1_macro: 0.5682\n",
      "— val_f1: 0.5281002843630418\n",
      "Epoch 4/200\n",
      "49/49 - 1s - loss: 0.7044 - f1_macro: 0.5258 - val_loss: 0.6890 - val_f1_macro: 0.5374\n",
      "— val_f1: 0.5210681974152074\n",
      "Epoch 5/200\n",
      "49/49 - 1s - loss: 0.6948 - f1_macro: 0.5217 - val_loss: 0.6891 - val_f1_macro: 0.5209\n",
      "— val_f1: 0.5179648443799387\n",
      "Epoch 6/200\n",
      "49/49 - 1s - loss: 0.6971 - f1_macro: 0.5096 - val_loss: 0.6892 - val_f1_macro: 0.5756\n",
      "— val_f1: 0.5395563891626607\n",
      "Epoch 7/200\n",
      "49/49 - 1s - loss: 0.6895 - f1_macro: 0.5177 - val_loss: 0.6882 - val_f1_macro: 0.5336\n",
      "— val_f1: 0.5172171079687451\n",
      "Epoch 8/200\n",
      "49/49 - 1s - loss: 0.6887 - f1_macro: 0.4989 - val_loss: 0.6876 - val_f1_macro: 0.5550\n",
      "— val_f1: 0.5418102666424814\n",
      "Epoch 9/200\n",
      "49/49 - 1s - loss: 0.6837 - f1_macro: 0.4985 - val_loss: 0.6836 - val_f1_macro: 0.5326\n",
      "— val_f1: 0.5227542722648582\n",
      "Epoch 10/200\n",
      "49/49 - 1s - loss: 0.6784 - f1_macro: 0.5112 - val_loss: 0.6753 - val_f1_macro: 0.5029\n",
      "— val_f1: 0.5145633180172654\n",
      "Epoch 11/200\n",
      "49/49 - 1s - loss: 0.6772 - f1_macro: 0.5155 - val_loss: 0.6796 - val_f1_macro: 0.5533\n",
      "— val_f1: 0.5717002830856335\n",
      "Epoch 12/200\n",
      "49/49 - 1s - loss: 0.6740 - f1_macro: 0.5365 - val_loss: 0.6718 - val_f1_macro: 0.5183\n",
      "— val_f1: 0.5439429928741093\n",
      "Epoch 13/200\n",
      "49/49 - 1s - loss: 0.6741 - f1_macro: 0.5246 - val_loss: 0.6622 - val_f1_macro: 0.5723\n",
      "— val_f1: 0.5931937587454127\n",
      "Epoch 14/200\n",
      "49/49 - 1s - loss: 0.6662 - f1_macro: 0.5594 - val_loss: 0.6588 - val_f1_macro: 0.5376\n",
      "— val_f1: 0.5479494245534637\n",
      "Epoch 15/200\n",
      "49/49 - 1s - loss: 0.6631 - f1_macro: 0.5614 - val_loss: 0.6531 - val_f1_macro: 0.5804\n",
      "— val_f1: 0.5915265200517464\n",
      "Epoch 16/200\n",
      "49/49 - 1s - loss: 0.6598 - f1_macro: 0.5764 - val_loss: 0.6520 - val_f1_macro: 0.6325\n",
      "— val_f1: 0.6232083532589934\n",
      "Epoch 17/200\n",
      "49/49 - 1s - loss: 0.6566 - f1_macro: 0.5614 - val_loss: 0.6502 - val_f1_macro: 0.6072\n",
      "— val_f1: 0.6204151319828115\n",
      "Epoch 18/200\n",
      "49/49 - 1s - loss: 0.6528 - f1_macro: 0.5783 - val_loss: 0.6419 - val_f1_macro: 0.6120\n",
      "— val_f1: 0.6197108928955812\n",
      "Epoch 19/200\n",
      "49/49 - 1s - loss: 0.6512 - f1_macro: 0.5869 - val_loss: 0.6363 - val_f1_macro: 0.6394\n",
      "— val_f1: 0.6266252330952221\n",
      "Epoch 20/200\n",
      "49/49 - 1s - loss: 0.6474 - f1_macro: 0.5941 - val_loss: 0.6328 - val_f1_macro: 0.6433\n",
      "— val_f1: 0.6326186714812307\n",
      "Epoch 21/200\n",
      "49/49 - 1s - loss: 0.6338 - f1_macro: 0.6100 - val_loss: 0.6197 - val_f1_macro: 0.6462\n",
      "— val_f1: 0.6286023124772322\n",
      "Epoch 22/200\n",
      "49/49 - 1s - loss: 0.6387 - f1_macro: 0.6115 - val_loss: 0.6161 - val_f1_macro: 0.6581\n",
      "— val_f1: 0.6207466703156358\n",
      "Epoch 23/200\n",
      "49/49 - 1s - loss: 0.6345 - f1_macro: 0.6146 - val_loss: 0.6134 - val_f1_macro: 0.6469\n",
      "— val_f1: 0.6443688138603393\n",
      "Epoch 24/200\n",
      "49/49 - 1s - loss: 0.6287 - f1_macro: 0.6178 - val_loss: 0.6112 - val_f1_macro: 0.6557\n",
      "— val_f1: 0.6387601811149394\n",
      "Epoch 25/200\n",
      "49/49 - 1s - loss: 0.6224 - f1_macro: 0.6281 - val_loss: 0.6065 - val_f1_macro: 0.6571\n",
      "— val_f1: 0.6547847717823594\n",
      "Epoch 26/200\n",
      "49/49 - 1s - loss: 0.6154 - f1_macro: 0.6310 - val_loss: 0.5993 - val_f1_macro: 0.6600\n",
      "— val_f1: 0.648085206791642\n",
      "Epoch 27/200\n",
      "49/49 - 1s - loss: 0.6101 - f1_macro: 0.6465 - val_loss: 0.5912 - val_f1_macro: 0.6761\n",
      "— val_f1: 0.6285798854691815\n",
      "Epoch 28/200\n",
      "49/49 - 1s - loss: 0.6078 - f1_macro: 0.6437 - val_loss: 0.5886 - val_f1_macro: 0.6737\n",
      "— val_f1: 0.6368667038200426\n",
      "Epoch 29/200\n",
      "49/49 - 1s - loss: 0.6007 - f1_macro: 0.6558 - val_loss: 0.5849 - val_f1_macro: 0.6764\n",
      "— val_f1: 0.6527257432703897\n",
      "Epoch 30/200\n",
      "49/49 - 1s - loss: 0.5983 - f1_macro: 0.6638 - val_loss: 0.5810 - val_f1_macro: 0.6998\n",
      "— val_f1: 0.6364724024416512\n",
      "Epoch 31/200\n",
      "49/49 - 1s - loss: 0.5918 - f1_macro: 0.6645 - val_loss: 0.5777 - val_f1_macro: 0.7002\n",
      "— val_f1: 0.6415747975128856\n",
      "Epoch 32/200\n",
      "49/49 - 1s - loss: 0.5893 - f1_macro: 0.6684 - val_loss: 0.5779 - val_f1_macro: 0.6885\n",
      "— val_f1: 0.6355400025064831\n",
      "Epoch 33/200\n",
      "49/49 - 1s - loss: 0.5748 - f1_macro: 0.6747 - val_loss: 0.5712 - val_f1_macro: 0.7027\n",
      "— val_f1: 0.6464956097848413\n",
      "Epoch 34/200\n",
      "49/49 - 1s - loss: 0.5716 - f1_macro: 0.6872 - val_loss: 0.5657 - val_f1_macro: 0.6964\n",
      "— val_f1: 0.6632435077600156\n",
      "Epoch 35/200\n",
      "49/49 - 1s - loss: 0.5690 - f1_macro: 0.6936 - val_loss: 0.5670 - val_f1_macro: 0.6972\n",
      "— val_f1: 0.6425323438222283\n",
      "Epoch 36/200\n",
      "49/49 - 1s - loss: 0.5607 - f1_macro: 0.6957 - val_loss: 0.5626 - val_f1_macro: 0.6947\n",
      "— val_f1: 0.6434747606208715\n",
      "Epoch 37/200\n",
      "49/49 - 1s - loss: 0.5541 - f1_macro: 0.6949 - val_loss: 0.5577 - val_f1_macro: 0.6975\n",
      "— val_f1: 0.6666202470830038\n",
      "Epoch 38/200\n",
      "49/49 - 1s - loss: 0.5473 - f1_macro: 0.7054 - val_loss: 0.5548 - val_f1_macro: 0.7135\n",
      "— val_f1: 0.675574798728594\n",
      "Epoch 39/200\n",
      "49/49 - 1s - loss: 0.5441 - f1_macro: 0.7109 - val_loss: 0.5535 - val_f1_macro: 0.7003\n",
      "— val_f1: 0.6662262156448203\n",
      "Epoch 40/200\n",
      "49/49 - 1s - loss: 0.5338 - f1_macro: 0.7214 - val_loss: 0.5488 - val_f1_macro: 0.7043\n",
      "— val_f1: 0.6630168523337129\n",
      "Epoch 41/200\n",
      "49/49 - 1s - loss: 0.5229 - f1_macro: 0.7260 - val_loss: 0.5501 - val_f1_macro: 0.6973\n",
      "— val_f1: 0.6477140707606799\n",
      "Epoch 42/200\n",
      "49/49 - 1s - loss: 0.5248 - f1_macro: 0.7272 - val_loss: 0.5440 - val_f1_macro: 0.7187\n",
      "— val_f1: 0.6965589704826097\n",
      "Epoch 43/200\n",
      "49/49 - 1s - loss: 0.5255 - f1_macro: 0.7333 - val_loss: 0.5422 - val_f1_macro: 0.7220\n",
      "— val_f1: 0.6892343707227744\n",
      "Epoch 44/200\n",
      "49/49 - 1s - loss: 0.5116 - f1_macro: 0.7430 - val_loss: 0.5425 - val_f1_macro: 0.7118\n",
      "— val_f1: 0.6617782933379363\n",
      "Epoch 45/200\n",
      "49/49 - 1s - loss: 0.5036 - f1_macro: 0.7429 - val_loss: 0.5410 - val_f1_macro: 0.7028\n",
      "— val_f1: 0.669908652626237\n",
      "Epoch 46/200\n",
      "49/49 - 1s - loss: 0.4974 - f1_macro: 0.7495 - val_loss: 0.5394 - val_f1_macro: 0.7133\n",
      "— val_f1: 0.6779004938944944\n",
      "Epoch 47/200\n",
      "49/49 - 1s - loss: 0.4846 - f1_macro: 0.7555 - val_loss: 0.5375 - val_f1_macro: 0.7145\n",
      "— val_f1: 0.6735078907300276\n",
      "Epoch 48/200\n",
      "49/49 - 1s - loss: 0.4837 - f1_macro: 0.7610 - val_loss: 0.5364 - val_f1_macro: 0.7104\n",
      "— val_f1: 0.6878773339604809\n",
      "Epoch 49/200\n",
      "49/49 - 1s - loss: 0.4794 - f1_macro: 0.7588 - val_loss: 0.5427 - val_f1_macro: 0.7169\n",
      "— val_f1: 0.6564018529927642\n",
      "Epoch 50/200\n",
      "49/49 - 1s - loss: 0.4651 - f1_macro: 0.7719 - val_loss: 0.5358 - val_f1_macro: 0.7104\n",
      "— val_f1: 0.6877642412717424\n",
      "Epoch 51/200\n",
      "49/49 - 1s - loss: 0.4630 - f1_macro: 0.7695 - val_loss: 0.5338 - val_f1_macro: 0.7027\n",
      "— val_f1: 0.690339980385747\n",
      "Epoch 52/200\n",
      "49/49 - 1s - loss: 0.4536 - f1_macro: 0.7668 - val_loss: 0.5403 - val_f1_macro: 0.7147\n",
      "— val_f1: 0.6685333569997718\n",
      "Epoch 53/200\n",
      "49/49 - 1s - loss: 0.4440 - f1_macro: 0.7800 - val_loss: 0.5406 - val_f1_macro: 0.7161\n",
      "— val_f1: 0.6790493215941904\n",
      "Epoch 54/200\n",
      "49/49 - 1s - loss: 0.4337 - f1_macro: 0.7890 - val_loss: 0.5386 - val_f1_macro: 0.7119\n",
      "— val_f1: 0.6922896291656304\n",
      "Epoch 55/200\n",
      "49/49 - 1s - loss: 0.4168 - f1_macro: 0.8020 - val_loss: 0.5452 - val_f1_macro: 0.7160\n",
      "— val_f1: 0.6724811423694834\n",
      "Epoch 56/200\n",
      "49/49 - 1s - loss: 0.4228 - f1_macro: 0.7924 - val_loss: 0.5429 - val_f1_macro: 0.7095\n",
      "— val_f1: 0.6733372213910795\n",
      "Epoch 57/200\n",
      "49/49 - 1s - loss: 0.4174 - f1_macro: 0.8108 - val_loss: 0.5501 - val_f1_macro: 0.7118\n",
      "— val_f1: 0.6624185943852214\n",
      "Epoch 58/200\n",
      "49/49 - 1s - loss: 0.4020 - f1_macro: 0.8094 - val_loss: 0.5428 - val_f1_macro: 0.7070\n",
      "— val_f1: 0.6784590637349275\n",
      "Epoch 59/200\n",
      "49/49 - 1s - loss: 0.3897 - f1_macro: 0.8220 - val_loss: 0.5428 - val_f1_macro: 0.7159\n",
      "— val_f1: 0.686557067271353\n",
      "Epoch 60/200\n",
      "49/49 - 1s - loss: 0.3874 - f1_macro: 0.8228 - val_loss: 0.5459 - val_f1_macro: 0.7270\n",
      "— val_f1: 0.6992866588558272\n",
      "Epoch 61/200\n",
      "49/49 - 1s - loss: 0.3783 - f1_macro: 0.8300 - val_loss: 0.5503 - val_f1_macro: 0.7220\n",
      "— val_f1: 0.6885875308207116\n",
      "Epoch 62/200\n",
      "49/49 - 1s - loss: 0.3695 - f1_macro: 0.8379 - val_loss: 0.5491 - val_f1_macro: 0.7121\n",
      "— val_f1: 0.6812553944306762\n",
      "Epoch 63/200\n",
      "49/49 - 1s - loss: 0.3665 - f1_macro: 0.8287 - val_loss: 0.5515 - val_f1_macro: 0.7288\n",
      "— val_f1: 0.7189119211587952\n",
      "Epoch 64/200\n",
      "49/49 - 1s - loss: 0.3499 - f1_macro: 0.8476 - val_loss: 0.5541 - val_f1_macro: 0.7223\n",
      "— val_f1: 0.6849659863945577\n",
      "Epoch 65/200\n",
      "49/49 - 1s - loss: 0.3489 - f1_macro: 0.8442 - val_loss: 0.5573 - val_f1_macro: 0.7237\n",
      "— val_f1: 0.6839181937209905\n",
      "Epoch 66/200\n",
      "49/49 - 1s - loss: 0.3329 - f1_macro: 0.8534 - val_loss: 0.5645 - val_f1_macro: 0.7159\n",
      "— val_f1: 0.6759491911021234\n",
      "Epoch 67/200\n",
      "49/49 - 1s - loss: 0.3285 - f1_macro: 0.8552 - val_loss: 0.5759 - val_f1_macro: 0.7105\n",
      "— val_f1: 0.6627649132086603\n",
      "Epoch 68/200\n",
      "49/49 - 1s - loss: 0.3383 - f1_macro: 0.8546 - val_loss: 0.5688 - val_f1_macro: 0.7119\n",
      "— val_f1: 0.6706686984217435\n",
      "Epoch 69/200\n",
      "49/49 - 1s - loss: 0.3153 - f1_macro: 0.8640 - val_loss: 0.5694 - val_f1_macro: 0.7209\n",
      "— val_f1: 0.6952970682696609\n",
      "Epoch 70/200\n",
      "49/49 - 1s - loss: 0.3062 - f1_macro: 0.8698 - val_loss: 0.5666 - val_f1_macro: 0.7218\n",
      "— val_f1: 0.6972264616991153\n",
      "Epoch 71/200\n",
      "49/49 - 1s - loss: 0.3053 - f1_macro: 0.8716 - val_loss: 0.5692 - val_f1_macro: 0.7368\n",
      "— val_f1: 0.7045817826091048\n",
      "Epoch 72/200\n",
      "49/49 - 1s - loss: 0.2869 - f1_macro: 0.8803 - val_loss: 0.5744 - val_f1_macro: 0.7434\n",
      "— val_f1: 0.714085853946077\n",
      "Epoch 73/200\n",
      "49/49 - 1s - loss: 0.2797 - f1_macro: 0.8806 - val_loss: 0.5810 - val_f1_macro: 0.7197\n",
      "— val_f1: 0.7002237895022378\n",
      "Epoch 74/200\n",
      "49/49 - 1s - loss: 0.2708 - f1_macro: 0.8816 - val_loss: 0.5891 - val_f1_macro: 0.7223\n",
      "— val_f1: 0.6725915784870178\n",
      "Epoch 75/200\n",
      "49/49 - 1s - loss: 0.2713 - f1_macro: 0.8895 - val_loss: 0.5864 - val_f1_macro: 0.7271\n",
      "— val_f1: 0.7001439568280257\n",
      "Epoch 76/200\n",
      "49/49 - 1s - loss: 0.2609 - f1_macro: 0.8991 - val_loss: 0.5980 - val_f1_macro: 0.7224\n",
      "— val_f1: 0.6896704232734898\n",
      "Epoch 77/200\n",
      "49/49 - 1s - loss: 0.2596 - f1_macro: 0.8896 - val_loss: 0.5886 - val_f1_macro: 0.7298\n",
      "— val_f1: 0.701443713965934\n",
      "Epoch 78/200\n",
      "49/49 - 1s - loss: 0.2534 - f1_macro: 0.8960 - val_loss: 0.5996 - val_f1_macro: 0.7249\n",
      "— val_f1: 0.6964790035922132\n",
      "Epoch 79/200\n",
      "49/49 - 1s - loss: 0.2392 - f1_macro: 0.9009 - val_loss: 0.6046 - val_f1_macro: 0.7254\n",
      "— val_f1: 0.6963852744702124\n",
      "Epoch 80/200\n",
      "49/49 - 1s - loss: 0.2345 - f1_macro: 0.9043 - val_loss: 0.6110 - val_f1_macro: 0.7181\n",
      "— val_f1: 0.6935668383048053\n",
      "Epoch 81/200\n",
      "49/49 - 1s - loss: 0.2239 - f1_macro: 0.9112 - val_loss: 0.6249 - val_f1_macro: 0.7235\n",
      "— val_f1: 0.6905006535741847\n",
      "Epoch 82/200\n",
      "49/49 - 1s - loss: 0.2150 - f1_macro: 0.9168 - val_loss: 0.6278 - val_f1_macro: 0.7390\n",
      "— val_f1: 0.7116452825265567\n",
      "Epoch 83/200\n",
      "49/49 - 1s - loss: 0.2079 - f1_macro: 0.9131 - val_loss: 0.6267 - val_f1_macro: 0.7291\n",
      "— val_f1: 0.6957542908762422\n",
      "Epoch 84/200\n",
      "49/49 - 1s - loss: 0.1994 - f1_macro: 0.9217 - val_loss: 0.6318 - val_f1_macro: 0.7204\n",
      "— val_f1: 0.6986755133202074\n",
      "Epoch 85/200\n",
      "49/49 - 1s - loss: 0.2047 - f1_macro: 0.9216 - val_loss: 0.6417 - val_f1_macro: 0.7341\n",
      "— val_f1: 0.7154985960564086\n",
      "Epoch 86/200\n",
      "49/49 - 1s - loss: 0.1877 - f1_macro: 0.9271 - val_loss: 0.6387 - val_f1_macro: 0.7224\n",
      "— val_f1: 0.6965071872100224\n",
      "Epoch 87/200\n",
      "49/49 - 1s - loss: 0.1863 - f1_macro: 0.9274 - val_loss: 0.6561 - val_f1_macro: 0.7275\n",
      "— val_f1: 0.7062431626758112\n",
      "Epoch 88/200\n",
      "49/49 - 1s - loss: 0.1814 - f1_macro: 0.9214 - val_loss: 0.6697 - val_f1_macro: 0.7202\n",
      "— val_f1: 0.7030878859857482\n",
      "Epoch 89/200\n",
      "49/49 - 1s - loss: 0.1850 - f1_macro: 0.9334 - val_loss: 0.6676 - val_f1_macro: 0.7239\n",
      "— val_f1: 0.7022541230287709\n",
      "Epoch 90/200\n",
      "49/49 - 1s - loss: 0.1704 - f1_macro: 0.9386 - val_loss: 0.6720 - val_f1_macro: 0.7248\n",
      "— val_f1: 0.6989476906401172\n",
      "Epoch 91/200\n",
      "49/49 - 1s - loss: 0.1604 - f1_macro: 0.9405 - val_loss: 0.6837 - val_f1_macro: 0.7227\n",
      "— val_f1: 0.703848275862069\n",
      "Epoch 92/200\n",
      "49/49 - 1s - loss: 0.1656 - f1_macro: 0.9388 - val_loss: 0.6847 - val_f1_macro: 0.7239\n",
      "— val_f1: 0.7110048176834372\n",
      "Epoch 93/200\n",
      "49/49 - 1s - loss: 0.1545 - f1_macro: 0.9421 - val_loss: 0.7008 - val_f1_macro: 0.7294\n",
      "— val_f1: 0.7137929497637555\n",
      "Epoch 94/200\n",
      "49/49 - 1s - loss: 0.1527 - f1_macro: 0.9424 - val_loss: 0.6942 - val_f1_macro: 0.7260\n",
      "— val_f1: 0.7046447547844078\n",
      "Epoch 95/200\n",
      "49/49 - 1s - loss: 0.1495 - f1_macro: 0.9446 - val_loss: 0.7022 - val_f1_macro: 0.7226\n",
      "— val_f1: 0.7038794659872816\n",
      "Epoch 96/200\n",
      "49/49 - 1s - loss: 0.1412 - f1_macro: 0.9452 - val_loss: 0.7113 - val_f1_macro: 0.7218\n",
      "— val_f1: 0.6972264616991153\n",
      "Epoch 97/200\n",
      "49/49 - 1s - loss: 0.1445 - f1_macro: 0.9435 - val_loss: 0.7135 - val_f1_macro: 0.7180\n",
      "— val_f1: 0.6954654369546545\n",
      "Epoch 98/200\n",
      "49/49 - 1s - loss: 0.1356 - f1_macro: 0.9492 - val_loss: 0.7343 - val_f1_macro: 0.7148\n",
      "— val_f1: 0.6912618570002923\n",
      "Epoch 99/200\n",
      "49/49 - 1s - loss: 0.1276 - f1_macro: 0.9546 - val_loss: 0.7341 - val_f1_macro: 0.7270\n",
      "— val_f1: 0.6979009520580841\n",
      "Epoch 100/200\n",
      "49/49 - 1s - loss: 0.1167 - f1_macro: 0.9567 - val_loss: 0.7572 - val_f1_macro: 0.7226\n",
      "— val_f1: 0.7038378776935115\n",
      "Epoch 101/200\n",
      "49/49 - 1s - loss: 0.1223 - f1_macro: 0.9576 - val_loss: 0.7651 - val_f1_macro: 0.7206\n",
      "— val_f1: 0.6976997810661483\n",
      "Epoch 102/200\n",
      "49/49 - 1s - loss: 0.1156 - f1_macro: 0.9613 - val_loss: 0.7745 - val_f1_macro: 0.7169\n",
      "— val_f1: 0.6990745385232744\n",
      "Epoch 103/200\n",
      "49/49 - 1s - loss: 0.1148 - f1_macro: 0.9578 - val_loss: 0.7591 - val_f1_macro: 0.7156\n",
      "— val_f1: 0.7022914545646036\n",
      "Epoch 104/200\n",
      "49/49 - 1s - loss: 0.1241 - f1_macro: 0.9519 - val_loss: 0.7702 - val_f1_macro: 0.7167\n",
      "— val_f1: 0.7030759730550653\n",
      "Epoch 105/200\n",
      "49/49 - 1s - loss: 0.1099 - f1_macro: 0.9650 - val_loss: 0.7845 - val_f1_macro: 0.7182\n",
      "— val_f1: 0.6975028590345491\n",
      "Epoch 106/200\n",
      "49/49 - 1s - loss: 0.1124 - f1_macro: 0.9604 - val_loss: 0.7795 - val_f1_macro: 0.7202\n",
      "— val_f1: 0.7046647520927722\n",
      "Epoch 107/200\n",
      "49/49 - 1s - loss: 0.1065 - f1_macro: 0.9630 - val_loss: 0.7879 - val_f1_macro: 0.7237\n",
      "— val_f1: 0.7014976180669574\n",
      "Epoch 108/200\n",
      "49/49 - 1s - loss: 0.1000 - f1_macro: 0.9684 - val_loss: 0.7923 - val_f1_macro: 0.7214\n",
      "— val_f1: 0.7006583567415731\n",
      "Epoch 109/200\n",
      "49/49 - 1s - loss: 0.1007 - f1_macro: 0.9653 - val_loss: 0.7995 - val_f1_macro: 0.7218\n",
      "— val_f1: 0.692293201922932\n",
      "Epoch 110/200\n",
      "49/49 - 1s - loss: 0.0973 - f1_macro: 0.9701 - val_loss: 0.8092 - val_f1_macro: 0.7228\n",
      "— val_f1: 0.7093753703180048\n",
      "Epoch 111/200\n",
      "49/49 - 1s - loss: 0.0933 - f1_macro: 0.9675 - val_loss: 0.8226 - val_f1_macro: 0.7186\n",
      "— val_f1: 0.6781491741980412\n",
      "Epoch 112/200\n",
      "49/49 - 1s - loss: 0.0957 - f1_macro: 0.9656 - val_loss: 0.8033 - val_f1_macro: 0.7208\n",
      "— val_f1: 0.6967347494058251\n",
      "Epoch 113/200\n",
      "49/49 - 1s - loss: 0.0866 - f1_macro: 0.9710 - val_loss: 0.8334 - val_f1_macro: 0.7283\n",
      "— val_f1: 0.7038126219582546\n",
      "Restoring model weights from the end of the best epoch.\n",
      "\n",
      "Epoch 113: early stopping\n"
     ]
    }
   ],
   "source": [
    "model = kim_cnn((65,128, ), filters = 256, filter_sizes = [2,3,4], dropout = 0.4, hn=64, lr=0.0001, print_model=False)\n",
    "f1_callback = FCallback(validation = (X_val, y_val), verbose=True)    \n",
    "# gap_callback = GapCallback(train = (X_train, y_train), validation = (X_val, y_val), verbose=True)                               \n",
    "best_callback = ReturnBestEarlyStopping(monitor=\"val_f1\", min_delta=0, patience=50, verbose=1, mode=\"max\", restore_best_weights=True)\n",
    "history = model.fit(X_train, y_train, batch_size=128, epochs=200, validation_data=(X_val, y_val), callbacks=[f1_callback, best_callback], verbose = 2)"
   ]
  },
  {
   "cell_type": "code",
   "execution_count": 17,
   "metadata": {
    "colab": {
     "base_uri": "https://localhost:8080/"
    },
    "id": "l1lA5zk9NmaT",
    "outputId": "531486ec-ef12-49e4-ff6e-3fec5f03e73d"
   },
   "outputs": [
    {
     "name": "stdout",
     "output_type": "stream",
     "text": [
      "dict_keys(['loss', 'f1_macro', 'val_loss', 'val_f1_macro', 'val_f1'])\n"
     ]
    }
   ],
   "source": [
    "print(history.history.keys())"
   ]
  },
  {
   "cell_type": "code",
   "execution_count": 18,
   "metadata": {
    "colab": {
     "base_uri": "https://localhost:8080/"
    },
    "id": "zcuSPsDpIcyf",
    "outputId": "c1137f6a-cf03-48bc-b53f-5467f8ae4ba7"
   },
   "outputs": [
    {
     "name": "stdout",
     "output_type": "stream",
     "text": [
      "0.9273989790568382\n",
      "              precision    recall  f1-score   support\n",
      "\n",
      "           0       0.95      0.92      0.93      3426\n",
      "           1       0.90      0.94      0.92      2729\n",
      "\n",
      "    accuracy                           0.93      6155\n",
      "   macro avg       0.93      0.93      0.93      6155\n",
      "weighted avg       0.93      0.93      0.93      6155\n",
      "\n"
     ]
    }
   ],
   "source": [
    "y_train_pred = np.where(model.predict(X_train) > 0.5,1,0)\n",
    "print(f1_score(y_train, y_train_pred, average=\"macro\"))\n",
    "print(classification_report(y_train, y_train_pred))"
   ]
  },
  {
   "cell_type": "code",
   "execution_count": 19,
   "metadata": {
    "colab": {
     "base_uri": "https://localhost:8080/"
    },
    "id": "IVCrwHFgIxHx",
    "outputId": "3f88e30f-a6ea-472b-a92a-09811dca84a3"
   },
   "outputs": [
    {
     "name": "stdout",
     "output_type": "stream",
     "text": [
      "0.7264894056136488\n",
      "              precision    recall  f1-score   support\n",
      "\n",
      "           0       0.75      0.75      0.75       369\n",
      "           1       0.70      0.71      0.71       315\n",
      "\n",
      "    accuracy                           0.73       684\n",
      "   macro avg       0.73      0.73      0.73       684\n",
      "weighted avg       0.73      0.73      0.73       684\n",
      "\n"
     ]
    }
   ],
   "source": [
    "y_val_pred = np.where(model.predict(X_val) >0.5,1,0)\n",
    "print(f1_score(y_val, y_val_pred, average=\"macro\"))\n",
    "print(classification_report(y_val, y_val_pred))"
   ]
  },
  {
   "cell_type": "code",
   "execution_count": 20,
   "metadata": {
    "colab": {
     "base_uri": "https://localhost:8080/"
    },
    "id": "R6elLSXKI2hI",
    "outputId": "95e461d6-df6f-46a5-9cd5-07594e4708b9"
   },
   "outputs": [
    {
     "name": "stdout",
     "output_type": "stream",
     "text": [
      "0.7189119211587952\n",
      "              precision    recall  f1-score   support\n",
      "\n",
      "           0       0.80      0.65      0.72       694\n",
      "           1       0.65      0.80      0.72       569\n",
      "\n",
      "    accuracy                           0.72      1263\n",
      "   macro avg       0.73      0.73      0.72      1263\n",
      "weighted avg       0.73      0.72      0.72      1263\n",
      "\n"
     ]
    }
   ],
   "source": [
    "y_test_pred = np.where(model.predict(X_test_e) > 0.5,1,0)\n",
    "print(f1_score(y_test, y_test_pred, average=\"macro\"))\n",
    "print(classification_report(y_test, y_test_pred))"
   ]
  },
  {
   "cell_type": "code",
   "execution_count": 21,
   "metadata": {
    "colab": {
     "base_uri": "https://localhost:8080/",
     "height": 315
    },
    "id": "KyYkwLLPIAZg",
    "outputId": "f7da07aa-3fb7-4275-d2e8-8927de2ff821"
   },
   "outputs": [
    {
     "data": {
      "image/png": "[encoded data removed]",
      "text/plain": [
       "<Figure size 432x288 with 1 Axes>"
      ]
     },
     "metadata": {
      "needs_background": "light",
      "tags": []
     },
     "output_type": "display_data"
    }
   ],
   "source": [
    "# summarize history for loss\n",
    "plt.plot(history.history['loss'])\n",
    "plt.plot(history.history['val_loss'])\n",
    "plt.title('Model loss')\n",
    "plt.ylabel('loss')\n",
    "plt.xlabel('epoch')\n",
    "plt.legend(['Train', 'Val'], loc='upper left')\n",
    "plt.show()"
   ]
  },
  {
   "cell_type": "code",
   "execution_count": 22,
   "metadata": {
    "colab": {
     "base_uri": "https://localhost:8080/",
     "height": 315
    },
    "id": "nU3V5hu5ICk6",
    "outputId": "880c7eee-fab0-4359-a885-6b1604712c10"
   },
   "outputs": [
    {
     "data": {
      "image/png": "[encoded data removed]",
      "text/plain": [
       "<Figure size 432x288 with 1 Axes>"
      ]
     },
     "metadata": {
      "needs_background": "light",
      "tags": []
     },
     "output_type": "display_data"
    }
   ],
   "source": [
    "# summarize history for loss\n",
    "plt.plot(history.history['f1_macro'])\n",
    "plt.plot(history.history['val_f1_macro'])\n",
    "plt.title('Model f1_macro')\n",
    "plt.ylabel('f1_macro')\n",
    "plt.xlabel('epoch')\n",
    "plt.legend(['Train', 'Val'], loc='upper left')\n",
    "plt.show()"
   ]
  },
  {
   "cell_type": "markdown",
   "metadata": {
    "id": "gpoHM_17nsGx"
   },
   "source": [
    "# ensemble predictions"
   ]
  },
  {
   "cell_type": "code",
   "execution_count": 18,
   "metadata": {
    "id": "Yusc82JxLlCI"
   },
   "outputs": [],
   "source": [
    "from sklearn.model_selection import StratifiedKFold\n",
    "from sklearn.metrics import accuracy_score\n",
    "import scipy"
   ]
  },
  {
   "cell_type": "code",
   "execution_count": 15,
   "metadata": {
    "colab": {
     "base_uri": "https://localhost:8080/"
    },
    "id": "bNJ-dBNaStU_",
    "outputId": "b1607664-7a20-4ace-b56c-86ea532cb137"
   },
   "outputs": [
    {
     "name": "stdout",
     "output_type": "stream",
     "text": [
      "Restoring model weights from the end of the best epoch.\n",
      "\n",
      "Epoch 101: early stopping\n",
      "0.7036266735993761\n",
      "Restoring model weights from the end of the best epoch.\n",
      "\n",
      "Epoch 102: early stopping\n",
      "0.683991683991684\n",
      "Restoring model weights from the end of the best epoch.\n",
      "\n",
      "Epoch 104: early stopping\n",
      "0.7138908959635193\n",
      "Restoring model weights from the end of the best epoch.\n",
      "\n",
      "Epoch 109: early stopping\n",
      "0.7084478801787655\n",
      "Restoring model weights from the end of the best epoch.\n",
      "\n",
      "Epoch 101: early stopping\n",
      "0.6953496434231379\n"
     ]
    }
   ],
   "source": [
    "cv_kfold = StratifiedKFold(n_splits=5, shuffle=True)\n",
    "\n",
    "models = []\n",
    "\n",
    "for train_index, test_index in cv_kfold.split(X_e, y):\n",
    "  input_train_k = X_e[train_index]\n",
    "  input_val_k   = X_e[test_index]\n",
    "  y_train_k = y[train_index]\n",
    "  y_val_k = y[test_index]\n",
    "\n",
    "  model = kim_cnn((65,128, ), filters = 256, filter_sizes = [2,3,4], dropout = 0.4, hn=64, lr=0.0001, print_model=False)\n",
    "\n",
    "  f1_callback = FCallback(validation = (input_val_k, y_val_k), verbose=False)    \n",
    "  best_callback = ReturnBestEarlyStopping(monitor=\"val_loss\", min_delta=0, patience=50, verbose=1, mode=\"min\", restore_best_weights=True)\n",
    "\n",
    "  history = model.fit(input_train_k, y_train_k, batch_size=128, epochs=200, validation_data=(input_val_k, y_val_k), callbacks=[f1_callback, best_callback], verbose = 0)\n",
    "  \n",
    "  y_val_pred_k = np.where(model.predict(input_val_k) >0.5,1,0)\n",
    "  print(f1_score(y_val_k,y_val_pred_k,average=\"macro\"))\n",
    "  models.append(model)\n"
   ]
  },
  {
   "cell_type": "code",
   "execution_count": 16,
   "metadata": {
    "id": "PDgupccPUMPY"
   },
   "outputs": [],
   "source": [
    "def ensemble_predictions(members, X):\n",
    "  # make predictions\n",
    "  results = []\n",
    "  yhats = [np.squeeze(np.where(models[0].predict(X) > 0.5, 1,0).reshape(1,-1)) for model in members]\n",
    "  # sum across ensemble members\n",
    "  yhats = np.array(yhats)\n",
    "  print(yhats[:,0])\n",
    "  print(yhats.shape)\n",
    "\n",
    "  for i in range(yhats.shape[1]):\n",
    "    counts = np.bincount(yhats[:,i])\n",
    "    results.append(np.argmax(counts))\n",
    "  # argmax across classes\n",
    "  return results\n",
    "\n",
    "def ensemble_predictions2(models, test):\n",
    "  # Predict labels with models\n",
    "  labels = []\n",
    "  for m in models:\n",
    "      predicts = np.argmax(m.predict(test), axis=1)\n",
    "      labels.append(predicts)\n",
    "      \n",
    "  # Ensemble with voting\n",
    "  labels = np.array(labels)\n",
    "  labels = np.transpose(labels, (1, 0))\n",
    "  labels = scipy.stats.mode(labels, axis=-1)[0]\n",
    "  labels = np.squeeze(labels)"
   ]
  },
  {
   "cell_type": "code",
   "execution_count": 20,
   "metadata": {
    "colab": {
     "base_uri": "https://localhost:8080/"
    },
    "id": "kv5bzfLMbQaw",
    "outputId": "5307f3b1-d802-47fa-d29f-d636b9d5b585"
   },
   "outputs": [
    {
     "name": "stdout",
     "output_type": "stream",
     "text": [
      "[0 0 0 0 0]\n",
      "(5, 1263)\n",
      "              precision    recall  f1-score   support\n",
      "\n",
      "           0       0.81      0.55      0.66       694\n",
      "           1       0.61      0.84      0.70       569\n",
      "\n",
      "    accuracy                           0.68      1263\n",
      "   macro avg       0.71      0.70      0.68      1263\n",
      "weighted avg       0.72      0.68      0.68      1263\n",
      "\n"
     ]
    }
   ],
   "source": [
    "y_pred = ensemble_predictions(models, X_test_e)\n",
    "print(classification_report(y_test,y_pred))\n"
   ]
  }
 ],
 "metadata": {
  "accelerator": "GPU",
  "colab": {
   "name": "model_implementation.ipynb",
   "provenance": [],
   "toc_visible": true
  },
  "kernelspec": {
   "display_name": "Python 3",
   "language": "python",
   "name": "python3"
  },
  "language_info": {
   "codemirror_mode": {
    "name": "ipython",
    "version": 3
   },
   "file_extension": ".py",
   "mimetype": "text/x-python",
   "name": "python",
   "nbconvert_exporter": "python",
   "pygments_lexer": "ipython3",
   "version": "3.8.8"
  }
 },
 "nbformat": 4,
 "nbformat_minor": 4
}
