{
 "cells": [
  {
   "cell_type": "code",
   "execution_count": 1,
   "id": "swedish-turner",
   "metadata": {},
   "outputs": [],
   "source": [
    "import pandas as pd\n",
    "import numpy as np\n",
    "import matplotlib.pyplot as plt\n",
    "\n",
    "\n",
    "import sys\n",
    "#root_project = \"/content/ReSt/\"\n",
    "root_project = \"/Users/Alessandro/Dev/repos/ReSt/\"\n",
    "#root_project = \"/home/jupyter/SaRaH/\"\n",
    "sys.path.append(root_project)\n",
    "\n",
    "%load_ext autoreload\n",
    "%autoreload 2"
   ]
  },
  {
   "cell_type": "code",
   "execution_count": 37,
   "id": "geographic-jerusalem",
   "metadata": {},
   "outputs": [
    {
     "name": "stdout",
     "output_type": "stream",
     "text": [
      "Converting data 'lemma' String in list of String\n",
      "Converting data 'pos' String in list of String\n",
      "Converting data 'dep' String in list of String\n",
      "Converting data 'word_polarity' String in list of String\n",
      "Converting data 'tokens' String in list of String\n",
      "Converting data 'stem' String in list of String\n"
     ]
    }
   ],
   "source": [
    "dataset_dev_path           = root_project + \"dataset/haspeede2/preprocessed/dev/dev.csv\"\n",
    "dataset_dev = load_csv_to_dict(dataset_dev_path)"
   ]
  },
  {
   "cell_type": "code",
   "execution_count": 38,
   "id": "reserved-elite",
   "metadata": {},
   "outputs": [
    {
     "name": "stdout",
     "output_type": "stream",
     "text": [
      "Converting data 'lemma' String in list of String\n",
      "Converting data 'pos' String in list of String\n",
      "Converting data 'dep' String in list of String\n",
      "Converting data 'word_polarity' String in list of String\n",
      "Converting data 'tokens' String in list of String\n",
      "Converting data 'stem' String in list of String\n"
     ]
    }
   ],
   "source": [
    "dataset_test_tweets_path   = root_project + \"dataset/haspeede2/preprocessed/reference/reference_tweets.csv\"\n",
    "dataset_test_tweets = load_csv_to_dict(dataset_test_tweets_path)"
   ]
  },
  {
   "cell_type": "code",
   "execution_count": 43,
   "id": "united-child",
   "metadata": {},
   "outputs": [],
   "source": [
    "def compute_max_sequence_length(dataset):\n",
    "    max_sequence_length = 0\n",
    "    for doc in dataset:\n",
    "        if len(doc)>max_sequence_length:\n",
    "            max_sequence_length = len(doc)\n",
    "    print(\"max sequence length %s\" % max_sequence_length)\n",
    "\n",
    "def total_sentece_over_len_limit(len_limit):\n",
    "    tot_sentece_over_limit = 0\n",
    "    docs_len = [len(doc) for doc in dataset]\n",
    "    for len_sentece in docs_len:\n",
    "        if len_sentece >= LEN_LIMIT:\n",
    "            tot_sentece_over_limit += 1\n",
    "    print(\"total sentence with length more then {}: {}\".format(LEN_LIMIT, tot_sentece_over_limit))\n",
    "\n",
    "def plot_word_len_distr(dataset):\n",
    "    docs_len = [len(doc) for doc in dataset]\n",
    "    fig, axs = plt.subplots(1, 1, sharey=True, tight_layout=True)\n",
    "    axs.hist(docs_len, bins=20)"
   ]
  },
  {
   "cell_type": "markdown",
   "id": "rubber-pittsburgh",
   "metadata": {},
   "source": [
    "# word len distribution dev set"
   ]
  },
  {
   "cell_type": "code",
   "execution_count": 48,
   "id": "simple-yield",
   "metadata": {},
   "outputs": [],
   "source": [
    "LEN_LIMIT = 65"
   ]
  },
  {
   "cell_type": "code",
   "execution_count": 49,
   "id": "floating-uganda",
   "metadata": {},
   "outputs": [
    {
     "name": "stdout",
     "output_type": "stream",
     "text": [
      "max sequence length 95\n",
      "total sentence with length more then 65: 100\n"
     ]
    },
    {
     "data": {
      "image/png": "[encoded data removed]",
      "text/plain": [
       "<Figure size 432x288 with 1 Axes>"
      ]
     },
     "metadata": {
      "needs_background": "light"
     },
     "output_type": "display_data"
    }
   ],
   "source": [
    "dataset = dataset_dev[\"tokens\"]\n",
    "\n",
    "compute_max_sequence_length(dataset)\n",
    "plot_word_len_distr(dataset)\n",
    "total_sentece_over_len_limit( LEN_LIMIT)"
   ]
  },
  {
   "cell_type": "markdown",
   "id": "textile-paragraph",
   "metadata": {},
   "source": [
    "# word len distribution test set"
   ]
  },
  {
   "cell_type": "code",
   "execution_count": 50,
   "id": "specific-warning",
   "metadata": {},
   "outputs": [
    {
     "name": "stdout",
     "output_type": "stream",
     "text": [
      "max sequence length 110\n",
      "total sentence with length more then 65: 66\n"
     ]
    },
    {
     "data": {
      "image/png": "[encoded data removed]",
      "text/plain": [
       "<Figure size 432x288 with 1 Axes>"
      ]
     },
     "metadata": {
      "needs_background": "light"
     },
     "output_type": "display_data"
    }
   ],
   "source": [
    "dataset = dataset_test_tweets[\"tokens\"]\n",
    "\n",
    "compute_max_sequence_length(dataset)\n",
    "plot_word_len_distr(dataset)\n",
    "total_sentece_over_len_limit( LEN_LIMIT)"
   ]
  },
  {
   "cell_type": "code",
   "execution_count": null,
   "id": "amber-irrigation",
   "metadata": {},
   "outputs": [],
   "source": []
  }
 ],
 "metadata": {
  "kernelspec": {
   "display_name": "Python 3",
   "language": "python",
   "name": "python3"
  },
  "language_info": {
   "codemirror_mode": {
    "name": "ipython",
    "version": 3
   },
   "file_extension": ".py",
   "mimetype": "text/x-python",
   "name": "python",
   "nbconvert_exporter": "python",
   "pygments_lexer": "ipython3",
   "version": "3.7.8"
  }
 },
 "nbformat": 4,
 "nbformat_minor": 5
}
