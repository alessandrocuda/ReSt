{
 "cells": [
  {
   "cell_type": "markdown",
   "metadata": {},
   "source": [
    "<h1> Preprocessing"
   ]
  },
  {
   "cell_type": "code",
   "execution_count": 1,
   "metadata": {},
   "outputs": [
    {
     "name": "stderr",
     "output_type": "stream",
     "text": [
      "/Users/Alessandro/anaconda3/lib/python3.7/site-packages/ekphrasis/classes/exmanager.py:14: FutureWarning: Possible nested set at position 42\n",
      "  regexes = {k.lower(): re.compile(self.expressions[k]) for k, v in\n"
     ]
    },
    {
     "name": "stdout",
     "output_type": "stream",
     "text": [
      "Already downloaded a model for the 'it-postwita' language\n"
     ]
    }
   ],
   "source": [
    "import pandas as pd\n",
    "import csv\n",
    "from bs4 import BeautifulSoup\n",
    "import re\n",
    "\n",
    "import sys\n",
    "import os\n",
    "\n",
    "#src\n",
    "#root_project = \"/content/ReSt/\"\n",
    "root_project = \"/Users/Alessandro/Dev/repos/ReSt/\"\n",
    "#root_project = \"/home/jupyter/ReSt/\"\n",
    "sys.path.append(root_project)\n",
    "\n",
    "from src.data.preprocessing.preprocessor import PreProcessor\n",
    "\n",
    "%load_ext autoreload\n",
    "%autoreload 2"
   ]
  },
  {
   "cell_type": "markdown",
   "metadata": {},
   "source": [
    "# load dataset"
   ]
  },
  {
   "cell_type": "code",
   "execution_count": 2,
   "metadata": {},
   "outputs": [],
   "source": [
    "# names of files to read from\n",
    "train_val_AB_TSV        = root_project + '/dataset/haspeede2/raw/haspeede2_dev/haspeede2_dev_taskAB.tsv'\n",
    "\n",
    "test_tweets_AB_TSV      = root_project + '/dataset/haspeede2/raw/haspeede2_test/haspeede2_test_taskAB-tweets.tsv'\n",
    "test_news_AB_TSV        = root_project + '/dataset/haspeede2/raw/haspeede2_test/haspeede2-test_taskAB-news.tsv'\n",
    "\n",
    "reference_tweets_AB_TSV = root_project + '/dataset/haspeede2/raw/haspeede2_reference/haspeede2_reference_taskAB-tweets.tsv'\n",
    "reference_news_AB_TSV   = root_project + '/dataset/haspeede2/raw/haspeede2_reference/haspeede2_reference_taskAB-news.tsv'"
   ]
  },
  {
   "cell_type": "markdown",
   "metadata": {},
   "source": [
    "## dev set"
   ]
  },
  {
   "cell_type": "code",
   "execution_count": 3,
   "metadata": {},
   "outputs": [
    {
     "name": "stdout",
     "output_type": "stream",
     "text": [
      "Number of dev sentences: 6,839\n",
      "\n"
     ]
    }
   ],
   "source": [
    "#df = pd.read_csv(train_val_AB_TSV, sep='\\t')\n",
    "#df.rename(columns={\"text \": \"text\"}, inplace=True)\n",
    "df = pd.read_csv(train_val_AB_TSV, delimiter=r'\\t', header=None, engine='python')\n",
    "df.columns =['id', 'text', 'hs', 'stereotype'] \n",
    "df = df.drop([0])\n",
    "print('Number of dev sentences: {:,}\\n'.format(df.shape[0]))"
   ]
  },
  {
   "cell_type": "markdown",
   "metadata": {},
   "source": [
    "## test set"
   ]
  },
  {
   "cell_type": "code",
   "execution_count": 4,
   "metadata": {},
   "outputs": [],
   "source": [
    "#Test Tweets\n",
    "df_tweets_test = pd.read_csv(test_tweets_AB_TSV, delimiter=r'\\t', header=None, engine='python')\n",
    "\n",
    "#Test News\n",
    "df_news_test = pd.read_csv(test_news_AB_TSV, delimiter=r'\\t', header=None, engine='python')"
   ]
  },
  {
   "cell_type": "markdown",
   "metadata": {},
   "source": [
    "## reference set"
   ]
  },
  {
   "cell_type": "code",
   "execution_count": 5,
   "metadata": {},
   "outputs": [],
   "source": [
    "#Reference Tweets\n",
    "df_tweets_reference = pd.read_csv(reference_tweets_AB_TSV, delimiter=r'\\t', header=None, engine='python')\n",
    "df_tweets_reference.columns =['id', 'text', 'hs', 'stereotype'] \n",
    "\n",
    "#Reference News\n",
    "df_news_reference = pd.read_csv(reference_news_AB_TSV, delimiter=r'\\t', header=None, engine='python')\n",
    "df_news_reference.columns =['id', 'text', 'hs', 'stereotype'] "
   ]
  },
  {
   "cell_type": "code",
   "execution_count": 11,
   "metadata": {},
   "outputs": [],
   "source": [
    "# for windows\n",
    "#Reference Tweets\n",
    "#df_tweets_reference = pd.read_csv(reference_tweets_AB_TSV, delimiter=r'\\t', header=None, engine='python')\n",
    "#df_app1 = pd.DataFrame([[11834, \"@user A me pare una scelta politica suicida puntare tutto su una battaglia sicuramente perdente in favore dell'immigrazione incontrollata...Meglio così, spariranno più velocemente!\", 1, 0]], columns=['id', 'text', 'hs', 'stereotype'])\n",
    "#df_tweets_reference.rename(columns={'11834': 'id', \"@user A me pare una scelta politica suicida puntare tutto su una battaglia sicuramente perdente in favore dell'immigrazione incontrollata...Meglio così, spariranno più velocemente!\": 'text', '1':'hs', '0':'stereotype'}, inplace=True)\n",
    "#df_tweets_reference = df_tweets_reference.append(df_app1, ignore_index=True)\n",
    "\n",
    "#Reference News\n",
    "#df_news_reference = pd.read_csv(reference_news_AB_TSV, delimiter=r'\\t', header=None, engine='python')\n",
    "#df_app2 =pd.DataFrame([[11976, \"Andate pure là, tanto quei fessi degli italiani.... Capito perché ci invadono? Il clandestino confessa\", 1, 0]], columns=['id', 'text', 'hs', 'stereotype'])\n",
    "#df_news_reference.rename(columns={'11976': 'id', \"Andate pure là, tanto quei fessi degli italiani.... Capito perché ci invadono? Il clandestino confessa\": 'text', '1':'hs', '0':'stereotype'}, inplace=True)\n",
    "#df_news_reference = df_news_reference.append(df_app2, ignore_index=True)"
   ]
  },
  {
   "cell_type": "code",
   "execution_count": 6,
   "metadata": {},
   "outputs": [],
   "source": [
    "prp = PreProcessor()"
   ]
  },
  {
   "cell_type": "code",
   "execution_count": 13,
   "metadata": {},
   "outputs": [
    {
     "data": {
      "text/html": [
       "<div>\n",
       "<style scoped>\n",
       "    .dataframe tbody tr th:only-of-type {\n",
       "        vertical-align: middle;\n",
       "    }\n",
       "\n",
       "    .dataframe tbody tr th {\n",
       "        vertical-align: top;\n",
       "    }\n",
       "\n",
       "    .dataframe thead th {\n",
       "        text-align: right;\n",
       "    }\n",
       "</style>\n",
       "<table border=\"1\" class=\"dataframe\">\n",
       "  <thead>\n",
       "    <tr style=\"text-align: right;\">\n",
       "      <th></th>\n",
       "      <th>id</th>\n",
       "      <th>text</th>\n",
       "      <th>hs</th>\n",
       "      <th>stereotype</th>\n",
       "    </tr>\n",
       "  </thead>\n",
       "  <tbody>\n",
       "    <tr>\n",
       "      <th>4833</th>\n",
       "      <td>9016</td>\n",
       "      <td>@user Ti aiuto io, questa stronzata del 'togli...</td>\n",
       "      <td>0</td>\n",
       "      <td>0</td>\n",
       "    </tr>\n",
       "    <tr>\n",
       "      <th>4834</th>\n",
       "      <td>9029</td>\n",
       "      <td>#Immigrazione, #Casapound consegna un #report ...</td>\n",
       "      <td>0</td>\n",
       "      <td>0</td>\n",
       "    </tr>\n",
       "  </tbody>\n",
       "</table>\n",
       "</div>"
      ],
      "text/plain": [
       "        id                                               text hs stereotype\n",
       "4833  9016  @user Ti aiuto io, questa stronzata del 'togli...  0          0\n",
       "4834  9029  #Immigrazione, #Casapound consegna un #report ...  0          0"
      ]
     },
     "execution_count": 13,
     "metadata": {},
     "output_type": "execute_result"
    }
   ],
   "source": [
    "df_test = df.loc[4833:4834].copy()\n",
    "df_test"
   ]
  },
  {
   "cell_type": "markdown",
   "metadata": {},
   "source": [
    "<h2> Dev"
   ]
  },
  {
   "cell_type": "code",
   "execution_count": 7,
   "metadata": {},
   "outputs": [
    {
     "name": "stderr",
     "output_type": "stream",
     "text": [
      "  0%|          | 0/6839 [00:00<?, ?it/s]"
     ]
    },
    {
     "name": "stdout",
     "output_type": "stream",
     "text": [
      "Text Processing\n"
     ]
    },
    {
     "name": "stderr",
     "output_type": "stream",
     "text": [
      "100%|██████████| 6839/6839 [00:11<00:00, 577.76it/s]\n",
      "100%|██████████| 6839/6839 [00:00<00:00, 387042.02it/s]\n",
      "100%|██████████| 6839/6839 [00:00<00:00, 84328.00it/s]\n",
      "100%|██████████| 6839/6839 [00:00<00:00, 118030.06it/s]\n",
      "100%|██████████| 6839/6839 [00:00<00:00, 317763.68it/s]\n",
      "  0%|          | 0/6839 [00:00<?, ?it/s]"
     ]
    },
    {
     "name": "stdout",
     "output_type": "stream",
     "text": [
      "Feature extraction: length of the comment\n",
      "Feature extraction: number of hashtags\n",
      "Feature extraction: percentage of words written in CAPS-LOCK\n",
      "Feature extraction: esclamations\n",
      "Feature extraction: number of questions mark\n"
     ]
    },
    {
     "name": "stderr",
     "output_type": "stream",
     "text": [
      "100%|██████████| 6839/6839 [00:00<00:00, 266907.77it/s]\n",
      "  0%|          | 7/6839 [00:00<04:05, 27.86it/s]"
     ]
    },
    {
     "name": "stdout",
     "output_type": "stream",
     "text": [
      "generate Lemma, PoS, Dep\n"
     ]
    },
    {
     "name": "stderr",
     "output_type": "stream",
     "text": [
      "100%|██████████| 6839/6839 [05:24<00:00, 21.06it/s]\n",
      "/Users/Alessandro/anaconda3/lib/python3.7/site-packages/numpy/core/_asarray.py:83: VisibleDeprecationWarning: Creating an ndarray from ragged nested sequences (which is a list-or-tuple of lists-or-tuples-or ndarrays with different lengths or shapes) is deprecated. If you meant to do this, you must specify 'dtype=object' when creating the ndarray\n",
      "  return array(a, dtype, copy=False, order=order)\n",
      "100%|██████████| 6839/6839 [00:00<00:00, 42713.30it/s]\n",
      "  0%|          | 0/6839 [00:00<?, ?it/s]"
     ]
    },
    {
     "name": "stdout",
     "output_type": "stream",
     "text": [
      "Generate Word polarity\n",
      "Generate Stemming\n"
     ]
    },
    {
     "name": "stderr",
     "output_type": "stream",
     "text": [
      "100%|██████████| 6839/6839 [00:08<00:00, 777.49it/s] \n",
      "100%|██████████| 6839/6839 [00:00<00:00, 58844.33it/s]\n"
     ]
    },
    {
     "name": "stdout",
     "output_type": "stream",
     "text": [
      "Feature extraction: percentage of Bad Words\n"
     ]
    }
   ],
   "source": [
    "save_path =  \"/Users/Alessandro/Dev/repos/ReSt/dataset/haspeede2/preprocessed/dev/dev.csv\"\n",
    "prp.preprocess_df(df=df, column_name='text', path=save_path, verbose=True)"
   ]
  },
  {
   "cell_type": "markdown",
   "metadata": {},
   "source": [
    "<h2> Reference Twitter\n",
    "   "
   ]
  },
  {
   "cell_type": "code",
   "execution_count": 8,
   "metadata": {},
   "outputs": [
    {
     "name": "stderr",
     "output_type": "stream",
     "text": [
      "  0%|          | 0/1263 [00:00<?, ?it/s]"
     ]
    },
    {
     "name": "stdout",
     "output_type": "stream",
     "text": [
      "Text Processing\n"
     ]
    },
    {
     "name": "stderr",
     "output_type": "stream",
     "text": [
      "100%|██████████| 1263/1263 [00:04<00:00, 271.76it/s]\n",
      "100%|██████████| 1263/1263 [00:00<00:00, 206100.69it/s]\n",
      "100%|██████████| 1263/1263 [00:00<00:00, 36715.13it/s]\n",
      "100%|██████████| 1263/1263 [00:00<00:00, 53653.31it/s]\n",
      "100%|██████████| 1263/1263 [00:00<00:00, 128446.87it/s]\n",
      "100%|██████████| 1263/1263 [00:00<00:00, 126829.29it/s]\n",
      "  0%|          | 0/1263 [00:00<?, ?it/s]"
     ]
    },
    {
     "name": "stdout",
     "output_type": "stream",
     "text": [
      "Feature extraction: length of the comment\n",
      "Feature extraction: number of hashtags\n",
      "Feature extraction: percentage of words written in CAPS-LOCK\n",
      "Feature extraction: esclamations\n",
      "Feature extraction: number of questions mark\n",
      "generate Lemma, PoS, Dep\n"
     ]
    },
    {
     "name": "stderr",
     "output_type": "stream",
     "text": [
      "100%|██████████| 1263/1263 [01:36<00:00, 13.14it/s]\n",
      "100%|██████████| 1263/1263 [00:00<00:00, 13597.46it/s]\n",
      "  4%|▍         | 49/1263 [00:00<00:02, 486.41it/s]"
     ]
    },
    {
     "name": "stdout",
     "output_type": "stream",
     "text": [
      "Generate Word polarity\n",
      "Generate Stemming\n"
     ]
    },
    {
     "name": "stderr",
     "output_type": "stream",
     "text": [
      "100%|██████████| 1263/1263 [00:02<00:00, 513.40it/s]\n",
      "100%|██████████| 1263/1263 [00:00<00:00, 39327.73it/s]\n"
     ]
    },
    {
     "name": "stdout",
     "output_type": "stream",
     "text": [
      "Feature extraction: percentage of Bad Words\n"
     ]
    }
   ],
   "source": [
    "save_path =  \"/Users/Alessandro/Dev/repos/ReSt/dataset/haspeede2/preprocessed/reference/reference_tweets.csv\"\n",
    "prp.preprocess_df(df=df_tweets_reference, column_name='text', path=save_path, verbose=True)"
   ]
  },
  {
   "cell_type": "markdown",
   "metadata": {},
   "source": [
    "<h2> Reference News"
   ]
  },
  {
   "cell_type": "code",
   "execution_count": 9,
   "metadata": {},
   "outputs": [
    {
     "name": "stderr",
     "output_type": "stream",
     "text": [
      " 11%|█         | 55/500 [00:00<00:00, 546.43it/s]"
     ]
    },
    {
     "name": "stdout",
     "output_type": "stream",
     "text": [
      "Text Processing\n"
     ]
    },
    {
     "name": "stderr",
     "output_type": "stream",
     "text": [
      "100%|██████████| 500/500 [00:00<00:00, 893.81it/s]\n",
      "100%|██████████| 500/500 [00:00<00:00, 54060.06it/s]\n",
      "100%|██████████| 500/500 [00:00<00:00, 25145.71it/s]\n",
      "100%|██████████| 500/500 [00:00<00:00, 72193.60it/s]\n",
      "100%|██████████| 500/500 [00:00<00:00, 124135.91it/s]\n",
      "100%|██████████| 500/500 [00:00<00:00, 119700.46it/s]\n",
      "  0%|          | 0/500 [00:00<?, ?it/s]"
     ]
    },
    {
     "name": "stdout",
     "output_type": "stream",
     "text": [
      "Feature extraction: length of the comment\n",
      "Feature extraction: number of hashtags\n",
      "Feature extraction: percentage of words written in CAPS-LOCK\n",
      "Feature extraction: esclamations\n",
      "Feature extraction: number of questions mark\n",
      "generate Lemma, PoS, Dep\n"
     ]
    },
    {
     "name": "stderr",
     "output_type": "stream",
     "text": [
      "100%|██████████| 500/500 [00:14<00:00, 35.71it/s]\n",
      "100%|██████████| 500/500 [00:00<00:00, 55120.04it/s]\n",
      " 20%|██        | 102/500 [00:00<00:00, 1015.04it/s]"
     ]
    },
    {
     "name": "stdout",
     "output_type": "stream",
     "text": [
      "Generate Word polarity\n",
      "Generate Stemming\n"
     ]
    },
    {
     "name": "stderr",
     "output_type": "stream",
     "text": [
      "100%|██████████| 500/500 [00:00<00:00, 1247.32it/s]\n",
      "100%|██████████| 500/500 [00:00<00:00, 44899.20it/s]\n"
     ]
    },
    {
     "name": "stdout",
     "output_type": "stream",
     "text": [
      "Feature extraction: percentage of Bad Words\n"
     ]
    }
   ],
   "source": [
    "save_path =  \"/Users/Alessandro/Dev/repos/ReSt/dataset/haspeede2/preprocessed/reference/reference_news.csv\"\n",
    "prp.preprocess_df(df=df_news_reference, column_name='text', path=save_path, verbose=True)"
   ]
  },
  {
   "cell_type": "markdown",
   "metadata": {},
   "source": [
    "# -----------------------------------------------------------------------"
   ]
  },
  {
   "cell_type": "markdown",
   "metadata": {},
   "source": [
    "# TEST"
   ]
  },
  {
   "cell_type": "code",
   "execution_count": 17,
   "metadata": {},
   "outputs": [
    {
     "name": "stderr",
     "output_type": "stream",
     "text": [
      "/Users/Alessandro/anaconda3/lib/python3.7/site-packages/ekphrasis/classes/tokenizer.py:225: FutureWarning: Possible nested set at position 2190\n",
      "  self.tok = re.compile(r\"({})\".format(\"|\".join(pipeline)))\n"
     ]
    },
    {
     "name": "stdout",
     "output_type": "stream",
     "text": [
      "Reading english - 1grams ...\n"
     ]
    }
   ],
   "source": [
    "from ekphrasis.classes.preprocessor import TextPreProcessor\n",
    "from ekphrasis.classes.tokenizer import SocialTokenizer\n",
    "from ekphrasis.dicts.emoticons import emoticons\n",
    "from nltk.tokenize import TweetTokenizer\n",
    "social_token = SocialTokenizer(lowercase=False).tokenize\n",
    "\n",
    "text_processor = TextPreProcessor(\n",
    "    normalize=['url', 'email', 'user', 'percent', 'money', 'phone', 'time', 'date'],\n",
    "    #annotate={, \"elongated\", 'emphasis', 'censored'},\n",
    "    fix_html=True,  # fix HTML tokens\n",
    "    #unpack_hashtags=True, \n",
    "    # select a tokenizer. You can use SocialTokenizer, or pass your own\n",
    "    # the tokenizer, should take as input a string and return a list of tokens\n",
    "    tokenizer=SocialTokenizer(lowercase=False).tokenize, \n",
    "    #tokenizer=TweetTokenizer().tokenize,\n",
    "    \n",
    "    # list of dictionaries, for replacing tokens extracted from the text,\n",
    "    # with other expressions. You can pass more than one dictionaries.\n",
    "    dicts=[emoticons]\n",
    ")\n",
    "\n"
   ]
  },
  {
   "cell_type": "code",
   "execution_count": 18,
   "metadata": {},
   "outputs": [
    {
     "data": {
      "text/plain": [
       "['<user>',\n",
       " 'Questo',\n",
       " 'per',\n",
       " 'dimostrare',\n",
       " 'agli',\n",
       " 'idioti',\n",
       " 'buonisti',\n",
       " 'di',\n",
       " 'sinistra',\n",
       " 'filoimmigrazionisti',\n",
       " 'che',\n",
       " 'nessuno',\n",
       " 'vuole']"
      ]
     },
     "execution_count": 18,
     "metadata": {},
     "output_type": "execute_result"
    }
   ],
   "source": [
    "text = \"@user Questo per dimostrare agli idioti buonisti di sinistra filoimmigrazionisti che nessuno vuole \"\n",
    "text_processor.pre_process_doc(text)"
   ]
  },
  {
   "cell_type": "code",
   "execution_count": 197,
   "metadata": {},
   "outputs": [
    {
     "name": "stdout",
     "output_type": "stream",
     "text": [
      "Already downloaded a model for the 'it-twittiro' language\n"
     ]
    },
    {
     "data": {
      "text/plain": [
       "[':)', ':)']"
      ]
     },
     "execution_count": 197,
     "metadata": {},
     "output_type": "execute_result"
    }
   ],
   "source": [
    "social_token(\":):)\")\n"
   ]
  },
  {
   "cell_type": "code",
   "execution_count": 95,
   "metadata": {},
   "outputs": [
    {
     "name": "stdout",
     "output_type": "stream",
     "text": [
      "Reading english - 1grams ...\n"
     ]
    },
    {
     "data": {
      "text/plain": [
       "'Studentessa cinese morta fermato un nomade di 2 0 anni e URL denunciato nomade sedicenne tutti del vicino campo nomade SkyTG 24'"
      ]
     },
     "execution_count": 95,
     "metadata": {},
     "output_type": "execute_result"
    }
   ],
   "source": [
    "import wordninja\n",
    "from src.data.preprocessing.dicts.hashtags import know_hashtag_words, fixed_hashtags\n",
    "from src.data.preprocessing.string_manipulation import add_space_before_hashtag, add_space_before_capital_words\n",
    "segmenter = wordninja.LanguageModel(italian_gzip)\n",
    "\n",
    "def split_hashtag(hashtag, segmenter, delimiter = (\"<\",\">\")):\n",
    "    \"\"\"\n",
    "    Splits the hashtags in the text into words and encloses them between < and >.\n",
    "\n",
    "    Example: #iostoconsalvini -> < io sto con salvini >\n",
    "\n",
    "    Parameters\n",
    "    ----------\n",
    "    text : str\n",
    "\n",
    "    Returns\n",
    "    -------\n",
    "    str\n",
    "    \"\"\"\n",
    "    \n",
    "    #remove hashtag symb\n",
    "    hashtag = re.sub(\"#\",\"\",hashtag)\n",
    "    if hashtag.lower() not in know_hashtag_words:\n",
    "        splitted_hashtag = ' '.join(segmenter.split(add_space_before_capital_words(hashtag)))\n",
    "        if splitted_hashtag in fixed_hashtags:\n",
    "            splitted_hashtag = fixed_hashtags[splitted_hashtag]\n",
    "        return delimiter[0]+\" \"+splitted_hashtag+\" \"+delimiter[1] \n",
    "    else:\n",
    "        return delimiter[0]+\" \"+hashtag+\" \"+delimiter[1] \n",
    "\n",
    "def get_splitted_hashtags(text, segmenter):\n",
    "    hashtags = re.findall(r'#\\S+', add_space_before_hashtag(text))\n",
    "    return {hashtag: split_hashtag(hashtag, segmenter) for hashtag in hashtags}\n",
    "\n",
    "def split_hashtags(text, segmenter):\n",
    "    hashtags = get_splitted_hashtags(text, segmenter)\n",
    "    return ' '.join([hashtags[word] if word in hashtags else word for word in add_space_before_hashtag(text).split()])\n",
    "\n",
    "\n",
    "text = \"Studentessa cinese morta fermato un nomade di 20anni e URL denunciato nomade sedicenne tutti del vicino campo nomade SkyTG24\" \n",
    "text = text_processor.pre_process_doc(text)\n",
    "text = re.sub(r\"(?i)(?<=\\d)(?=[a-z])|(?<=[a-z])(?=\\d)\",\" \", ' '.join(text))\n",
    "split_hashtags(text, segmenter)"
   ]
  },
  {
   "cell_type": "code",
   "execution_count": 125,
   "metadata": {},
   "outputs": [
    {
     "data": {
      "text/plain": [
       "['!',\n",
       " '!',\n",
       " '!',\n",
       " '!',\n",
       " 'ADDIO',\n",
       " '<happy>',\n",
       " 'c*zzo',\n",
       " 'l',\n",
       " \"'\",\n",
       " 'ciao',\n",
       " 'come',\n",
       " 'stai',\n",
       " '<happy>',\n",
       " '22',\n",
       " '/',\n",
       " '22',\n",
       " '<money>',\n",
       " '<money>',\n",
       " 'Far',\n",
       " 'West',\n",
       " 'a',\n",
       " 'Roma',\n",
       " \"'\",\n",
       " ':',\n",
       " 'rom',\n",
       " '1',\n",
       " '0',\n",
       " '0',\n",
       " 'euro',\n",
       " '2',\n",
       " '5',\n",
       " 'enne',\n",
       " 'senza',\n",
       " 'patente',\n",
       " 'semina',\n",
       " 'il',\n",
       " 'panico',\n",
       " ',',\n",
       " 'inseguimento',\n",
       " ',',\n",
       " 'incidenti',\n",
       " 'e',\n",
       " 'feriti',\n",
       " '–',\n",
       " 'webitalia360',\n",
       " '.',\n",
       " '.',\n",
       " '.',\n",
       " 'URL']"
      ]
     },
     "execution_count": 125,
     "metadata": {},
     "output_type": "execute_result"
    }
   ],
   "source": [
    "text = \"!!!! ADDIO:) c*zzo l'ciao come stai:) 22/22 20€ €19 Far West a Roma': rom 100euro 25enne senza patente semina il panico, inseguimento, incidenti e feriti – webitalia360... URL \"\n",
    "#text = \"#MovimentOnesti #cIaOGiubileo#GiubileodellaMisericordia #Roma \"\n",
    "text_processor.pre_process_doc(text)"
   ]
  },
  {
   "cell_type": "code",
   "execution_count": 272,
   "metadata": {},
   "outputs": [
    {
     "name": "stdout",
     "output_type": "stream",
     "text": [
      "['#MovimentOnesti', '#ciaoCiaoCome', '#ristoranteitaliano', '#Giubileo', '#GiubileodellaMisericordia', '#Roma']\n",
      "#MovimentOnesti\n",
      "< Movi men t Onesti > \n",
      " #MovimentOnesti #ciaoCiaoCome #ristoranteitaliano #Giubileo #GiubileodellaMisericordia #Roma \n",
      " < Movi men t Onesti >  #ciaoCiaoCome #ristoranteitaliano #Giubileo #GiubileodellaMisericordia #Roma \n",
      "\n",
      "#ciaoCiaoCome\n",
      "< ciao Ciao Come > \n",
      " < Moviment Onesti >  #ciaoCiaoCome #ristoranteitaliano #Giubileo #GiubileodellaMisericordia #Roma \n",
      " < Moviment Onesti >  < ciao Ciao Come >  #ristoranteitaliano #Giubileo #GiubileodellaMisericordia #Roma \n",
      "\n",
      "#ristoranteitaliano\n",
      "< ristorante italiano > \n",
      " < Moviment Onesti >  < ciao Ciao Come >  #ristoranteitaliano #Giubileo #GiubileodellaMisericordia #Roma \n",
      " < Moviment Onesti >  < ciao Ciao Come >  < ristorante italiano >  #Giubileo #GiubileodellaMisericordia #Roma \n",
      "\n",
      "#Giubileo\n",
      "< Giubileo > \n",
      " < Moviment Onesti >  < ciao Ciao Come >  < ristorante italiano >  #Giubileo #GiubileodellaMisericordia #Roma \n",
      " < Moviment Onesti >  < ciao Ciao Come >  < ristorante italiano >  < Giubileo >  #GiubileodellaMisericordia #Roma \n",
      "\n",
      "#GiubileodellaMisericordia\n",
      "< Giubileo dell a Misericordia > \n",
      " < Moviment Onesti >  < ciao Ciao Come >  < ristorante italiano >  < Giubileo >  #GiubileodellaMisericordia #Roma \n",
      " < Moviment Onesti >  < ciao Ciao Come >  < ristorante italiano >  < Giubileo >  < Giubileo dell a Misericordia >  #Roma \n",
      "\n",
      "#Roma\n",
      "< Roma > \n",
      " < Moviment Onesti >  < ciao Ciao Come >  < ristorante italiano >  < Giubileo >  < Giubileo della Misericordia >  #Roma \n",
      " < Moviment Onesti >  < ciao Ciao Come >  < ristorante italiano >  < Giubileo >  < Giubileo della Misericordia >  < Roma >  \n",
      "\n"
     ]
    },
    {
     "data": {
      "text/plain": [
       "' < Moviment Onesti >  < ciao Ciao Come >  < ristorante italiano >  < Giubileo >  < Giubileo della Misericordia >  < Roma >  '"
      ]
     },
     "execution_count": 272,
     "metadata": {},
     "output_type": "execute_result"
    }
   ],
   "source": [
    "text = \"#MovimentOnesti #ciaoCiaoCome#ristoranteitaliano #Giubileo#GiubileodellaMisericordia #Roma \"\n",
    "split_hashtags(add_space_before_hashtag(text))"
   ]
  },
  {
   "cell_type": "code",
   "execution_count": 194,
   "metadata": {},
   "outputs": [
    {
     "data": {
      "text/plain": [
       "':)ciao:)  _PERCENT_   _TIME_   _DATE_ '"
      ]
     },
     "execution_count": 194,
     "metadata": {},
     "output_type": "execute_result"
    }
   ],
   "source": []
  },
  {
   "cell_type": "code",
   "execution_count": 71,
   "metadata": {},
   "outputs": [
    {
     "data": {
      "text/plain": [
       "'prova  :)   (:   :)  :) '"
      ]
     },
     "execution_count": 71,
     "metadata": {},
     "output_type": "execute_result"
    }
   ],
   "source": [
    "from ekphrasis.classes.exmanager import ExManager\n",
    "import re\n",
    "\n",
    "regexes = ExManager().get_compiled()\n",
    "text = \"prova :) (: :):)\"\n",
    "for item in [\"ltr_face\", \"rtl_face\"]:\n",
    "        text = re.sub(regexes[item], r' \\g<0> ', text)\n",
    "text\n"
   ]
  },
  {
   "cell_type": "code",
   "execution_count": 72,
   "metadata": {},
   "outputs": [
    {
     "data": {
      "text/plain": [
       "{'acronym': re.compile(r'\\b(?:[A-Z]\\.)(?:[A-Z]\\.)+(?:\\.(?!\\.))?(?:[A-Z]\\b)?',\n",
       " re.UNICODE),\n",
       " 'allcaps': re.compile(r'(?<![#@$])\\b([A-Z][A-Z ]{1,}[A-Z])\\b', re.UNICODE),\n",
       " 'camel_split': re.compile(r'((?<=[a-z])[A-Z]|(?<!^)[A-Z](?=[a-z])|[0-9]+|(?<=[0-9\\-\\_])[A-Za-z]|[\\-\\_])',\n",
       " re.UNICODE),\n",
       " 'cashtag': re.compile(r'(?<![A-Z])\\$[A-Z]+\\b', re.UNICODE),\n",
       " 'censored': re.compile(r'(?:\\b\\w+\\*+\\w+\\b)', re.UNICODE),\n",
       " 'date': re.compile(r\"(?:(?:(?:(?:(?<!:)\\b\\'?\\d{1,4},? ?)?\\b(?:[Jj]an(?:uary)?|[Ff]eb(?:ruary)?|[Mm]ar(?:ch)?|[Aa]pr(?:il)?|May|[Jj]un(?:e)?|[Jj]ul(?:y)?|[Aa]ug(?:ust)?|[Ss]ept?(?:ember)?|[Oo]ct(?:ober)?|[Nn]ov(?:ember)?|[Dd]ec(?:ember)?)\\b(?:(?:,? ?\\'?)?\\d{1,4}(?:st|nd|rd|n?th)?\\b(?:[,\\/]? ?\\'?\\d{2,4}[a-zA-Z]*)?(?: ?- ?\\d{2,4}[a-zA-Z]*)?(?!:\\d{1,4})\\b))|(?:(?:(?<!:)\\b\\'?\\d{1,4},? ?)\\b(?:[Jj]an(?:uary)?|[Ff]eb(?:ruary)?|[Mm]ar(?:ch)?|[Aa]pr(?:il)?|May|[Jj]un(?:e)?|[Jj]ul(?:y)?|[Aa]ug(?:ust)?|[Ss]ept?(?:ember)?|[Oo]ct(?:ober)?|[Nn]ov(?:ember)?|[Dd]ec(?:ember)?)\\b(?:(?:,? ?\\'?)?\\d{1,4}(?:st|nd|rd|n?th)?\\b(?:[,\\/]? ?\\'?\\d{2,4}[a-zA-Z]*)?(?: ?- ?\\d{2,4}[a-zA-Z]*)?(?!:\\d{1,4})\\b)?))|(?:\\b(?<!\\d\\.)(?:(?:(?:[0123]?[0-9][\\.\\-\\/])?[0123]?[0-9][\\.\\-\\/][12][0-9]{3})|(?:[0123]?[0-9][\\.\\-\\/][0123]?[0-9][\\.\\-\\/][12]?[0-9]{2,3}))(?!\\.\\d)\\b))\",\n",
       " re.UNICODE),\n",
       " 'eastern_emoticons': re.compile(r'(?<![\\w])(?:(?:[<>]?[\\^;][\\W_m][\\;^][;<>]?)|(?:[^\\s()]?m?[\\(][\\W_oTOJ]{1,3}[\\s]?[\\W_oTOJ]{1,3}[)]m?[^\\s()]?)|(?:\\*?[v>\\-\\/\\\\][o0O\\_\\.][v\\-<\\/\\\\]\\*?)|(?:[oO0>][\\-_\\/oO\\.\\\\]{1,2}[oO0>])|(?:\\^\\^))(?![\\w])',\n",
       " re.UNICODE),\n",
       " 'elongated': re.compile(r'\\b[A-Za-z]*([a-zA-Z])\\1\\1[A-Za-z]*\\b', re.UNICODE),\n",
       " 'email': re.compile(r'(?:^|(?<=[^\\w@.)]))(?:[\\w+-](?:\\.(?!\\.))?)*?[\\w+-]@(?:\\w-?)*?\\w+(?:\\.(?:[a-z]{2,})){1,3}(?:$|(?=\\b))',\n",
       " re.UNICODE),\n",
       " 'emoji': re.compile(r'(?:\\uD83C\\uDFF4\\uDB40\\uDC67\\uDB40\\uDC62(?:\\uDB40\\uDC65\\uDB40\\uDC6E\\uDB40\\uDC67|\\uDB40\\uDC77\\uDB40\\uDC6C\\uDB40\\uDC73|\\uDB40\\uDC73\\uDB40\\uDC63\\uDB40\\uDC74)\\uDB40\\uDC7F|\\uD83D\\uDC69\\u200D\\uD83D\\uDC69\\u200D(?:\\uD83D\\uDC66\\u200D\\uD83D\\uDC66|\\uD83D\\uDC67\\u200D(?:\\uD83D[\\uDC66\\uDC67]))|\\uD83D\\uDC68(?:\\u200D(?:\\u2764\\uFE0F\\u200D(?:\\uD83D\\uDC8B\\u200D)?\\uD83D\\uDC68|(?:\\uD83D[\\uDC68\\uDC69])\\u200D(?:\\uD83D\\uDC66\\u200D\\uD83D\\uDC66|\\uD83D\\uDC67\\u200D(?:\\uD83D[\\uDC66\\uDC67]))|\\uD83D\\uDC66\\u200D\\uD83D\\uDC66|\\uD83D\\uDC67\\u200D(?:\\uD83D[\\uDC66\\uDC67])|[\\u2695\\u2696\\u2708]\\uFE0F|\\uD83C[\\uDF3E\\uDF73\\uDF93\\uDFA4\\uDFA8\\uDFEB\\uDFED]|\\uD83D[\\uDCBB\\uDCBC\\uDD27\\uDD2C\\uDE80\\uDE92])|(?:\\uD83C[\\uDFFB-\\uDFFF])\\u200D[\\u2695\\u2696\\u2708]\\uFE0F|(?:\\uD83C[\\uDFFB-\\uDFFF])\\u200D(?:\\uD83C[\\uDF3E\\uDF73\\uDF93\\uDFA4\\uDFA8\\uDFEB\\uDFED]|\\uD83D[\\uDCBB\\uDCBC\\uDD27\\uDD2C\\uDE80\\uDE92]))|\\uD83D\\uDC69\\u200D(?:\\u2764\\uFE0F\\u200D(?:\\uD83D\\uDC8B\\u200D(?:\\uD83D[\\uDC68\\uDC69])|\\uD83D[\\uDC68\\uDC69])|\\uD83C[\\uDF3E\\uDF73\\uDF93\\uDFA4\\uDFA8\\uDFEB\\uDFED]|\\uD83D[\\uDCBB\\uDCBC\\uDD27\\uDD2C\\uDE80\\uDE92])|\\uD83D\\uDC69\\u200D\\uD83D\\uDC66\\u200D\\uD83D\\uDC66|(?:\\uD83D\\uDC41\\uFE0F\\u200D\\uD83D\\uDDE8|\\uD83D\\uDC69(?:\\uD83C[\\uDFFB-\\uDFFF])\\u200D[\\u2695\\u2696\\u2708]|(?:(?:\\u26F9|\\uD83C[\\uDFCB\\uDFCC]|\\uD83D\\uDD75)\\uFE0F|\\uD83D\\uDC6F|\\uD83E[\\uDD3C\\uDDDE\\uDDDF])\\u200D[\\u2640\\u2642]|(?:\\u26F9|\\uD83C[\\uDFCB\\uDFCC]|\\uD83D\\uDD75)(?:\\uD83C[\\uDFFB-\\uDFFF])\\u200D[\\u2640\\u2642]|(?:\\uD83C[\\uDFC3\\uDFC4\\uDFCA]|\\uD83D[\\uDC6E\\uDC71\\uDC73\\uDC77\\uDC81\\uDC82\\uDC86\\uDC87\\uDE45-\\uDE47\\uDE4B\\uDE4D\\uDE4E\\uDEA3\\uDEB4-\\uDEB6]|\\uD83E[\\uDD26\\uDD37-\\uDD39\\uDD3D\\uDD3E\\uDDD6-\\uDDDD])(?:(?:\\uD83C[\\uDFFB-\\uDFFF])\\u200D[\\u2640\\u2642]|\\u200D[\\u2640\\u2642])|\\uD83D\\uDC69\\u200D[\\u2695\\u2696\\u2708])\\uFE0F|\\uD83D\\uDC69\\u200D\\uD83D\\uDC67\\u200D(?:\\uD83D[\\uDC66\\uDC67])|\\uD83D\\uDC69\\u200D\\uD83D\\uDC69\\u200D(?:\\uD83D[\\uDC66\\uDC67])|\\uD83D\\uDC68(?:\\u200D(?:(?:\\uD83D[\\uDC68\\uDC69])\\u200D(?:\\uD83D[\\uDC66\\uDC67])|\\uD83D[\\uDC66\\uDC67])|\\uD83C[\\uDFFB-\\uDFFF])|\\uD83C\\uDFF3\\uFE0F\\u200D\\uD83C\\uDF08|\\uD83D\\uDC69\\u200D\\uD83D\\uDC67|\\uD83D\\uDC69(?:\\uD83C[\\uDFFB-\\uDFFF])\\u200D(?:\\uD83C[\\uDF3E\\uDF73\\uDF93\\uDFA4\\uDFA8\\uDFEB\\uDFED]|\\uD83D[\\uDCBB\\uDCBC\\uDD27\\uDD2C\\uDE80\\uDE92])|\\uD83D\\uDC69\\u200D\\uD83D\\uDC66|\\uD83C\\uDDF4\\uD83C\\uDDF2|\\uD83C\\uDDFD\\uD83C\\uDDF0|\\uD83C\\uDDF6\\uD83C\\uDDE6|\\uD83D\\uDC69(?:\\uD83C[\\uDFFB-\\uDFFF])|\\uD83C\\uDDFC(?:\\uD83C[\\uDDEB\\uDDF8])|\\uD83C\\uDDEB(?:\\uD83C[\\uDDEE-\\uDDF0\\uDDF2\\uDDF4\\uDDF7])|\\uD83C\\uDDE9(?:\\uD83C[\\uDDEA\\uDDEC\\uDDEF\\uDDF0\\uDDF2\\uDDF4\\uDDFF])|\\uD83C\\uDDE7(?:\\uD83C[\\uDDE6\\uDDE7\\uDDE9-\\uDDEF\\uDDF1-\\uDDF4\\uDDF6-\\uDDF9\\uDDFB\\uDDFC\\uDDFE\\uDDFF])|\\uD83C\\uDDF1(?:\\uD83C[\\uDDE6-\\uDDE8\\uDDEE\\uDDF0\\uDDF7-\\uDDFB\\uDDFE])|\\uD83C\\uDDFE(?:\\uD83C[\\uDDEA\\uDDF9])|\\uD83C\\uDDF9(?:\\uD83C[\\uDDE6\\uDDE8\\uDDE9\\uDDEB-\\uDDED\\uDDEF-\\uDDF4\\uDDF7\\uDDF9\\uDDFB\\uDDFC\\uDDFF])|\\uD83C\\uDDF5(?:\\uD83C[\\uDDE6\\uDDEA-\\uDDED\\uDDF0-\\uDDF3\\uDDF7-\\uDDF9\\uDDFC\\uDDFE])|\\uD83C\\uDDEF(?:\\uD83C[\\uDDEA\\uDDF2\\uDDF4\\uDDF5])|\\uD83C\\uDDED(?:\\uD83C[\\uDDF0\\uDDF2\\uDDF3\\uDDF7\\uDDF9\\uDDFA])|\\uD83C\\uDDEE(?:\\uD83C[\\uDDE8-\\uDDEA\\uDDF1-\\uDDF4\\uDDF6-\\uDDF9])|\\uD83C\\uDDFB(?:\\uD83C[\\uDDE6\\uDDE8\\uDDEA\\uDDEC\\uDDEE\\uDDF3\\uDDFA])|\\uD83C\\uDDEC(?:\\uD83C[\\uDDE6\\uDDE7\\uDDE9-\\uDDEE\\uDDF1-\\uDDF3\\uDDF5-\\uDDFA\\uDDFC\\uDDFE])|\\uD83C\\uDDF7(?:\\uD83C[\\uDDEA\\uDDF4\\uDDF8\\uDDFA\\uDDFC])|\\uD83C\\uDDEA(?:\\uD83C[\\uDDE6\\uDDE8\\uDDEA\\uDDEC\\uDDED\\uDDF7-\\uDDFA])|\\uD83C\\uDDFA(?:\\uD83C[\\uDDE6\\uDDEC\\uDDF2\\uDDF3\\uDDF8\\uDDFE\\uDDFF])|\\uD83C\\uDDE8(?:\\uD83C[\\uDDE6\\uDDE8\\uDDE9\\uDDEB-\\uDDEE\\uDDF0-\\uDDF5\\uDDF7\\uDDFA-\\uDDFF])|\\uD83C\\uDDE6(?:\\uD83C[\\uDDE8-\\uDDEC\\uDDEE\\uDDF1\\uDDF2\\uDDF4\\uDDF6-\\uDDFA\\uDDFC\\uDDFD\\uDDFF])|[#\\*0-9]\\uFE0F\\u20E3|\\uD83C\\uDDF8(?:\\uD83C[\\uDDE6-\\uDDEA\\uDDEC-\\uDDF4\\uDDF7-\\uDDF9\\uDDFB\\uDDFD-\\uDDFF])|\\uD83C\\uDDFF(?:\\uD83C[\\uDDE6\\uDDF2\\uDDFC])|\\uD83C\\uDDF0(?:\\uD83C[\\uDDEA\\uDDEC-\\uDDEE\\uDDF2\\uDDF3\\uDDF5\\uDDF7\\uDDFC\\uDDFE\\uDDFF])|\\uD83C\\uDDF3(?:\\uD83C[\\uDDE6\\uDDE8\\uDDEA-\\uDDEC\\uDDEE\\uDDF1\\uDDF4\\uDDF5\\uDDF7\\uDDFA\\uDDFF])|\\uD83C\\uDDF2(?:\\uD83C[\\uDDE6\\uDDE8-\\uDDED\\uDDF0-\\uDDFF])|(?:\\uD83C[\\uDFC3\\uDFC4\\uDFCA]|\\uD83D[\\uDC6E\\uDC71\\uDC73\\uDC77\\uDC81\\uDC82\\uDC86\\uDC87\\uDE45-\\uDE47\\uDE4B\\uDE4D\\uDE4E\\uDEA3\\uDEB4-\\uDEB6]|\\uD83E[\\uDD26\\uDD37-\\uDD39\\uDD3D\\uDD3E\\uDDD6-\\uDDDD])(?:\\uD83C[\\uDFFB-\\uDFFF])|(?:\\u26F9|\\uD83C[\\uDFCB\\uDFCC]|\\uD83D\\uDD75)(?:\\uD83C[\\uDFFB-\\uDFFF])|(?:[\\u261D\\u270A-\\u270D]|\\uD83C[\\uDF85\\uDFC2\\uDFC7]|\\uD83D[\\uDC42\\uDC43\\uDC46-\\uDC50\\uDC66\\uDC67\\uDC70\\uDC72\\uDC74-\\uDC76\\uDC78\\uDC7C\\uDC83\\uDC85\\uDCAA\\uDD74\\uDD7A\\uDD90\\uDD95\\uDD96\\uDE4C\\uDE4F\\uDEC0\\uDECC]|\\uD83E[\\uDD18-\\uDD1C\\uDD1E\\uDD1F\\uDD30-\\uDD36\\uDDD1-\\uDDD5])(?:\\uD83C[\\uDFFB-\\uDFFF])|(?:[\\u261D\\u26F9\\u270A-\\u270D]|\\uD83C[\\uDF85\\uDFC2-\\uDFC4\\uDFC7\\uDFCA-\\uDFCC]|\\uD83D[\\uDC42\\uDC43\\uDC46-\\uDC50\\uDC66-\\uDC69\\uDC6E\\uDC70-\\uDC78\\uDC7C\\uDC81-\\uDC83\\uDC85-\\uDC87\\uDCAA\\uDD74\\uDD75\\uDD7A\\uDD90\\uDD95\\uDD96\\uDE45-\\uDE47\\uDE4B-\\uDE4F\\uDEA3\\uDEB4-\\uDEB6\\uDEC0\\uDECC]|\\uD83E[\\uDD18-\\uDD1C\\uDD1E\\uDD1F\\uDD26\\uDD30-\\uDD39\\uDD3D\\uDD3E\\uDDD1-\\uDDDD])(?:\\uD83C[\\uDFFB-\\uDFFF])?|(?:[\\u231A\\u231B\\u23E9-\\u23EC\\u23F0\\u23F3\\u25FD\\u25FE\\u2614\\u2615\\u2648-\\u2653\\u267F\\u2693\\u26A1\\u26AA\\u26AB\\u26BD\\u26BE\\u26C4\\u26C5\\u26CE\\u26D4\\u26EA\\u26F2\\u26F3\\u26F5\\u26FA\\u26FD\\u2705\\u270A\\u270B\\u2728\\u274C\\u274E\\u2753-\\u2755\\u2757\\u2795-\\u2797\\u27B0\\u27BF\\u2B1B\\u2B1C\\u2B50\\u2B55]|\\uD83C[\\uDC04\\uDCCF\\uDD8E\\uDD91-\\uDD9A\\uDDE6-\\uDDFF\\uDE01\\uDE1A\\uDE2F\\uDE32-\\uDE36\\uDE38-\\uDE3A\\uDE50\\uDE51\\uDF00-\\uDF20\\uDF2D-\\uDF35\\uDF37-\\uDF7C\\uDF7E-\\uDF93\\uDFA0-\\uDFCA\\uDFCF-\\uDFD3\\uDFE0-\\uDFF0\\uDFF4\\uDFF8-\\uDFFF]|\\uD83D[\\uDC00-\\uDC3E\\uDC40\\uDC42-\\uDCFC\\uDCFF-\\uDD3D\\uDD4B-\\uDD4E\\uDD50-\\uDD67\\uDD7A\\uDD95\\uDD96\\uDDA4\\uDDFB-\\uDE4F\\uDE80-\\uDEC5\\uDECC\\uDED0-\\uDED2\\uDEEB\\uDEEC\\uDEF4-\\uDEF8]|\\uD83E[\\uDD10-\\uDD3A\\uDD3C-\\uDD3E\\uDD40-\\uDD45\\uDD47-\\uDD4C\\uDD50-\\uDD6B\\uDD80-\\uDD97\\uDDC0\\uDDD0-\\uDDE6])|(?:[#\\*0-9\\xA9\\xAE\\u203C\\u2049\\u2122\\u2139\\u2194-\\u2199\\u21A9\\u21AA\\u231A\\u231B\\u2328\\u23CF\\u23E9-\\u23F3\\u23F8-\\u23FA\\u24C2\\u25AA\\u25AB\\u25B6\\u25C0\\u25FB-\\u25FE\\u2600-\\u2604\\u260E\\u2611\\u2614\\u2615\\u2618\\u261D\\u2620\\u2622\\u2623\\u2626\\u262A\\u262E\\u262F\\u2638-\\u263A\\u2640\\u2642\\u2648-\\u2653\\u2660\\u2663\\u2665\\u2666\\u2668\\u267B\\u267F\\u2692-\\u2697\\u2699\\u269B\\u269C\\u26A0\\u26A1\\u26AA\\u26AB\\u26B0\\u26B1\\u26BD\\u26BE\\u26C4\\u26C5\\u26C8\\u26CE\\u26CF\\u26D1\\u26D3\\u26D4\\u26E9\\u26EA\\u26F0-\\u26F5\\u26F7-\\u26FA\\u26FD\\u2702\\u2705\\u2708-\\u270D\\u270F\\u2712\\u2714\\u2716\\u271D\\u2721\\u2728\\u2733\\u2734\\u2744\\u2747\\u274C\\u274E\\u2753-\\u2755\\u2757\\u2763\\u2764\\u2795-\\u2797\\u27A1\\u27B0\\u27BF\\u2934\\u2935\\u2B05-\\u2B07\\u2B1B\\u2B1C\\u2B50\\u2B55\\u3030\\u303D\\u3297\\u3299]|\\uD83C[\\uDC04\\uDCCF\\uDD70\\uDD71\\uDD7E\\uDD7F\\uDD8E\\uDD91-\\uDD9A\\uDDE6-\\uDDFF\\uDE01\\uDE02\\uDE1A\\uDE2F\\uDE32-\\uDE3A\\uDE50\\uDE51\\uDF00-\\uDF21\\uDF24-\\uDF93\\uDF96\\uDF97\\uDF99-\\uDF9B\\uDF9E-\\uDFF0\\uDFF3-\\uDFF5\\uDFF7-\\uDFFF]|\\uD83D[\\uDC00-\\uDCFD\\uDCFF-\\uDD3D\\uDD49-\\uDD4E\\uDD50-\\uDD67\\uDD6F\\uDD70\\uDD73-\\uDD7A\\uDD87\\uDD8A-\\uDD8D\\uDD90\\uDD95\\uDD96\\uDDA4\\uDDA5\\uDDA8\\uDDB1\\uDDB2\\uDDBC\\uDDC2-\\uDDC4\\uDDD1-\\uDDD3\\uDDDC-\\uDDDE\\uDDE1\\uDDE3\\uDDE8\\uDDEF\\uDDF3\\uDDFA-\\uDE4F\\uDE80-\\uDEC5\\uDECB-\\uDED2\\uDEE0-\\uDEE5\\uDEE9\\uDEEB\\uDEEC\\uDEF0\\uDEF3-\\uDEF8]|\\uD83E[\\uDD10-\\uDD3A\\uDD3C-\\uDD3E\\uDD40-\\uDD45\\uDD47-\\uDD4C\\uDD50-\\uDD6B\\uDD80-\\uDD97\\uDDC0\\uDDD0-\\uDDE6])\\uFE0F?)',\n",
       " re.UNICODE),\n",
       " 'emphasis': re.compile(r'(?:\\*\\b\\w+\\b\\*)', re.UNICODE),\n",
       " 'hashtag': re.compile(r'\\#\\b[\\w\\-\\_]+\\b', re.UNICODE),\n",
       " 'ltr_face': re.compile(r'(?:(?<![a-zA-Z])[DPO]|(?<!\\d)[03]|[|}><=])?(?:(?<![a-zA-Z\\(])[xXB](?![a-ce-oq-zA-CE-OQ-Z,\\.\\/])|(?<![:])[:=|](?![\\.])|(?<![%#\\d])[%#](?![%#\\d])|(?<![\\d\\$])[$](?![\\d\\.,\\$])|[;](?!\\()|(?<![\\d\\(\\-\\+])8(?![\\da-ce-zA-CE-Z\\\\/])|\\*(?![\\*\\d,.]))(?:[\\'\\\",])?(?:(?<![\\w*])[oc](?![a-zA-Z])|(?:[-‑^]))?(?:[(){}\\[\\]<>|/\\\\]+|[Þ×þ]|(?<!\\d)[30](?!\\d)|(?<![\\d\\*])[*,.@#&](?![\\*\\d,.])|(?<![\\d\\$])[$](?![\\d\\.,\\$])|[DOosSJLxXpPbc](?![a-zA-Z]))',\n",
       " re.UNICODE),\n",
       " 'money': re.compile(r\"(?:[$€£¢]\\d+(?:[\\.,']\\d+)?(?:[MmKkBb](?:n|(?:il(?:lion)?))?)?)|(?:\\d+(?:[\\.,']\\d+)?[$€£¢])\",\n",
       " re.UNICODE),\n",
       " 'normalize_elong': re.compile(r'(.)\\1{2,}', re.UNICODE),\n",
       " 'number': re.compile(r\"\\b\\d+(?:[\\.,']\\d+)?\\b\", re.UNICODE),\n",
       " 'percent': re.compile(r\"\\b\\d+(?:[\\.,']\\d+)?\\b%\", re.UNICODE),\n",
       " 'phone': re.compile(r'(?<![0-9])(?:\\+\\d{1,2}\\s)?\\(?\\d{3}\\)?[\\s.-]?\\d{3}[\\s.-]?\\d{4}(?![0-9])',\n",
       " re.UNICODE),\n",
       " 'quotes': re.compile(r'\\\"(\\\\.|[^\\\"]){2,}\\\"', re.UNICODE),\n",
       " 'repeat_puncts': re.compile(r'([!?.]){2,}', re.UNICODE),\n",
       " 'rest_emoticons': re.compile(r'(?<![A-Za-z0-9/()])(?:(?:\\^5)|(?:\\<3))(?![[A-Za-z0-9/()])',\n",
       " re.UNICODE),\n",
       " 'rtl_face': re.compile(r'(?<![\\w])(?:[(){}\\[\\]<>|/\\\\]+|(?<![\\d\\.\\,])[0](?![\\d\\.])|(?![\\d\\*,.@#&])[*,.@#&]|[$]|(?<![a-zA-Z])[DOosSxX])(?:[-‑^])?(?:[\\'\\\",])?(?:[xX]|[:=|]|[%#]|[$8](?![\\d\\.])|[;]|\\*)(?:[O]|[0]|[|{><=])?(?![a-zA-Z])',\n",
       " re.UNICODE),\n",
       " 'tag': re.compile(r'<[\\/]?\\w+[\\/]?>', re.UNICODE),\n",
       " 'time': re.compile(r'(?:(?:\\d+)?\\.?\\d+(?:AM|PM|am|pm|a\\.m\\.|p\\.m\\.))|(?:(?:[0-2]?[0-9]|[2][0-3]):(?:[0-5][0-9])(?::(?:[0-5][0-9]))?(?: ?(?:AM|PM|am|pm|a\\.m\\.|p\\.m\\.))?)',\n",
       " re.UNICODE),\n",
       " 'url': re.compile(r'(?:https?:\\/\\/(?:www\\.|(?!www))[^\\s\\.]+\\.[^\\s]{2,}|www\\.[^\\s]+\\.[^\\s]{2,})',\n",
       " re.UNICODE),\n",
       " 'user': re.compile(r'\\@\\w+', re.UNICODE),\n",
       " 'word': re.compile(r'(?:[\\w_]+)', re.UNICODE)}"
      ]
     },
     "execution_count": 72,
     "metadata": {},
     "output_type": "execute_result"
    }
   ],
   "source": [
    "regexes"
   ]
  },
  {
   "cell_type": "code",
   "execution_count": 86,
   "metadata": {},
   "outputs": [],
   "source": [
    "def handle_elongated_match(m):\n",
    "        text = m\n",
    "        # normalize to at most 2 repeating chars\n",
    "        text = regexes[\"normalize_elong\"].sub(r'\\1\\1', text)\n",
    "        text = re.compile(r'([!?.,;]){2,}', re.UNICODE).sub(r' \\1\\1 ', text)\n",
    "        text = re.compile(r'([∞¶°ç◊\\(\\)€$/:?.,;{~!\"^`\\[\\]])', re.UNICODE).sub(r' \\1 ', text)\n",
    "        return text"
   ]
  },
  {
   "cell_type": "code",
   "execution_count": 88,
   "metadata": {},
   "outputs": [
    {
     "data": {
      "text/plain": [
       "'! ! - { [ ◊ @# ¶ Ç ∞ ◊ ciao ] } ( ) _ci-ao_ 20 $ € $ #ciao-ciao ? ? , , ciiaoo . .'"
      ]
     },
     "execution_count": 88,
     "metadata": {},
     "output_type": "execute_result"
    }
   ],
   "source": [
    "text = \"!!!!!!!!- {[◊@#¶Ç∞◊ciao]}()_ci-ao_ 20$€$ #ciao-ciao??? ,,,,,ciiiiiaooooooooo.....\"\n",
    "' '.join(handle_elongated_match(text).split())"
   ]
  },
  {
   "cell_type": "code",
   "execution_count": 32,
   "metadata": {},
   "outputs": [
    {
     "data": {
      "text/plain": [
       "'video▶️ URL'"
      ]
     },
     "execution_count": 32,
     "metadata": {},
     "output_type": "execute_result"
    }
   ],
   "source": [
    "import emoji\n",
    "\n",
    "EMOJI_PATTERN = re.compile(\n",
    "    \"([\"\n",
    "    \"\\U0001F1E0-\\U0001F1FF\"  # flags (iOS)\n",
    "    \"\\U0001F300-\\U0001F5FF\"  # symbols & pictographs\n",
    "    \"\\U0001F600-\\U0001F64F\"  # emoticons\n",
    "    \"\\U0001F680-\\U0001F6FF\"  # transport & map symbols\n",
    "    \"\\U0001F700-\\U0001F77F\"  # alchemical symbols\n",
    "    \"\\U0001F780-\\U0001F7FF\"  # Geometric Shapes Extended\n",
    "    \"\\U0001F800-\\U0001F8FF\"  # Supplemental Arrows-C\n",
    "    \"\\U0001F900-\\U0001F9FF\"  # Supplemental Symbols and Pictographs\n",
    "    \"\\U0001FA00-\\U0001FA6F\"  # Chess Symbols\n",
    "    \"\\U0001FA70-\\U0001FAFF\"  # Symbols and Pictographs Extended-A\n",
    "    \"\\U00002702-\\U000027B0\"  # Dingbats\n",
    "    \"\\u2600-\\u26FF\"\n",
    "    \"])\"\n",
    "    )\n",
    "\n",
    "def add_space_between_emojies(text):\n",
    "    text = re.sub(EMOJI_PATTERN, r' \\1 ', text)\n",
    "    return text\n",
    "\n",
    "text = \"video▶️ URL\"\n",
    "add_space_between_emojies(text)"
   ]
  },
  {
   "cell_type": "code",
   "execution_count": 40,
   "metadata": {},
   "outputs": [
    {
     "data": {
      "text/plain": [
       "'video ▶️  URL'"
      ]
     },
     "execution_count": 40,
     "metadata": {},
     "output_type": "execute_result"
    }
   ],
   "source": [
    "regexes[\"emoji\"].sub(r' \\g<0> ', \"video▶️ URL\")"
   ]
  },
  {
   "cell_type": "code",
   "execution_count": 96,
   "metadata": {},
   "outputs": [
    {
     "data": {
      "text/plain": [
       "\"l'immigrazione'\""
      ]
     },
     "execution_count": 96,
     "metadata": {},
     "output_type": "execute_result"
    }
   ],
   "source": [
    "from ekphrasis.classes.segmenter import Segmenter\n",
    "\n",
    "text = \"l’immigrazione’\"\n",
    "text.replace(\"’\", \"'\")"
   ]
  },
  {
   "cell_type": "code",
   "execution_count": 131,
   "metadata": {},
   "outputs": [],
   "source": [
    "import wordninja\n",
    "\n",
    "wn = wordninja.LanguageModel(italian_gzip)"
   ]
  },
  {
   "cell_type": "code",
   "execution_count": 135,
   "metadata": {},
   "outputs": [
    {
     "data": {
      "text/plain": [
       "['Cos', \"'\"]"
      ]
     },
     "execution_count": 135,
     "metadata": {},
     "output_type": "execute_result"
    }
   ],
   "source": [
    "wn.split(\"Cos'è\")"
   ]
  },
  {
   "cell_type": "code",
   "execution_count": null,
   "metadata": {},
   "outputs": [],
   "source": []
  }
 ],
 "metadata": {
  "kernelspec": {
   "display_name": "Python 3",
   "language": "python",
   "name": "python3"
  },
  "language_info": {
   "codemirror_mode": {
    "name": "ipython",
    "version": 3
   },
   "file_extension": ".py",
   "mimetype": "text/x-python",
   "name": "python",
   "nbconvert_exporter": "python",
   "pygments_lexer": "ipython3",
   "version": "3.7.8"
  }
 },
 "nbformat": 4,
 "nbformat_minor": 4
}
