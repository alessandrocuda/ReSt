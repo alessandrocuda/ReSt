{
 "cells": [
  {
   "cell_type": "code",
   "execution_count": 1,
   "id": "fantastic-football",
   "metadata": {},
   "outputs": [
    {
     "data": {
      "text/plain": [
       "'0'"
      ]
     },
     "execution_count": 1,
     "metadata": {},
     "output_type": "execute_result"
    }
   ],
   "source": [
    "import os\n",
    "os.environ['CUDA_VISIBLE_DEVICES']  = \"0\"\n",
    "os.environ['CUDA_VISIBLE_DEVICES'] "
   ]
  },
  {
   "cell_type": "code",
   "execution_count": 37,
   "id": "operational-douglas",
   "metadata": {},
   "outputs": [
    {
     "name": "stdout",
     "output_type": "stream",
     "text": [
      "The autoreload extension is already loaded. To reload it, use:\n",
      "  %reload_ext autoreload\n"
     ]
    }
   ],
   "source": [
    "from transformers import BertForSequenceClassification, BertTokenizerFast, Trainer, TrainingArguments\n",
    "from transformers import TFBertForSequenceClassification\n",
    "\n",
    "from pathlib import Path\n",
    "\n",
    "from nlp import load_dataset\n",
    "import numpy as np\n",
    "import pandas as pd\n",
    "import json\n",
    "import tensorflow as tf\n",
    "import torch\n",
    "import matplotlib.pyplot as plt\n",
    "import ast\n",
    "\n",
    "import torch\n",
    "from torch.utils.data import DataLoader\n",
    "from torch.utils.data import DataLoader\n",
    "from transformers import BertForSequenceClassification, AdamW\n",
    "\n",
    "\n",
    "from sklearn.model_selection import train_test_split\n",
    "from sklearn.metrics import classification_report, f1_score\n",
    "\n",
    "import sys\n",
    "#root_project = \"/content/Rest/\"\n",
    "root_project = \"/storagenfs/a.cudazzo1/ReSt/\"\n",
    "#root_project = \"/Users/Alessandro/Dev/repos/SaRaH/\"\n",
    "#root_project = \"/home/jupyter/SaRaH/\"\n",
    "sys.path.append(root_project)\n",
    "from src.data.utils import load_data, set_unkmark_token\n",
    "from src.utils import metrics\n",
    "from src.data.word_embedding import get_index_key_association, get_int_seq, build_keras_embedding_matrix, get_data_to_emb\n",
    "from src.utils.utils import plotHistory, plotF1_macro, plotLoss\n",
    "from src.utils.metrics import f1_macro\n",
    "\n",
    "\n",
    "\n",
    "%load_ext autoreload\n",
    "%autoreload 2"
   ]
  },
  {
   "cell_type": "code",
   "execution_count": 23,
   "id": "irish-possibility",
   "metadata": {},
   "outputs": [],
   "source": [
    "def read_evalita_split(df):\n",
    "    texts = []\n",
    "    labels = []\n",
    "    for index, row in df.iterrows():\n",
    "        texts.append(row['tokens'])\n",
    "        labels.append(row['stereotype'])\n",
    "    return texts, labels\n",
    "\n",
    "class EvalitaDataset(torch.utils.data.Dataset):\n",
    "    def __init__(self, encodings, labels):\n",
    "        self.encodings = encodings\n",
    "        self.labels = labels\n",
    "\n",
    "    def __getitem__(self, idx):\n",
    "        item = {key: torch.tensor(val[idx]) for key, val in self.encodings.items()}\n",
    "        item['labels'] = torch.tensor(self.labels[idx])\n",
    "        return item\n",
    "\n",
    "    def __len__(self):\n",
    "        return len(self.labels)"
   ]
  },
  {
   "cell_type": "markdown",
   "id": "oriental-sweden",
   "metadata": {},
   "source": [
    "# Dataset"
   ]
  },
  {
   "cell_type": "code",
   "execution_count": 28,
   "id": "dutch-cartoon",
   "metadata": {},
   "outputs": [],
   "source": [
    "dataset_dev_path   = root_project + \"dataset/haspeede2/preprocessed/dev/dev.csv\"\n",
    "dataset_test_tweets_path   = root_project + \"dataset/haspeede2/preprocessed/reference/reference_tweets.csv\"\n",
    "\n",
    "df = pd.read_csv(dataset_dev_path, sep='\\t')\n",
    "df = df[['tokens','stereotype']]\n",
    "\n",
    "df_test = pd.read_csv(dataset_test_tweets_path, sep='\\t')\n",
    "df_test = df_test[['tokens','stereotype']]"
   ]
  },
  {
   "cell_type": "code",
   "execution_count": 29,
   "id": "naval-least",
   "metadata": {},
   "outputs": [],
   "source": [
    "X, y = read_evalita_split(df)\n",
    "#y  = np.array([[1, 0] if elem==0 else [0, 1] for elem in y])\n",
    "X_test, y_test = read_evalita_split(df_test)\n",
    "#y_test  = np.array([[1, 0] if elem==0 else [0, 1] for elem in y_test])"
   ]
  },
  {
   "cell_type": "code",
   "execution_count": 30,
   "id": "mathematical-subdivision",
   "metadata": {},
   "outputs": [],
   "source": [
    "X_train, X_val, y_train, y_val = train_test_split(X, y, test_size=0.20)"
   ]
  },
  {
   "cell_type": "markdown",
   "id": "configured-hunter",
   "metadata": {},
   "source": [
    "# Bert tokenizer "
   ]
  },
  {
   "cell_type": "code",
   "execution_count": 34,
   "id": "female-designer",
   "metadata": {},
   "outputs": [],
   "source": [
    "model_name = \"dbmdz/bert-base-italian-uncased\"\n",
    "tokenizer = BertTokenizerFast.from_pretrained(model_name)"
   ]
  },
  {
   "cell_type": "code",
   "execution_count": 35,
   "id": "dependent-rating",
   "metadata": {},
   "outputs": [],
   "source": [
    "max_length = 50\n",
    "X_train_e = tokenizer(X_train, truncation=True, padding=True, max_length = max_length)\n",
    "X_val_e = tokenizer(X_val, truncation=True, padding=True, max_length = max_length)\n",
    "X_test_e = tokenizer(X_test, truncation=True, padding=True, max_length = max_length)"
   ]
  },
  {
   "cell_type": "markdown",
   "id": "known-example",
   "metadata": {},
   "source": [
    "# To Tourch dataset"
   ]
  },
  {
   "cell_type": "code",
   "execution_count": 36,
   "id": "organized-expression",
   "metadata": {},
   "outputs": [],
   "source": [
    "train_dataset = EvalitaDataset(X_train_e, y_train)\n",
    "val_dataset = EvalitaDataset(X_val_e, y_val)\n",
    "test_dataset = EvalitaDataset(X_test_e, y_test)"
   ]
  },
  {
   "cell_type": "markdown",
   "id": "alike-insulation",
   "metadata": {},
   "source": [
    "## Tourch loader"
   ]
  },
  {
   "cell_type": "code",
   "execution_count": 9,
   "id": "local-shell",
   "metadata": {},
   "outputs": [],
   "source": [
    "train_loader = DataLoader(train_dataset, batch_size=16, shuffle=True)\n",
    "val_loader = DataLoader(val_dataset, batch_size=16, shuffle=False, num_workers=2)\n",
    "test_loader = DataLoader(test_dataset, batch_size=16, shuffle=False, num_workers=2)"
   ]
  },
  {
   "cell_type": "markdown",
   "id": "altered-airline",
   "metadata": {},
   "source": [
    "# Training"
   ]
  },
  {
   "cell_type": "code",
   "execution_count": 10,
   "id": "contemporary-tenant",
   "metadata": {},
   "outputs": [
    {
     "name": "stderr",
     "output_type": "stream",
     "text": [
      "Some weights of the model checkpoint at dbmdz/bert-base-italian-uncased were not used when initializing BertForSequenceClassification: ['cls.predictions.bias', 'cls.predictions.transform.dense.weight', 'cls.predictions.transform.dense.bias', 'cls.predictions.transform.LayerNorm.weight', 'cls.predictions.transform.LayerNorm.bias', 'cls.predictions.decoder.weight', 'cls.seq_relationship.weight', 'cls.seq_relationship.bias']\n",
      "- This IS expected if you are initializing BertForSequenceClassification from the checkpoint of a model trained on another task or with another architecture (e.g. initializing a BertForSequenceClassification model from a BertForPreTraining model).\n",
      "- This IS NOT expected if you are initializing BertForSequenceClassification from the checkpoint of a model that you expect to be exactly identical (initializing a BertForSequenceClassification model from a BertForSequenceClassification model).\n",
      "Some weights of BertForSequenceClassification were not initialized from the model checkpoint at dbmdz/bert-base-italian-uncased and are newly initialized: ['classifier.weight', 'classifier.bias']\n",
      "You should probably TRAIN this model on a down-stream task to be able to use it for predictions and inference.\n"
     ]
    },
    {
     "name": "stdout",
     "output_type": "stream",
     "text": [
      "Epoch 1 \t loss: 0.6030602332269936 \t val_loss: 0.5356467785530312 \t f1_macro: 0.6203358380494481 \t val_f1_macro: 0.7110746360072935\n",
      "Validation Loss Decreased(inf--->0.535647) \t Saving The Model\n",
      "Epoch 2 \t loss: 0.43837999663593474 \t val_loss: 0.6540917196246081 \t f1_macro: 0.784880364090212 \t val_f1_macro: 0.6156011996272654\n",
      "Epoch 3 \t loss: 0.25427655877589045 \t val_loss: 0.6803822635218154 \t f1_macro: 0.8891630037497718 \t val_f1_macro: 0.695664501906328\n",
      "\n"
     ]
    }
   ],
   "source": [
    "from torch.utils.data import DataLoader\n",
    "from transformers import BertForSequenceClassification, AdamW\n",
    "\n",
    "device = torch.device('cuda') if torch.cuda.is_available() else torch.device('cpu')\n",
    "\n",
    "model = BertForSequenceClassification.from_pretrained(model_name)\n",
    "model.to(device)\n",
    "\n",
    "\n",
    "optim = AdamW(model.parameters(), lr=5e-5, weight_decay=0.01)\n",
    "m = torch.nn.Softmax(dim=1)\n",
    "min_valid_loss = np.inf\n",
    "history = {\"loss\": [],\n",
    "           \"val_loss\": [],\n",
    "           \"f1_macro\": [],\n",
    "           \"val_f1_macro\": []\n",
    "          }\n",
    "\n",
    "for epoch in range(3):\n",
    "    train_loss = 0.0\n",
    "    train_f1_macro = 0.0\n",
    "    val_loss = 0.0\n",
    "    val_f1_macro = 0.0\n",
    "    model.train()\n",
    "    for i, batch in enumerate(train_loader, 0):\n",
    "        optim.zero_grad()\n",
    "        input_ids = batch['input_ids'].to(device)\n",
    "        attention_mask = batch['attention_mask'].to(device)\n",
    "        labels = batch['labels'].to(device)\n",
    "        outputs = model(input_ids, attention_mask=attention_mask, labels=labels)\n",
    "        loss = outputs[0]\n",
    "        loss.backward()\n",
    "        optim.step()\n",
    "        # print statistics\n",
    "        train_loss += loss.item()\n",
    "        prediction = np.argmax(m(outputs[\"logits\"]).cpu().detach().numpy(), axis = 1).tolist()\n",
    "        train_f1_macro += f1_score(batch['labels'], prediction, average=\"macro\")\n",
    "\n",
    "    \n",
    "    model.eval()     # Optional when not using Model Specific layer\n",
    "    for batch in val_loader:\n",
    "        input_ids = batch['input_ids'].to(device)\n",
    "        attention_mask = batch['attention_mask'].to(device)\n",
    "        labels = batch['labels'].to(device)\n",
    "\n",
    "        outputs = model(input_ids, attention_mask=attention_mask, labels=labels)\n",
    "        loss = outputs[0]\n",
    "        val_loss += loss.item()\n",
    "        prediction = np.argmax(m(outputs[\"logits\"]).cpu().detach().numpy(), axis = 1).tolist()\n",
    "        val_f1_macro += f1_score(batch['labels'], prediction, average=\"macro\")\n",
    "    \n",
    "    history[\"loss\"].append(train_loss / len(train_loader))\n",
    "    history[\"val_loss\"].append(val_loss / len(val_loader))\n",
    "    history[\"f1_macro\"].append(train_f1_macro / len(train_loader))\n",
    "    history[\"val_f1_macro\"].append(val_f1_macro / len(val_loader))\n",
    "    \n",
    "    print(f'Epoch {epoch+1} \\t loss: {train_loss / len(train_loader)} \\t val_loss: {val_loss / len(val_loader)} \\t f1_macro: {train_f1_macro/len(train_loader)} \\t val_f1_macro: {val_f1_macro/len(val_loader)}')\n",
    "    if min_valid_loss > (val_loss /len(val_loader)):\n",
    "        print(f'Validation Loss Decreased({min_valid_loss:.6f}--->{(val_loss /len(val_loader)):.6f}) \\t Saving The Model')\n",
    "        min_valid_loss = (val_loss / len(val_loader))\n",
    "        # Saving State Dict\n",
    "        torch.save(model.state_dict(), 'saved_model.pth')\n",
    "model.eval()\n",
    "print()"
   ]
  },
  {
   "cell_type": "code",
   "execution_count": 11,
   "id": "effective-leeds",
   "metadata": {},
   "outputs": [
    {
     "data": {
      "image/png": "[encoded data removed]",
      "text/plain": [
       "<Figure size 864x288 with 2 Axes>"
      ]
     },
     "metadata": {
      "needs_background": "light"
     },
     "output_type": "display_data"
    }
   ],
   "source": [
    "plotHistory(history)"
   ]
  },
  {
   "cell_type": "code",
   "execution_count": null,
   "id": "spatial-classification",
   "metadata": {},
   "outputs": [],
   "source": [
    "model = BertForSequenceClassification.from_pretrained(model_name)\n",
    "model.load_state_dict(torch.load('saved_model.pth'))\n",
    "model.to(device)\n",
    "print()"
   ]
  },
  {
   "cell_type": "code",
   "execution_count": 14,
   "id": "failing-insight",
   "metadata": {},
   "outputs": [
    {
     "name": "stdout",
     "output_type": "stream",
     "text": [
      "0.52492976\n",
      "0.7406538170823885\n",
      "              precision    recall  f1-score   support\n",
      "\n",
      "           0       0.78      0.74      0.76       694\n",
      "           1       0.70      0.75      0.72       569\n",
      "\n",
      "    accuracy                           0.74      1263\n",
      "   macro avg       0.74      0.74      0.74      1263\n",
      "weighted avg       0.74      0.74      0.74      1263\n",
      "\n"
     ]
    }
   ],
   "source": [
    "model.eval()\n",
    "m = torch.nn.Softmax(dim=1)\n",
    "tot_loss = []\n",
    "prediction = []\n",
    "with torch.no_grad():\n",
    "    for batch in test_loader:\n",
    "        input_ids = batch['input_ids'].to(device)\n",
    "        attention_mask = batch['attention_mask'].to(device)\n",
    "        labels = batch['labels'].to(device)\n",
    "        # calculate outputs by running images through the network\n",
    "        outputs = model(input_ids, attention_mask=attention_mask, labels=labels)\n",
    "        prediction += np.argmax(m(outputs[\"logits\"]).cpu().numpy(), axis = 1).tolist()\n",
    "        tot_loss.append(outputs[0].cpu().numpy())\n",
    "print(np.mean(tot_loss))\n",
    "\n",
    "print(f1_score(y_test, prediction, average=\"macro\"))\n",
    "print(classification_report(y_test, prediction))"
   ]
  },
  {
   "cell_type": "markdown",
   "id": "painful-hayes",
   "metadata": {},
   "source": [
    "# Gridsearch"
   ]
  },
  {
   "cell_type": "code",
   "execution_count": null,
   "id": "combined-russian",
   "metadata": {},
   "outputs": [],
   "source": [
    "def get_model(model_name, hyper_param, device):\n",
    "    model = BertForSequenceClassification.from_pretrained(model_name)\n",
    "    model.to(device)\n",
    "    optim = AdamW(model.parameters(), lr=hyper_param[\"lr\"], weight_decay=hyper_param[\"weight_decay\"])\n",
    "    return model, optim"
   ]
  },
  {
   "cell_type": "code",
   "execution_count": null,
   "id": "above-earthquake",
   "metadata": {},
   "outputs": [],
   "source": [
    "device = torch.device('cuda') if torch.cuda.is_available() else torch.device('cpu')\n",
    "\n",
    "m = torch.nn.Softmax(dim=1)\n",
    "min_valid_loss = np.inf\n",
    "history = {\"loss\": [],\n",
    "           \"val_loss\": [],\n",
    "           \"f1_macro\": [],\n",
    "           \"val_f1_macro\": []\n",
    "          }\n",
    "\n",
    "for epoch in range(3):\n",
    "    train_loss = 0.0\n",
    "    train_f1_macro = 0.0\n",
    "    val_loss = 0.0\n",
    "    val_f1_macro = 0.0\n",
    "    model.train()\n",
    "    for i, batch in enumerate(train_loader, 0):\n",
    "        optim.zero_grad()\n",
    "        input_ids = batch['input_ids'].to(device)\n",
    "        attention_mask = batch['attention_mask'].to(device)\n",
    "        labels = batch['labels'].to(device)\n",
    "        outputs = model(input_ids, attention_mask=attention_mask, labels=labels)\n",
    "        loss = outputs[0]\n",
    "        loss.backward()\n",
    "        optim.step()\n",
    "        # print statistics\n",
    "        train_loss += loss.item()\n",
    "        prediction = np.argmax(m(outputs[\"logits\"]).cpu().detach().numpy(), axis = 1).tolist()\n",
    "        train_f1_macro += f1_score(batch['labels'], prediction, average=\"macro\")\n",
    "\n",
    "    \n",
    "    model.eval()     # Optional when not using Model Specific layer\n",
    "    for batch in val_loader:\n",
    "        input_ids = batch['input_ids'].to(device)\n",
    "        attention_mask = batch['attention_mask'].to(device)\n",
    "        labels = batch['labels'].to(device)\n",
    "\n",
    "        outputs = model(input_ids, attention_mask=attention_mask, labels=labels)\n",
    "        loss = outputs[0]\n",
    "        val_loss += loss.item()\n",
    "        prediction = np.argmax(m(outputs[\"logits\"]).cpu().detach().numpy(), axis = 1).tolist()\n",
    "        val_f1_macro += f1_score(batch['labels'], prediction, average=\"macro\")\n",
    "    \n",
    "    history[\"loss\"].append(train_loss / len(train_loader))\n",
    "    history[\"val_loss\"].append(val_loss / len(val_loader))\n",
    "    history[\"f1_macro\"].append(train_f1_macro / len(train_loader))\n",
    "    history[\"val_f1_macro\"].append(val_f1_macro / len(val_loader))\n",
    "    \n",
    "    print(f'Epoch {epoch+1} \\t loss: {train_loss / len(train_loader)} \\t val_loss: {val_loss / len(val_loader)} \\t f1_macro: {train_f1_macro/len(train_loader)} \\t val_f1_macro: {val_f1_macro/len(val_loader)}')\n",
    "    if min_valid_loss > (val_loss /len(val_loader)):\n",
    "        print(f'Validation Loss Decreased({min_valid_loss:.6f}--->{(val_loss /len(val_loader)):.6f}) \\t Saving The Model')\n",
    "        min_valid_loss = (val_loss / len(val_loader))\n",
    "        # Saving State Dict\n",
    "        torch.save(model.state_dict(), 'saved_model.pth')\n",
    "model.eval()\n",
    "print()"
   ]
  }
 ],
 "metadata": {
  "kernelspec": {
   "display_name": "Python 3",
   "language": "python",
   "name": "python3"
  },
  "language_info": {
   "codemirror_mode": {
    "name": "ipython",
    "version": 3
   },
   "file_extension": ".py",
   "mimetype": "text/x-python",
   "name": "python",
   "nbconvert_exporter": "python",
   "pygments_lexer": "ipython3",
   "version": "3.8.5"
  }
 },
 "nbformat": 4,
 "nbformat_minor": 5
}
