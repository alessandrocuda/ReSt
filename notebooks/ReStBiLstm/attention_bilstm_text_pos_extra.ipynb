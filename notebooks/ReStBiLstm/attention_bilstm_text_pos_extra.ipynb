{
 "cells": [
  {
   "cell_type": "code",
   "execution_count": 1,
   "metadata": {
    "colab": {
     "base_uri": "https://localhost:8080/"
    },
    "id": "mcx-h8sODpMJ",
    "outputId": "07daeeb8-c911-4b5a-fa10-7cff75c71e53"
   },
   "outputs": [
    {
     "name": "stdout",
     "output_type": "stream",
     "text": [
      "Cloning into 'ReSt'...\n",
      "remote: Enumerating objects: 258, done.\u001b[K\n",
      "remote: Counting objects: 100% (258/258), done.\u001b[K\n",
      "remote: Compressing objects: 100% (176/176), done.\u001b[K\n",
      "remote: Total 345 (delta 126), reused 193 (delta 72), pack-reused 87\u001b[K\n",
      "Receiving objects: 100% (345/345), 79.79 MiB | 29.06 MiB/s, done.\n",
      "Resolving deltas: 100% (134/134), done.\n",
      "Checking out files: 100% (103/103), done.\n",
      "--2021-04-11 15:57:35--  http://www.italianlp.it/twitter128.bin\n",
      "Resolving www.italianlp.it (www.italianlp.it)... 146.48.92.46, 2a00:1620:c0:5c::8\n",
      "Connecting to www.italianlp.it (www.italianlp.it)|146.48.92.46|:80... connected.\n",
      "HTTP request sent, awaiting response... 200 OK\n",
      "Length: 613808129 (585M) [application/octet-stream]\n",
      "Saving to: ‘twitter128.bin’\n",
      "\n",
      "twitter128.bin      100%[===================>] 585.37M  27.7MB/s    in 24s     \n",
      "\n",
      "2021-04-11 15:58:00 (23.9 MB/s) - ‘twitter128.bin’ saved [613808129/613808129]\n",
      "\n"
     ]
    }
   ],
   "source": [
    "#!pip install fasttext\n",
    "!rm -rf ReST/\n",
    "!git clone https://github.com/alessandrocuda/ReSt\n",
    "!wget http://www.italianlp.it/twitter128.bin\n",
    "!mv /content/twitter128.bin /content/ReSt/results/model/word2vec"
   ]
  },
  {
   "cell_type": "code",
   "execution_count": 1,
   "metadata": {},
   "outputs": [
    {
     "data": {
      "text/plain": [
       "'1'"
      ]
     },
     "execution_count": 1,
     "metadata": {},
     "output_type": "execute_result"
    }
   ],
   "source": [
    "import os\n",
    "os.environ['CUDA_VISIBLE_DEVICES']  = \"1\"\n",
    "os.environ['CUDA_VISIBLE_DEVICES'] "
   ]
  },
  {
   "cell_type": "code",
   "execution_count": 2,
   "metadata": {
    "id": "foTfySiPDfOl"
   },
   "outputs": [],
   "source": [
    "import tensorflow as tf\n",
    "#import tensorflow_addons as tfa\n",
    "\n",
    "from tensorflow.keras import backend as K\n",
    "\n",
    "#from tensorflow.keras.engine import Layer, InputSpec, InputLayer\n",
    "\n",
    "from tensorflow.keras.models import Model, Sequential\n",
    "\n",
    "from tensorflow.keras.layers import Dropout, Embedding, concatenate\n",
    "from tensorflow.keras.layers import Conv1D, MaxPool1D, Conv2D, MaxPool2D, ZeroPadding1D, GlobalMaxPool1D, GlobalAveragePooling1D, AveragePooling1D\n",
    "from tensorflow.keras.layers import Dense, Input, Flatten, BatchNormalization, Activation\n",
    "from tensorflow.keras.layers import Concatenate, Dot, Concatenate, Multiply, RepeatVector\n",
    "from tensorflow.keras.layers import Bidirectional, TimeDistributed\n",
    "from tensorflow.keras.layers import SimpleRNN, LSTM, GRU, Lambda, Permute\n",
    "from tensorflow.keras.optimizers import Adam\n",
    "from tensorflow.keras.callbacks import ModelCheckpoint,EarlyStopping\n",
    "from tensorflow.keras.regularizers import l2\n",
    "from tensorflow.keras.preprocessing.sequence import pad_sequences\n",
    "from tensorflow.keras.models import load_model\n",
    "\n",
    "from sklearn.model_selection import train_test_split\n",
    "from sklearn.metrics import classification_report, f1_score\n",
    "\n",
    "from gensim.models import KeyedVectors\n",
    "from gensim.models import Word2Vec\n",
    "\n",
    "#import fasttext.util\n",
    "\n",
    "import pandas as pd\n",
    "import numpy as np\n",
    "import matplotlib.pyplot as plt\n",
    "\n",
    "from gensim.test.utils import datapath\n",
    "\n",
    "import sys\n",
    "#root_project = \"/content/ReSt/\"\n",
    "#root_project = \"/Users/Alessandro/Dev/repos/ReSt/\"\n",
    "root_project = \"/storagenfs/a.cudazzo1/ReSt/\"\n",
    "sys.path.append(root_project)\n",
    "from src.data.utils import load_csv_to_dict, set_unkmark_token, load_data, to_emb\n",
    "from src.data.word_embedding import get_index_key_association, get_int_seq, build_keras_embedding_matrix, get_data_to_emb, get_index_key_pos_association, get_one_hot_pos\n",
    "#load metrics\n",
    "from src.utils.metrics import f1_macro\n",
    "#load callbacks\n",
    "from src.utils.callbacks import ReturnBestEarlyStopping, FCallback\n",
    "\n",
    "from src.utils.utils import save_data_p, load_data_p, plotF1_macro, plotLoss, plotHistory\n",
    "%load_ext autoreload\n",
    "%autoreload 2"
   ]
  },
  {
   "cell_type": "code",
   "execution_count": 3,
   "metadata": {
    "colab": {
     "base_uri": "https://localhost:8080/"
    },
    "id": "3vVGZwnHDfOo",
    "outputId": "cec7a816-e5c3-40f7-ac8c-2649231b6b3e"
   },
   "outputs": [
    {
     "name": "stdout",
     "output_type": "stream",
     "text": [
      "2.4.1\n"
     ]
    }
   ],
   "source": [
    "print(tf.__version__)"
   ]
  },
  {
   "cell_type": "code",
   "execution_count": 4,
   "metadata": {},
   "outputs": [],
   "source": [
    "import tensorflow as tf    \n",
    "physical_devices = tf.config.list_physical_devices('GPU')\n",
    "if physical_devices:\n",
    "    try:\n",
    "        tf.config.experimental.set_memory_growth(physical_devices[0], True)\n",
    "    except RuntimeError as e:\n",
    "        print(e)"
   ]
  },
  {
   "cell_type": "markdown",
   "metadata": {
    "id": "2cMyT07kLkcb"
   },
   "source": [
    "# Path"
   ]
  },
  {
   "cell_type": "code",
   "execution_count": 5,
   "metadata": {
    "id": "DThTDXDJLkcc"
   },
   "outputs": [],
   "source": [
    "#PATH\n",
    "dataset_dev_path           = root_project + \"dataset/haspeede2/preprocessed/dev/dev.csv\"\n",
    "dataset_test_tweets_path   = root_project + \"dataset/haspeede2/preprocessed/reference/reference_tweets.csv\"\n",
    "w2v_bin_path               = root_project + 'results/model/word2vec/twitter128.bin'"
   ]
  },
  {
   "cell_type": "code",
   "execution_count": 6,
   "metadata": {
    "id": "z9h4bvdkLkcf"
   },
   "outputs": [],
   "source": [
    "#load dataset dictionary\n",
    "dataset_dev = load_csv_to_dict(dataset_dev_path)\n",
    "dataset_test_tweets = load_csv_to_dict(dataset_test_tweets_path)"
   ]
  },
  {
   "cell_type": "code",
   "execution_count": 7,
   "metadata": {
    "colab": {
     "base_uri": "https://localhost:8080/"
    },
    "id": "JxneHO3bKCxF",
    "outputId": "2cf96b52-bb02-4fcf-869a-38487349dc97"
   },
   "outputs": [
    {
     "data": {
      "text/plain": [
       "dict_keys(['id', 'text', 'hs', 'stereotype', 'processed_text', 'text_length', 'hashtags', '%CAPS-LOCK words', 'esclamations', 'questions', 'tokens', 'lemma', 'pos', 'dep', 'word_polarity', 'sentence_positive', 'sentence_negative', 'sentence_neutral', 'stem', '%bad_words'])"
      ]
     },
     "execution_count": 7,
     "metadata": {},
     "output_type": "execute_result"
    }
   ],
   "source": [
    "dataset_dev.keys()"
   ]
  },
  {
   "cell_type": "markdown",
   "metadata": {
    "id": "yA9qmH2kLkcc"
   },
   "source": [
    "# Embedding"
   ]
  },
  {
   "cell_type": "code",
   "execution_count": 8,
   "metadata": {
    "colab": {
     "base_uri": "https://localhost:8080/"
    },
    "id": "WqsE1qU5Lkcd",
    "outputId": "bcc2545a-7d25-4468-db08-434b86a3366f"
   },
   "outputs": [
    {
     "name": "stdout",
     "output_type": "stream",
     "text": [
      "Vocab_size is 1170776\n",
      "Embedding_matrix with unk word loaded\n",
      "Shape (1170777, 128)\n"
     ]
    }
   ],
   "source": [
    "#load word2vec and embedding_matrix\n",
    "w2v = KeyedVectors.load_word2vec_format(datapath(w2v_bin_path), binary=True)\n",
    "index_to_key, key_to_index = get_index_key_association(w2v)\n",
    "embedding_matrix, vocab_size = build_keras_embedding_matrix(w2v, index_to_key)\n",
    "\n",
    "WORD_EMB_SIZE = 128\n",
    "VOCAB_SIZE = vocab_size"
   ]
  },
  {
   "cell_type": "code",
   "execution_count": 9,
   "metadata": {
    "id": "2QECYQdD7IJl"
   },
   "outputs": [],
   "source": [
    "# load pos embedding\n",
    "index_to_key_pos, key_to_index_pos = get_index_key_pos_association(X = dataset_dev[\"pos\"])\n",
    "index_to_onehot_pos = get_one_hot_pos(index_to_key_pos)"
   ]
  },
  {
   "cell_type": "code",
   "execution_count": 10,
   "metadata": {
    "colab": {
     "base_uri": "https://localhost:8080/"
    },
    "id": "wDWcxWTeNQZ1",
    "outputId": "bf15172e-b638-48b2-d363-b79b5fd5aca3"
   },
   "outputs": [
    {
     "data": {
      "text/plain": [
       "{0: [0, 0, 0, 0, 0, 0, 0, 0, 0, 0, 0, 0, 0, 0, 0, 0],\n",
       " 1: [1, 0, 0, 0, 0, 0, 0, 0, 0, 0, 0, 0, 0, 0, 0, 0],\n",
       " 2: [0, 1, 0, 0, 0, 0, 0, 0, 0, 0, 0, 0, 0, 0, 0, 0],\n",
       " 3: [0, 0, 1, 0, 0, 0, 0, 0, 0, 0, 0, 0, 0, 0, 0, 0],\n",
       " 4: [0, 0, 0, 1, 0, 0, 0, 0, 0, 0, 0, 0, 0, 0, 0, 0],\n",
       " 5: [0, 0, 0, 0, 1, 0, 0, 0, 0, 0, 0, 0, 0, 0, 0, 0],\n",
       " 6: [0, 0, 0, 0, 0, 1, 0, 0, 0, 0, 0, 0, 0, 0, 0, 0],\n",
       " 7: [0, 0, 0, 0, 0, 0, 1, 0, 0, 0, 0, 0, 0, 0, 0, 0],\n",
       " 8: [0, 0, 0, 0, 0, 0, 0, 1, 0, 0, 0, 0, 0, 0, 0, 0],\n",
       " 9: [0, 0, 0, 0, 0, 0, 0, 0, 1, 0, 0, 0, 0, 0, 0, 0],\n",
       " 10: [0, 0, 0, 0, 0, 0, 0, 0, 0, 1, 0, 0, 0, 0, 0, 0],\n",
       " 11: [0, 0, 0, 0, 0, 0, 0, 0, 0, 0, 1, 0, 0, 0, 0, 0],\n",
       " 12: [0, 0, 0, 0, 0, 0, 0, 0, 0, 0, 0, 1, 0, 0, 0, 0],\n",
       " 13: [0, 0, 0, 0, 0, 0, 0, 0, 0, 0, 0, 0, 1, 0, 0, 0],\n",
       " 14: [0, 0, 0, 0, 0, 0, 0, 0, 0, 0, 0, 0, 0, 1, 0, 0],\n",
       " 15: [0, 0, 0, 0, 0, 0, 0, 0, 0, 0, 0, 0, 0, 0, 1, 0],\n",
       " 16: [0, 0, 0, 0, 0, 0, 0, 0, 0, 0, 0, 0, 0, 0, 0, 1]}"
      ]
     },
     "execution_count": 10,
     "metadata": {},
     "output_type": "execute_result"
    }
   ],
   "source": [
    "index_to_onehot_pos"
   ]
  },
  {
   "cell_type": "code",
   "execution_count": 11,
   "metadata": {
    "colab": {
     "base_uri": "https://localhost:8080/"
    },
    "id": "o4byFZO-I7gT",
    "outputId": "449206ea-c442-4bff-b492-15aaed9f7c15"
   },
   "outputs": [
    {
     "data": {
      "text/plain": [
       "dict_keys(['id', 'text', 'hs', 'stereotype', 'processed_text', 'text_length', 'hashtags', '%CAPS-LOCK words', 'esclamations', 'questions', 'tokens', 'lemma', 'pos', 'dep', 'word_polarity', 'sentence_positive', 'sentence_negative', 'sentence_neutral', 'stem', '%bad_words'])"
      ]
     },
     "execution_count": 11,
     "metadata": {},
     "output_type": "execute_result"
    }
   ],
   "source": [
    "dataset_dev.keys()"
   ]
  },
  {
   "cell_type": "markdown",
   "metadata": {
    "id": "_I4VbMeODfOp"
   },
   "source": [
    "# DATA"
   ]
  },
  {
   "cell_type": "code",
   "execution_count": 12,
   "metadata": {
    "id": "uRkY4b27Lkcf"
   },
   "outputs": [],
   "source": [
    "#load dev/test\n",
    "MAX_TEXT_LEN = 65\n",
    "\n",
    "X, X_pos, X_extra_feature, y = load_data(dataset_dev, w2v, key_to_index, key_to_index_pos, embedding_matrix, MAX_TEXT_LEN)\n",
    "X_e = to_emb(X, embedding_matrix)\n",
    "X_pos_e = to_emb(X_pos, index_to_onehot_pos)\n",
    "\n",
    "X_test, X_test_pos, X_test_extra_feature, y_test = load_data(dataset_test_tweets, w2v, key_to_index, key_to_index_pos, embedding_matrix, MAX_TEXT_LEN)\n",
    "X_test_e = to_emb(X_test, embedding_matrix)\n",
    "X_test_pos_e = to_emb(X_test_pos, index_to_onehot_pos)"
   ]
  },
  {
   "cell_type": "code",
   "execution_count": 13,
   "metadata": {},
   "outputs": [
    {
     "data": {
      "text/plain": [
       "array([ 0.        , 10.        ,  0.        ,  0.        ,  0.04347826,\n",
       "        0.        ,  0.95652174,  0.        ])"
      ]
     },
     "execution_count": 13,
     "metadata": {},
     "output_type": "execute_result"
    }
   ],
   "source": [
    "X_extra_feature[0]"
   ]
  },
  {
   "cell_type": "markdown",
   "metadata": {
    "id": "nZLD5i2095pp"
   },
   "source": [
    "# Split"
   ]
  },
  {
   "cell_type": "code",
   "execution_count": 14,
   "metadata": {
    "id": "u3Y3BXjJDfOu"
   },
   "outputs": [],
   "source": [
    "X_train, X_val, X_pos_train, X_pos_val, X_extra_feature_train, X_extra_feature_val, y_train, y_val = train_test_split(X_e, X_pos, X_extra_feature, y, test_size=0.1)"
   ]
  },
  {
   "cell_type": "code",
   "execution_count": 15,
   "metadata": {
    "id": "JFIgjJwepgmN"
   },
   "outputs": [],
   "source": [
    "input_train = {\"text\": X_train, \"pos\": X_pos_train, \"extra\": X_extra_feature_train}\n",
    "input_val = {\"text\": X_val, \"pos\": X_pos_val, \"extra\": X_extra_feature_val}\n",
    "input_test = {\"text\": X_test_e, \"pos\": X_test_pos, \"extra\": X_test_extra_feature}"
   ]
  },
  {
   "cell_type": "markdown",
   "metadata": {
    "id": "XrLamIrFLkci"
   },
   "source": [
    "# model: text + pos + extra features"
   ]
  },
  {
   "cell_type": "code",
   "execution_count": 16,
   "metadata": {},
   "outputs": [],
   "source": [
    "from tensorflow.keras.layers import Layer\n",
    "from tensorflow.keras import backend as K\n",
    "\n",
    "class Attention(Layer):\n",
    "    \n",
    "    def __init__(self, return_sequences=True):\n",
    "        super(Attention, self).__init__()\n",
    "        self.return_sequences = return_sequences\n",
    "        \n",
    "    def build(self, input_shape):\n",
    "        \n",
    "        self.W=self.add_weight(name=\"att_weight\", shape=(input_shape[-1],1),\n",
    "                               initializer=\"normal\")\n",
    "        self.b=self.add_weight(name=\"att_bias\", shape=(input_shape[1],1),\n",
    "                               initializer=\"zeros\")\n",
    "        \n",
    "        super(Attention,self).build(input_shape)\n",
    "        \n",
    "    def call(self, x):\n",
    "        \n",
    "        e = K.tanh(K.dot(x,self.W)+self.b)\n",
    "        a = K.softmax(e, axis=1)\n",
    "        output = x*a\n",
    "        \n",
    "        if self.return_sequences:\n",
    "            return output\n",
    "        \n",
    "        return K.sum(output, axis=1)\n",
    "     \n",
    "    def get_config(self):\n",
    "        config = super().get_config().copy()\n",
    "        config.update({\n",
    "            'return_sequences': self.return_sequences \n",
    "        })\n",
    "        return config"
   ]
  },
  {
   "cell_type": "code",
   "execution_count": 17,
   "metadata": {
    "id": "HfQax4baLkcj"
   },
   "outputs": [],
   "source": [
    "def a_bilstm(input_shape, bi_units = 256, bi_dropout = 0.5, dropout = 0.5, hn=128, lr=0.01, print_model=False):\n",
    "    import tensorflow as tf\n",
    "    from tensorflow.keras.models import Model\n",
    "    from tensorflow.keras.layers import Dropout\n",
    "    from tensorflow.keras.layers import Bidirectional, LSTM, Embedding\n",
    "    from tensorflow.keras.layers import Dense, Input, Flatten, Activation\n",
    "    from tensorflow.keras.layers import Concatenate\n",
    "\n",
    "    \"\"\" HyperParameters \"\"\"\n",
    "\n",
    "    text_seq_input = Input(shape=input_shape, name=\"text\")\n",
    "    pos_seq_input = Input(shape=(65, ), name=\"pos\")\n",
    "    pos_emb = Embedding(17, 16, input_length=65)(pos_seq_input)\n",
    "\n",
    "    input_bi    = Concatenate(axis=2)([text_seq_input, pos_emb])\n",
    "\n",
    "    extra_feature = Input(shape=(8,), name=\"extra\")\n",
    "\n",
    "    sentence_encoder = Bidirectional(LSTM(bi_units, dropout = bi_dropout,  return_sequences=True))(input_bi)\n",
    "    sentence_attention = Attention(return_sequences=False)(sentence_encoder)\n",
    "    \n",
    "    input_ff    = Concatenate(axis=1)([sentence_attention, extra_feature])\n",
    "    l_drop      = Dropout(dropout)(input_ff)\n",
    "    l_hidden    = Dense(hn, activation='relu')(input_ff)\n",
    "    l_drop      = Dropout(dropout)(l_hidden)\n",
    "    l_out_st    = Dense(1, activation='sigmoid', name=\"st\")(l_drop)  #dims output\n",
    "\n",
    "    model_cnn   = Model(inputs=[text_seq_input, pos_seq_input, extra_feature], outputs=l_out_st)\n",
    "    if print_model:\n",
    "        model_cnn.summary()\n",
    "        tf.keras.utils.plot_model(model_cnn, \"my_first_model.png\", show_shapes=True)\n",
    "    \n",
    "    model_cnn.compile(\n",
    "        loss= tf.keras.losses.BinaryCrossentropy(),\n",
    "        optimizer=tf.keras.optimizers.Adam(learning_rate=lr, amsgrad=False),\n",
    "        metrics= [f1_macro]\n",
    "    )\n",
    "\n",
    "    return model_cnn"
   ]
  },
  {
   "cell_type": "code",
   "execution_count": 17,
   "metadata": {
    "colab": {
     "base_uri": "https://localhost:8080/"
    },
    "id": "nfxuewsRLkcl",
    "outputId": "6da38867-a84a-466b-9f1e-8663583b0e4c"
   },
   "outputs": [
    {
     "name": "stdout",
     "output_type": "stream",
     "text": [
      "Model: \"model\"\n",
      "__________________________________________________________________________________________________\n",
      "Layer (type)                    Output Shape         Param #     Connected to                     \n",
      "==================================================================================================\n",
      "pos (InputLayer)                [(None, 65)]         0                                            \n",
      "__________________________________________________________________________________________________\n",
      "text (InputLayer)               [(None, 65, 128)]    0                                            \n",
      "__________________________________________________________________________________________________\n",
      "embedding (Embedding)           (None, 65, 16)       272         pos[0][0]                        \n",
      "__________________________________________________________________________________________________\n",
      "concatenate (Concatenate)       (None, 65, 144)      0           text[0][0]                       \n",
      "                                                                 embedding[0][0]                  \n",
      "__________________________________________________________________________________________________\n",
      "bidirectional (Bidirectional)   (None, 65, 512)      821248      concatenate[0][0]                \n",
      "__________________________________________________________________________________________________\n",
      "bidirectional_1 (Bidirectional) (None, 65, 256)      656384      bidirectional[0][0]              \n",
      "__________________________________________________________________________________________________\n",
      "attention (Attention)           (None, 256)          321         bidirectional_1[0][0]            \n",
      "__________________________________________________________________________________________________\n",
      "extra (InputLayer)              [(None, 8)]          0                                            \n",
      "__________________________________________________________________________________________________\n",
      "concatenate_1 (Concatenate)     (None, 264)          0           attention[0][0]                  \n",
      "                                                                 extra[0][0]                      \n",
      "__________________________________________________________________________________________________\n",
      "dense (Dense)                   (None, 256)          67840       concatenate_1[0][0]              \n",
      "__________________________________________________________________________________________________\n",
      "dropout_1 (Dropout)             (None, 256)          0           dense[0][0]                      \n",
      "__________________________________________________________________________________________________\n",
      "st (Dense)                      (None, 1)            257         dropout_1[0][0]                  \n",
      "==================================================================================================\n",
      "Total params: 1,546,322\n",
      "Trainable params: 1,546,322\n",
      "Non-trainable params: 0\n",
      "__________________________________________________________________________________________________\n"
     ]
    }
   ],
   "source": [
    "#del model\n",
    "model = a_bilstm((65,128, ), bi_units = 256, bi_dropout = 0.7, dropout = 0.7, hn=256, lr=0.0001, print_model=True)"
   ]
  },
  {
   "cell_type": "code",
   "execution_count": 134,
   "metadata": {
    "colab": {
     "base_uri": "https://localhost:8080/"
    },
    "id": "fZay3rNELkcm",
    "outputId": "896feaaa-5be4-495a-bc3a-46a23f450613",
    "scrolled": true
   },
   "outputs": [
    {
     "name": "stdout",
     "output_type": "stream",
     "text": [
      "Epoch 1/20\n",
      "97/97 [==============================] - 8s 38ms/step - loss: 0.8332 - f1_macro: 0.4929 - val_loss: 0.6673 - val_f1_macro: 0.4573\n",
      "— val_f1: 0.5350951997077843\n",
      "Epoch 2/20\n",
      "97/97 [==============================] - 2s 26ms/step - loss: 0.7802 - f1_macro: 0.5101 - val_loss: 0.6728 - val_f1_macro: 0.5276\n",
      "— val_f1: 0.5871614995851248\n",
      "Epoch 3/20\n",
      "97/97 [==============================] - 2s 26ms/step - loss: 0.7264 - f1_macro: 0.5469 - val_loss: 0.6467 - val_f1_macro: 0.6210\n",
      "— val_f1: 0.5658851038818328\n",
      "Epoch 4/20\n",
      "97/97 [==============================] - 2s 26ms/step - loss: 0.7042 - f1_macro: 0.5764 - val_loss: 0.6412 - val_f1_macro: 0.5996\n",
      "— val_f1: 0.6283926166223237\n",
      "Epoch 5/20\n",
      "97/97 [==============================] - 3s 26ms/step - loss: 0.7009 - f1_macro: 0.6097 - val_loss: 0.6046 - val_f1_macro: 0.6489\n",
      "— val_f1: 0.6631270769201805\n",
      "Epoch 6/20\n",
      "97/97 [==============================] - 2s 26ms/step - loss: 0.6447 - f1_macro: 0.6579 - val_loss: 0.5715 - val_f1_macro: 0.6863\n",
      "— val_f1: 0.7050115049624003\n",
      "Epoch 7/20\n",
      "97/97 [==============================] - 2s 26ms/step - loss: 0.6072 - f1_macro: 0.6887 - val_loss: 0.5686 - val_f1_macro: 0.6931\n",
      "— val_f1: 0.6883476729942004\n",
      "Epoch 8/20\n",
      "97/97 [==============================] - 3s 26ms/step - loss: 0.6217 - f1_macro: 0.6824 - val_loss: 0.5691 - val_f1_macro: 0.7079\n",
      "— val_f1: 0.6823344287158746\n",
      "Epoch 9/20\n",
      "97/97 [==============================] - 3s 26ms/step - loss: 0.6023 - f1_macro: 0.7016 - val_loss: 0.5505 - val_f1_macro: 0.6990\n",
      "— val_f1: 0.6366393430434667\n",
      "Epoch 10/20\n",
      "97/97 [==============================] - 3s 26ms/step - loss: 0.5647 - f1_macro: 0.7282 - val_loss: 0.5524 - val_f1_macro: 0.7072\n",
      "— val_f1: 0.6549067712502616\n",
      "Epoch 11/20\n",
      "97/97 [==============================] - 3s 26ms/step - loss: 0.5286 - f1_macro: 0.7435 - val_loss: 0.5450 - val_f1_macro: 0.7035\n",
      "— val_f1: 0.6773598086406696\n",
      "Epoch 12/20\n",
      "97/97 [==============================] - 3s 26ms/step - loss: 0.5136 - f1_macro: 0.7447 - val_loss: 0.5501 - val_f1_macro: 0.7007\n",
      "— val_f1: 0.6648650913356795\n",
      "Epoch 13/20\n",
      "97/97 [==============================] - 3s 26ms/step - loss: 0.5043 - f1_macro: 0.7622 - val_loss: 0.5383 - val_f1_macro: 0.7093\n",
      "— val_f1: 0.6691884386713525\n",
      "Epoch 14/20\n",
      "97/97 [==============================] - 3s 26ms/step - loss: 0.5046 - f1_macro: 0.7708 - val_loss: 0.5394 - val_f1_macro: 0.7410\n",
      "— val_f1: 0.6855736399351595\n",
      "Epoch 15/20\n",
      "97/97 [==============================] - 3s 26ms/step - loss: 0.4761 - f1_macro: 0.7882 - val_loss: 0.5476 - val_f1_macro: 0.6933\n",
      "— val_f1: 0.6570791437994898\n",
      "Epoch 16/20\n",
      "97/97 [==============================] - 3s 27ms/step - loss: 0.4768 - f1_macro: 0.7918 - val_loss: 0.5450 - val_f1_macro: 0.7085\n",
      "— val_f1: 0.704130562165686\n",
      "Epoch 17/20\n",
      "97/97 [==============================] - 3s 26ms/step - loss: 0.4465 - f1_macro: 0.8034 - val_loss: 0.5554 - val_f1_macro: 0.6912\n",
      "— val_f1: 0.6439167033735607\n",
      "Epoch 18/20\n",
      "97/97 [==============================] - 3s 26ms/step - loss: 0.4482 - f1_macro: 0.7972 - val_loss: 0.5579 - val_f1_macro: 0.7130\n",
      "— val_f1: 0.6804600334313449\n",
      "Epoch 19/20\n",
      "97/97 [==============================] - 3s 26ms/step - loss: 0.4363 - f1_macro: 0.8145 - val_loss: 0.5888 - val_f1_macro: 0.7061\n",
      "— val_f1: 0.7102142112240722\n",
      "Restoring model weights from the end of the best epoch.\n",
      "\n",
      "Epoch 19: early stopping\n"
     ]
    }
   ],
   "source": [
    "input_train = {\"text\": X_train, \"pos\": X_pos_train, \"extra\": X_extra_feature_train}\n",
    "input_val = {\"text\": X_val, \"pos\": X_pos_val, \"extra\": X_extra_feature_val}\n",
    "input_test = {\"text\": X_test_e, \"pos\": X_test_pos, \"extra\": X_test_extra_feature}\n",
    "\n",
    "f1_callback = FCallback(validation = (input_test, y_test), verbose=True)                                   \n",
    "best_callback = ReturnBestEarlyStopping(monitor=\"val_f1_macro\", min_delta=0, verbose=1, mode=\"max\", restore_best_weights=True)\n",
    "\n",
    "history = model.fit(input_train, y_train, batch_size=64, epochs=20, validation_data=(input_val, y_val), callbacks=[f1_callback, best_callback], verbose = 1)"
   ]
  },
  {
   "cell_type": "code",
   "execution_count": 135,
   "metadata": {
    "colab": {
     "base_uri": "https://localhost:8080/"
    },
    "id": "9zXBE_F-y25e",
    "outputId": "f27f4067-16ab-431c-afd8-246fdc3d4895"
   },
   "outputs": [
    {
     "name": "stdout",
     "output_type": "stream",
     "text": [
      "0.7442474148823695\n",
      "              precision    recall  f1-score   support\n",
      "\n",
      "           0       0.77      0.76      0.76       369\n",
      "           1       0.72      0.73      0.73       315\n",
      "\n",
      "    accuracy                           0.75       684\n",
      "   macro avg       0.74      0.74      0.74       684\n",
      "weighted avg       0.75      0.75      0.75       684\n",
      "\n"
     ]
    }
   ],
   "source": [
    "y_val_pred = np.where(model.predict(input_val) >0.5,1,0)\n",
    "print(f1_score(y_val, y_val_pred, average=\"macro\"))\n",
    "print(classification_report(y_val, y_val_pred))"
   ]
  },
  {
   "cell_type": "code",
   "execution_count": 136,
   "metadata": {
    "colab": {
     "base_uri": "https://localhost:8080/"
    },
    "id": "NFKnxmfaQwpp",
    "outputId": "ec31924c-e297-46d6-a112-3ec61afda555"
   },
   "outputs": [
    {
     "name": "stdout",
     "output_type": "stream",
     "text": [
      "(1263,)\n",
      "0.6855736399351595\n",
      "              precision    recall  f1-score   support\n",
      "\n",
      "           0       0.75      0.64      0.69       694\n",
      "           1       0.63      0.74      0.68       569\n",
      "\n",
      "    accuracy                           0.69      1263\n",
      "   macro avg       0.69      0.69      0.69      1263\n",
      "weighted avg       0.70      0.69      0.69      1263\n",
      "\n"
     ]
    }
   ],
   "source": [
    "y_test_pred = np.where(model.predict(input_test) > 0.5, 1, 0)\n",
    "print(y_test.shape)\n",
    "print(f1_score(y_test, y_test_pred, average=\"macro\"))\n",
    "print(classification_report(y_test, y_test_pred))"
   ]
  },
  {
   "cell_type": "markdown",
   "metadata": {
    "id": "-tCRl-ykzgoW"
   },
   "source": [
    "|        \t|        \t|              \t|    0   \t|        \t|        \t|    1   \t|        \t|        \t|          \t|\n",
    "|--------\t|--------\t|--------------\t|:------:\t|:------:\t|:------:\t|:------:\t|:------:\t|:------:\t|:--------:\t|\n",
    "|        \t|        \t|              \t|    P   \t|    R   \t|   F1   \t|    P   \t|    R   \t|   F1   \t| **Macro-F1** \t|\n",
    "| **TASK B** \t|  **News**  \t| Baseline_MFC \t|   0,65 \t|      1 \t| 0,7878 \t|      0 \t|      0 \t|      0 \t|   0,3939 \t|\n",
    "|        \t|        \t| Baseline_SVC \t| 0,7467 \t| 0,8707 \t| 0,8039 \t| 0,6528 \t| 0,4514 \t| 0,5337 \t|   0,6688 \t|\n",
    "|        \t| **Tweets** \t| Baseline_MFC \t| 0,5494 \t|      1 \t| 0,7092 \t|      0 \t|      0 \t|      0 \t|   0,3546 \t|\n",
    "|        \t|        \t| Baseline_SVC \t| 0,7869 \t| 0,6599 \t| 0,7178 \t| 0,6534 \t|  0,782 \t|  0,712 \t|   0,7149 \t|"
   ]
  },
  {
   "cell_type": "code",
   "execution_count": 137,
   "metadata": {
    "colab": {
     "base_uri": "https://localhost:8080/",
     "height": 590
    },
    "id": "xswAsFr4DfOv",
    "outputId": "c2c573a9-d720-4d4d-da40-4fb66a08bf36"
   },
   "outputs": [
    {
     "name": "stdout",
     "output_type": "stream",
     "text": [
      "dict_keys(['loss', 'f1_macro', 'val_loss', 'val_f1_macro', 'val_f1'])\n"
     ]
    },
    {
     "data": {
      "image/png": "[encoded data removed]",
      "text/plain": [
       "<Figure size 432x288 with 1 Axes>"
      ]
     },
     "metadata": {
      "needs_background": "light",
      "tags": []
     },
     "output_type": "display_data"
    },
    {
     "data": {
      "image/png": "[encoded data removed]",
      "text/plain": [
       "<Figure size 432x288 with 1 Axes>"
      ]
     },
     "metadata": {
      "needs_background": "light",
      "tags": []
     },
     "output_type": "display_data"
    }
   ],
   "source": [
    "print(history.history.keys())\n",
    "# summarize history for accuracy\n",
    "\n",
    "# summarize history for loss\n",
    "plt.plot(history.history['loss'])\n",
    "plt.plot(history.history['val_loss'])\n",
    "plt.title('model loss')\n",
    "plt.ylabel('loss')\n",
    "plt.xlabel('epoch')\n",
    "plt.legend(['train', 'test'], loc='upper left')\n",
    "plt.show()\n",
    "\n",
    "# summarize history for loss\n",
    "plt.plot(history.history['f1_macro'])\n",
    "plt.plot(history.history['val_f1_macro'])\n",
    "plt.title('model f1_macro')\n",
    "plt.ylabel('f1_macro')\n",
    "plt.xlabel('epoch')\n",
    "plt.legend(['train', 'val'], loc='upper left')\n",
    "plt.show()"
   ]
  },
  {
   "cell_type": "markdown",
   "metadata": {
    "id": "5lRDgwlD47iH"
   },
   "source": [
    "# Result GridSearch"
   ]
  },
  {
   "cell_type": "code",
   "execution_count": 18,
   "metadata": {
    "id": "zTFvT32Q47iJ"
   },
   "outputs": [],
   "source": [
    "import pickle\n",
    "\n",
    "grid_result = pickle.load( open( root_project +\"script/grid_search/a_bilstm/final_grid_results.p\", \"rb\" ) )"
   ]
  },
  {
   "cell_type": "code",
   "execution_count": 19,
   "metadata": {
    "colab": {
     "base_uri": "https://localhost:8080/"
    },
    "id": "XSfmQs-K47iK",
    "outputId": "e8bbf7d5-5700-4281-fbae-854de4295e46"
   },
   "outputs": [
    {
     "data": {
      "text/plain": [
       "{'hyper_parm': {'bi_units': 64,\n",
       "  'bi_dropout': 0.1,\n",
       "  'dropout': 0.1,\n",
       "  'hn': 64,\n",
       "  'lr': 0.01},\n",
       " 'loss_mean': 0.4849390387535095,\n",
       " 'loss_std': 0.04495436666997278,\n",
       " 'f1_macro_mean': 0.7698061318373712,\n",
       " 'f1_macro_std': 0.04045500907111381,\n",
       " 'val_loss_mean': 0.5559347867965698,\n",
       " 'val_loss_std': 0.015571461420346829,\n",
       " 'val_f1_macro_mean': 0.7096927077668583,\n",
       " 'val_f1_macro_std': 0.011186229502564404,\n",
       " 'folds': defaultdict(list,\n",
       "             {'loss': [0.5547859072685242,\n",
       "               0.4324015974998474,\n",
       "               0.452816367149353,\n",
       "               0.46661508083343506,\n",
       "               0.5180762410163879],\n",
       "              'val_loss': [0.5774703621864319,\n",
       "               0.5433300137519836,\n",
       "               0.5658747553825378,\n",
       "               0.5339927077293396,\n",
       "               0.5590060949325562],\n",
       "              'f1_macro': [0.7033750636367844,\n",
       "               0.8114217569938134,\n",
       "               0.7983416649524748,\n",
       "               0.7926128207775904,\n",
       "               0.743279352826193],\n",
       "              'val_f1_macro': [0.6985058824800408,\n",
       "               0.7112676321082269,\n",
       "               0.6973399319517476,\n",
       "               0.7278937241010668,\n",
       "               0.7134563681932102]})}"
      ]
     },
     "execution_count": 19,
     "metadata": {},
     "output_type": "execute_result"
    }
   ],
   "source": [
    "grid_result[0]"
   ]
  },
  {
   "cell_type": "code",
   "execution_count": 20,
   "metadata": {
    "id": "Pkt_EHxn47iL"
   },
   "outputs": [],
   "source": [
    "df_result = pd.DataFrame(grid_result)"
   ]
  },
  {
   "cell_type": "code",
   "execution_count": 21,
   "metadata": {
    "colab": {
     "base_uri": "https://localhost:8080/",
     "height": 669
    },
    "id": "U4orvo5v47iL",
    "outputId": "e45e552d-e05e-48ff-cdd4-ece59383aea3"
   },
   "outputs": [
    {
     "data": {
      "text/html": [
       "<div>\n",
       "<style scoped>\n",
       "    .dataframe tbody tr th:only-of-type {\n",
       "        vertical-align: middle;\n",
       "    }\n",
       "\n",
       "    .dataframe tbody tr th {\n",
       "        vertical-align: top;\n",
       "    }\n",
       "\n",
       "    .dataframe thead th {\n",
       "        text-align: right;\n",
       "    }\n",
       "</style>\n",
       "<table border=\"1\" class=\"dataframe\">\n",
       "  <thead>\n",
       "    <tr style=\"text-align: right;\">\n",
       "      <th></th>\n",
       "      <th>hyper_parm</th>\n",
       "      <th>loss_mean</th>\n",
       "      <th>loss_std</th>\n",
       "      <th>f1_macro_mean</th>\n",
       "      <th>f1_macro_std</th>\n",
       "      <th>val_loss_mean</th>\n",
       "      <th>val_loss_std</th>\n",
       "      <th>val_f1_macro_mean</th>\n",
       "      <th>val_f1_macro_std</th>\n",
       "    </tr>\n",
       "  </thead>\n",
       "  <tbody>\n",
       "    <tr>\n",
       "      <th>429</th>\n",
       "      <td>{'bi_units': 128, 'bi_dropout': 0.5, 'dropout': 0.1, 'hn': 512, 'lr': 0.01}</td>\n",
       "      <td>0.448794</td>\n",
       "      <td>0.025479</td>\n",
       "      <td>0.787609</td>\n",
       "      <td>0.018937</td>\n",
       "      <td>0.553997</td>\n",
       "      <td>0.017396</td>\n",
       "      <td>0.721540</td>\n",
       "      <td>0.010637</td>\n",
       "    </tr>\n",
       "    <tr>\n",
       "      <th>420</th>\n",
       "      <td>{'bi_units': 128, 'bi_dropout': 0.5, 'dropout': 0.1, 'hn': 64, 'lr': 0.01}</td>\n",
       "      <td>0.458144</td>\n",
       "      <td>0.019886</td>\n",
       "      <td>0.775824</td>\n",
       "      <td>0.016954</td>\n",
       "      <td>0.553929</td>\n",
       "      <td>0.013768</td>\n",
       "      <td>0.721276</td>\n",
       "      <td>0.005981</td>\n",
       "    </tr>\n",
       "    <tr>\n",
       "      <th>462</th>\n",
       "      <td>{'bi_units': 128, 'bi_dropout': 0.5, 'dropout': 0.7, 'hn': 256, 'lr': 0.01}</td>\n",
       "      <td>0.467180</td>\n",
       "      <td>0.026986</td>\n",
       "      <td>0.767436</td>\n",
       "      <td>0.020146</td>\n",
       "      <td>0.557117</td>\n",
       "      <td>0.016475</td>\n",
       "      <td>0.721182</td>\n",
       "      <td>0.006228</td>\n",
       "    </tr>\n",
       "  </tbody>\n",
       "</table>\n",
       "</div>"
      ],
      "text/plain": [
       "                                                                      hyper_parm  \\\n",
       "429  {'bi_units': 128, 'bi_dropout': 0.5, 'dropout': 0.1, 'hn': 512, 'lr': 0.01}   \n",
       "420   {'bi_units': 128, 'bi_dropout': 0.5, 'dropout': 0.1, 'hn': 64, 'lr': 0.01}   \n",
       "462  {'bi_units': 128, 'bi_dropout': 0.5, 'dropout': 0.7, 'hn': 256, 'lr': 0.01}   \n",
       "\n",
       "     loss_mean  loss_std  f1_macro_mean  f1_macro_std  val_loss_mean  \\\n",
       "429   0.448794  0.025479       0.787609      0.018937       0.553997   \n",
       "420   0.458144  0.019886       0.775824      0.016954       0.553929   \n",
       "462   0.467180  0.026986       0.767436      0.020146       0.557117   \n",
       "\n",
       "     val_loss_std  val_f1_macro_mean  val_f1_macro_std  \n",
       "429      0.017396           0.721540          0.010637  \n",
       "420      0.013768           0.721276          0.005981  \n",
       "462      0.016475           0.721182          0.006228  "
      ]
     },
     "execution_count": 21,
     "metadata": {},
     "output_type": "execute_result"
    }
   ],
   "source": [
    "pd.set_option('display.max_colwidth', None)\n",
    "df_result_sorted = df_result.sort_values(by=['val_f1_macro_mean'], ascending=False)[0:3][[\"hyper_parm\",\"loss_mean\",\"loss_std\",\"f1_macro_mean\", \"f1_macro_std\",\"val_loss_mean\",\"val_loss_std\",\"val_f1_macro_mean\",\"val_f1_macro_std\"]]\n",
    "df_result_sorted"
   ]
  },
  {
   "cell_type": "code",
   "execution_count": 22,
   "metadata": {},
   "outputs": [
    {
     "name": "stdout",
     "output_type": "stream",
     "text": [
      "128 & 0.5 & 0.1 & 512 & 0.01 & $ 0.449 \\pm 0.025 $ & $ 0.788 \\pm 0.019 $ & $ 0.554 \\pm 0.017 $ & $ 0.722 \\pm 0.011 $\n",
      "128 & 0.5 & 0.1 & 64 & 0.01 & $ 0.458 \\pm 0.020 $ & $ 0.776 \\pm 0.017 $ & $ 0.554 \\pm 0.014 $ & $ 0.721 \\pm 0.006 $\n",
      "128 & 0.5 & 0.7 & 256 & 0.01 & $ 0.467 \\pm 0.027 $ & $ 0.767 \\pm 0.020 $ & $ 0.557 \\pm 0.016 $ & $ 0.721 \\pm 0.006 $\n"
     ]
    }
   ],
   "source": [
    "for ind in df_result_sorted.index:\n",
    "    bi_units = df_result_sorted[\"hyper_parm\"][ind][\"bi_units\"]\n",
    "    bi_dropout = df_result_sorted[\"hyper_parm\"][ind][\"bi_dropout\"]\n",
    "    dropout = df_result_sorted[\"hyper_parm\"][ind][\"dropout\"]\n",
    "    hn = df_result_sorted[\"hyper_parm\"][ind][\"hn\"]\n",
    "    lr = df_result_sorted[\"hyper_parm\"][ind][\"lr\"]\n",
    "    \n",
    "    loss_mean         = df_result_sorted[\"loss_mean\"][ind]\n",
    "    loss_std          = df_result_sorted[\"loss_std\"][ind]\n",
    "    f1_macro_mean     = df_result_sorted[\"f1_macro_mean\"][ind]\n",
    "    f1_macro_std      = df_result_sorted[\"f1_macro_std\"][ind]\n",
    "    val_loss_mean     = df_result_sorted[\"val_loss_mean\"][ind]\n",
    "    val_loss_std      = df_result_sorted[\"val_loss_std\"][ind]\n",
    "    val_f1_macro_mean = df_result_sorted[\"val_f1_macro_mean\"][ind]\n",
    "    val_f1_macro_std  = df_result_sorted[\"val_f1_macro_std\"][ind]\n",
    "    print(\"{} & {} & {} & {} & {} & $ {:.3f} \\pm {:.3f} $ & $ {:.3f} \\pm {:.3f} $ & $ {:.3f} \\pm {:.3f} $ & $ {:.3f} \\pm {:.3f} $\".format(bi_units, bi_dropout, dropout, hn, lr, loss_mean, loss_std, f1_macro_mean, f1_macro_std, val_loss_mean, val_loss_std, val_f1_macro_mean, val_f1_macro_std))"
   ]
  },
  {
   "cell_type": "markdown",
   "metadata": {},
   "source": [
    "# Retrain the final model and save"
   ]
  },
  {
   "cell_type": "code",
   "execution_count": 77,
   "metadata": {},
   "outputs": [
    {
     "name": "stdout",
     "output_type": "stream",
     "text": [
      "Epoch 1/50\n",
      "97/97 - 7s - loss: 0.6564 - f1_macro: 0.5894 - val_loss: 0.5810 - val_f1_macro: 0.6315\n",
      "— val_f1: 0.6326472341129468\n",
      "Epoch 2/50\n",
      "97/97 - 1s - loss: 0.5782 - f1_macro: 0.6855 - val_loss: 0.5745 - val_f1_macro: 0.7055\n",
      "— val_f1: 0.7046758376580629\n",
      "Epoch 3/50\n",
      "97/97 - 1s - loss: 0.5558 - f1_macro: 0.6990 - val_loss: 0.5663 - val_f1_macro: 0.7083\n",
      "— val_f1: 0.7072419106317411\n",
      "Epoch 4/50\n",
      "97/97 - 1s - loss: 0.5484 - f1_macro: 0.6990 - val_loss: 0.6450 - val_f1_macro: 0.6497\n",
      "— val_f1: 0.6481412163360193\n",
      "Epoch 5/50\n",
      "97/97 - 1s - loss: 0.5357 - f1_macro: 0.7213 - val_loss: 0.5368 - val_f1_macro: 0.7178\n",
      "— val_f1: 0.7178490244780102\n",
      "Epoch 6/50\n",
      "97/97 - 1s - loss: 0.5235 - f1_macro: 0.7280 - val_loss: 0.5589 - val_f1_macro: 0.7147\n",
      "— val_f1: 0.7133890318884204\n",
      "Epoch 7/50\n",
      "97/97 - 1s - loss: 0.5111 - f1_macro: 0.7388 - val_loss: 0.5476 - val_f1_macro: 0.7139\n",
      "— val_f1: 0.7130356607731496\n",
      "Epoch 8/50\n",
      "97/97 - 1s - loss: 0.5087 - f1_macro: 0.7381 - val_loss: 0.6052 - val_f1_macro: 0.6948\n",
      "— val_f1: 0.6960528603721092\n",
      "Epoch 9/50\n",
      "97/97 - 1s - loss: 0.5021 - f1_macro: 0.7393 - val_loss: 0.5674 - val_f1_macro: 0.7142\n",
      "— val_f1: 0.7122862230320096\n",
      "Epoch 10/50\n",
      "97/97 - 1s - loss: 0.5020 - f1_macro: 0.7467 - val_loss: 0.5608 - val_f1_macro: 0.7140\n",
      "— val_f1: 0.7133620689655173\n",
      "Epoch 11/50\n",
      "97/97 - 1s - loss: 0.5022 - f1_macro: 0.7440 - val_loss: 0.5556 - val_f1_macro: 0.7204\n",
      "— val_f1: 0.7191806012915365\n",
      "Epoch 12/50\n",
      "97/97 - 1s - loss: 0.4981 - f1_macro: 0.7449 - val_loss: 0.5398 - val_f1_macro: 0.7394\n",
      "— val_f1: 0.7378956900371847\n",
      "Epoch 13/50\n",
      "97/97 - 1s - loss: 0.4854 - f1_macro: 0.7517 - val_loss: 0.5547 - val_f1_macro: 0.7300\n",
      "— val_f1: 0.7277349768875192\n",
      "Epoch 14/50\n",
      "97/97 - 1s - loss: 0.4830 - f1_macro: 0.7557 - val_loss: 0.5609 - val_f1_macro: 0.7314\n",
      "— val_f1: 0.7275047106325707\n",
      "Epoch 15/50\n",
      "97/97 - 1s - loss: 0.4747 - f1_macro: 0.7607 - val_loss: 0.5829 - val_f1_macro: 0.7175\n",
      "— val_f1: 0.715721130551817\n",
      "Restoring model weights from the end of the best epoch.\n",
      "\n",
      "Epoch 15: early stopping\n"
     ]
    }
   ],
   "source": [
    "model = a_bilstm((65,128, ), bi_units = 128, bi_dropout = 0.5, dropout = 0.1, hn=64, lr=0.008)\n",
    "\n",
    "best_callback = ReturnBestEarlyStopping(monitor=\"val_loss\", min_delta=0, patience=10, verbose=1, mode=\"min\", restore_best_weights=True)\n",
    "f1_call = FCallback(validation=(input_val, y_val), verbose=1)\n",
    "\n",
    "history = model.fit(input_train, y_train, batch_size=64, epochs=50, validation_data=(input_val, y_val), callbacks=[f1_call, best_callback], verbose = 2)"
   ]
  },
  {
   "cell_type": "code",
   "execution_count": 81,
   "metadata": {},
   "outputs": [
    {
     "name": "stdout",
     "output_type": "stream",
     "text": [
      "0.7655658902444737\n",
      "0.7178490244780102\n",
      "0.7228776837702426\n"
     ]
    }
   ],
   "source": [
    "y_train_pred = np.where(model.predict(input_train) > 0.5,1,0)\n",
    "print(f1_score(y_train, y_train_pred, average=\"macro\"))\n",
    "\n",
    "y_val_pred = np.where(model.predict(input_val) >0.5,1,0)\n",
    "print(f1_score(y_val, y_val_pred, average=\"macro\"))\n",
    "\n",
    "y_test_pred = np.where(model.predict(input_test) > 0.5,1,0)\n",
    "print(f1_score(y_test, y_test_pred, average=\"macro\"))"
   ]
  },
  {
   "cell_type": "code",
   "execution_count": 82,
   "metadata": {},
   "outputs": [
    {
     "data": {
      "image/png": "[encoded data removed]",
      "text/plain": [
       "<Figure size 864x288 with 2 Axes>"
      ]
     },
     "metadata": {
      "needs_background": "light"
     },
     "output_type": "display_data"
    }
   ],
   "source": [
    "plotHistory(history.history)"
   ]
  },
  {
   "cell_type": "code",
   "execution_count": 80,
   "metadata": {},
   "outputs": [],
   "source": [
    "model.save(root_project + 'results/model/a_bilstm/a_bilstm.h5')\n",
    "save_data_p(history.history, root_project + 'results/model/a_bilstm/a_bilstm_history.p')"
   ]
  },
  {
   "cell_type": "markdown",
   "metadata": {},
   "source": [
    "# Final model"
   ]
  },
  {
   "cell_type": "code",
   "execution_count": 18,
   "metadata": {},
   "outputs": [],
   "source": [
    "model = a_bilstm((65,128, ), bi_units = 128, bi_dropout = 0.5, dropout = 0.1, hn=64, lr=0.008)\n",
    "model.load_weights(root_project + 'results/model/a_bilstm/a_bilstm.h5')\n",
    "history = load_data_p(root_project + 'results/model/a_bilstm/a_bilstm_history.p')"
   ]
  },
  {
   "cell_type": "code",
   "execution_count": 163,
   "metadata": {},
   "outputs": [
    {
     "name": "stdout",
     "output_type": "stream",
     "text": [
      "193/193 [==============================] - 2s 9ms/step - loss: 0.4652 - f1_macro: 0.7594\n",
      "22/22 [==============================] - 0s 8ms/step - loss: 0.5368 - f1_macro: 0.7194\n",
      "40/40 [==============================] - 0s 8ms/step - loss: 0.5406 - f1_macro: 0.6023\n"
     ]
    },
    {
     "data": {
      "text/plain": [
       "[0.5406431555747986, 0.6022917032241821]"
      ]
     },
     "execution_count": 163,
     "metadata": {},
     "output_type": "execute_result"
    }
   ],
   "source": [
    "model.evaluate(input_train, y_train)\n",
    "model.evaluate(input_val, y_val)\n",
    "model.evaluate(input_test, y_test)"
   ]
  },
  {
   "cell_type": "code",
   "execution_count": 154,
   "metadata": {
    "colab": {
     "base_uri": "https://localhost:8080/"
    },
    "id": "kxbA-8GWQBLI",
    "outputId": "d4aa750c-568f-43b9-f370-b1918bf8036d"
   },
   "outputs": [
    {
     "name": "stdout",
     "output_type": "stream",
     "text": [
      "0.7655658902444737\n",
      "              precision    recall  f1-score   support\n",
      "\n",
      "           0       0.77      0.83      0.80      3408\n",
      "           1       0.77      0.69      0.73      2747\n",
      "\n",
      "    accuracy                           0.77      6155\n",
      "   macro avg       0.77      0.76      0.77      6155\n",
      "weighted avg       0.77      0.77      0.77      6155\n",
      "\n"
     ]
    }
   ],
   "source": [
    "y_train_pred = np.where(model.predict(input_train) >0.5,1,0)\n",
    "print(f1_score(y_train, y_train_pred, average=\"macro\"))\n",
    "print(classification_report(y_train, y_train_pred))"
   ]
  },
  {
   "cell_type": "code",
   "execution_count": 155,
   "metadata": {
    "colab": {
     "base_uri": "https://localhost:8080/"
    },
    "id": "i_lYWwkzP1v4",
    "outputId": "3e599a7f-d19e-4db3-db52-de1963941726"
   },
   "outputs": [
    {
     "name": "stdout",
     "output_type": "stream",
     "text": [
      "0.7178490244780102\n",
      "              precision    recall  f1-score   support\n",
      "\n",
      "           0       0.74      0.78      0.76       387\n",
      "           1       0.70      0.65      0.67       297\n",
      "\n",
      "    accuracy                           0.73       684\n",
      "   macro avg       0.72      0.72      0.72       684\n",
      "weighted avg       0.72      0.73      0.72       684\n",
      "\n"
     ]
    }
   ],
   "source": [
    "y_val_pred = np.where(model.predict(input_val) >0.5,1,0)\n",
    "print(f1_score(y_val, y_val_pred, average=\"macro\"))\n",
    "print(classification_report(y_val, y_val_pred))"
   ]
  },
  {
   "cell_type": "code",
   "execution_count": 157,
   "metadata": {
    "colab": {
     "base_uri": "https://localhost:8080/"
    },
    "id": "xnjMkyLQP4LC",
    "outputId": "603550a5-d6f5-45e4-9536-e55af3df8504"
   },
   "outputs": [
    {
     "name": "stdout",
     "output_type": "stream",
     "text": [
      "0.7228776837702426\n",
      "              precision    recall  f1-score   support\n",
      "\n",
      "           0       0.80      0.65      0.72       694\n",
      "           1       0.66      0.81      0.72       569\n",
      "\n",
      "    accuracy                           0.72      1263\n",
      "   macro avg       0.73      0.73      0.72      1263\n",
      "weighted avg       0.74      0.72      0.72      1263\n",
      "\n"
     ]
    }
   ],
   "source": [
    "y_test_pred = np.where(model.predict(input_test) >0.5,1,0)\n",
    "print(f1_score(y_test, y_test_pred, average=\"macro\"))\n",
    "print(classification_report(y_test, y_test_pred))"
   ]
  },
  {
   "cell_type": "code",
   "execution_count": 158,
   "metadata": {},
   "outputs": [
    {
     "data": {
      "image/png": "[encoded data removed]",
      "text/plain": [
       "<Figure size 864x288 with 2 Axes>"
      ]
     },
     "metadata": {
      "needs_background": "light"
     },
     "output_type": "display_data"
    }
   ],
   "source": [
    "plotHistory(history)"
   ]
  },
  {
   "cell_type": "code",
   "execution_count": 160,
   "metadata": {},
   "outputs": [
    {
     "data": {
      "image/png": "[encoded data removed]",
      "text/plain": [
       "<Figure size 432x288 with 1 Axes>"
      ]
     },
     "metadata": {
      "needs_background": "light"
     },
     "output_type": "display_data"
    }
   ],
   "source": [
    "plotLoss(history)"
   ]
  },
  {
   "cell_type": "code",
   "execution_count": 161,
   "metadata": {},
   "outputs": [
    {
     "data": {
      "image/png": "[encoded data removed]",
      "text/plain": [
       "<Figure size 432x288 with 1 Axes>"
      ]
     },
     "metadata": {
      "needs_background": "light"
     },
     "output_type": "display_data"
    }
   ],
   "source": [
    "plotF1_macro(history)"
   ]
  },
  {
   "cell_type": "code",
   "execution_count": 19,
   "metadata": {},
   "outputs": [
    {
     "name": "stdout",
     "output_type": "stream",
     "text": [
      "Tutti i politici rubano , hanno rubato e ruberanno ! La Fornero ha rubato 10 mila euro a mio padre ! Ma basta con lecchini di immigrati che si ciondolano tutto il giorno con cellulari stracostosi e sigarette e per noia violentano o rubano ! Vuoi che tuo figlio conosca il Natale o no ?\n",
      "\n",
      "Rosarno , le case popolari ? Solo agli immigrati Hanno avuto bisogno di governi non eletti , di gente imposta ad un popolo disarmato . Una volta messi li , i Vigliacchi hanno dato inizio alla ns fine ! Se e quando si scatenerà la rabbia vera , ne farò parte ! !\n",
      "\n",
      "i musulmano ammazzano tutti quelli che per il loro fumoso cervello sono \" infedeli \" . i nostri terroristi istituzionali ci obbligano ad accogliere e mantenere i nostri assassini\n",
      "\n",
      "l' accusa della sinistraglia cialtrona immigrazionista a < Salvini > è che ha impedito che altri parassiti afro islamici infestassero l' Italia e ha danneggiato il business dell' immigrazione clandestina . Solita feccia rosicona . < Salvini Non Mollare >\n",
      "\n",
      "Alle idiote pdinne gli serve questo trattamento forse solo dopo si ricrederanno e dico forse tanto sono coglione idiote dementi . Io dico unica salvezza Nuove Crociate Contro L' Islam Viva Riccardo Cuor Di Leone . Nuove Crociate Altro Che Accoglienza ! !\n",
      "\n",
      "[1 0 1 1 0]\n",
      "[[1]\n",
      " [1]\n",
      " [1]\n",
      " [1]\n",
      " [1]]\n"
     ]
    }
   ],
   "source": [
    "for sentence in dataset_test_tweets[\"processed_text\"][10:15]:\n",
    "    print(sentence)\n",
    "    print()\n",
    "\n",
    "print(y_test[10:15])\n",
    "\n",
    "print(np.where(model.predict({\"text\": X_test_e[10:15], \"pos\": X_test_pos[10:15], \"extra\": X_test_extra_feature[10:15]}) > 0.5,1,0))"
   ]
  },
  {
   "cell_type": "markdown",
   "metadata": {
    "id": "gpoHM_17nsGx"
   },
   "source": [
    "# ensemble predictions"
   ]
  },
  {
   "cell_type": "code",
   "execution_count": 14,
   "metadata": {
    "id": "Yusc82JxLlCI"
   },
   "outputs": [],
   "source": [
    "from sklearn.model_selection import KFold\n",
    "from sklearn.metrics import accuracy_score"
   ]
  },
  {
   "cell_type": "code",
   "execution_count": 29,
   "metadata": {
    "colab": {
     "base_uri": "https://localhost:8080/"
    },
    "id": "bNJ-dBNaStU_",
    "outputId": "d74f45b1-2a56-4c08-dcfa-5018884da402"
   },
   "outputs": [
    {
     "name": "stdout",
     "output_type": "stream",
     "text": [
      "fold_1\n",
      "0.6884699604842567\n",
      "fold_2\n",
      "0.6800970162902645\n",
      "fold_3\n",
      "0.6804990508898421\n",
      "fold_4\n",
      "0.6906347344301067\n",
      "fold_5\n",
      "0.6883460236886633\n"
     ]
    }
   ],
   "source": [
    "kf = KFold(n_splits=5, shuffle=True)\n",
    "\n",
    "models = []\n",
    "\n",
    "data = {\"text\": X_e, \"pos\": X_pos_e, \"extra\": X_extra_feature, \"target\": y}\n",
    "data_test = {\"text\": X_test_e, \"pos\": X_test_pos_e, \"extra\": X_test_extra_feature, \"target\": y_test}\n",
    "i=1\n",
    "for train_index_fold, val_index_fold in kf.split(data[\"text\"]):\n",
    "        name_fold = \"fold_{}\".format(i)\n",
    "        print(name_fold)\n",
    "        i+=1\n",
    "        \n",
    "        #DATA\n",
    "        X_train = {\"text\": data[\"text\"][train_index_fold], \"pos\": data[\"pos\"][train_index_fold], \"extra\": data[\"extra\"][train_index_fold]}\n",
    "        Y_train = data[\"target\"][train_index_fold]\n",
    "        X_val = {\"text\": data[\"text\"][val_index_fold], \"pos\": data[\"pos\"][val_index_fold], \"extra\": data[\"extra\"][val_index_fold]}\n",
    "        Y_val = data[\"target\"][val_index_fold]\n",
    "\n",
    "        #print(hyper_param)\n",
    "        input_shape = (X_train[\"text\"][0].shape[0], X_train[\"text\"][0].shape[1],)\n",
    "        model = kim_cnn_pos((65,128, ), filters = 256, filter_sizes = [2,3,4], dropout = 0.5, hn=64, lr=0.0001, print_model=False)\n",
    "        best_callback = ReturnBestEarlyStopping(monitor=\"val_loss\", patience=50, verbose=0, mode=\"min\", restore_best_weights=True)\n",
    "        history = model.fit(X_train, Y_train, batch_size=64, epochs=200, validation_data=(X_val, Y_val), callbacks=[best_callback], verbose = 0)\n",
    "        \n",
    "        models.append(model)\n",
    "        X_test = {\"text\": data_test[\"text\"], \"pos\": data_test[\"pos\"], \"extra\": data_test[\"extra\"]}\n",
    "        y_pred = np.where(model.predict(X_test) >0.5,1,0)\n",
    "\n",
    "        print(f1_score(data_test[\"target\"], y_pred, average=\"macro\"))"
   ]
  },
  {
   "cell_type": "code",
   "execution_count": 37,
   "metadata": {
    "id": "PDgupccPUMPY"
   },
   "outputs": [],
   "source": [
    "def ensemble_predictions(members, X):\n",
    "  # make predictions\n",
    "  results = []\n",
    "  yhats = [np.squeeze(np.where(models[0].predict(X) > 0.5, 1,0).reshape(1,-1)) for model in members]\n",
    "  # sum across ensemble members\n",
    "  yhats = np.array(yhats)\n",
    "  print(yhats[:,0])\n",
    "  print(yhats.shape)\n",
    "\n",
    "  for i in range(yhats.shape[1]):\n",
    "    counts = np.bincount(yhats[:,i])\n",
    "    results.append(np.argmax(counts))\n",
    "  # argmax across classes\n",
    "  return results"
   ]
  },
  {
   "cell_type": "code",
   "execution_count": 38,
   "metadata": {
    "colab": {
     "base_uri": "https://localhost:8080/"
    },
    "id": "kv5bzfLMbQaw",
    "outputId": "a8ceadce-ae04-4fbe-b982-49a2a9245179"
   },
   "outputs": [
    {
     "name": "stdout",
     "output_type": "stream",
     "text": [
      "[0 0 0 0 0]\n",
      "(5, 1263)\n",
      "              precision    recall  f1-score   support\n",
      "\n",
      "           0       0.81      0.57      0.67       694\n",
      "           1       0.61      0.83      0.71       569\n",
      "\n",
      "    accuracy                           0.69      1263\n",
      "   macro avg       0.71      0.70      0.69      1263\n",
      "weighted avg       0.72      0.69      0.69      1263\n",
      "\n"
     ]
    }
   ],
   "source": [
    "X_test = {\"text\": data_test[\"text\"], \"pos\": data_test[\"pos\"], \"extra\": data_test[\"extra\"]}\n",
    "y_pred = ensemble_predictions(models, X_test)\n",
    "print(classification_report(y_test,y_pred))\n"
   ]
  },
  {
   "cell_type": "code",
   "execution_count": null,
   "metadata": {
    "id": "sjZoaZNzggCy"
   },
   "outputs": [],
   "source": []
  }
 ],
 "metadata": {
  "accelerator": "GPU",
  "colab": {
   "name": "model_implementation.ipynb",
   "provenance": []
  },
  "kernelspec": {
   "display_name": "Python 3",
   "language": "python",
   "name": "python3"
  },
  "language_info": {
   "codemirror_mode": {
    "name": "ipython",
    "version": 3
   },
   "file_extension": ".py",
   "mimetype": "text/x-python",
   "name": "python",
   "nbconvert_exporter": "python",
   "pygments_lexer": "ipython3",
   "version": "3.8.5"
  }
 },
 "nbformat": 4,
 "nbformat_minor": 4
}
